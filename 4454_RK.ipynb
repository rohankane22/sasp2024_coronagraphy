{
 "cells": [
  {
   "cell_type": "markdown",
   "id": "be42f043-03fa-4e55-98df-9f0f6085ef32",
   "metadata": {},
   "source": [
    "to aquire af lep b nircam coron data:"
   ]
  },
  {
   "cell_type": "markdown",
   "id": "900f8ce0-259f-47cc-83ed-7a7ae35be82b",
   "metadata": {},
   "source": [
    "1st epoch: jwst_download.py -v --instrument nircam --propID 4558 -f uncal.fits --date_select 2023-10-11 2023-10-14"
   ]
  },
  {
   "cell_type": "markdown",
   "id": "4a4b8421-b7f3-4441-9d68-1545c9587c99",
   "metadata": {},
   "source": [
    "2nd epoch: jwst_download.py -v --instrument nircam --propID 4558 -f uncal.fits --date_select 2023-11-01 2023-11-03"
   ]
  },
  {
   "cell_type": "markdown",
   "id": "8a38aa65-d157-439e-a0d8-bd1168b69b41",
   "metadata": {},
   "source": [
    "3rd epoch: jwst_download.py -v --instrument nircam --propID 4558 -f uncal.fits --date_select 2024-01-01+"
   ]
  },
  {
   "cell_type": "code",
   "execution_count": 10,
   "id": "180cfab4-7c0c-4e4f-b73a-05081c56e510",
   "metadata": {},
   "outputs": [],
   "source": [
    "from __future__ import division\n",
    "\n",
    "# =============================================================================\n",
    "# IMPORTS\n",
    "# =============================================================================\n",
    "\n",
    "import os\n",
    "import pdb\n",
    "import sys \n",
    "\n",
    "import astropy.io.fits as pyfits\n",
    "import matplotlib.pyplot as plt\n",
    "import numpy as np\n",
    "\n",
    "from spaceKLIP import database, coron1pipeline, coron2pipeline, coron3pipeline, pyklippipeline, imagetools, analysistools\n",
    "\n",
    "# plotting\n",
    "import matplotlib.pyplot as plt\n",
    "# plt.style.use('/Users/wbalmer/balmer.mplstyle')\n",
    "# import seaborn as sb\n",
    "# sb.set_context('talk')"
   ]
  },
  {
   "cell_type": "code",
   "execution_count": 122,
   "id": "482f8d4b-05be-4aab-abde-69f14bd639e6",
   "metadata": {},
   "outputs": [
    {
     "data": {
      "text/html": [
       "<div><i>Table length=62</i>\n",
       "<table id=\"table5492215248\" class=\"table-striped table-bordered table-condensed\">\n",
       "<thead><tr><th>visit_id</th><th>start time</th><th>filter</th><th>coronmsk</th><th>targname</th><th>obslabel</th><th>duration</th><th>numdthpt</th><th>program</th><th>title</th><th>pi_name</th></tr></thead>\n",
       "<thead><tr><th>str12</th><th>str16</th><th>str5</th><th>str9</th><th>str14</th><th>str59</th><th>float64</th><th>int64</th><th>int64</th><th>str75</th><th>str20</th></tr></thead>\n",
       "<tr><td>V01075001001</td><td>2022-05-14 17:14</td><td>F210M</td><td>MASKA210R</td><td>HD 147980</td><td>MASK210R, F210M, 9-PT CIRCLE</td><td>107.368</td><td>9</td><td>1075</td><td>NIRCam Target Acquisition for Coronagraphy</td><td>Girard, Julien</td></tr>\n",
       "<tr><td>V01075002001</td><td>2022-05-14 18:18</td><td>F210M</td><td>MASKASWB</td><td>HD 147980</td><td>MASKSWB, F210M -&gt; F182M, 5-PT BAR</td><td>107.368</td><td>5</td><td>1075</td><td>NIRCam Target Acquisition for Coronagraphy</td><td>Girard, Julien</td></tr>\n",
       "<tr><td>V01075003001</td><td>2022-05-14 19:19</td><td>F210M</td><td>MASKASWB</td><td>HD 147980</td><td>MASKSWB, F182M -&gt; F210M, 1-PT BAR</td><td>107.368</td><td>1</td><td>1075</td><td>NIRCam Target Acquisition for Coronagraphy</td><td>Girard, Julien</td></tr>\n",
       "<tr><td>V01075008001</td><td>2022-05-14 21:55</td><td>F210M</td><td>MASKA210R</td><td>TYC 2041-355-1</td><td>MASK210R, F210M, 1-PT</td><td>225.472</td><td>1</td><td>1075</td><td>NIRCam Target Acquisition for Coronagraphy</td><td>Girard, Julien</td></tr>\n",
       "<tr><td>V01075009001</td><td>2022-05-14 22:41</td><td>F210M</td><td>MASKASWB</td><td>TYC 2041-355-1</td><td>MASKSWB, F210M -&gt; F182M, 1-PT</td><td>225.472</td><td>1</td><td>1075</td><td>NIRCam Target Acquisition for Coronagraphy</td><td>Girard, Julien</td></tr>\n",
       "<tr><td>V01075109001</td><td>2022-05-24 06:13</td><td>F210M</td><td>MASKASWB</td><td>TYC 2041-355-1</td><td>MASKSWB, F210M -&gt; F182M, 1-PT</td><td>225.472</td><td>1</td><td>1075</td><td>NIRCam Target Acquisition for Coronagraphy</td><td>Girard, Julien</td></tr>\n",
       "<tr><td>V01075015001</td><td>2022-06-02 11:14</td><td>F210M</td><td>MASKA210R</td><td>HD 147980</td><td>MASK210R, F210M, 9-PT CIRCLE</td><td>107.368</td><td>9</td><td>1075</td><td>NIRCam Target Acquisition for Coronagraphy</td><td>Girard, Julien</td></tr>\n",
       "<tr><td>V01075016001</td><td>2022-06-02 12:38</td><td>F210M</td><td>MASKASWB</td><td>HD 147980</td><td>MASKSWB, F210M -&gt; F182M, 5-PT BAR</td><td>107.368</td><td>5</td><td>1075</td><td>NIRCam Target Acquisition for Coronagraphy</td><td>Girard, Julien</td></tr>\n",
       "<tr><td>V01075017001</td><td>2022-06-02 13:44</td><td>F210M</td><td>MASKASWB</td><td>HD 147980</td><td>MASKSWB, F182M -&gt; F210M, 1-PT</td><td>107.368</td><td>1</td><td>1075</td><td>NIRCam Target Acquisition for Coronagraphy</td><td>Girard, Julien</td></tr>\n",
       "<tr><td>...</td><td>...</td><td>...</td><td>...</td><td>...</td><td>...</td><td>...</td><td>...</td><td>...</td><td>...</td><td>...</td></tr>\n",
       "<tr><td>V01193051001</td><td>2024-02-05 00:15</td><td>F210M</td><td>MASKA335R</td><td>* eps Eri</td><td>Eps Eri Visit 1- NIRCam - Roll 1 - SUB320 - M335R</td><td>2741.379</td><td>1</td><td>1193</td><td>Coronagraphic Imaging of Young Planets and Debris Disk with NIRCam and MIRI</td><td>Beichman, Charles A.</td></tr>\n",
       "<tr><td>V01193052001</td><td>2024-02-05 01:31</td><td>F210M</td><td>MASKA335R</td><td>* eps Eri</td><td>Eps Eri Visit 1- NIRCam - Roll 2 - SUB320 - M335R</td><td>2741.379</td><td>1</td><td>1193</td><td>Coronagraphic Imaging of Young Planets and Debris Disk with NIRCam and MIRI</td><td>Beichman, Charles A.</td></tr>\n",
       "<tr><td>V01193053001</td><td>2024-02-05 02:53</td><td>F210M</td><td>MASKA335R</td><td>* eps Eri</td><td>Eps Eri Visit 1- NIRCam - Roll 3 - SUB320 - M335R</td><td>2741.379</td><td>1</td><td>1193</td><td>Coronagraphic Imaging of Young Planets and Debris Disk with NIRCam and MIRI</td><td>Beichman, Charles A.</td></tr>\n",
       "<tr><td>V01193054001</td><td>2024-02-05 04:15</td><td>F210M</td><td>MASKA335R</td><td>* eps Eri</td><td>Eps Eri Visit 1- NIRCam - Roll 3 - FULL - M335R</td><td>1707.146</td><td>1</td><td>1193</td><td>Coronagraphic Imaging of Young Planets and Debris Disk with NIRCam and MIRI</td><td>Beichman, Charles A.</td></tr>\n",
       "<tr><td>V01193055001</td><td>2024-02-05 05:00</td><td>F210M</td><td>MASKA335R</td><td>* del Eri</td><td>Eps Eri Ref star Visit 1 - NIRCam - Roll 3 - SUB320 - M335R</td><td>898.813</td><td>5</td><td>1193</td><td>Coronagraphic Imaging of Young Planets and Debris Disk with NIRCam and MIRI</td><td>Beichman, Charles A.</td></tr>\n",
       "<tr><td>V01193056001</td><td>2024-02-05 06:49</td><td>F210M</td><td>MASKA335R</td><td>* del Eri</td><td>Eps Eri Ref star Visit 1- NIRCam - Roll 3 - FULL - M335R</td><td>504.628</td><td>5</td><td>1193</td><td>Coronagraphic Imaging of Young Planets and Debris Disk with NIRCam and MIRI</td><td>Beichman, Charles A.</td></tr>\n",
       "<tr><td>V02780020001</td><td>2024-02-26 11:18</td><td>F210M</td><td>MASKA335R</td><td>HD 32297</td><td>HD32297, Roll 1</td><td>1693.687</td><td>1</td><td>2780</td><td>Coronagraphic Imaging of Scattered light Debris Disks - Cycle 2</td><td>Gaspar, Andras</td></tr>\n",
       "<tr><td>V02780021001</td><td>2024-02-26 20:04</td><td>F210M</td><td>MASKA335R</td><td>HD 32297</td><td>HD32297, Roll 2</td><td>1693.687</td><td>1</td><td>2780</td><td>Coronagraphic Imaging of Scattered light Debris Disks - Cycle 2</td><td>Gaspar, Andras</td></tr>\n",
       "<tr><td>V02780022001</td><td>2024-02-26 22:39</td><td>F210M</td><td>MASKA335R</td><td>HD 31411</td><td>HD32297PSF</td><td>317.566</td><td>5</td><td>2780</td><td>Coronagraphic Imaging of Scattered light Debris Disks - Cycle 2</td><td>Gaspar, Andras</td></tr>\n",
       "<tr><td>V02780018001</td><td>2024-04-21 03:42</td><td>F210M</td><td>MASKA335R</td><td>HD 56161</td><td>HD61005PSF</td><td>317.566</td><td>5</td><td>2780</td><td>Coronagraphic Imaging of Scattered light Debris Disks - Cycle 2</td><td>Gaspar, Andras</td></tr>\n",
       "</table></div>"
      ],
      "text/plain": [
       "<Table length=62>\n",
       "  visit_id      start time    ...       pi_name       \n",
       "   str12          str16       ...        str20        \n",
       "------------ ---------------- ... --------------------\n",
       "V01075001001 2022-05-14 17:14 ...       Girard, Julien\n",
       "V01075002001 2022-05-14 18:18 ...       Girard, Julien\n",
       "V01075003001 2022-05-14 19:19 ...       Girard, Julien\n",
       "V01075008001 2022-05-14 21:55 ...       Girard, Julien\n",
       "V01075009001 2022-05-14 22:41 ...       Girard, Julien\n",
       "V01075109001 2022-05-24 06:13 ...       Girard, Julien\n",
       "V01075015001 2022-06-02 11:14 ...       Girard, Julien\n",
       "V01075016001 2022-06-02 12:38 ...       Girard, Julien\n",
       "V01075017001 2022-06-02 13:44 ...       Girard, Julien\n",
       "         ...              ... ...                  ...\n",
       "V01193051001 2024-02-05 00:15 ... Beichman, Charles A.\n",
       "V01193052001 2024-02-05 01:31 ... Beichman, Charles A.\n",
       "V01193053001 2024-02-05 02:53 ... Beichman, Charles A.\n",
       "V01193054001 2024-02-05 04:15 ... Beichman, Charles A.\n",
       "V01193055001 2024-02-05 05:00 ... Beichman, Charles A.\n",
       "V01193056001 2024-02-05 06:49 ... Beichman, Charles A.\n",
       "V02780020001 2024-02-26 11:18 ...       Gaspar, Andras\n",
       "V02780021001 2024-02-26 20:04 ...       Gaspar, Andras\n",
       "V02780022001 2024-02-26 22:39 ...       Gaspar, Andras\n",
       "V02780018001 2024-04-21 03:42 ...       Gaspar, Andras"
      ]
     },
     "execution_count": 122,
     "metadata": {},
     "output_type": "execute_result"
    }
   ],
   "source": [
    "from spaceKLIP import mast\n",
    "a=mast.query_coron_datasets('NIRCam','F210M',ignore_ta=True,ignore_cal=True,level='uncal')\n",
    "a#[40:60]"
   ]
  },
  {
   "cell_type": "code",
   "execution_count": 102,
   "id": "0de3dc55-025b-4c74-9757-461de2b71f8f",
   "metadata": {
    "scrolled": true,
    "tags": []
   },
   "outputs": [],
   "source": [
    "# Set the input and output directories and grab the input FITS files.\n",
    "reduced = True\n",
    "cleanalign = False\n",
    "aligned = False\n",
    "\n",
    "blur = True\n",
    "pad = True\n",
    "coadd = False\n",
    "crop = False\n",
    "\n",
    "# epoch = '_e1'\n",
    "epoch = '_e3'\n",
    "\n",
    "data_root='DATA/JWST/NIRCam/04454/F210M/'\n",
    "\n",
    "if aligned and coadd:\n",
    "    input_dir = os.path.join(data_root, 'coadded/')\n",
    "    fitsfiles = sorted([input_dir + f for f in os.listdir(input_dir) if f.endswith('calints.fits')])\n",
    "elif aligned:\n",
    "    # input_dir = './spaceklip/aligned/'\n",
    "    input_dir = os.path.join(data_root, 'aligned/')#f'./spaceklip/aligned{epoch}/'\n",
    "    # input_dir = './spaceklip/aligned/'\n",
    "    fitsfiles = sorted([input_dir + f for f in os.listdir(input_dir) if f.endswith('calints.fits')])\n",
    "elif cleanalign:\n",
    "    input_dir = os.path.join(data_root, 'recentered/')\n",
    "    fitsfiles = sorted([input_dir + f for f in os.listdir(input_dir) if f.endswith('calints.fits')])\n",
    "elif reduced:\n",
    "    input_dir = os.path.join(data_root, 'stage2/')\n",
    "    fitsfiles = sorted([input_dir + f for f in os.listdir(input_dir) if f.endswith('.fits')])\n",
    "else:\n",
    "    # input_dir = './04558/'\n",
    "    input_dir = os.path.join(data_root, 'uncal/') #f'/Users/wbalmer/data/jwst/aflep/uncal{epoch}/'\n",
    "    # input_dir = '/Users/wbalmer/data/jwst/aflep/uncal_e3/'\n",
    "    # input_dir = './uncal_e2/'\n",
    "    # input_dir = './uncal_e3/'\n",
    "    fitsfiles = sorted([input_dir + f for f in os.listdir(input_dir) if f.endswith('.fits')])\n",
    "\n",
    "# additional PSF references dir\n",
    "ref_ids = ['01411','04451'] #'04014',\n",
    "additionalrefs = []\n",
    "for i in range(len(ref_ids)):\n",
    "    input_dir_ref = 'DATA/JWST/NIRCam/%s/F210M/stage2/' % ref_ids[i]\n",
    "    # read files in additional PSF references input dir\n",
    "    additionalrefs = additionalrefs + sorted([input_dir_ref + f for f in os.listdir(input_dir_ref) if f.endswith('.fits')])\n",
    "# list of PSF reference files in main input dir\n",
    "psffitsfiles = [f for f in fitsfiles if 'jw04454002001' in f]\n",
    "\n",
    "# global list of ALL files\n",
    "allpaths = fitsfiles + additionalrefs\n",
    "# global list of all PSF reference files \n",
    "psfpaths = additionalrefs + psffitsfiles\n",
    "\n",
    "\n",
    "output_dir = data_root"
   ]
  },
  {
   "cell_type": "code",
   "execution_count": 95,
   "id": "9d6a8621-f96e-4e8f-b3da-04a41b29743c",
   "metadata": {},
   "outputs": [
    {
     "data": {
      "text/plain": [
       "['DATA/JWST/NIRCam/04454/F210M/stage2/jw04454002001_03106_00001_nrca2_calints.fits',\n",
       " 'DATA/JWST/NIRCam/04454/F210M/stage2/jw04454002001_03106_00002_nrca2_calints.fits',\n",
       " 'DATA/JWST/NIRCam/04454/F210M/stage2/jw04454002001_03106_00003_nrca2_calints.fits',\n",
       " 'DATA/JWST/NIRCam/04454/F210M/stage2/jw04454002001_03106_00004_nrca2_calints.fits',\n",
       " 'DATA/JWST/NIRCam/04454/F210M/stage2/jw04454002001_03106_00005_nrca2_calints.fits',\n",
       " 'DATA/JWST/NIRCam/04454/F210M/stage2/jw04454002001_03106_00006_nrca2_calints.fits',\n",
       " 'DATA/JWST/NIRCam/04454/F210M/stage2/jw04454002001_03106_00007_nrca2_calints.fits',\n",
       " 'DATA/JWST/NIRCam/04454/F210M/stage2/jw04454002001_03106_00008_nrca2_calints.fits',\n",
       " 'DATA/JWST/NIRCam/04454/F210M/stage2/jw04454002001_03106_00009_nrca2_calints.fits']"
      ]
     },
     "execution_count": 95,
     "metadata": {},
     "output_type": "execute_result"
    }
   ],
   "source": [
    "psffitsfiles"
   ]
  },
  {
   "cell_type": "code",
   "execution_count": null,
   "id": "5e579162-a1db-4641-a383-f9bcac839382",
   "metadata": {},
   "outputs": [],
   "source": [
    "additionalrefs"
   ]
  },
  {
   "cell_type": "code",
   "execution_count": 105,
   "id": "929af5ab-e6a4-465a-b9c1-0f75407f5a49",
   "metadata": {
    "scrolled": true
   },
   "outputs": [
    {
     "data": {
      "text/plain": [
       "['DATA/JWST/NIRCam/01411/F210M/stage2/jw01411027001_03105_00001_nrca2_calints.fits',\n",
       " 'DATA/JWST/NIRCam/01411/F210M/stage2/jw01411027001_03105_00002_nrca2_calints.fits',\n",
       " 'DATA/JWST/NIRCam/01411/F210M/stage2/jw01411027001_03105_00003_nrca2_calints.fits',\n",
       " 'DATA/JWST/NIRCam/01411/F210M/stage2/jw01411027001_03105_00004_nrca2_calints.fits',\n",
       " 'DATA/JWST/NIRCam/01411/F210M/stage2/jw01411027001_03105_00005_nrca2_calints.fits',\n",
       " 'DATA/JWST/NIRCam/04451/F210M/stage2/jw04451009001_03106_00001_nrca2_calints.fits',\n",
       " 'DATA/JWST/NIRCam/04451/F210M/stage2/jw04451010001_03106_00001_nrca2_calints.fits',\n",
       " 'DATA/JWST/NIRCam/04451/F210M/stage2/jw04451010001_03106_00002_nrca2_calints.fits',\n",
       " 'DATA/JWST/NIRCam/04451/F210M/stage2/jw04451010001_03106_00003_nrca2_calints.fits',\n",
       " 'DATA/JWST/NIRCam/04451/F210M/stage2/jw04451010001_03106_00004_nrca2_calints.fits',\n",
       " 'DATA/JWST/NIRCam/04451/F210M/stage2/jw04451010001_03106_00005_nrca2_calints.fits',\n",
       " 'DATA/JWST/NIRCam/04451/F210M/stage2/jw04451010001_03106_00006_nrca2_calints.fits',\n",
       " 'DATA/JWST/NIRCam/04451/F210M/stage2/jw04451010001_03106_00007_nrca2_calints.fits',\n",
       " 'DATA/JWST/NIRCam/04451/F210M/stage2/jw04451010001_03106_00008_nrca2_calints.fits',\n",
       " 'DATA/JWST/NIRCam/04451/F210M/stage2/jw04451010001_03106_00009_nrca2_calints.fits',\n",
       " 'DATA/JWST/NIRCam/04454/F210M/stage2/jw04454002001_03106_00001_nrca2_calints.fits',\n",
       " 'DATA/JWST/NIRCam/04454/F210M/stage2/jw04454002001_03106_00002_nrca2_calints.fits',\n",
       " 'DATA/JWST/NIRCam/04454/F210M/stage2/jw04454002001_03106_00003_nrca2_calints.fits',\n",
       " 'DATA/JWST/NIRCam/04454/F210M/stage2/jw04454002001_03106_00004_nrca2_calints.fits',\n",
       " 'DATA/JWST/NIRCam/04454/F210M/stage2/jw04454002001_03106_00005_nrca2_calints.fits',\n",
       " 'DATA/JWST/NIRCam/04454/F210M/stage2/jw04454002001_03106_00006_nrca2_calints.fits',\n",
       " 'DATA/JWST/NIRCam/04454/F210M/stage2/jw04454002001_03106_00007_nrca2_calints.fits',\n",
       " 'DATA/JWST/NIRCam/04454/F210M/stage2/jw04454002001_03106_00008_nrca2_calints.fits',\n",
       " 'DATA/JWST/NIRCam/04454/F210M/stage2/jw04454002001_03106_00009_nrca2_calints.fits']"
      ]
     },
     "execution_count": 105,
     "metadata": {},
     "output_type": "execute_result"
    }
   ],
   "source": [
    "psfpaths.pop(0)\n",
    "psfpaths"
   ]
  },
  {
   "cell_type": "code",
   "execution_count": 107,
   "id": "0beb321f-6b60-4a53-8030-54198c6b20b7",
   "metadata": {
    "scrolled": true
   },
   "outputs": [
    {
     "name": "stderr",
     "output_type": "stream",
     "text": [
      "[py.warnings:WARNING] /var/folders/0x/ms4g19v94ks3vl4stzvlgh44000184/T/ipykernel_20928/3583369842.py:2: ResourceWarning: unclosed file <_io.BufferedReader name='DATA/JWST/NIRCam/01411/F210M/stage2/jw01411027001_03105_00001_nrca2_calints.fits'>\n",
      "[py.warnings:WARNING]   hdu=pyfits.open(f)[0]\n",
      "[py.warnings:WARNING] \n",
      "[py.warnings:WARNING] /var/folders/0x/ms4g19v94ks3vl4stzvlgh44000184/T/ipykernel_20928/3583369842.py:2: ResourceWarning: unclosed file <_io.BufferedReader name='DATA/JWST/NIRCam/01411/F210M/stage2/jw01411027001_03105_00002_nrca2_calints.fits'>\n",
      "[py.warnings:WARNING]   hdu=pyfits.open(f)[0]\n",
      "[py.warnings:WARNING] \n",
      "[py.warnings:WARNING] /var/folders/0x/ms4g19v94ks3vl4stzvlgh44000184/T/ipykernel_20928/3583369842.py:2: ResourceWarning: unclosed file <_io.BufferedReader name='DATA/JWST/NIRCam/01411/F210M/stage2/jw01411027001_03105_00003_nrca2_calints.fits'>\n",
      "[py.warnings:WARNING]   hdu=pyfits.open(f)[0]\n",
      "[py.warnings:WARNING] \n",
      "[py.warnings:WARNING] /var/folders/0x/ms4g19v94ks3vl4stzvlgh44000184/T/ipykernel_20928/3583369842.py:2: ResourceWarning: unclosed file <_io.BufferedReader name='DATA/JWST/NIRCam/01411/F210M/stage2/jw01411027001_03105_00004_nrca2_calints.fits'>\n",
      "[py.warnings:WARNING]   hdu=pyfits.open(f)[0]\n",
      "[py.warnings:WARNING] \n",
      "[py.warnings:WARNING] /var/folders/0x/ms4g19v94ks3vl4stzvlgh44000184/T/ipykernel_20928/3583369842.py:2: ResourceWarning: unclosed file <_io.BufferedReader name='DATA/JWST/NIRCam/01411/F210M/stage2/jw01411027001_03105_00005_nrca2_calints.fits'>\n",
      "[py.warnings:WARNING]   hdu=pyfits.open(f)[0]\n",
      "[py.warnings:WARNING] \n",
      "[py.warnings:WARNING] /var/folders/0x/ms4g19v94ks3vl4stzvlgh44000184/T/ipykernel_20928/3583369842.py:2: ResourceWarning: unclosed file <_io.BufferedReader name='DATA/JWST/NIRCam/04451/F210M/stage2/jw04451009001_03106_00001_nrca2_calints.fits'>\n",
      "[py.warnings:WARNING]   hdu=pyfits.open(f)[0]\n",
      "[py.warnings:WARNING] \n",
      "[py.warnings:WARNING] /var/folders/0x/ms4g19v94ks3vl4stzvlgh44000184/T/ipykernel_20928/3583369842.py:2: ResourceWarning: unclosed file <_io.BufferedReader name='DATA/JWST/NIRCam/04451/F210M/stage2/jw04451010001_03106_00001_nrca2_calints.fits'>\n",
      "[py.warnings:WARNING]   hdu=pyfits.open(f)[0]\n",
      "[py.warnings:WARNING] \n",
      "[py.warnings:WARNING] /var/folders/0x/ms4g19v94ks3vl4stzvlgh44000184/T/ipykernel_20928/3583369842.py:2: ResourceWarning: unclosed file <_io.BufferedReader name='DATA/JWST/NIRCam/04451/F210M/stage2/jw04451010001_03106_00002_nrca2_calints.fits'>\n",
      "[py.warnings:WARNING]   hdu=pyfits.open(f)[0]\n",
      "[py.warnings:WARNING] \n",
      "[py.warnings:WARNING] /var/folders/0x/ms4g19v94ks3vl4stzvlgh44000184/T/ipykernel_20928/3583369842.py:2: ResourceWarning: unclosed file <_io.BufferedReader name='DATA/JWST/NIRCam/04451/F210M/stage2/jw04451010001_03106_00003_nrca2_calints.fits'>\n",
      "[py.warnings:WARNING]   hdu=pyfits.open(f)[0]\n",
      "[py.warnings:WARNING] \n",
      "[py.warnings:WARNING] /var/folders/0x/ms4g19v94ks3vl4stzvlgh44000184/T/ipykernel_20928/3583369842.py:2: ResourceWarning: unclosed file <_io.BufferedReader name='DATA/JWST/NIRCam/04451/F210M/stage2/jw04451010001_03106_00004_nrca2_calints.fits'>\n",
      "[py.warnings:WARNING]   hdu=pyfits.open(f)[0]\n",
      "[py.warnings:WARNING] \n",
      "[py.warnings:WARNING] /var/folders/0x/ms4g19v94ks3vl4stzvlgh44000184/T/ipykernel_20928/3583369842.py:2: ResourceWarning: unclosed file <_io.BufferedReader name='DATA/JWST/NIRCam/04451/F210M/stage2/jw04451010001_03106_00005_nrca2_calints.fits'>\n",
      "[py.warnings:WARNING]   hdu=pyfits.open(f)[0]\n",
      "[py.warnings:WARNING] \n",
      "[py.warnings:WARNING] /var/folders/0x/ms4g19v94ks3vl4stzvlgh44000184/T/ipykernel_20928/3583369842.py:2: ResourceWarning: unclosed file <_io.BufferedReader name='DATA/JWST/NIRCam/04451/F210M/stage2/jw04451010001_03106_00006_nrca2_calints.fits'>\n",
      "[py.warnings:WARNING]   hdu=pyfits.open(f)[0]\n",
      "[py.warnings:WARNING] \n",
      "[py.warnings:WARNING] /var/folders/0x/ms4g19v94ks3vl4stzvlgh44000184/T/ipykernel_20928/3583369842.py:2: ResourceWarning: unclosed file <_io.BufferedReader name='DATA/JWST/NIRCam/04451/F210M/stage2/jw04451010001_03106_00007_nrca2_calints.fits'>\n",
      "[py.warnings:WARNING]   hdu=pyfits.open(f)[0]\n",
      "[py.warnings:WARNING] \n",
      "[py.warnings:WARNING] /var/folders/0x/ms4g19v94ks3vl4stzvlgh44000184/T/ipykernel_20928/3583369842.py:2: ResourceWarning: unclosed file <_io.BufferedReader name='DATA/JWST/NIRCam/04451/F210M/stage2/jw04451010001_03106_00008_nrca2_calints.fits'>\n",
      "[py.warnings:WARNING]   hdu=pyfits.open(f)[0]\n",
      "[py.warnings:WARNING] \n",
      "[py.warnings:WARNING] /var/folders/0x/ms4g19v94ks3vl4stzvlgh44000184/T/ipykernel_20928/3583369842.py:2: ResourceWarning: unclosed file <_io.BufferedReader name='DATA/JWST/NIRCam/04451/F210M/stage2/jw04451010001_03106_00009_nrca2_calints.fits'>\n",
      "[py.warnings:WARNING]   hdu=pyfits.open(f)[0]\n",
      "[py.warnings:WARNING] \n",
      "[py.warnings:WARNING] /var/folders/0x/ms4g19v94ks3vl4stzvlgh44000184/T/ipykernel_20928/3583369842.py:2: ResourceWarning: unclosed file <_io.BufferedReader name='DATA/JWST/NIRCam/04454/F210M/stage2/jw04454002001_03106_00001_nrca2_calints.fits'>\n",
      "[py.warnings:WARNING]   hdu=pyfits.open(f)[0]\n",
      "[py.warnings:WARNING] \n",
      "[py.warnings:WARNING] /var/folders/0x/ms4g19v94ks3vl4stzvlgh44000184/T/ipykernel_20928/3583369842.py:2: ResourceWarning: unclosed file <_io.BufferedReader name='DATA/JWST/NIRCam/04454/F210M/stage2/jw04454002001_03106_00002_nrca2_calints.fits'>\n",
      "[py.warnings:WARNING]   hdu=pyfits.open(f)[0]\n",
      "[py.warnings:WARNING] \n",
      "[py.warnings:WARNING] /var/folders/0x/ms4g19v94ks3vl4stzvlgh44000184/T/ipykernel_20928/3583369842.py:2: ResourceWarning: unclosed file <_io.BufferedReader name='DATA/JWST/NIRCam/04454/F210M/stage2/jw04454002001_03106_00003_nrca2_calints.fits'>\n",
      "[py.warnings:WARNING]   hdu=pyfits.open(f)[0]\n",
      "[py.warnings:WARNING] \n",
      "[py.warnings:WARNING] /var/folders/0x/ms4g19v94ks3vl4stzvlgh44000184/T/ipykernel_20928/3583369842.py:2: ResourceWarning: unclosed file <_io.BufferedReader name='DATA/JWST/NIRCam/04454/F210M/stage2/jw04454002001_03106_00004_nrca2_calints.fits'>\n",
      "[py.warnings:WARNING]   hdu=pyfits.open(f)[0]\n",
      "[py.warnings:WARNING] \n",
      "[py.warnings:WARNING] /var/folders/0x/ms4g19v94ks3vl4stzvlgh44000184/T/ipykernel_20928/3583369842.py:2: ResourceWarning: unclosed file <_io.BufferedReader name='DATA/JWST/NIRCam/04454/F210M/stage2/jw04454002001_03106_00005_nrca2_calints.fits'>\n",
      "[py.warnings:WARNING]   hdu=pyfits.open(f)[0]\n",
      "[py.warnings:WARNING] \n",
      "[py.warnings:WARNING] /var/folders/0x/ms4g19v94ks3vl4stzvlgh44000184/T/ipykernel_20928/3583369842.py:2: ResourceWarning: unclosed file <_io.BufferedReader name='DATA/JWST/NIRCam/04454/F210M/stage2/jw04454002001_03106_00006_nrca2_calints.fits'>\n",
      "[py.warnings:WARNING]   hdu=pyfits.open(f)[0]\n",
      "[py.warnings:WARNING] \n",
      "[py.warnings:WARNING] /var/folders/0x/ms4g19v94ks3vl4stzvlgh44000184/T/ipykernel_20928/3583369842.py:2: ResourceWarning: unclosed file <_io.BufferedReader name='DATA/JWST/NIRCam/04454/F210M/stage2/jw04454002001_03106_00007_nrca2_calints.fits'>\n",
      "[py.warnings:WARNING]   hdu=pyfits.open(f)[0]\n",
      "[py.warnings:WARNING] \n",
      "[py.warnings:WARNING] /var/folders/0x/ms4g19v94ks3vl4stzvlgh44000184/T/ipykernel_20928/3583369842.py:2: ResourceWarning: unclosed file <_io.BufferedReader name='DATA/JWST/NIRCam/04454/F210M/stage2/jw04454002001_03106_00008_nrca2_calints.fits'>\n",
      "[py.warnings:WARNING]   hdu=pyfits.open(f)[0]\n",
      "[py.warnings:WARNING] \n"
     ]
    },
    {
     "name": "stdout",
     "output_type": "stream",
     "text": [
      "DATA/JWST/NIRCam/01411/F210M/stage2/jw01411027001_03105_00001_nrca2_calints.fits \tTrue\n",
      "DATA/JWST/NIRCam/01411/F210M/stage2/jw01411027001_03105_00002_nrca2_calints.fits \tTrue\n",
      "DATA/JWST/NIRCam/01411/F210M/stage2/jw01411027001_03105_00003_nrca2_calints.fits \tTrue\n",
      "DATA/JWST/NIRCam/01411/F210M/stage2/jw01411027001_03105_00004_nrca2_calints.fits \tTrue\n",
      "DATA/JWST/NIRCam/01411/F210M/stage2/jw01411027001_03105_00005_nrca2_calints.fits \tTrue\n",
      "DATA/JWST/NIRCam/04451/F210M/stage2/jw04451009001_03106_00001_nrca2_calints.fits \tFalse\n",
      "DATA/JWST/NIRCam/04451/F210M/stage2/jw04451010001_03106_00001_nrca2_calints.fits \tTrue\n",
      "DATA/JWST/NIRCam/04451/F210M/stage2/jw04451010001_03106_00002_nrca2_calints.fits \tTrue\n",
      "DATA/JWST/NIRCam/04451/F210M/stage2/jw04451010001_03106_00003_nrca2_calints.fits \tTrue\n",
      "DATA/JWST/NIRCam/04451/F210M/stage2/jw04451010001_03106_00004_nrca2_calints.fits \tTrue\n",
      "DATA/JWST/NIRCam/04451/F210M/stage2/jw04451010001_03106_00005_nrca2_calints.fits \tTrue\n",
      "DATA/JWST/NIRCam/04451/F210M/stage2/jw04451010001_03106_00006_nrca2_calints.fits \tTrue\n",
      "DATA/JWST/NIRCam/04451/F210M/stage2/jw04451010001_03106_00007_nrca2_calints.fits \tTrue\n",
      "DATA/JWST/NIRCam/04451/F210M/stage2/jw04451010001_03106_00008_nrca2_calints.fits \tTrue\n",
      "DATA/JWST/NIRCam/04451/F210M/stage2/jw04451010001_03106_00009_nrca2_calints.fits \tTrue\n",
      "DATA/JWST/NIRCam/04454/F210M/stage2/jw04454002001_03106_00001_nrca2_calints.fits \tTrue\n",
      "DATA/JWST/NIRCam/04454/F210M/stage2/jw04454002001_03106_00002_nrca2_calints.fits \tTrue\n",
      "DATA/JWST/NIRCam/04454/F210M/stage2/jw04454002001_03106_00003_nrca2_calints.fits \tTrue\n",
      "DATA/JWST/NIRCam/04454/F210M/stage2/jw04454002001_03106_00004_nrca2_calints.fits \tTrue\n",
      "DATA/JWST/NIRCam/04454/F210M/stage2/jw04454002001_03106_00005_nrca2_calints.fits \tTrue\n",
      "DATA/JWST/NIRCam/04454/F210M/stage2/jw04454002001_03106_00006_nrca2_calints.fits \tTrue\n",
      "DATA/JWST/NIRCam/04454/F210M/stage2/jw04454002001_03106_00007_nrca2_calints.fits \tTrue\n",
      "DATA/JWST/NIRCam/04454/F210M/stage2/jw04454002001_03106_00008_nrca2_calints.fits \tTrue\n",
      "DATA/JWST/NIRCam/04454/F210M/stage2/jw04454002001_03106_00009_nrca2_calints.fits \tTrue\n"
     ]
    }
   ],
   "source": [
    "for f in psfpaths:\n",
    "    hdu=pyfits.open(f)[0]\n",
    "    print(f,'\\t'+str(hdu.header['IS_PSF']))\n",
    "    #f.close()"
   ]
  },
  {
   "cell_type": "code",
   "execution_count": 108,
   "id": "d8038a45-410c-4158-ada9-8a92b2e55edf",
   "metadata": {},
   "outputs": [
    {
     "data": {
      "text/plain": [
       "['DATA/JWST/NIRCam/04454/F210M/stage2/jw04454001001_03106_00001_nrca2_calints.fits',\n",
       " 'DATA/JWST/NIRCam/04454/F210M/stage2/jw04454002001_03106_00001_nrca2_calints.fits',\n",
       " 'DATA/JWST/NIRCam/04454/F210M/stage2/jw04454002001_03106_00002_nrca2_calints.fits',\n",
       " 'DATA/JWST/NIRCam/04454/F210M/stage2/jw04454002001_03106_00003_nrca2_calints.fits',\n",
       " 'DATA/JWST/NIRCam/04454/F210M/stage2/jw04454002001_03106_00004_nrca2_calints.fits',\n",
       " 'DATA/JWST/NIRCam/04454/F210M/stage2/jw04454002001_03106_00005_nrca2_calints.fits',\n",
       " 'DATA/JWST/NIRCam/04454/F210M/stage2/jw04454002001_03106_00006_nrca2_calints.fits',\n",
       " 'DATA/JWST/NIRCam/04454/F210M/stage2/jw04454002001_03106_00007_nrca2_calints.fits',\n",
       " 'DATA/JWST/NIRCam/04454/F210M/stage2/jw04454002001_03106_00008_nrca2_calints.fits',\n",
       " 'DATA/JWST/NIRCam/04454/F210M/stage2/jw04454002001_03106_00009_nrca2_calints.fits']"
      ]
     },
     "execution_count": 108,
     "metadata": {},
     "output_type": "execute_result"
    }
   ],
   "source": [
    "#fitsfiles.pop(1)\n",
    "fitsfiles"
   ]
  },
  {
   "cell_type": "code",
   "execution_count": null,
   "id": "8e1f447d-da9b-47e5-b797-2f936658a6a0",
   "metadata": {
    "scrolled": true
   },
   "outputs": [],
   "source": [
    "for file in psfpaths:\n",
    "    data = pyfits.open(file)\n",
    "    subarray_type = data[0].header['SUBARRAY']\n",
    "    file_name = data[0].header['FILENAME'] \n",
    "    print(file_name, subarray_type)"
   ]
  },
  {
   "cell_type": "code",
   "execution_count": null,
   "id": "a6dc018b-a365-4d1d-9e78-415c5195c896",
   "metadata": {},
   "outputs": [],
   "source": [
    "len(psfpaths)"
   ]
  },
  {
   "cell_type": "code",
   "execution_count": 11,
   "id": "67ef9e33-2d60-4973-8c32-ae9d822bb643",
   "metadata": {},
   "outputs": [],
   "source": [
    "fitsfiles = fitsfiles[-4:]"
   ]
  },
  {
   "cell_type": "code",
   "execution_count": 112,
   "id": "f8e7f220-69e6-4f97-8fdc-e82969d36bfa",
   "metadata": {
    "scrolled": true
   },
   "outputs": [
    {
     "name": "stdout",
     "output_type": "stream",
     "text": [
      "DATA/JWST/NIRCam/04454/F210M/stage2/jw04454002001_03106_00008_nrca2_calints.fits\n"
     ]
    },
    {
     "data": {
      "text/plain": [
       "['DATA/JWST/NIRCam/04454/F210M/stage2/jw04454001001_03106_00001_nrca2_calints.fits']"
      ]
     },
     "execution_count": 112,
     "metadata": {},
     "output_type": "execute_result"
    }
   ],
   "source": [
    "for f in fitsfiles:\n",
    "    if f in psfpaths:\n",
    "        print(f)\n",
    "        fitsfiles.remove(f)\n",
    "fitsfiles"
   ]
  },
  {
   "cell_type": "code",
   "execution_count": 101,
   "id": "f1e1a499-5f0a-49c2-a8c5-4f65641a90d6",
   "metadata": {
    "scrolled": true
   },
   "outputs": [],
   "source": [
    "#ref_ids = ['01411','04454']#['01563','03337','03840','03947','03973','03989','04014','04050','04090']\n",
    "lvls = ['uncal','stage1','stage2']#,'medsub','bpcleaned','nanreplaced','blurred','padded','recentered','aligned']\n",
    "for r in ref_ids:\n",
    "    for l in lvls:\n",
    "        if not os.path.exists('DATA/JWST/NIRCam/'+r+'/F210M/'+l):\n",
    "            #print('DATA/JWST/NIRCam/%s/F200W/%s does not exist' % (r,l))\n",
    "            os.mkdir('DATA/JWST/NIRCam/'+r+'/F210M/'+l)\n",
    "            #print('Made DATA/JWST/NIRCam/%s/F200W/%s' % (r,l))\n",
    "        #else:\n",
    "            #print('DATA/JWST/NIRCam/%s/F200W/%s exists' % (r,l))\n",
    "        for f in os.listdir('DATA/JWST/NIRCam/04451/F210M/%s' % l):\n",
    "            if r in f:\n",
    "                os.rename('DATA/JWST/NIRCam/04451/F210M/%s/%s' % (l,f),'DATA/JWST/NIRCam/%s/F210M/%s/%s' % (r,l,f))\n",
    "        #('DATA/JWST/NIRCam/04558/F200W/'+l)"
   ]
  },
  {
   "cell_type": "code",
   "execution_count": 82,
   "id": "233ccd51-e84b-4e42-8c7a-b5e13e67beb0",
   "metadata": {},
   "outputs": [
    {
     "data": {
      "text/plain": [
       "'DATA/JWST/NIRCam/04454/F210M/stage2'"
      ]
     },
     "execution_count": 82,
     "metadata": {},
     "output_type": "execute_result"
    }
   ],
   "source": [
    "os.path.join(data_root, 'stage2')"
   ]
  },
  {
   "cell_type": "code",
   "execution_count": 87,
   "id": "b15d3681-c579-4d36-b6a1-948341b43264",
   "metadata": {},
   "outputs": [
    {
     "name": "stdout",
     "output_type": "stream",
     "text": [
      "[spaceKLIP.database:INFO] --> Identified 1 concatenation(s)\n",
      "[spaceKLIP.database:INFO]   --> Concatenation 1: JWST_NIRCAM_NRCA2_F210M_MASKRND_MASK210R_SUB640A210R\n",
      "TYPE  EXP_TYPE DATAMODL TELESCOP ... BUNIT       ROLL_REF      BLURFWHM\n",
      "---- --------- -------- -------- ... ------ ------------------ --------\n",
      " SCI NRC_CORON   STAGE2     JWST ... MJy/sr 118.13031400111635      nan\n",
      " REF NRC_CORON   STAGE2     JWST ... MJy/sr 117.84408121476886      nan\n",
      " REF NRC_CORON   STAGE2     JWST ... MJy/sr 117.84404373743112      nan\n",
      " REF NRC_CORON   STAGE2     JWST ... MJy/sr 117.84404574550608      nan\n",
      " REF NRC_CORON   STAGE2     JWST ... MJy/sr 117.84405724616767      nan\n",
      " REF NRC_CORON   STAGE2     JWST ... MJy/sr 117.84406313427893      nan\n",
      " REF NRC_CORON   STAGE2     JWST ... MJy/sr 117.84406291159837      nan\n",
      " REF NRC_CORON   STAGE2     JWST ... MJy/sr 117.84405464573537      nan\n",
      " REF NRC_CORON   STAGE2     JWST ... MJy/sr 117.84407172497546      nan\n",
      " REF NRC_CORON   STAGE2     JWST ... MJy/sr  117.8440492174438      nan\n"
     ]
    }
   ],
   "source": [
    "Database = database.create_database(input_dir = os.path.join(data_root, 'stage2'),\n",
    "                                              file_type='calints.fits',\n",
    "                                              output_dir=data_root, \n",
    "                                              filt='F210M',\n",
    "                                              pid=4454)"
   ]
  },
  {
   "cell_type": "code",
   "execution_count": 113,
   "id": "10811ca9-329a-4d86-9582-2e53c04bfd83",
   "metadata": {
    "scrolled": true,
    "tags": []
   },
   "outputs": [
    {
     "name": "stdout",
     "output_type": "stream",
     "text": [
      "[spaceKLIP.database:INFO] --> Identified 1 concatenation(s)\n",
      "[spaceKLIP.database:INFO]   --> Concatenation 1: JWST_NIRCAM_NRCA2_F210M_MASKRND_MASK210R_SUB640A210R\n",
      "TYPE  EXP_TYPE DATAMODL TELESCOP ... BUNIT       ROLL_REF      BLURFWHM\n",
      "---- --------- -------- -------- ... ------ ------------------ --------\n",
      " SCI NRC_CORON   STAGE2     JWST ... MJy/sr 118.13031400111635      nan\n",
      " REF NRC_CORON   STAGE2     JWST ... MJy/sr  76.43515498091017      nan\n",
      " REF NRC_CORON   STAGE2     JWST ... MJy/sr  76.43512964577464      nan\n",
      " REF NRC_CORON   STAGE2     JWST ... MJy/sr   76.4351475030814      nan\n",
      " REF NRC_CORON   STAGE2     JWST ... MJy/sr   76.4351276349287      nan\n",
      " REF NRC_CORON   STAGE2     JWST ... MJy/sr  76.43510809588601      nan\n",
      " REF NRC_CORON   STAGE2     JWST ... MJy/sr  78.64611073377338      nan\n",
      " REF NRC_CORON   STAGE2     JWST ... MJy/sr  78.06274513631185      nan\n",
      " REF NRC_CORON   STAGE2     JWST ... MJy/sr  78.06280290179961      nan\n",
      " REF NRC_CORON   STAGE2     JWST ... MJy/sr  78.06274383772964      nan\n",
      " ...       ...      ...      ... ...    ...                ...      ...\n",
      " REF NRC_CORON   STAGE2     JWST ... MJy/sr    78.062765761057      nan\n",
      " REF NRC_CORON   STAGE2     JWST ... MJy/sr 117.84408121476886      nan\n",
      " REF NRC_CORON   STAGE2     JWST ... MJy/sr 117.84404373743112      nan\n",
      " REF NRC_CORON   STAGE2     JWST ... MJy/sr 117.84404574550608      nan\n",
      " REF NRC_CORON   STAGE2     JWST ... MJy/sr 117.84405724616767      nan\n",
      " REF NRC_CORON   STAGE2     JWST ... MJy/sr 117.84406313427893      nan\n",
      " REF NRC_CORON   STAGE2     JWST ... MJy/sr 117.84406291159837      nan\n",
      " REF NRC_CORON   STAGE2     JWST ... MJy/sr 117.84405464573537      nan\n",
      " REF NRC_CORON   STAGE2     JWST ... MJy/sr 117.84407172497546      nan\n",
      " REF NRC_CORON   STAGE2     JWST ... MJy/sr  117.8440492174438      nan\n",
      "Length = 25 rows\n"
     ]
    }
   ],
   "source": [
    "# Initialize the spaceKLIP database and read the input FITS files.\n",
    "Database = database.Database(output_dir=output_dir)\n",
    "Database.read_jwst_s012_data(datapaths=fitsfiles,\n",
    "                             psflibpaths=psfpaths,\n",
    "                             bgpaths=None)"
   ]
  },
  {
   "cell_type": "code",
   "execution_count": 114,
   "id": "8c7812a4-86c6-42f4-9a55-9c719e27f739",
   "metadata": {},
   "outputs": [
    {
     "name": "stdout",
     "output_type": "stream",
     "text": [
      "NIRCAM_F210M_MASK210R\n",
      "\tSTAGE2: 25 files;\t1 SCI, 24 REF\n"
     ]
    }
   ],
   "source": [
    "Database.summarize()"
   ]
  },
  {
   "cell_type": "code",
   "execution_count": null,
   "id": "4cc1faeb-2388-4e20-8321-11e767a663a5",
   "metadata": {},
   "outputs": [],
   "source": [
    "Database.obs['JWST_NIRCAM_NRCA2_F200W_MASKRND_MASK335R_SUB320A335R']"
   ]
  },
  {
   "cell_type": "code",
   "execution_count": null,
   "id": "dac71d23-9bad-46b5-991c-8474a728257a",
   "metadata": {},
   "outputs": [],
   "source": [
    "files = list(Database.obs['JWST_NIRCAM_NRCA2_F200W_MASKRND_MASK335R_SUB320A335R']['FITSFILE'])\n",
    "#files[0][-42:]\n",
    "for f in files:\n",
    "    hdu = pyfits.open(f[:29]+'uncal/'+f[-42:])[0]\n",
    "    print(hdu.header['SUBARRAY'])"
   ]
  },
  {
   "cell_type": "code",
   "execution_count": null,
   "id": "865b904c-05e6-4178-8397-29e1839efd23",
   "metadata": {},
   "outputs": [],
   "source": [
    "# select a subset of obs, usually we are only interested in F200W+F444W\n",
    "\n",
    "select_obs = [\n",
    "              'JWST_NIRCAM_NRCA2_F200W_MASKRND_MASK335R_SUB320A335R',\n",
    "              # 'JWST_NIRCAM_NRCA2_F210M_MASKRND_MASK210R_SUB640A210R',\n",
    "              # 'JWST_NIRCAM_NRCA2_F210M_MASKRND_MASK210R_FULL'\n",
    "              # 'JWST_NIRCAM_NRCALONG_F356W_MASKRND_MASK335R_SUB320A335R',\n",
    "              # 'JWST_NIRCAM_NRCALONG_F444W_MASKRND_MASK335R_SUB320A335R',\n",
    "              ]\n",
    "\n",
    "Database.obs = {k:Database.obs[k] for k in select_obs}"
   ]
  },
  {
   "cell_type": "code",
   "execution_count": null,
   "id": "478ef392-9acd-4a4f-8688-242ad534f7a9",
   "metadata": {
    "scrolled": true
   },
   "outputs": [],
   "source": [
    "Database.obs['JWST_NIRCAM_NRCA2_F200W_MASKRND_MASK335R_SUB320A335R']['TYPE']!='REF'"
   ]
  },
  {
   "cell_type": "code",
   "execution_count": 115,
   "id": "ad1083bd-b395-48a4-bae4-4c7271d145fb",
   "metadata": {
    "scrolled": true,
    "tags": []
   },
   "outputs": [
    {
     "name": "stdout",
     "output_type": "stream",
     "text": [
      "[spaceKLIP.imagetools:INFO] --> Concatenation JWST_NIRCAM_NRCA2_F210M_MASKRND_MASK210R_SUB640A210R\n",
      "[spaceKLIP.imagetools:INFO]   --> Update NIRCam coronagraphy centers: jw04454001001_03106_00001_nrca2_calints.fits\n",
      "[spaceKLIP.imagetools:INFO]   --> Update NIRCam coronagraphy centers: old = (321.00, 330.90), new = (321.00, 330.90)\n",
      "[spaceKLIP.imagetools:INFO]   --> Update NIRCam coronagraphy centers: jw01411027001_03105_00001_nrca2_calints.fits\n",
      "[spaceKLIP.imagetools:INFO]   --> Update NIRCam coronagraphy centers: old = (321.00, 330.90), new = (321.00, 330.90)\n",
      "[spaceKLIP.imagetools:INFO]   --> Update NIRCam coronagraphy centers: jw01411027001_03105_00002_nrca2_calints.fits\n",
      "[spaceKLIP.imagetools:INFO]   --> Update NIRCam coronagraphy centers: old = (321.00, 330.90), new = (321.00, 330.90)\n",
      "[spaceKLIP.imagetools:INFO]   --> Update NIRCam coronagraphy centers: jw01411027001_03105_00003_nrca2_calints.fits\n",
      "[spaceKLIP.imagetools:INFO]   --> Update NIRCam coronagraphy centers: old = (321.00, 330.90), new = (321.00, 330.90)\n",
      "[spaceKLIP.imagetools:INFO]   --> Update NIRCam coronagraphy centers: jw01411027001_03105_00004_nrca2_calints.fits\n",
      "[spaceKLIP.imagetools:INFO]   --> Update NIRCam coronagraphy centers: old = (321.00, 330.90), new = (321.00, 330.90)\n",
      "[spaceKLIP.imagetools:INFO]   --> Update NIRCam coronagraphy centers: jw01411027001_03105_00005_nrca2_calints.fits\n",
      "[spaceKLIP.imagetools:INFO]   --> Update NIRCam coronagraphy centers: old = (321.00, 330.90), new = (321.00, 330.90)\n",
      "[spaceKLIP.imagetools:INFO]   --> Update NIRCam coronagraphy centers: jw04451009001_03106_00001_nrca2_calints.fits\n",
      "[spaceKLIP.imagetools:INFO]   --> Update NIRCam coronagraphy centers: old = (321.80, 331.50), new = (321.80, 331.50)\n",
      "[spaceKLIP.imagetools:INFO]   --> Update NIRCam coronagraphy centers: jw04451010001_03106_00001_nrca2_calints.fits\n",
      "[spaceKLIP.imagetools:INFO]   --> Update NIRCam coronagraphy centers: old = (321.80, 331.50), new = (321.80, 331.50)\n",
      "[spaceKLIP.imagetools:INFO]   --> Update NIRCam coronagraphy centers: jw04451010001_03106_00002_nrca2_calints.fits\n",
      "[spaceKLIP.imagetools:INFO]   --> Update NIRCam coronagraphy centers: old = (321.80, 331.50), new = (321.80, 331.50)\n",
      "[spaceKLIP.imagetools:INFO]   --> Update NIRCam coronagraphy centers: jw04451010001_03106_00003_nrca2_calints.fits\n",
      "[spaceKLIP.imagetools:INFO]   --> Update NIRCam coronagraphy centers: old = (321.80, 331.50), new = (321.80, 331.50)\n",
      "[spaceKLIP.imagetools:INFO]   --> Update NIRCam coronagraphy centers: jw04451010001_03106_00004_nrca2_calints.fits\n",
      "[spaceKLIP.imagetools:INFO]   --> Update NIRCam coronagraphy centers: old = (321.80, 331.50), new = (321.80, 331.50)\n",
      "[spaceKLIP.imagetools:INFO]   --> Update NIRCam coronagraphy centers: jw04451010001_03106_00005_nrca2_calints.fits\n",
      "[spaceKLIP.imagetools:INFO]   --> Update NIRCam coronagraphy centers: old = (321.80, 331.50), new = (321.80, 331.50)\n",
      "[spaceKLIP.imagetools:INFO]   --> Update NIRCam coronagraphy centers: jw04451010001_03106_00006_nrca2_calints.fits\n",
      "[spaceKLIP.imagetools:INFO]   --> Update NIRCam coronagraphy centers: old = (321.80, 331.50), new = (321.80, 331.50)\n",
      "[spaceKLIP.imagetools:INFO]   --> Update NIRCam coronagraphy centers: jw04451010001_03106_00007_nrca2_calints.fits\n",
      "[spaceKLIP.imagetools:INFO]   --> Update NIRCam coronagraphy centers: old = (321.80, 331.50), new = (321.80, 331.50)\n",
      "[spaceKLIP.imagetools:INFO]   --> Update NIRCam coronagraphy centers: jw04451010001_03106_00008_nrca2_calints.fits\n",
      "[spaceKLIP.imagetools:INFO]   --> Update NIRCam coronagraphy centers: old = (321.80, 331.50), new = (321.80, 331.50)\n",
      "[spaceKLIP.imagetools:INFO]   --> Update NIRCam coronagraphy centers: jw04451010001_03106_00009_nrca2_calints.fits\n",
      "[spaceKLIP.imagetools:INFO]   --> Update NIRCam coronagraphy centers: old = (321.80, 331.50), new = (321.80, 331.50)\n",
      "[spaceKLIP.imagetools:INFO]   --> Update NIRCam coronagraphy centers: jw04454002001_03106_00001_nrca2_calints.fits\n",
      "[spaceKLIP.imagetools:INFO]   --> Update NIRCam coronagraphy centers: old = (321.00, 330.90), new = (321.00, 330.90)\n",
      "[spaceKLIP.imagetools:INFO]   --> Update NIRCam coronagraphy centers: jw04454002001_03106_00002_nrca2_calints.fits\n",
      "[spaceKLIP.imagetools:INFO]   --> Update NIRCam coronagraphy centers: old = (321.00, 330.90), new = (321.00, 330.90)\n",
      "[spaceKLIP.imagetools:INFO]   --> Update NIRCam coronagraphy centers: jw04454002001_03106_00003_nrca2_calints.fits\n",
      "[spaceKLIP.imagetools:INFO]   --> Update NIRCam coronagraphy centers: old = (321.00, 330.90), new = (321.00, 330.90)\n",
      "[spaceKLIP.imagetools:INFO]   --> Update NIRCam coronagraphy centers: jw04454002001_03106_00004_nrca2_calints.fits\n",
      "[spaceKLIP.imagetools:INFO]   --> Update NIRCam coronagraphy centers: old = (321.00, 330.90), new = (321.00, 330.90)\n",
      "[spaceKLIP.imagetools:INFO]   --> Update NIRCam coronagraphy centers: jw04454002001_03106_00005_nrca2_calints.fits\n",
      "[spaceKLIP.imagetools:INFO]   --> Update NIRCam coronagraphy centers: old = (321.00, 330.90), new = (321.00, 330.90)\n",
      "[spaceKLIP.imagetools:INFO]   --> Update NIRCam coronagraphy centers: jw04454002001_03106_00006_nrca2_calints.fits\n",
      "[spaceKLIP.imagetools:INFO]   --> Update NIRCam coronagraphy centers: old = (321.00, 330.90), new = (321.00, 330.90)\n",
      "[spaceKLIP.imagetools:INFO]   --> Update NIRCam coronagraphy centers: jw04454002001_03106_00007_nrca2_calints.fits\n",
      "[spaceKLIP.imagetools:INFO]   --> Update NIRCam coronagraphy centers: old = (321.00, 330.90), new = (321.00, 330.90)\n",
      "[spaceKLIP.imagetools:INFO]   --> Update NIRCam coronagraphy centers: jw04454002001_03106_00008_nrca2_calints.fits\n",
      "[spaceKLIP.imagetools:INFO]   --> Update NIRCam coronagraphy centers: old = (321.00, 330.90), new = (321.00, 330.90)\n"
     ]
    },
    {
     "name": "stderr",
     "output_type": "stream",
     "text": [
      "[py.warnings:WARNING] /Users/rkane/miniconda3/envs/spaceklip2/lib/python3.11/site-packages/astropy/io/fits/header.py:449: ResourceWarning: unclosed file <_io.BufferedReader name='/Users/rkane/Documents/spaceKLIP_repos/webbpsf-data/MAST_JWST_WSS_OPDs/O2023061101-NRCA3_FP1-1.fits'>\n",
      "[py.warnings:WARNING]   cards.append(Card.fromstring(empty.join(image)))\n",
      "[py.warnings:WARNING] \n"
     ]
    },
    {
     "name": "stdout",
     "output_type": "stream",
     "text": [
      "[spaceKLIP.imagetools:INFO]   --> Update NIRCam coronagraphy centers: jw04454002001_03106_00009_nrca2_calints.fits\n",
      "[spaceKLIP.imagetools:INFO]   --> Update NIRCam coronagraphy centers: old = (321.00, 330.90), new = (321.00, 330.90)\n",
      "[spaceKLIP.imagetools:INFO] Median subtraction using method=border\n",
      "[spaceKLIP.imagetools:INFO] --> Concatenation JWST_NIRCAM_NRCA2_F210M_MASKRND_MASK210R_SUB640A210R\n",
      "[spaceKLIP.imagetools:INFO]   --> Median subtraction: jw04454001001_03106_00001_nrca2_calints.fits\n"
     ]
    },
    {
     "name": "stderr",
     "output_type": "stream",
     "text": [
      "[py.warnings:WARNING] /Users/rkane/miniconda3/envs/spaceklip2/lib/python3.11/site-packages/astropy/stats/sigma_clipping.py:438: AstropyUserWarning: Input data contains invalid values (NaNs or infs), which were automatically clipped.\n",
      "[py.warnings:WARNING]   warnings.warn(\n",
      "[py.warnings:WARNING] \n",
      "[py.warnings:WARNING] /Users/rkane/miniconda3/envs/spaceklip2/lib/python3.11/site-packages/astropy/stats/sigma_clipping.py:438: AstropyUserWarning: Input data contains invalid values (NaNs or infs), which were automatically clipped.\n",
      "[py.warnings:WARNING]   warnings.warn(\n",
      "[py.warnings:WARNING] \n",
      "[py.warnings:WARNING] /Users/rkane/miniconda3/envs/spaceklip2/lib/python3.11/site-packages/astropy/stats/sigma_clipping.py:438: AstropyUserWarning: Input data contains invalid values (NaNs or infs), which were automatically clipped.\n",
      "[py.warnings:WARNING]   warnings.warn(\n",
      "[py.warnings:WARNING] \n",
      "[py.warnings:WARNING] /Users/rkane/miniconda3/envs/spaceklip2/lib/python3.11/site-packages/astropy/stats/sigma_clipping.py:438: AstropyUserWarning: Input data contains invalid values (NaNs or infs), which were automatically clipped.\n",
      "[py.warnings:WARNING]   warnings.warn(\n",
      "[py.warnings:WARNING] \n",
      "[py.warnings:WARNING] /Users/rkane/miniconda3/envs/spaceklip2/lib/python3.11/site-packages/astropy/stats/sigma_clipping.py:438: AstropyUserWarning: Input data contains invalid values (NaNs or infs), which were automatically clipped.\n",
      "[py.warnings:WARNING]   warnings.warn(\n",
      "[py.warnings:WARNING] \n",
      "[py.warnings:WARNING] /Users/rkane/miniconda3/envs/spaceklip2/lib/python3.11/site-packages/astropy/stats/sigma_clipping.py:438: AstropyUserWarning: Input data contains invalid values (NaNs or infs), which were automatically clipped.\n",
      "[py.warnings:WARNING]   warnings.warn(\n",
      "[py.warnings:WARNING] \n",
      "[py.warnings:WARNING] /Users/rkane/miniconda3/envs/spaceklip2/lib/python3.11/site-packages/astropy/stats/sigma_clipping.py:438: AstropyUserWarning: Input data contains invalid values (NaNs or infs), which were automatically clipped.\n",
      "[py.warnings:WARNING]   warnings.warn(\n",
      "[py.warnings:WARNING] \n",
      "[py.warnings:WARNING] /Users/rkane/miniconda3/envs/spaceklip2/lib/python3.11/site-packages/astropy/stats/sigma_clipping.py:438: AstropyUserWarning: Input data contains invalid values (NaNs or infs), which were automatically clipped.\n",
      "[py.warnings:WARNING]   warnings.warn(\n",
      "[py.warnings:WARNING] \n",
      "[py.warnings:WARNING] /Users/rkane/miniconda3/envs/spaceklip2/lib/python3.11/site-packages/astropy/stats/sigma_clipping.py:438: AstropyUserWarning: Input data contains invalid values (NaNs or infs), which were automatically clipped.\n",
      "[py.warnings:WARNING]   warnings.warn(\n",
      "[py.warnings:WARNING] \n",
      "[py.warnings:WARNING] /Users/rkane/miniconda3/envs/spaceklip2/lib/python3.11/site-packages/astropy/stats/sigma_clipping.py:438: AstropyUserWarning: Input data contains invalid values (NaNs or infs), which were automatically clipped.\n",
      "[py.warnings:WARNING]   warnings.warn(\n",
      "[py.warnings:WARNING] \n",
      "[py.warnings:WARNING] /Users/rkane/miniconda3/envs/spaceklip2/lib/python3.11/site-packages/astropy/stats/sigma_clipping.py:438: AstropyUserWarning: Input data contains invalid values (NaNs or infs), which were automatically clipped.\n",
      "[py.warnings:WARNING]   warnings.warn(\n",
      "[py.warnings:WARNING] \n",
      "[py.warnings:WARNING] /Users/rkane/miniconda3/envs/spaceklip2/lib/python3.11/site-packages/astropy/stats/sigma_clipping.py:438: AstropyUserWarning: Input data contains invalid values (NaNs or infs), which were automatically clipped.\n",
      "[py.warnings:WARNING]   warnings.warn(\n",
      "[py.warnings:WARNING] \n",
      "[py.warnings:WARNING] /Users/rkane/miniconda3/envs/spaceklip2/lib/python3.11/site-packages/astropy/stats/sigma_clipping.py:438: AstropyUserWarning: Input data contains invalid values (NaNs or infs), which were automatically clipped.\n",
      "[py.warnings:WARNING]   warnings.warn(\n",
      "[py.warnings:WARNING] \n",
      "[py.warnings:WARNING] /Users/rkane/miniconda3/envs/spaceklip2/lib/python3.11/site-packages/astropy/stats/sigma_clipping.py:438: AstropyUserWarning: Input data contains invalid values (NaNs or infs), which were automatically clipped.\n",
      "[py.warnings:WARNING]   warnings.warn(\n",
      "[py.warnings:WARNING] \n",
      "[py.warnings:WARNING] /Users/rkane/miniconda3/envs/spaceklip2/lib/python3.11/site-packages/astropy/stats/sigma_clipping.py:438: AstropyUserWarning: Input data contains invalid values (NaNs or infs), which were automatically clipped.\n",
      "[py.warnings:WARNING]   warnings.warn(\n",
      "[py.warnings:WARNING] \n",
      "[py.warnings:WARNING] /Users/rkane/miniconda3/envs/spaceklip2/lib/python3.11/site-packages/astropy/stats/sigma_clipping.py:438: AstropyUserWarning: Input data contains invalid values (NaNs or infs), which were automatically clipped.\n",
      "[py.warnings:WARNING]   warnings.warn(\n",
      "[py.warnings:WARNING] \n",
      "[py.warnings:WARNING] /Users/rkane/miniconda3/envs/spaceklip2/lib/python3.11/site-packages/astropy/stats/sigma_clipping.py:438: AstropyUserWarning: Input data contains invalid values (NaNs or infs), which were automatically clipped.\n",
      "[py.warnings:WARNING]   warnings.warn(\n",
      "[py.warnings:WARNING] \n",
      "[py.warnings:WARNING] /Users/rkane/miniconda3/envs/spaceklip2/lib/python3.11/site-packages/astropy/stats/sigma_clipping.py:438: AstropyUserWarning: Input data contains invalid values (NaNs or infs), which were automatically clipped.\n",
      "[py.warnings:WARNING]   warnings.warn(\n",
      "[py.warnings:WARNING] \n"
     ]
    },
    {
     "name": "stdout",
     "output_type": "stream",
     "text": [
      "[spaceKLIP.imagetools:INFO]   --> Median subtraction: mean of frame median = 0.39\n",
      "[spaceKLIP.imagetools:INFO]   --> Median subtraction: jw01411027001_03105_00001_nrca2_calints.fits\n"
     ]
    },
    {
     "name": "stderr",
     "output_type": "stream",
     "text": [
      "[py.warnings:WARNING] /Users/rkane/miniconda3/envs/spaceklip2/lib/python3.11/site-packages/astropy/stats/sigma_clipping.py:438: AstropyUserWarning: Input data contains invalid values (NaNs or infs), which were automatically clipped.\n",
      "[py.warnings:WARNING]   warnings.warn(\n",
      "[py.warnings:WARNING] \n",
      "[py.warnings:WARNING] /Users/rkane/miniconda3/envs/spaceklip2/lib/python3.11/site-packages/astropy/stats/sigma_clipping.py:438: AstropyUserWarning: Input data contains invalid values (NaNs or infs), which were automatically clipped.\n",
      "[py.warnings:WARNING]   warnings.warn(\n",
      "[py.warnings:WARNING] \n",
      "[py.warnings:WARNING] /Users/rkane/miniconda3/envs/spaceklip2/lib/python3.11/site-packages/astropy/stats/sigma_clipping.py:438: AstropyUserWarning: Input data contains invalid values (NaNs or infs), which were automatically clipped.\n",
      "[py.warnings:WARNING]   warnings.warn(\n",
      "[py.warnings:WARNING] \n",
      "[py.warnings:WARNING] /Users/rkane/miniconda3/envs/spaceklip2/lib/python3.11/site-packages/astropy/stats/sigma_clipping.py:438: AstropyUserWarning: Input data contains invalid values (NaNs or infs), which were automatically clipped.\n",
      "[py.warnings:WARNING]   warnings.warn(\n",
      "[py.warnings:WARNING] \n",
      "[py.warnings:WARNING] /Users/rkane/miniconda3/envs/spaceklip2/lib/python3.11/site-packages/astropy/stats/sigma_clipping.py:438: AstropyUserWarning: Input data contains invalid values (NaNs or infs), which were automatically clipped.\n",
      "[py.warnings:WARNING]   warnings.warn(\n",
      "[py.warnings:WARNING] \n",
      "[py.warnings:WARNING] /Users/rkane/miniconda3/envs/spaceklip2/lib/python3.11/site-packages/astropy/stats/sigma_clipping.py:438: AstropyUserWarning: Input data contains invalid values (NaNs or infs), which were automatically clipped.\n",
      "[py.warnings:WARNING]   warnings.warn(\n",
      "[py.warnings:WARNING] \n",
      "[py.warnings:WARNING] /Users/rkane/miniconda3/envs/spaceklip2/lib/python3.11/site-packages/astropy/stats/sigma_clipping.py:438: AstropyUserWarning: Input data contains invalid values (NaNs or infs), which were automatically clipped.\n",
      "[py.warnings:WARNING]   warnings.warn(\n",
      "[py.warnings:WARNING] \n",
      "[py.warnings:WARNING] /Users/rkane/miniconda3/envs/spaceklip2/lib/python3.11/site-packages/astropy/stats/sigma_clipping.py:438: AstropyUserWarning: Input data contains invalid values (NaNs or infs), which were automatically clipped.\n",
      "[py.warnings:WARNING]   warnings.warn(\n",
      "[py.warnings:WARNING] \n",
      "[py.warnings:WARNING] /Users/rkane/miniconda3/envs/spaceklip2/lib/python3.11/site-packages/astropy/stats/sigma_clipping.py:438: AstropyUserWarning: Input data contains invalid values (NaNs or infs), which were automatically clipped.\n",
      "[py.warnings:WARNING]   warnings.warn(\n",
      "[py.warnings:WARNING] \n",
      "[py.warnings:WARNING] /Users/rkane/miniconda3/envs/spaceklip2/lib/python3.11/site-packages/astropy/stats/sigma_clipping.py:438: AstropyUserWarning: Input data contains invalid values (NaNs or infs), which were automatically clipped.\n",
      "[py.warnings:WARNING]   warnings.warn(\n",
      "[py.warnings:WARNING] \n"
     ]
    },
    {
     "name": "stdout",
     "output_type": "stream",
     "text": [
      "[spaceKLIP.imagetools:INFO]   --> Median subtraction: mean of frame median = 3.63\n",
      "[spaceKLIP.imagetools:INFO]   --> Median subtraction: jw01411027001_03105_00002_nrca2_calints.fits\n"
     ]
    },
    {
     "name": "stderr",
     "output_type": "stream",
     "text": [
      "[py.warnings:WARNING] /Users/rkane/miniconda3/envs/spaceklip2/lib/python3.11/site-packages/astropy/stats/sigma_clipping.py:438: AstropyUserWarning: Input data contains invalid values (NaNs or infs), which were automatically clipped.\n",
      "[py.warnings:WARNING]   warnings.warn(\n",
      "[py.warnings:WARNING] \n",
      "[py.warnings:WARNING] /Users/rkane/miniconda3/envs/spaceklip2/lib/python3.11/site-packages/astropy/stats/sigma_clipping.py:438: AstropyUserWarning: Input data contains invalid values (NaNs or infs), which were automatically clipped.\n",
      "[py.warnings:WARNING]   warnings.warn(\n",
      "[py.warnings:WARNING] \n",
      "[py.warnings:WARNING] /Users/rkane/miniconda3/envs/spaceklip2/lib/python3.11/site-packages/astropy/stats/sigma_clipping.py:438: AstropyUserWarning: Input data contains invalid values (NaNs or infs), which were automatically clipped.\n",
      "[py.warnings:WARNING]   warnings.warn(\n",
      "[py.warnings:WARNING] \n",
      "[py.warnings:WARNING] /Users/rkane/miniconda3/envs/spaceklip2/lib/python3.11/site-packages/astropy/stats/sigma_clipping.py:438: AstropyUserWarning: Input data contains invalid values (NaNs or infs), which were automatically clipped.\n",
      "[py.warnings:WARNING]   warnings.warn(\n",
      "[py.warnings:WARNING] \n",
      "[py.warnings:WARNING] /Users/rkane/miniconda3/envs/spaceklip2/lib/python3.11/site-packages/astropy/stats/sigma_clipping.py:438: AstropyUserWarning: Input data contains invalid values (NaNs or infs), which were automatically clipped.\n",
      "[py.warnings:WARNING]   warnings.warn(\n",
      "[py.warnings:WARNING] \n",
      "[py.warnings:WARNING] /Users/rkane/miniconda3/envs/spaceklip2/lib/python3.11/site-packages/astropy/stats/sigma_clipping.py:438: AstropyUserWarning: Input data contains invalid values (NaNs or infs), which were automatically clipped.\n",
      "[py.warnings:WARNING]   warnings.warn(\n",
      "[py.warnings:WARNING] \n",
      "[py.warnings:WARNING] /Users/rkane/miniconda3/envs/spaceklip2/lib/python3.11/site-packages/astropy/stats/sigma_clipping.py:438: AstropyUserWarning: Input data contains invalid values (NaNs or infs), which were automatically clipped.\n",
      "[py.warnings:WARNING]   warnings.warn(\n",
      "[py.warnings:WARNING] \n",
      "[py.warnings:WARNING] /Users/rkane/miniconda3/envs/spaceklip2/lib/python3.11/site-packages/astropy/stats/sigma_clipping.py:438: AstropyUserWarning: Input data contains invalid values (NaNs or infs), which were automatically clipped.\n",
      "[py.warnings:WARNING]   warnings.warn(\n",
      "[py.warnings:WARNING] \n",
      "[py.warnings:WARNING] /Users/rkane/miniconda3/envs/spaceklip2/lib/python3.11/site-packages/astropy/stats/sigma_clipping.py:438: AstropyUserWarning: Input data contains invalid values (NaNs or infs), which were automatically clipped.\n",
      "[py.warnings:WARNING]   warnings.warn(\n",
      "[py.warnings:WARNING] \n",
      "[py.warnings:WARNING] /Users/rkane/miniconda3/envs/spaceklip2/lib/python3.11/site-packages/astropy/stats/sigma_clipping.py:438: AstropyUserWarning: Input data contains invalid values (NaNs or infs), which were automatically clipped.\n",
      "[py.warnings:WARNING]   warnings.warn(\n",
      "[py.warnings:WARNING] \n"
     ]
    },
    {
     "name": "stdout",
     "output_type": "stream",
     "text": [
      "[spaceKLIP.imagetools:INFO]   --> Median subtraction: mean of frame median = 4.32\n",
      "[spaceKLIP.imagetools:INFO]   --> Median subtraction: jw01411027001_03105_00003_nrca2_calints.fits\n"
     ]
    },
    {
     "name": "stderr",
     "output_type": "stream",
     "text": [
      "[py.warnings:WARNING] /Users/rkane/miniconda3/envs/spaceklip2/lib/python3.11/site-packages/astropy/stats/sigma_clipping.py:438: AstropyUserWarning: Input data contains invalid values (NaNs or infs), which were automatically clipped.\n",
      "[py.warnings:WARNING]   warnings.warn(\n",
      "[py.warnings:WARNING] \n",
      "[py.warnings:WARNING] /Users/rkane/miniconda3/envs/spaceklip2/lib/python3.11/site-packages/astropy/stats/sigma_clipping.py:438: AstropyUserWarning: Input data contains invalid values (NaNs or infs), which were automatically clipped.\n",
      "[py.warnings:WARNING]   warnings.warn(\n",
      "[py.warnings:WARNING] \n",
      "[py.warnings:WARNING] /Users/rkane/miniconda3/envs/spaceklip2/lib/python3.11/site-packages/astropy/stats/sigma_clipping.py:438: AstropyUserWarning: Input data contains invalid values (NaNs or infs), which were automatically clipped.\n",
      "[py.warnings:WARNING]   warnings.warn(\n",
      "[py.warnings:WARNING] \n",
      "[py.warnings:WARNING] /Users/rkane/miniconda3/envs/spaceklip2/lib/python3.11/site-packages/astropy/stats/sigma_clipping.py:438: AstropyUserWarning: Input data contains invalid values (NaNs or infs), which were automatically clipped.\n",
      "[py.warnings:WARNING]   warnings.warn(\n",
      "[py.warnings:WARNING] \n",
      "[py.warnings:WARNING] /Users/rkane/miniconda3/envs/spaceklip2/lib/python3.11/site-packages/astropy/stats/sigma_clipping.py:438: AstropyUserWarning: Input data contains invalid values (NaNs or infs), which were automatically clipped.\n",
      "[py.warnings:WARNING]   warnings.warn(\n",
      "[py.warnings:WARNING] \n",
      "[py.warnings:WARNING] /Users/rkane/miniconda3/envs/spaceklip2/lib/python3.11/site-packages/astropy/stats/sigma_clipping.py:438: AstropyUserWarning: Input data contains invalid values (NaNs or infs), which were automatically clipped.\n",
      "[py.warnings:WARNING]   warnings.warn(\n",
      "[py.warnings:WARNING] \n",
      "[py.warnings:WARNING] /Users/rkane/miniconda3/envs/spaceklip2/lib/python3.11/site-packages/astropy/stats/sigma_clipping.py:438: AstropyUserWarning: Input data contains invalid values (NaNs or infs), which were automatically clipped.\n",
      "[py.warnings:WARNING]   warnings.warn(\n",
      "[py.warnings:WARNING] \n",
      "[py.warnings:WARNING] /Users/rkane/miniconda3/envs/spaceklip2/lib/python3.11/site-packages/astropy/stats/sigma_clipping.py:438: AstropyUserWarning: Input data contains invalid values (NaNs or infs), which were automatically clipped.\n",
      "[py.warnings:WARNING]   warnings.warn(\n",
      "[py.warnings:WARNING] \n",
      "[py.warnings:WARNING] /Users/rkane/miniconda3/envs/spaceklip2/lib/python3.11/site-packages/astropy/stats/sigma_clipping.py:438: AstropyUserWarning: Input data contains invalid values (NaNs or infs), which were automatically clipped.\n",
      "[py.warnings:WARNING]   warnings.warn(\n",
      "[py.warnings:WARNING] \n",
      "[py.warnings:WARNING] /Users/rkane/miniconda3/envs/spaceklip2/lib/python3.11/site-packages/astropy/stats/sigma_clipping.py:438: AstropyUserWarning: Input data contains invalid values (NaNs or infs), which were automatically clipped.\n",
      "[py.warnings:WARNING]   warnings.warn(\n",
      "[py.warnings:WARNING] \n"
     ]
    },
    {
     "name": "stdout",
     "output_type": "stream",
     "text": [
      "[spaceKLIP.imagetools:INFO]   --> Median subtraction: mean of frame median = 4.11\n",
      "[spaceKLIP.imagetools:INFO]   --> Median subtraction: jw01411027001_03105_00004_nrca2_calints.fits\n"
     ]
    },
    {
     "name": "stderr",
     "output_type": "stream",
     "text": [
      "[py.warnings:WARNING] /Users/rkane/miniconda3/envs/spaceklip2/lib/python3.11/site-packages/astropy/stats/sigma_clipping.py:438: AstropyUserWarning: Input data contains invalid values (NaNs or infs), which were automatically clipped.\n",
      "[py.warnings:WARNING]   warnings.warn(\n",
      "[py.warnings:WARNING] \n",
      "[py.warnings:WARNING] /Users/rkane/miniconda3/envs/spaceklip2/lib/python3.11/site-packages/astropy/stats/sigma_clipping.py:438: AstropyUserWarning: Input data contains invalid values (NaNs or infs), which were automatically clipped.\n",
      "[py.warnings:WARNING]   warnings.warn(\n",
      "[py.warnings:WARNING] \n",
      "[py.warnings:WARNING] /Users/rkane/miniconda3/envs/spaceklip2/lib/python3.11/site-packages/astropy/stats/sigma_clipping.py:438: AstropyUserWarning: Input data contains invalid values (NaNs or infs), which were automatically clipped.\n",
      "[py.warnings:WARNING]   warnings.warn(\n",
      "[py.warnings:WARNING] \n",
      "[py.warnings:WARNING] /Users/rkane/miniconda3/envs/spaceklip2/lib/python3.11/site-packages/astropy/stats/sigma_clipping.py:438: AstropyUserWarning: Input data contains invalid values (NaNs or infs), which were automatically clipped.\n",
      "[py.warnings:WARNING]   warnings.warn(\n",
      "[py.warnings:WARNING] \n",
      "[py.warnings:WARNING] /Users/rkane/miniconda3/envs/spaceklip2/lib/python3.11/site-packages/astropy/stats/sigma_clipping.py:438: AstropyUserWarning: Input data contains invalid values (NaNs or infs), which were automatically clipped.\n",
      "[py.warnings:WARNING]   warnings.warn(\n",
      "[py.warnings:WARNING] \n",
      "[py.warnings:WARNING] /Users/rkane/miniconda3/envs/spaceklip2/lib/python3.11/site-packages/astropy/stats/sigma_clipping.py:438: AstropyUserWarning: Input data contains invalid values (NaNs or infs), which were automatically clipped.\n",
      "[py.warnings:WARNING]   warnings.warn(\n",
      "[py.warnings:WARNING] \n",
      "[py.warnings:WARNING] /Users/rkane/miniconda3/envs/spaceklip2/lib/python3.11/site-packages/astropy/stats/sigma_clipping.py:438: AstropyUserWarning: Input data contains invalid values (NaNs or infs), which were automatically clipped.\n",
      "[py.warnings:WARNING]   warnings.warn(\n",
      "[py.warnings:WARNING] \n",
      "[py.warnings:WARNING] /Users/rkane/miniconda3/envs/spaceklip2/lib/python3.11/site-packages/astropy/stats/sigma_clipping.py:438: AstropyUserWarning: Input data contains invalid values (NaNs or infs), which were automatically clipped.\n",
      "[py.warnings:WARNING]   warnings.warn(\n",
      "[py.warnings:WARNING] \n",
      "[py.warnings:WARNING] /Users/rkane/miniconda3/envs/spaceklip2/lib/python3.11/site-packages/astropy/stats/sigma_clipping.py:438: AstropyUserWarning: Input data contains invalid values (NaNs or infs), which were automatically clipped.\n",
      "[py.warnings:WARNING]   warnings.warn(\n",
      "[py.warnings:WARNING] \n",
      "[py.warnings:WARNING] /Users/rkane/miniconda3/envs/spaceklip2/lib/python3.11/site-packages/astropy/stats/sigma_clipping.py:438: AstropyUserWarning: Input data contains invalid values (NaNs or infs), which were automatically clipped.\n",
      "[py.warnings:WARNING]   warnings.warn(\n",
      "[py.warnings:WARNING] \n"
     ]
    },
    {
     "name": "stdout",
     "output_type": "stream",
     "text": [
      "[spaceKLIP.imagetools:INFO]   --> Median subtraction: mean of frame median = 4.03\n",
      "[spaceKLIP.imagetools:INFO]   --> Median subtraction: jw01411027001_03105_00005_nrca2_calints.fits\n"
     ]
    },
    {
     "name": "stderr",
     "output_type": "stream",
     "text": [
      "[py.warnings:WARNING] /Users/rkane/miniconda3/envs/spaceklip2/lib/python3.11/site-packages/astropy/stats/sigma_clipping.py:438: AstropyUserWarning: Input data contains invalid values (NaNs or infs), which were automatically clipped.\n",
      "[py.warnings:WARNING]   warnings.warn(\n",
      "[py.warnings:WARNING] \n",
      "[py.warnings:WARNING] /Users/rkane/miniconda3/envs/spaceklip2/lib/python3.11/site-packages/astropy/stats/sigma_clipping.py:438: AstropyUserWarning: Input data contains invalid values (NaNs or infs), which were automatically clipped.\n",
      "[py.warnings:WARNING]   warnings.warn(\n",
      "[py.warnings:WARNING] \n",
      "[py.warnings:WARNING] /Users/rkane/miniconda3/envs/spaceklip2/lib/python3.11/site-packages/astropy/stats/sigma_clipping.py:438: AstropyUserWarning: Input data contains invalid values (NaNs or infs), which were automatically clipped.\n",
      "[py.warnings:WARNING]   warnings.warn(\n",
      "[py.warnings:WARNING] \n",
      "[py.warnings:WARNING] /Users/rkane/miniconda3/envs/spaceklip2/lib/python3.11/site-packages/astropy/stats/sigma_clipping.py:438: AstropyUserWarning: Input data contains invalid values (NaNs or infs), which were automatically clipped.\n",
      "[py.warnings:WARNING]   warnings.warn(\n",
      "[py.warnings:WARNING] \n",
      "[py.warnings:WARNING] /Users/rkane/miniconda3/envs/spaceklip2/lib/python3.11/site-packages/astropy/stats/sigma_clipping.py:438: AstropyUserWarning: Input data contains invalid values (NaNs or infs), which were automatically clipped.\n",
      "[py.warnings:WARNING]   warnings.warn(\n",
      "[py.warnings:WARNING] \n",
      "[py.warnings:WARNING] /Users/rkane/miniconda3/envs/spaceklip2/lib/python3.11/site-packages/astropy/stats/sigma_clipping.py:438: AstropyUserWarning: Input data contains invalid values (NaNs or infs), which were automatically clipped.\n",
      "[py.warnings:WARNING]   warnings.warn(\n",
      "[py.warnings:WARNING] \n",
      "[py.warnings:WARNING] /Users/rkane/miniconda3/envs/spaceklip2/lib/python3.11/site-packages/astropy/stats/sigma_clipping.py:438: AstropyUserWarning: Input data contains invalid values (NaNs or infs), which were automatically clipped.\n",
      "[py.warnings:WARNING]   warnings.warn(\n",
      "[py.warnings:WARNING] \n",
      "[py.warnings:WARNING] /Users/rkane/miniconda3/envs/spaceklip2/lib/python3.11/site-packages/astropy/stats/sigma_clipping.py:438: AstropyUserWarning: Input data contains invalid values (NaNs or infs), which were automatically clipped.\n",
      "[py.warnings:WARNING]   warnings.warn(\n",
      "[py.warnings:WARNING] \n",
      "[py.warnings:WARNING] /Users/rkane/miniconda3/envs/spaceklip2/lib/python3.11/site-packages/astropy/stats/sigma_clipping.py:438: AstropyUserWarning: Input data contains invalid values (NaNs or infs), which were automatically clipped.\n",
      "[py.warnings:WARNING]   warnings.warn(\n",
      "[py.warnings:WARNING] \n",
      "[py.warnings:WARNING] /Users/rkane/miniconda3/envs/spaceklip2/lib/python3.11/site-packages/astropy/stats/sigma_clipping.py:438: AstropyUserWarning: Input data contains invalid values (NaNs or infs), which were automatically clipped.\n",
      "[py.warnings:WARNING]   warnings.warn(\n",
      "[py.warnings:WARNING] \n"
     ]
    },
    {
     "name": "stdout",
     "output_type": "stream",
     "text": [
      "[spaceKLIP.imagetools:INFO]   --> Median subtraction: mean of frame median = 6.20\n",
      "[spaceKLIP.imagetools:INFO]   --> Median subtraction: jw04451009001_03106_00001_nrca2_calints.fits\n"
     ]
    },
    {
     "name": "stderr",
     "output_type": "stream",
     "text": [
      "[py.warnings:WARNING] /Users/rkane/miniconda3/envs/spaceklip2/lib/python3.11/site-packages/astropy/stats/sigma_clipping.py:438: AstropyUserWarning: Input data contains invalid values (NaNs or infs), which were automatically clipped.\n",
      "[py.warnings:WARNING]   warnings.warn(\n",
      "[py.warnings:WARNING] \n",
      "[py.warnings:WARNING] /Users/rkane/miniconda3/envs/spaceklip2/lib/python3.11/site-packages/astropy/stats/sigma_clipping.py:438: AstropyUserWarning: Input data contains invalid values (NaNs or infs), which were automatically clipped.\n",
      "[py.warnings:WARNING]   warnings.warn(\n",
      "[py.warnings:WARNING] \n",
      "[py.warnings:WARNING] /Users/rkane/miniconda3/envs/spaceklip2/lib/python3.11/site-packages/astropy/stats/sigma_clipping.py:438: AstropyUserWarning: Input data contains invalid values (NaNs or infs), which were automatically clipped.\n",
      "[py.warnings:WARNING]   warnings.warn(\n",
      "[py.warnings:WARNING] \n",
      "[py.warnings:WARNING] /Users/rkane/miniconda3/envs/spaceklip2/lib/python3.11/site-packages/astropy/stats/sigma_clipping.py:438: AstropyUserWarning: Input data contains invalid values (NaNs or infs), which were automatically clipped.\n",
      "[py.warnings:WARNING]   warnings.warn(\n",
      "[py.warnings:WARNING] \n",
      "[py.warnings:WARNING] /Users/rkane/miniconda3/envs/spaceklip2/lib/python3.11/site-packages/astropy/stats/sigma_clipping.py:438: AstropyUserWarning: Input data contains invalid values (NaNs or infs), which were automatically clipped.\n",
      "[py.warnings:WARNING]   warnings.warn(\n",
      "[py.warnings:WARNING] \n",
      "[py.warnings:WARNING] /Users/rkane/miniconda3/envs/spaceklip2/lib/python3.11/site-packages/astropy/stats/sigma_clipping.py:438: AstropyUserWarning: Input data contains invalid values (NaNs or infs), which were automatically clipped.\n",
      "[py.warnings:WARNING]   warnings.warn(\n",
      "[py.warnings:WARNING] \n",
      "[py.warnings:WARNING] /Users/rkane/miniconda3/envs/spaceklip2/lib/python3.11/site-packages/astropy/stats/sigma_clipping.py:438: AstropyUserWarning: Input data contains invalid values (NaNs or infs), which were automatically clipped.\n",
      "[py.warnings:WARNING]   warnings.warn(\n",
      "[py.warnings:WARNING] \n",
      "[py.warnings:WARNING] /Users/rkane/miniconda3/envs/spaceklip2/lib/python3.11/site-packages/astropy/stats/sigma_clipping.py:438: AstropyUserWarning: Input data contains invalid values (NaNs or infs), which were automatically clipped.\n",
      "[py.warnings:WARNING]   warnings.warn(\n",
      "[py.warnings:WARNING] \n",
      "[py.warnings:WARNING] /Users/rkane/miniconda3/envs/spaceklip2/lib/python3.11/site-packages/astropy/stats/sigma_clipping.py:438: AstropyUserWarning: Input data contains invalid values (NaNs or infs), which were automatically clipped.\n",
      "[py.warnings:WARNING]   warnings.warn(\n",
      "[py.warnings:WARNING] \n",
      "[py.warnings:WARNING] /Users/rkane/miniconda3/envs/spaceklip2/lib/python3.11/site-packages/astropy/stats/sigma_clipping.py:438: AstropyUserWarning: Input data contains invalid values (NaNs or infs), which were automatically clipped.\n",
      "[py.warnings:WARNING]   warnings.warn(\n",
      "[py.warnings:WARNING] \n",
      "[py.warnings:WARNING] /Users/rkane/miniconda3/envs/spaceklip2/lib/python3.11/site-packages/astropy/stats/sigma_clipping.py:438: AstropyUserWarning: Input data contains invalid values (NaNs or infs), which were automatically clipped.\n",
      "[py.warnings:WARNING]   warnings.warn(\n",
      "[py.warnings:WARNING] \n",
      "[py.warnings:WARNING] /Users/rkane/miniconda3/envs/spaceklip2/lib/python3.11/site-packages/astropy/stats/sigma_clipping.py:438: AstropyUserWarning: Input data contains invalid values (NaNs or infs), which were automatically clipped.\n",
      "[py.warnings:WARNING]   warnings.warn(\n",
      "[py.warnings:WARNING] \n",
      "[py.warnings:WARNING] /Users/rkane/miniconda3/envs/spaceklip2/lib/python3.11/site-packages/astropy/stats/sigma_clipping.py:438: AstropyUserWarning: Input data contains invalid values (NaNs or infs), which were automatically clipped.\n",
      "[py.warnings:WARNING]   warnings.warn(\n",
      "[py.warnings:WARNING] \n",
      "[py.warnings:WARNING] /Users/rkane/miniconda3/envs/spaceklip2/lib/python3.11/site-packages/astropy/stats/sigma_clipping.py:438: AstropyUserWarning: Input data contains invalid values (NaNs or infs), which were automatically clipped.\n",
      "[py.warnings:WARNING]   warnings.warn(\n",
      "[py.warnings:WARNING] \n",
      "[py.warnings:WARNING] /Users/rkane/miniconda3/envs/spaceklip2/lib/python3.11/site-packages/astropy/stats/sigma_clipping.py:438: AstropyUserWarning: Input data contains invalid values (NaNs or infs), which were automatically clipped.\n",
      "[py.warnings:WARNING]   warnings.warn(\n",
      "[py.warnings:WARNING] \n",
      "[py.warnings:WARNING] /Users/rkane/miniconda3/envs/spaceklip2/lib/python3.11/site-packages/astropy/stats/sigma_clipping.py:438: AstropyUserWarning: Input data contains invalid values (NaNs or infs), which were automatically clipped.\n",
      "[py.warnings:WARNING]   warnings.warn(\n",
      "[py.warnings:WARNING] \n",
      "[py.warnings:WARNING] /Users/rkane/miniconda3/envs/spaceklip2/lib/python3.11/site-packages/astropy/stats/sigma_clipping.py:438: AstropyUserWarning: Input data contains invalid values (NaNs or infs), which were automatically clipped.\n",
      "[py.warnings:WARNING]   warnings.warn(\n",
      "[py.warnings:WARNING] \n",
      "[py.warnings:WARNING] /Users/rkane/miniconda3/envs/spaceklip2/lib/python3.11/site-packages/astropy/stats/sigma_clipping.py:438: AstropyUserWarning: Input data contains invalid values (NaNs or infs), which were automatically clipped.\n",
      "[py.warnings:WARNING]   warnings.warn(\n",
      "[py.warnings:WARNING] \n",
      "[py.warnings:WARNING] /Users/rkane/miniconda3/envs/spaceklip2/lib/python3.11/site-packages/astropy/stats/sigma_clipping.py:438: AstropyUserWarning: Input data contains invalid values (NaNs or infs), which were automatically clipped.\n",
      "[py.warnings:WARNING]   warnings.warn(\n",
      "[py.warnings:WARNING] \n",
      "[py.warnings:WARNING] /Users/rkane/miniconda3/envs/spaceklip2/lib/python3.11/site-packages/astropy/stats/sigma_clipping.py:438: AstropyUserWarning: Input data contains invalid values (NaNs or infs), which were automatically clipped.\n",
      "[py.warnings:WARNING]   warnings.warn(\n",
      "[py.warnings:WARNING] \n",
      "[py.warnings:WARNING] /Users/rkane/miniconda3/envs/spaceklip2/lib/python3.11/site-packages/astropy/stats/sigma_clipping.py:438: AstropyUserWarning: Input data contains invalid values (NaNs or infs), which were automatically clipped.\n",
      "[py.warnings:WARNING]   warnings.warn(\n",
      "[py.warnings:WARNING] \n",
      "[py.warnings:WARNING] /Users/rkane/miniconda3/envs/spaceklip2/lib/python3.11/site-packages/astropy/stats/sigma_clipping.py:438: AstropyUserWarning: Input data contains invalid values (NaNs or infs), which were automatically clipped.\n",
      "[py.warnings:WARNING]   warnings.warn(\n",
      "[py.warnings:WARNING] \n",
      "[py.warnings:WARNING] /Users/rkane/miniconda3/envs/spaceklip2/lib/python3.11/site-packages/astropy/stats/sigma_clipping.py:438: AstropyUserWarning: Input data contains invalid values (NaNs or infs), which were automatically clipped.\n",
      "[py.warnings:WARNING]   warnings.warn(\n",
      "[py.warnings:WARNING] \n"
     ]
    },
    {
     "name": "stdout",
     "output_type": "stream",
     "text": [
      "[spaceKLIP.imagetools:INFO]   --> Median subtraction: mean of frame median = 1.10\n",
      "[spaceKLIP.imagetools:INFO]   --> Median subtraction: jw04451010001_03106_00001_nrca2_calints.fits\n"
     ]
    },
    {
     "name": "stderr",
     "output_type": "stream",
     "text": [
      "[py.warnings:WARNING] /Users/rkane/miniconda3/envs/spaceklip2/lib/python3.11/site-packages/astropy/stats/sigma_clipping.py:438: AstropyUserWarning: Input data contains invalid values (NaNs or infs), which were automatically clipped.\n",
      "[py.warnings:WARNING]   warnings.warn(\n",
      "[py.warnings:WARNING] \n",
      "[py.warnings:WARNING] /Users/rkane/miniconda3/envs/spaceklip2/lib/python3.11/site-packages/astropy/stats/sigma_clipping.py:438: AstropyUserWarning: Input data contains invalid values (NaNs or infs), which were automatically clipped.\n",
      "[py.warnings:WARNING]   warnings.warn(\n",
      "[py.warnings:WARNING] \n",
      "[py.warnings:WARNING] /Users/rkane/miniconda3/envs/spaceklip2/lib/python3.11/site-packages/astropy/stats/sigma_clipping.py:438: AstropyUserWarning: Input data contains invalid values (NaNs or infs), which were automatically clipped.\n",
      "[py.warnings:WARNING]   warnings.warn(\n",
      "[py.warnings:WARNING] \n"
     ]
    },
    {
     "name": "stdout",
     "output_type": "stream",
     "text": [
      "[spaceKLIP.imagetools:INFO]   --> Median subtraction: mean of frame median = 0.48\n",
      "[spaceKLIP.imagetools:INFO]   --> Median subtraction: jw04451010001_03106_00002_nrca2_calints.fits\n"
     ]
    },
    {
     "name": "stderr",
     "output_type": "stream",
     "text": [
      "[py.warnings:WARNING] /Users/rkane/miniconda3/envs/spaceklip2/lib/python3.11/site-packages/astropy/stats/sigma_clipping.py:438: AstropyUserWarning: Input data contains invalid values (NaNs or infs), which were automatically clipped.\n",
      "[py.warnings:WARNING]   warnings.warn(\n",
      "[py.warnings:WARNING] \n",
      "[py.warnings:WARNING] /Users/rkane/miniconda3/envs/spaceklip2/lib/python3.11/site-packages/astropy/stats/sigma_clipping.py:438: AstropyUserWarning: Input data contains invalid values (NaNs or infs), which were automatically clipped.\n",
      "[py.warnings:WARNING]   warnings.warn(\n",
      "[py.warnings:WARNING] \n",
      "[py.warnings:WARNING] /Users/rkane/miniconda3/envs/spaceklip2/lib/python3.11/site-packages/astropy/stats/sigma_clipping.py:438: AstropyUserWarning: Input data contains invalid values (NaNs or infs), which were automatically clipped.\n",
      "[py.warnings:WARNING]   warnings.warn(\n",
      "[py.warnings:WARNING] \n"
     ]
    },
    {
     "name": "stdout",
     "output_type": "stream",
     "text": [
      "[spaceKLIP.imagetools:INFO]   --> Median subtraction: mean of frame median = 2.65\n",
      "[spaceKLIP.imagetools:INFO]   --> Median subtraction: jw04451010001_03106_00003_nrca2_calints.fits\n"
     ]
    },
    {
     "name": "stderr",
     "output_type": "stream",
     "text": [
      "[py.warnings:WARNING] /Users/rkane/miniconda3/envs/spaceklip2/lib/python3.11/site-packages/astropy/stats/sigma_clipping.py:438: AstropyUserWarning: Input data contains invalid values (NaNs or infs), which were automatically clipped.\n",
      "[py.warnings:WARNING]   warnings.warn(\n",
      "[py.warnings:WARNING] \n",
      "[py.warnings:WARNING] /Users/rkane/miniconda3/envs/spaceklip2/lib/python3.11/site-packages/astropy/stats/sigma_clipping.py:438: AstropyUserWarning: Input data contains invalid values (NaNs or infs), which were automatically clipped.\n",
      "[py.warnings:WARNING]   warnings.warn(\n",
      "[py.warnings:WARNING] \n",
      "[py.warnings:WARNING] /Users/rkane/miniconda3/envs/spaceklip2/lib/python3.11/site-packages/astropy/stats/sigma_clipping.py:438: AstropyUserWarning: Input data contains invalid values (NaNs or infs), which were automatically clipped.\n",
      "[py.warnings:WARNING]   warnings.warn(\n",
      "[py.warnings:WARNING] \n"
     ]
    },
    {
     "name": "stdout",
     "output_type": "stream",
     "text": [
      "[spaceKLIP.imagetools:INFO]   --> Median subtraction: mean of frame median = 1.27\n",
      "[spaceKLIP.imagetools:INFO]   --> Median subtraction: jw04451010001_03106_00004_nrca2_calints.fits\n"
     ]
    },
    {
     "name": "stderr",
     "output_type": "stream",
     "text": [
      "[py.warnings:WARNING] /Users/rkane/miniconda3/envs/spaceklip2/lib/python3.11/site-packages/astropy/stats/sigma_clipping.py:438: AstropyUserWarning: Input data contains invalid values (NaNs or infs), which were automatically clipped.\n",
      "[py.warnings:WARNING]   warnings.warn(\n",
      "[py.warnings:WARNING] \n",
      "[py.warnings:WARNING] /Users/rkane/miniconda3/envs/spaceklip2/lib/python3.11/site-packages/astropy/stats/sigma_clipping.py:438: AstropyUserWarning: Input data contains invalid values (NaNs or infs), which were automatically clipped.\n",
      "[py.warnings:WARNING]   warnings.warn(\n",
      "[py.warnings:WARNING] \n",
      "[py.warnings:WARNING] /Users/rkane/miniconda3/envs/spaceklip2/lib/python3.11/site-packages/astropy/stats/sigma_clipping.py:438: AstropyUserWarning: Input data contains invalid values (NaNs or infs), which were automatically clipped.\n",
      "[py.warnings:WARNING]   warnings.warn(\n",
      "[py.warnings:WARNING] \n"
     ]
    },
    {
     "name": "stdout",
     "output_type": "stream",
     "text": [
      "[spaceKLIP.imagetools:INFO]   --> Median subtraction: mean of frame median = 1.09\n",
      "[spaceKLIP.imagetools:INFO]   --> Median subtraction: jw04451010001_03106_00005_nrca2_calints.fits\n"
     ]
    },
    {
     "name": "stderr",
     "output_type": "stream",
     "text": [
      "[py.warnings:WARNING] /Users/rkane/miniconda3/envs/spaceklip2/lib/python3.11/site-packages/astropy/stats/sigma_clipping.py:438: AstropyUserWarning: Input data contains invalid values (NaNs or infs), which were automatically clipped.\n",
      "[py.warnings:WARNING]   warnings.warn(\n",
      "[py.warnings:WARNING] \n",
      "[py.warnings:WARNING] /Users/rkane/miniconda3/envs/spaceklip2/lib/python3.11/site-packages/astropy/stats/sigma_clipping.py:438: AstropyUserWarning: Input data contains invalid values (NaNs or infs), which were automatically clipped.\n",
      "[py.warnings:WARNING]   warnings.warn(\n",
      "[py.warnings:WARNING] \n",
      "[py.warnings:WARNING] /Users/rkane/miniconda3/envs/spaceklip2/lib/python3.11/site-packages/astropy/stats/sigma_clipping.py:438: AstropyUserWarning: Input data contains invalid values (NaNs or infs), which were automatically clipped.\n",
      "[py.warnings:WARNING]   warnings.warn(\n",
      "[py.warnings:WARNING] \n"
     ]
    },
    {
     "name": "stdout",
     "output_type": "stream",
     "text": [
      "[spaceKLIP.imagetools:INFO]   --> Median subtraction: mean of frame median = 0.57\n",
      "[spaceKLIP.imagetools:INFO]   --> Median subtraction: jw04451010001_03106_00006_nrca2_calints.fits\n"
     ]
    },
    {
     "name": "stderr",
     "output_type": "stream",
     "text": [
      "[py.warnings:WARNING] /Users/rkane/miniconda3/envs/spaceklip2/lib/python3.11/site-packages/astropy/stats/sigma_clipping.py:438: AstropyUserWarning: Input data contains invalid values (NaNs or infs), which were automatically clipped.\n",
      "[py.warnings:WARNING]   warnings.warn(\n",
      "[py.warnings:WARNING] \n",
      "[py.warnings:WARNING] /Users/rkane/miniconda3/envs/spaceklip2/lib/python3.11/site-packages/astropy/stats/sigma_clipping.py:438: AstropyUserWarning: Input data contains invalid values (NaNs or infs), which were automatically clipped.\n",
      "[py.warnings:WARNING]   warnings.warn(\n",
      "[py.warnings:WARNING] \n",
      "[py.warnings:WARNING] /Users/rkane/miniconda3/envs/spaceklip2/lib/python3.11/site-packages/astropy/stats/sigma_clipping.py:438: AstropyUserWarning: Input data contains invalid values (NaNs or infs), which were automatically clipped.\n",
      "[py.warnings:WARNING]   warnings.warn(\n",
      "[py.warnings:WARNING] \n"
     ]
    },
    {
     "name": "stdout",
     "output_type": "stream",
     "text": [
      "[spaceKLIP.imagetools:INFO]   --> Median subtraction: mean of frame median = 0.49\n",
      "[spaceKLIP.imagetools:INFO]   --> Median subtraction: jw04451010001_03106_00007_nrca2_calints.fits\n"
     ]
    },
    {
     "name": "stderr",
     "output_type": "stream",
     "text": [
      "[py.warnings:WARNING] /Users/rkane/miniconda3/envs/spaceklip2/lib/python3.11/site-packages/astropy/stats/sigma_clipping.py:438: AstropyUserWarning: Input data contains invalid values (NaNs or infs), which were automatically clipped.\n",
      "[py.warnings:WARNING]   warnings.warn(\n",
      "[py.warnings:WARNING] \n",
      "[py.warnings:WARNING] /Users/rkane/miniconda3/envs/spaceklip2/lib/python3.11/site-packages/astropy/stats/sigma_clipping.py:438: AstropyUserWarning: Input data contains invalid values (NaNs or infs), which were automatically clipped.\n",
      "[py.warnings:WARNING]   warnings.warn(\n",
      "[py.warnings:WARNING] \n",
      "[py.warnings:WARNING] /Users/rkane/miniconda3/envs/spaceklip2/lib/python3.11/site-packages/astropy/stats/sigma_clipping.py:438: AstropyUserWarning: Input data contains invalid values (NaNs or infs), which were automatically clipped.\n",
      "[py.warnings:WARNING]   warnings.warn(\n",
      "[py.warnings:WARNING] \n"
     ]
    },
    {
     "name": "stdout",
     "output_type": "stream",
     "text": [
      "[spaceKLIP.imagetools:INFO]   --> Median subtraction: mean of frame median = 1.84\n",
      "[spaceKLIP.imagetools:INFO]   --> Median subtraction: jw04451010001_03106_00008_nrca2_calints.fits\n"
     ]
    },
    {
     "name": "stderr",
     "output_type": "stream",
     "text": [
      "[py.warnings:WARNING] /Users/rkane/miniconda3/envs/spaceklip2/lib/python3.11/site-packages/astropy/stats/sigma_clipping.py:438: AstropyUserWarning: Input data contains invalid values (NaNs or infs), which were automatically clipped.\n",
      "[py.warnings:WARNING]   warnings.warn(\n",
      "[py.warnings:WARNING] \n",
      "[py.warnings:WARNING] /Users/rkane/miniconda3/envs/spaceklip2/lib/python3.11/site-packages/astropy/stats/sigma_clipping.py:438: AstropyUserWarning: Input data contains invalid values (NaNs or infs), which were automatically clipped.\n",
      "[py.warnings:WARNING]   warnings.warn(\n",
      "[py.warnings:WARNING] \n",
      "[py.warnings:WARNING] /Users/rkane/miniconda3/envs/spaceklip2/lib/python3.11/site-packages/astropy/stats/sigma_clipping.py:438: AstropyUserWarning: Input data contains invalid values (NaNs or infs), which were automatically clipped.\n",
      "[py.warnings:WARNING]   warnings.warn(\n",
      "[py.warnings:WARNING] \n"
     ]
    },
    {
     "name": "stdout",
     "output_type": "stream",
     "text": [
      "[spaceKLIP.imagetools:INFO]   --> Median subtraction: mean of frame median = 1.38\n",
      "[spaceKLIP.imagetools:INFO]   --> Median subtraction: jw04451010001_03106_00009_nrca2_calints.fits\n"
     ]
    },
    {
     "name": "stderr",
     "output_type": "stream",
     "text": [
      "[py.warnings:WARNING] /Users/rkane/miniconda3/envs/spaceklip2/lib/python3.11/site-packages/astropy/stats/sigma_clipping.py:438: AstropyUserWarning: Input data contains invalid values (NaNs or infs), which were automatically clipped.\n",
      "[py.warnings:WARNING]   warnings.warn(\n",
      "[py.warnings:WARNING] \n",
      "[py.warnings:WARNING] /Users/rkane/miniconda3/envs/spaceklip2/lib/python3.11/site-packages/astropy/stats/sigma_clipping.py:438: AstropyUserWarning: Input data contains invalid values (NaNs or infs), which were automatically clipped.\n",
      "[py.warnings:WARNING]   warnings.warn(\n",
      "[py.warnings:WARNING] \n",
      "[py.warnings:WARNING] /Users/rkane/miniconda3/envs/spaceklip2/lib/python3.11/site-packages/astropy/stats/sigma_clipping.py:438: AstropyUserWarning: Input data contains invalid values (NaNs or infs), which were automatically clipped.\n",
      "[py.warnings:WARNING]   warnings.warn(\n",
      "[py.warnings:WARNING] \n"
     ]
    },
    {
     "name": "stdout",
     "output_type": "stream",
     "text": [
      "[spaceKLIP.imagetools:INFO]   --> Median subtraction: mean of frame median = 2.05\n",
      "[spaceKLIP.imagetools:INFO]   --> Median subtraction: jw04454002001_03106_00001_nrca2_calints.fits\n"
     ]
    },
    {
     "name": "stderr",
     "output_type": "stream",
     "text": [
      "[py.warnings:WARNING] /Users/rkane/miniconda3/envs/spaceklip2/lib/python3.11/site-packages/astropy/stats/sigma_clipping.py:438: AstropyUserWarning: Input data contains invalid values (NaNs or infs), which were automatically clipped.\n",
      "[py.warnings:WARNING]   warnings.warn(\n",
      "[py.warnings:WARNING] \n",
      "[py.warnings:WARNING] /Users/rkane/miniconda3/envs/spaceklip2/lib/python3.11/site-packages/astropy/stats/sigma_clipping.py:438: AstropyUserWarning: Input data contains invalid values (NaNs or infs), which were automatically clipped.\n",
      "[py.warnings:WARNING]   warnings.warn(\n",
      "[py.warnings:WARNING] \n"
     ]
    },
    {
     "name": "stdout",
     "output_type": "stream",
     "text": [
      "[spaceKLIP.imagetools:INFO]   --> Median subtraction: mean of frame median = 0.29\n",
      "[spaceKLIP.imagetools:INFO]   --> Median subtraction: jw04454002001_03106_00002_nrca2_calints.fits\n"
     ]
    },
    {
     "name": "stderr",
     "output_type": "stream",
     "text": [
      "[py.warnings:WARNING] /Users/rkane/miniconda3/envs/spaceklip2/lib/python3.11/site-packages/astropy/stats/sigma_clipping.py:438: AstropyUserWarning: Input data contains invalid values (NaNs or infs), which were automatically clipped.\n",
      "[py.warnings:WARNING]   warnings.warn(\n",
      "[py.warnings:WARNING] \n",
      "[py.warnings:WARNING] /Users/rkane/miniconda3/envs/spaceklip2/lib/python3.11/site-packages/astropy/stats/sigma_clipping.py:438: AstropyUserWarning: Input data contains invalid values (NaNs or infs), which were automatically clipped.\n",
      "[py.warnings:WARNING]   warnings.warn(\n",
      "[py.warnings:WARNING] \n"
     ]
    },
    {
     "name": "stdout",
     "output_type": "stream",
     "text": [
      "[spaceKLIP.imagetools:INFO]   --> Median subtraction: mean of frame median = 0.52\n",
      "[spaceKLIP.imagetools:INFO]   --> Median subtraction: jw04454002001_03106_00003_nrca2_calints.fits\n"
     ]
    },
    {
     "name": "stderr",
     "output_type": "stream",
     "text": [
      "[py.warnings:WARNING] /Users/rkane/miniconda3/envs/spaceklip2/lib/python3.11/site-packages/astropy/stats/sigma_clipping.py:438: AstropyUserWarning: Input data contains invalid values (NaNs or infs), which were automatically clipped.\n",
      "[py.warnings:WARNING]   warnings.warn(\n",
      "[py.warnings:WARNING] \n",
      "[py.warnings:WARNING] /Users/rkane/miniconda3/envs/spaceklip2/lib/python3.11/site-packages/astropy/stats/sigma_clipping.py:438: AstropyUserWarning: Input data contains invalid values (NaNs or infs), which were automatically clipped.\n",
      "[py.warnings:WARNING]   warnings.warn(\n",
      "[py.warnings:WARNING] \n"
     ]
    },
    {
     "name": "stdout",
     "output_type": "stream",
     "text": [
      "[spaceKLIP.imagetools:INFO]   --> Median subtraction: mean of frame median = 0.31\n",
      "[spaceKLIP.imagetools:INFO]   --> Median subtraction: jw04454002001_03106_00004_nrca2_calints.fits\n"
     ]
    },
    {
     "name": "stderr",
     "output_type": "stream",
     "text": [
      "[py.warnings:WARNING] /Users/rkane/miniconda3/envs/spaceklip2/lib/python3.11/site-packages/astropy/stats/sigma_clipping.py:438: AstropyUserWarning: Input data contains invalid values (NaNs or infs), which were automatically clipped.\n",
      "[py.warnings:WARNING]   warnings.warn(\n",
      "[py.warnings:WARNING] \n",
      "[py.warnings:WARNING] /Users/rkane/miniconda3/envs/spaceklip2/lib/python3.11/site-packages/astropy/stats/sigma_clipping.py:438: AstropyUserWarning: Input data contains invalid values (NaNs or infs), which were automatically clipped.\n",
      "[py.warnings:WARNING]   warnings.warn(\n",
      "[py.warnings:WARNING] \n"
     ]
    },
    {
     "name": "stdout",
     "output_type": "stream",
     "text": [
      "[spaceKLIP.imagetools:INFO]   --> Median subtraction: mean of frame median = 0.40\n",
      "[spaceKLIP.imagetools:INFO]   --> Median subtraction: jw04454002001_03106_00005_nrca2_calints.fits\n"
     ]
    },
    {
     "name": "stderr",
     "output_type": "stream",
     "text": [
      "[py.warnings:WARNING] /Users/rkane/miniconda3/envs/spaceklip2/lib/python3.11/site-packages/astropy/stats/sigma_clipping.py:438: AstropyUserWarning: Input data contains invalid values (NaNs or infs), which were automatically clipped.\n",
      "[py.warnings:WARNING]   warnings.warn(\n",
      "[py.warnings:WARNING] \n",
      "[py.warnings:WARNING] /Users/rkane/miniconda3/envs/spaceklip2/lib/python3.11/site-packages/astropy/stats/sigma_clipping.py:438: AstropyUserWarning: Input data contains invalid values (NaNs or infs), which were automatically clipped.\n",
      "[py.warnings:WARNING]   warnings.warn(\n",
      "[py.warnings:WARNING] \n"
     ]
    },
    {
     "name": "stdout",
     "output_type": "stream",
     "text": [
      "[spaceKLIP.imagetools:INFO]   --> Median subtraction: mean of frame median = 0.47\n",
      "[spaceKLIP.imagetools:INFO]   --> Median subtraction: jw04454002001_03106_00006_nrca2_calints.fits\n"
     ]
    },
    {
     "name": "stderr",
     "output_type": "stream",
     "text": [
      "[py.warnings:WARNING] /Users/rkane/miniconda3/envs/spaceklip2/lib/python3.11/site-packages/astropy/stats/sigma_clipping.py:438: AstropyUserWarning: Input data contains invalid values (NaNs or infs), which were automatically clipped.\n",
      "[py.warnings:WARNING]   warnings.warn(\n",
      "[py.warnings:WARNING] \n",
      "[py.warnings:WARNING] /Users/rkane/miniconda3/envs/spaceklip2/lib/python3.11/site-packages/astropy/stats/sigma_clipping.py:438: AstropyUserWarning: Input data contains invalid values (NaNs or infs), which were automatically clipped.\n",
      "[py.warnings:WARNING]   warnings.warn(\n",
      "[py.warnings:WARNING] \n"
     ]
    },
    {
     "name": "stdout",
     "output_type": "stream",
     "text": [
      "[spaceKLIP.imagetools:INFO]   --> Median subtraction: mean of frame median = 0.66\n",
      "[spaceKLIP.imagetools:INFO]   --> Median subtraction: jw04454002001_03106_00007_nrca2_calints.fits\n"
     ]
    },
    {
     "name": "stderr",
     "output_type": "stream",
     "text": [
      "[py.warnings:WARNING] /Users/rkane/miniconda3/envs/spaceklip2/lib/python3.11/site-packages/astropy/stats/sigma_clipping.py:438: AstropyUserWarning: Input data contains invalid values (NaNs or infs), which were automatically clipped.\n",
      "[py.warnings:WARNING]   warnings.warn(\n",
      "[py.warnings:WARNING] \n",
      "[py.warnings:WARNING] /Users/rkane/miniconda3/envs/spaceklip2/lib/python3.11/site-packages/astropy/stats/sigma_clipping.py:438: AstropyUserWarning: Input data contains invalid values (NaNs or infs), which were automatically clipped.\n",
      "[py.warnings:WARNING]   warnings.warn(\n",
      "[py.warnings:WARNING] \n"
     ]
    },
    {
     "name": "stdout",
     "output_type": "stream",
     "text": [
      "[spaceKLIP.imagetools:INFO]   --> Median subtraction: mean of frame median = 0.77\n",
      "[spaceKLIP.imagetools:INFO]   --> Median subtraction: jw04454002001_03106_00008_nrca2_calints.fits\n"
     ]
    },
    {
     "name": "stderr",
     "output_type": "stream",
     "text": [
      "[py.warnings:WARNING] /Users/rkane/miniconda3/envs/spaceklip2/lib/python3.11/site-packages/astropy/stats/sigma_clipping.py:438: AstropyUserWarning: Input data contains invalid values (NaNs or infs), which were automatically clipped.\n",
      "[py.warnings:WARNING]   warnings.warn(\n",
      "[py.warnings:WARNING] \n",
      "[py.warnings:WARNING] /Users/rkane/miniconda3/envs/spaceklip2/lib/python3.11/site-packages/astropy/stats/sigma_clipping.py:438: AstropyUserWarning: Input data contains invalid values (NaNs or infs), which were automatically clipped.\n",
      "[py.warnings:WARNING]   warnings.warn(\n",
      "[py.warnings:WARNING] \n"
     ]
    },
    {
     "name": "stdout",
     "output_type": "stream",
     "text": [
      "[spaceKLIP.imagetools:INFO]   --> Median subtraction: mean of frame median = 0.58\n",
      "[spaceKLIP.imagetools:INFO]   --> Median subtraction: jw04454002001_03106_00009_nrca2_calints.fits\n"
     ]
    },
    {
     "name": "stderr",
     "output_type": "stream",
     "text": [
      "[py.warnings:WARNING] /Users/rkane/miniconda3/envs/spaceklip2/lib/python3.11/site-packages/astropy/stats/sigma_clipping.py:438: AstropyUserWarning: Input data contains invalid values (NaNs or infs), which were automatically clipped.\n",
      "[py.warnings:WARNING]   warnings.warn(\n",
      "[py.warnings:WARNING] \n",
      "[py.warnings:WARNING] /Users/rkane/miniconda3/envs/spaceklip2/lib/python3.11/site-packages/astropy/stats/sigma_clipping.py:438: AstropyUserWarning: Input data contains invalid values (NaNs or infs), which were automatically clipped.\n",
      "[py.warnings:WARNING]   warnings.warn(\n",
      "[py.warnings:WARNING] \n"
     ]
    },
    {
     "name": "stdout",
     "output_type": "stream",
     "text": [
      "[spaceKLIP.imagetools:INFO]   --> Median subtraction: mean of frame median = 0.79\n",
      "[spaceKLIP.imagetools:INFO] --> Concatenation JWST_NIRCAM_NRCA2_F210M_MASKRND_MASK210R_SUB640A210R\n",
      "[spaceKLIP.imagetools:INFO]   --> Method bpclean: jw04454001001_03106_00001_nrca2_calints.fits\n",
      "Frame 18/18, iteration 3\n",
      "[spaceKLIP.imagetools:INFO]   --> Method bpclean: identified 14116 additional bad pixel(s) -- 0.19%\n",
      "[spaceKLIP.imagetools:INFO]   --> Method timemed: jw04454001001_03106_00001_nrca2_calints.fits\n",
      "[spaceKLIP.imagetools:INFO]   --> Method timemed: fixing 14632 bad pixel(s) -- 0.20%\n"
     ]
    },
    {
     "name": "stderr",
     "output_type": "stream",
     "text": [
      "[py.warnings:WARNING] /Users/rkane/Documents/spaceklip_repos/spaceKLIP/spaceKLIP/imagetools.py:1136: RuntimeWarning: All-NaN slice encountered\n",
      "[py.warnings:WARNING]   data[ww_not_all_bad] = np.array([np.nanmedian(data, axis=0)] * data.shape[0])[ww_not_all_bad]\n",
      "[py.warnings:WARNING] \n",
      "[py.warnings:WARNING] /Users/rkane/Documents/spaceklip_repos/spaceKLIP/spaceKLIP/imagetools.py:1138: RuntimeWarning: All-NaN slice encountered\n",
      "[py.warnings:WARNING]   erro[ww_not_all_bad] = np.array([np.nanmedian(erro, axis=0)] * erro.shape[0])[ww_not_all_bad]\n",
      "[py.warnings:WARNING] \n"
     ]
    },
    {
     "name": "stdout",
     "output_type": "stream",
     "text": [
      "[spaceKLIP.imagetools:INFO]   --> Method dqmed: jw04454001001_03106_00001_nrca2_calints.fits\n",
      "[spaceKLIP.imagetools:INFO]   --> Method dqmed: fixing 3960 bad pixel(s) -- 0.05%\n",
      "[spaceKLIP.imagetools:INFO]   --> Method medfilt: jw04454001001_03106_00001_nrca2_calints.fits\n",
      "[spaceKLIP.imagetools:INFO]   --> Method medfilt: fixing 0 bad pixel(s) -- 0.00%\n",
      "[spaceKLIP.imagetools:INFO]   --> Method bpclean: jw01411027001_03105_00001_nrca2_calints.fits\n",
      "Frame 10/10, iteration 3\n",
      "[spaceKLIP.imagetools:INFO]   --> Method bpclean: identified 6868 additional bad pixel(s) -- 0.17%\n",
      "[spaceKLIP.imagetools:INFO]   --> Method timemed: jw01411027001_03105_00001_nrca2_calints.fits\n",
      "[spaceKLIP.imagetools:INFO]   --> Method timemed: fixing 6876 bad pixel(s) -- 0.17%\n",
      "[spaceKLIP.imagetools:INFO]   --> Method dqmed: jw01411027001_03105_00001_nrca2_calints.fits\n",
      "[spaceKLIP.imagetools:INFO]   --> Method dqmed: fixing 2210 bad pixel(s) -- 0.05%\n",
      "[spaceKLIP.imagetools:INFO]   --> Method medfilt: jw01411027001_03105_00001_nrca2_calints.fits\n",
      "[spaceKLIP.imagetools:INFO]   --> Method medfilt: fixing 0 bad pixel(s) -- 0.00%\n",
      "[spaceKLIP.imagetools:INFO]   --> Method bpclean: jw01411027001_03105_00002_nrca2_calints.fits\n",
      "Frame 10/10, iteration 3\n",
      "[spaceKLIP.imagetools:INFO]   --> Method bpclean: identified 7088 additional bad pixel(s) -- 0.17%\n",
      "[spaceKLIP.imagetools:INFO]   --> Method timemed: jw01411027001_03105_00002_nrca2_calints.fits\n",
      "[spaceKLIP.imagetools:INFO]   --> Method timemed: fixing 7104 bad pixel(s) -- 0.17%\n",
      "[spaceKLIP.imagetools:INFO]   --> Method dqmed: jw01411027001_03105_00002_nrca2_calints.fits\n",
      "[spaceKLIP.imagetools:INFO]   --> Method dqmed: fixing 2200 bad pixel(s) -- 0.05%\n",
      "[spaceKLIP.imagetools:INFO]   --> Method medfilt: jw01411027001_03105_00002_nrca2_calints.fits\n",
      "[spaceKLIP.imagetools:INFO]   --> Method medfilt: fixing 0 bad pixel(s) -- 0.00%\n",
      "[spaceKLIP.imagetools:INFO]   --> Method bpclean: jw01411027001_03105_00003_nrca2_calints.fits\n",
      "Frame 10/10, iteration 3\n",
      "[spaceKLIP.imagetools:INFO]   --> Method bpclean: identified 6925 additional bad pixel(s) -- 0.17%\n",
      "[spaceKLIP.imagetools:INFO]   --> Method timemed: jw01411027001_03105_00003_nrca2_calints.fits\n",
      "[spaceKLIP.imagetools:INFO]   --> Method timemed: fixing 6937 bad pixel(s) -- 0.17%\n",
      "[spaceKLIP.imagetools:INFO]   --> Method dqmed: jw01411027001_03105_00003_nrca2_calints.fits\n",
      "[spaceKLIP.imagetools:INFO]   --> Method dqmed: fixing 2200 bad pixel(s) -- 0.05%\n",
      "[spaceKLIP.imagetools:INFO]   --> Method medfilt: jw01411027001_03105_00003_nrca2_calints.fits\n",
      "[spaceKLIP.imagetools:INFO]   --> Method medfilt: fixing 0 bad pixel(s) -- 0.00%\n",
      "[spaceKLIP.imagetools:INFO]   --> Method bpclean: jw01411027001_03105_00004_nrca2_calints.fits\n",
      "Frame 10/10, iteration 3\n",
      "[spaceKLIP.imagetools:INFO]   --> Method bpclean: identified 6832 additional bad pixel(s) -- 0.17%\n",
      "[spaceKLIP.imagetools:INFO]   --> Method timemed: jw01411027001_03105_00004_nrca2_calints.fits\n",
      "[spaceKLIP.imagetools:INFO]   --> Method timemed: fixing 6844 bad pixel(s) -- 0.17%\n",
      "[spaceKLIP.imagetools:INFO]   --> Method dqmed: jw01411027001_03105_00004_nrca2_calints.fits\n",
      "[spaceKLIP.imagetools:INFO]   --> Method dqmed: fixing 2200 bad pixel(s) -- 0.05%\n",
      "[spaceKLIP.imagetools:INFO]   --> Method medfilt: jw01411027001_03105_00004_nrca2_calints.fits\n",
      "[spaceKLIP.imagetools:INFO]   --> Method medfilt: fixing 0 bad pixel(s) -- 0.00%\n",
      "[spaceKLIP.imagetools:INFO]   --> Method bpclean: jw01411027001_03105_00005_nrca2_calints.fits\n",
      "Frame 10/10, iteration 3\n",
      "[spaceKLIP.imagetools:INFO]   --> Method bpclean: identified 6994 additional bad pixel(s) -- 0.17%\n",
      "[spaceKLIP.imagetools:INFO]   --> Method timemed: jw01411027001_03105_00005_nrca2_calints.fits\n",
      "[spaceKLIP.imagetools:INFO]   --> Method timemed: fixing 7013 bad pixel(s) -- 0.17%\n",
      "[spaceKLIP.imagetools:INFO]   --> Method dqmed: jw01411027001_03105_00005_nrca2_calints.fits\n",
      "[spaceKLIP.imagetools:INFO]   --> Method dqmed: fixing 2200 bad pixel(s) -- 0.05%\n",
      "[spaceKLIP.imagetools:INFO]   --> Method medfilt: jw01411027001_03105_00005_nrca2_calints.fits\n",
      "[spaceKLIP.imagetools:INFO]   --> Method medfilt: fixing 0 bad pixel(s) -- 0.00%\n",
      "[spaceKLIP.imagetools:INFO]   --> Method bpclean: jw04451009001_03106_00001_nrca2_calints.fits\n",
      "Frame 23/23, iteration 3\n",
      "[spaceKLIP.imagetools:INFO]   --> Method bpclean: identified 17199 additional bad pixel(s) -- 0.18%\n",
      "[spaceKLIP.imagetools:INFO]   --> Method timemed: jw04451009001_03106_00001_nrca2_calints.fits\n",
      "[spaceKLIP.imagetools:INFO]   --> Method timemed: fixing 17251 bad pixel(s) -- 0.18%\n",
      "[spaceKLIP.imagetools:INFO]   --> Method dqmed: jw04451009001_03106_00001_nrca2_calints.fits\n",
      "[spaceKLIP.imagetools:INFO]   --> Method dqmed: fixing 5060 bad pixel(s) -- 0.05%\n",
      "[spaceKLIP.imagetools:INFO]   --> Method medfilt: jw04451009001_03106_00001_nrca2_calints.fits\n",
      "[spaceKLIP.imagetools:INFO]   --> Method medfilt: fixing 0 bad pixel(s) -- 0.00%\n",
      "[spaceKLIP.imagetools:INFO]   --> Method bpclean: jw04451010001_03106_00001_nrca2_calints.fits\n",
      "Frame 3/3, iteration 3\n",
      "[spaceKLIP.imagetools:INFO]   --> Method bpclean: identified 2298 additional bad pixel(s) -- 0.19%\n",
      "[spaceKLIP.imagetools:INFO]   --> Method timemed: jw04451010001_03106_00001_nrca2_calints.fits\n",
      "[spaceKLIP.imagetools:INFO]   --> Method timemed: fixing 2299 bad pixel(s) -- 0.19%\n",
      "[spaceKLIP.imagetools:INFO]   --> Method dqmed: jw04451010001_03106_00001_nrca2_calints.fits\n",
      "[spaceKLIP.imagetools:INFO]   --> Method dqmed: fixing 669 bad pixel(s) -- 0.05%\n",
      "[spaceKLIP.imagetools:INFO]   --> Method medfilt: jw04451010001_03106_00001_nrca2_calints.fits\n",
      "[spaceKLIP.imagetools:INFO]   --> Method medfilt: fixing 0 bad pixel(s) -- 0.00%\n",
      "[spaceKLIP.imagetools:INFO]   --> Method bpclean: jw04451010001_03106_00002_nrca2_calints.fits\n",
      "Frame 3/3, iteration 3\n",
      "[spaceKLIP.imagetools:INFO]   --> Method bpclean: identified 2239 additional bad pixel(s) -- 0.18%\n",
      "[spaceKLIP.imagetools:INFO]   --> Method timemed: jw04451010001_03106_00002_nrca2_calints.fits\n",
      "[spaceKLIP.imagetools:INFO]   --> Method timemed: fixing 2244 bad pixel(s) -- 0.18%\n",
      "[spaceKLIP.imagetools:INFO]   --> Method dqmed: jw04451010001_03106_00002_nrca2_calints.fits\n",
      "[spaceKLIP.imagetools:INFO]   --> Method dqmed: fixing 666 bad pixel(s) -- 0.05%\n",
      "[spaceKLIP.imagetools:INFO]   --> Method medfilt: jw04451010001_03106_00002_nrca2_calints.fits\n",
      "[spaceKLIP.imagetools:INFO]   --> Method medfilt: fixing 0 bad pixel(s) -- 0.00%\n",
      "[spaceKLIP.imagetools:INFO]   --> Method bpclean: jw04451010001_03106_00003_nrca2_calints.fits\n",
      "Frame 3/3, iteration 3\n",
      "[spaceKLIP.imagetools:INFO]   --> Method bpclean: identified 2237 additional bad pixel(s) -- 0.18%\n",
      "[spaceKLIP.imagetools:INFO]   --> Method timemed: jw04451010001_03106_00003_nrca2_calints.fits\n",
      "[spaceKLIP.imagetools:INFO]   --> Method timemed: fixing 2246 bad pixel(s) -- 0.18%\n",
      "[spaceKLIP.imagetools:INFO]   --> Method dqmed: jw04451010001_03106_00003_nrca2_calints.fits\n",
      "[spaceKLIP.imagetools:INFO]   --> Method dqmed: fixing 663 bad pixel(s) -- 0.05%\n",
      "[spaceKLIP.imagetools:INFO]   --> Method medfilt: jw04451010001_03106_00003_nrca2_calints.fits\n",
      "[spaceKLIP.imagetools:INFO]   --> Method medfilt: fixing 0 bad pixel(s) -- 0.00%\n",
      "[spaceKLIP.imagetools:INFO]   --> Method bpclean: jw04451010001_03106_00004_nrca2_calints.fits\n",
      "Frame 3/3, iteration 3\n",
      "[spaceKLIP.imagetools:INFO]   --> Method bpclean: identified 2305 additional bad pixel(s) -- 0.19%\n",
      "[spaceKLIP.imagetools:INFO]   --> Method timemed: jw04451010001_03106_00004_nrca2_calints.fits\n",
      "[spaceKLIP.imagetools:INFO]   --> Method timemed: fixing 2314 bad pixel(s) -- 0.19%\n",
      "[spaceKLIP.imagetools:INFO]   --> Method dqmed: jw04451010001_03106_00004_nrca2_calints.fits\n",
      "[spaceKLIP.imagetools:INFO]   --> Method dqmed: fixing 663 bad pixel(s) -- 0.05%\n",
      "[spaceKLIP.imagetools:INFO]   --> Method medfilt: jw04451010001_03106_00004_nrca2_calints.fits\n",
      "[spaceKLIP.imagetools:INFO]   --> Method medfilt: fixing 0 bad pixel(s) -- 0.00%\n",
      "[spaceKLIP.imagetools:INFO]   --> Method bpclean: jw04451010001_03106_00005_nrca2_calints.fits\n",
      "Frame 3/3, iteration 3\n",
      "[spaceKLIP.imagetools:INFO]   --> Method bpclean: identified 2182 additional bad pixel(s) -- 0.18%\n",
      "[spaceKLIP.imagetools:INFO]   --> Method timemed: jw04451010001_03106_00005_nrca2_calints.fits\n",
      "[spaceKLIP.imagetools:INFO]   --> Method timemed: fixing 2183 bad pixel(s) -- 0.18%\n",
      "[spaceKLIP.imagetools:INFO]   --> Method dqmed: jw04451010001_03106_00005_nrca2_calints.fits\n",
      "[spaceKLIP.imagetools:INFO]   --> Method dqmed: fixing 663 bad pixel(s) -- 0.05%\n",
      "[spaceKLIP.imagetools:INFO]   --> Method medfilt: jw04451010001_03106_00005_nrca2_calints.fits\n",
      "[spaceKLIP.imagetools:INFO]   --> Method medfilt: fixing 0 bad pixel(s) -- 0.00%\n",
      "[spaceKLIP.imagetools:INFO]   --> Method bpclean: jw04451010001_03106_00006_nrca2_calints.fits\n",
      "Frame 3/3, iteration 3\n",
      "[spaceKLIP.imagetools:INFO]   --> Method bpclean: identified 2233 additional bad pixel(s) -- 0.18%\n",
      "[spaceKLIP.imagetools:INFO]   --> Method timemed: jw04451010001_03106_00006_nrca2_calints.fits\n",
      "[spaceKLIP.imagetools:INFO]   --> Method timemed: fixing 2237 bad pixel(s) -- 0.18%\n",
      "[spaceKLIP.imagetools:INFO]   --> Method dqmed: jw04451010001_03106_00006_nrca2_calints.fits\n",
      "[spaceKLIP.imagetools:INFO]   --> Method dqmed: fixing 660 bad pixel(s) -- 0.05%\n",
      "[spaceKLIP.imagetools:INFO]   --> Method medfilt: jw04451010001_03106_00006_nrca2_calints.fits\n",
      "[spaceKLIP.imagetools:INFO]   --> Method medfilt: fixing 0 bad pixel(s) -- 0.00%\n",
      "[spaceKLIP.imagetools:INFO]   --> Method bpclean: jw04451010001_03106_00007_nrca2_calints.fits\n",
      "Frame 3/3, iteration 3\n",
      "[spaceKLIP.imagetools:INFO]   --> Method bpclean: identified 2208 additional bad pixel(s) -- 0.18%\n",
      "[spaceKLIP.imagetools:INFO]   --> Method timemed: jw04451010001_03106_00007_nrca2_calints.fits\n",
      "[spaceKLIP.imagetools:INFO]   --> Method timemed: fixing 2213 bad pixel(s) -- 0.18%\n",
      "[spaceKLIP.imagetools:INFO]   --> Method dqmed: jw04451010001_03106_00007_nrca2_calints.fits\n",
      "[spaceKLIP.imagetools:INFO]   --> Method dqmed: fixing 660 bad pixel(s) -- 0.05%\n",
      "[spaceKLIP.imagetools:INFO]   --> Method medfilt: jw04451010001_03106_00007_nrca2_calints.fits\n",
      "[spaceKLIP.imagetools:INFO]   --> Method medfilt: fixing 0 bad pixel(s) -- 0.00%\n",
      "[spaceKLIP.imagetools:INFO]   --> Method bpclean: jw04451010001_03106_00008_nrca2_calints.fits\n",
      "Frame 3/3, iteration 3\n",
      "[spaceKLIP.imagetools:INFO]   --> Method bpclean: identified 2160 additional bad pixel(s) -- 0.18%\n",
      "[spaceKLIP.imagetools:INFO]   --> Method timemed: jw04451010001_03106_00008_nrca2_calints.fits\n",
      "[spaceKLIP.imagetools:INFO]   --> Method timemed: fixing 2164 bad pixel(s) -- 0.18%\n",
      "[spaceKLIP.imagetools:INFO]   --> Method dqmed: jw04451010001_03106_00008_nrca2_calints.fits\n",
      "[spaceKLIP.imagetools:INFO]   --> Method dqmed: fixing 663 bad pixel(s) -- 0.05%\n",
      "[spaceKLIP.imagetools:INFO]   --> Method medfilt: jw04451010001_03106_00008_nrca2_calints.fits\n",
      "[spaceKLIP.imagetools:INFO]   --> Method medfilt: fixing 0 bad pixel(s) -- 0.00%\n",
      "[spaceKLIP.imagetools:INFO]   --> Method bpclean: jw04451010001_03106_00009_nrca2_calints.fits\n",
      "Frame 3/3, iteration 3\n",
      "[spaceKLIP.imagetools:INFO]   --> Method bpclean: identified 2208 additional bad pixel(s) -- 0.18%\n",
      "[spaceKLIP.imagetools:INFO]   --> Method timemed: jw04451010001_03106_00009_nrca2_calints.fits\n",
      "[spaceKLIP.imagetools:INFO]   --> Method timemed: fixing 2205 bad pixel(s) -- 0.18%\n",
      "[spaceKLIP.imagetools:INFO]   --> Method dqmed: jw04451010001_03106_00009_nrca2_calints.fits\n",
      "[spaceKLIP.imagetools:INFO]   --> Method dqmed: fixing 666 bad pixel(s) -- 0.05%\n",
      "[spaceKLIP.imagetools:INFO]   --> Method medfilt: jw04451010001_03106_00009_nrca2_calints.fits\n",
      "[spaceKLIP.imagetools:INFO]   --> Method medfilt: fixing 0 bad pixel(s) -- 0.00%\n",
      "[spaceKLIP.imagetools:INFO]   --> Method bpclean: jw04454002001_03106_00001_nrca2_calints.fits\n",
      "Frame 2/2, iteration 3\n",
      "[spaceKLIP.imagetools:INFO]   --> Method bpclean: identified 1638 additional bad pixel(s) -- 0.20%\n",
      "[spaceKLIP.imagetools:INFO]   --> Method timemed: jw04454002001_03106_00001_nrca2_calints.fits\n",
      "[spaceKLIP.imagetools:INFO]   --> Method timemed: fixing 1601 bad pixel(s) -- 0.20%\n",
      "[spaceKLIP.imagetools:INFO]   --> Method dqmed: jw04454002001_03106_00001_nrca2_calints.fits\n",
      "[spaceKLIP.imagetools:INFO]   --> Method dqmed: fixing 532 bad pixel(s) -- 0.06%\n",
      "[spaceKLIP.imagetools:INFO]   --> Method medfilt: jw04454002001_03106_00001_nrca2_calints.fits\n",
      "[spaceKLIP.imagetools:INFO]   --> Method medfilt: fixing 0 bad pixel(s) -- 0.00%\n",
      "[spaceKLIP.imagetools:INFO]   --> Method bpclean: jw04454002001_03106_00002_nrca2_calints.fits\n",
      "Frame 2/2, iteration 3\n",
      "[spaceKLIP.imagetools:INFO]   --> Method bpclean: identified 1649 additional bad pixel(s) -- 0.20%\n",
      "[spaceKLIP.imagetools:INFO]   --> Method timemed: jw04454002001_03106_00002_nrca2_calints.fits\n",
      "[spaceKLIP.imagetools:INFO]   --> Method timemed: fixing 1633 bad pixel(s) -- 0.20%\n",
      "[spaceKLIP.imagetools:INFO]   --> Method dqmed: jw04454002001_03106_00002_nrca2_calints.fits\n",
      "[spaceKLIP.imagetools:INFO]   --> Method dqmed: fixing 486 bad pixel(s) -- 0.06%\n",
      "[spaceKLIP.imagetools:INFO]   --> Method medfilt: jw04454002001_03106_00002_nrca2_calints.fits\n",
      "[spaceKLIP.imagetools:INFO]   --> Method medfilt: fixing 0 bad pixel(s) -- 0.00%\n",
      "[spaceKLIP.imagetools:INFO]   --> Method bpclean: jw04454002001_03106_00003_nrca2_calints.fits\n",
      "Frame 2/2, iteration 3\n",
      "[spaceKLIP.imagetools:INFO]   --> Method bpclean: identified 1673 additional bad pixel(s) -- 0.20%\n",
      "[spaceKLIP.imagetools:INFO]   --> Method timemed: jw04454002001_03106_00003_nrca2_calints.fits\n",
      "[spaceKLIP.imagetools:INFO]   --> Method timemed: fixing 1646 bad pixel(s) -- 0.20%\n",
      "[spaceKLIP.imagetools:INFO]   --> Method dqmed: jw04454002001_03106_00003_nrca2_calints.fits\n",
      "[spaceKLIP.imagetools:INFO]   --> Method dqmed: fixing 498 bad pixel(s) -- 0.06%\n",
      "[spaceKLIP.imagetools:INFO]   --> Method medfilt: jw04454002001_03106_00003_nrca2_calints.fits\n",
      "[spaceKLIP.imagetools:INFO]   --> Method medfilt: fixing 0 bad pixel(s) -- 0.00%\n",
      "[spaceKLIP.imagetools:INFO]   --> Method bpclean: jw04454002001_03106_00004_nrca2_calints.fits\n",
      "Frame 2/2, iteration 4\n",
      "[spaceKLIP.imagetools:INFO]   --> Method bpclean: identified 1619 additional bad pixel(s) -- 0.20%\n",
      "[spaceKLIP.imagetools:INFO]   --> Method timemed: jw04454002001_03106_00004_nrca2_calints.fits\n",
      "[spaceKLIP.imagetools:INFO]   --> Method timemed: fixing 1602 bad pixel(s) -- 0.20%\n",
      "[spaceKLIP.imagetools:INFO]   --> Method dqmed: jw04454002001_03106_00004_nrca2_calints.fits\n",
      "[spaceKLIP.imagetools:INFO]   --> Method dqmed: fixing 468 bad pixel(s) -- 0.06%\n",
      "[spaceKLIP.imagetools:INFO]   --> Method medfilt: jw04454002001_03106_00004_nrca2_calints.fits\n",
      "[spaceKLIP.imagetools:INFO]   --> Method medfilt: fixing 0 bad pixel(s) -- 0.00%\n",
      "[spaceKLIP.imagetools:INFO]   --> Method bpclean: jw04454002001_03106_00005_nrca2_calints.fits\n",
      "Frame 2/2, iteration 3\n",
      "[spaceKLIP.imagetools:INFO]   --> Method bpclean: identified 1598 additional bad pixel(s) -- 0.20%\n",
      "[spaceKLIP.imagetools:INFO]   --> Method timemed: jw04454002001_03106_00005_nrca2_calints.fits\n",
      "[spaceKLIP.imagetools:INFO]   --> Method timemed: fixing 1583 bad pixel(s) -- 0.19%\n",
      "[spaceKLIP.imagetools:INFO]   --> Method dqmed: jw04454002001_03106_00005_nrca2_calints.fits\n",
      "[spaceKLIP.imagetools:INFO]   --> Method dqmed: fixing 472 bad pixel(s) -- 0.06%\n",
      "[spaceKLIP.imagetools:INFO]   --> Method medfilt: jw04454002001_03106_00005_nrca2_calints.fits\n",
      "[spaceKLIP.imagetools:INFO]   --> Method medfilt: fixing 0 bad pixel(s) -- 0.00%\n",
      "[spaceKLIP.imagetools:INFO]   --> Method bpclean: jw04454002001_03106_00006_nrca2_calints.fits\n",
      "Frame 2/2, iteration 3\n",
      "[spaceKLIP.imagetools:INFO]   --> Method bpclean: identified 1612 additional bad pixel(s) -- 0.20%\n",
      "[spaceKLIP.imagetools:INFO]   --> Method timemed: jw04454002001_03106_00006_nrca2_calints.fits\n",
      "[spaceKLIP.imagetools:INFO]   --> Method timemed: fixing 1593 bad pixel(s) -- 0.19%\n",
      "[spaceKLIP.imagetools:INFO]   --> Method dqmed: jw04454002001_03106_00006_nrca2_calints.fits\n",
      "[spaceKLIP.imagetools:INFO]   --> Method dqmed: fixing 480 bad pixel(s) -- 0.06%\n",
      "[spaceKLIP.imagetools:INFO]   --> Method medfilt: jw04454002001_03106_00006_nrca2_calints.fits\n",
      "[spaceKLIP.imagetools:INFO]   --> Method medfilt: fixing 0 bad pixel(s) -- 0.00%\n",
      "[spaceKLIP.imagetools:INFO]   --> Method bpclean: jw04454002001_03106_00007_nrca2_calints.fits\n",
      "Frame 2/2, iteration 3\n",
      "[spaceKLIP.imagetools:INFO]   --> Method bpclean: identified 1660 additional bad pixel(s) -- 0.20%\n",
      "[spaceKLIP.imagetools:INFO]   --> Method timemed: jw04454002001_03106_00007_nrca2_calints.fits\n",
      "[spaceKLIP.imagetools:INFO]   --> Method timemed: fixing 1635 bad pixel(s) -- 0.20%\n",
      "[spaceKLIP.imagetools:INFO]   --> Method dqmed: jw04454002001_03106_00007_nrca2_calints.fits\n",
      "[spaceKLIP.imagetools:INFO]   --> Method dqmed: fixing 498 bad pixel(s) -- 0.06%\n",
      "[spaceKLIP.imagetools:INFO]   --> Method medfilt: jw04454002001_03106_00007_nrca2_calints.fits\n",
      "[spaceKLIP.imagetools:INFO]   --> Method medfilt: fixing 0 bad pixel(s) -- 0.00%\n",
      "[spaceKLIP.imagetools:INFO]   --> Method bpclean: jw04454002001_03106_00008_nrca2_calints.fits\n",
      "Frame 2/2, iteration 3\n",
      "[spaceKLIP.imagetools:INFO]   --> Method bpclean: identified 1684 additional bad pixel(s) -- 0.21%\n",
      "[spaceKLIP.imagetools:INFO]   --> Method timemed: jw04454002001_03106_00008_nrca2_calints.fits\n",
      "[spaceKLIP.imagetools:INFO]   --> Method timemed: fixing 1649 bad pixel(s) -- 0.20%\n",
      "[spaceKLIP.imagetools:INFO]   --> Method dqmed: jw04454002001_03106_00008_nrca2_calints.fits\n",
      "[spaceKLIP.imagetools:INFO]   --> Method dqmed: fixing 514 bad pixel(s) -- 0.06%\n",
      "[spaceKLIP.imagetools:INFO]   --> Method medfilt: jw04454002001_03106_00008_nrca2_calints.fits\n",
      "[spaceKLIP.imagetools:INFO]   --> Method medfilt: fixing 0 bad pixel(s) -- 0.00%\n",
      "[spaceKLIP.imagetools:INFO]   --> Method bpclean: jw04454002001_03106_00009_nrca2_calints.fits\n",
      "Frame 2/2, iteration 3\n",
      "[spaceKLIP.imagetools:INFO]   --> Method bpclean: identified 1636 additional bad pixel(s) -- 0.20%\n",
      "[spaceKLIP.imagetools:INFO]   --> Method timemed: jw04454002001_03106_00009_nrca2_calints.fits\n",
      "[spaceKLIP.imagetools:INFO]   --> Method timemed: fixing 1623 bad pixel(s) -- 0.20%\n",
      "[spaceKLIP.imagetools:INFO]   --> Method dqmed: jw04454002001_03106_00009_nrca2_calints.fits\n",
      "[spaceKLIP.imagetools:INFO]   --> Method dqmed: fixing 506 bad pixel(s) -- 0.06%\n",
      "[spaceKLIP.imagetools:INFO]   --> Method medfilt: jw04454002001_03106_00009_nrca2_calints.fits\n",
      "[spaceKLIP.imagetools:INFO]   --> Method medfilt: fixing 0 bad pixel(s) -- 0.00%\n",
      "[spaceKLIP.imagetools:INFO] --> Concatenation JWST_NIRCAM_NRCA2_F210M_MASKRND_MASK210R_SUB640A210R\n",
      "[spaceKLIP.imagetools:INFO]   --> Nan replacement: jw04454001001_03106_00001_nrca2_calints.fits\n",
      "[spaceKLIP.imagetools:INFO]   --> Nan replacement: replaced 0 nan pixel(s) with value 0.0 -- 0.00%\n",
      "[spaceKLIP.imagetools:INFO]   --> Nan replacement: jw01411027001_03105_00001_nrca2_calints.fits\n",
      "[spaceKLIP.imagetools:INFO]   --> Nan replacement: replaced 0 nan pixel(s) with value 0.0 -- 0.00%\n",
      "[spaceKLIP.imagetools:INFO]   --> Nan replacement: jw01411027001_03105_00002_nrca2_calints.fits\n",
      "[spaceKLIP.imagetools:INFO]   --> Nan replacement: replaced 0 nan pixel(s) with value 0.0 -- 0.00%\n",
      "[spaceKLIP.imagetools:INFO]   --> Nan replacement: jw01411027001_03105_00003_nrca2_calints.fits\n",
      "[spaceKLIP.imagetools:INFO]   --> Nan replacement: replaced 0 nan pixel(s) with value 0.0 -- 0.00%\n",
      "[spaceKLIP.imagetools:INFO]   --> Nan replacement: jw01411027001_03105_00004_nrca2_calints.fits\n",
      "[spaceKLIP.imagetools:INFO]   --> Nan replacement: replaced 0 nan pixel(s) with value 0.0 -- 0.00%\n",
      "[spaceKLIP.imagetools:INFO]   --> Nan replacement: jw01411027001_03105_00005_nrca2_calints.fits\n",
      "[spaceKLIP.imagetools:INFO]   --> Nan replacement: replaced 0 nan pixel(s) with value 0.0 -- 0.00%\n",
      "[spaceKLIP.imagetools:INFO]   --> Nan replacement: jw04451009001_03106_00001_nrca2_calints.fits\n",
      "[spaceKLIP.imagetools:INFO]   --> Nan replacement: replaced 0 nan pixel(s) with value 0.0 -- 0.00%\n",
      "[spaceKLIP.imagetools:INFO]   --> Nan replacement: jw04451010001_03106_00001_nrca2_calints.fits\n",
      "[spaceKLIP.imagetools:INFO]   --> Nan replacement: replaced 0 nan pixel(s) with value 0.0 -- 0.00%\n",
      "[spaceKLIP.imagetools:INFO]   --> Nan replacement: jw04451010001_03106_00002_nrca2_calints.fits\n",
      "[spaceKLIP.imagetools:INFO]   --> Nan replacement: replaced 0 nan pixel(s) with value 0.0 -- 0.00%\n",
      "[spaceKLIP.imagetools:INFO]   --> Nan replacement: jw04451010001_03106_00003_nrca2_calints.fits\n",
      "[spaceKLIP.imagetools:INFO]   --> Nan replacement: replaced 0 nan pixel(s) with value 0.0 -- 0.00%\n",
      "[spaceKLIP.imagetools:INFO]   --> Nan replacement: jw04451010001_03106_00004_nrca2_calints.fits\n",
      "[spaceKLIP.imagetools:INFO]   --> Nan replacement: replaced 0 nan pixel(s) with value 0.0 -- 0.00%\n",
      "[spaceKLIP.imagetools:INFO]   --> Nan replacement: jw04451010001_03106_00005_nrca2_calints.fits\n",
      "[spaceKLIP.imagetools:INFO]   --> Nan replacement: replaced 0 nan pixel(s) with value 0.0 -- 0.00%\n",
      "[spaceKLIP.imagetools:INFO]   --> Nan replacement: jw04451010001_03106_00006_nrca2_calints.fits\n",
      "[spaceKLIP.imagetools:INFO]   --> Nan replacement: replaced 0 nan pixel(s) with value 0.0 -- 0.00%\n",
      "[spaceKLIP.imagetools:INFO]   --> Nan replacement: jw04451010001_03106_00007_nrca2_calints.fits\n",
      "[spaceKLIP.imagetools:INFO]   --> Nan replacement: replaced 0 nan pixel(s) with value 0.0 -- 0.00%\n",
      "[spaceKLIP.imagetools:INFO]   --> Nan replacement: jw04451010001_03106_00008_nrca2_calints.fits\n",
      "[spaceKLIP.imagetools:INFO]   --> Nan replacement: replaced 0 nan pixel(s) with value 0.0 -- 0.00%\n",
      "[spaceKLIP.imagetools:INFO]   --> Nan replacement: jw04451010001_03106_00009_nrca2_calints.fits\n",
      "[spaceKLIP.imagetools:INFO]   --> Nan replacement: replaced 0 nan pixel(s) with value 0.0 -- 0.00%\n",
      "[spaceKLIP.imagetools:INFO]   --> Nan replacement: jw04454002001_03106_00001_nrca2_calints.fits\n",
      "[spaceKLIP.imagetools:INFO]   --> Nan replacement: replaced 0 nan pixel(s) with value 0.0 -- 0.00%\n",
      "[spaceKLIP.imagetools:INFO]   --> Nan replacement: jw04454002001_03106_00002_nrca2_calints.fits\n",
      "[spaceKLIP.imagetools:INFO]   --> Nan replacement: replaced 0 nan pixel(s) with value 0.0 -- 0.00%\n",
      "[spaceKLIP.imagetools:INFO]   --> Nan replacement: jw04454002001_03106_00003_nrca2_calints.fits\n",
      "[spaceKLIP.imagetools:INFO]   --> Nan replacement: replaced 0 nan pixel(s) with value 0.0 -- 0.00%\n",
      "[spaceKLIP.imagetools:INFO]   --> Nan replacement: jw04454002001_03106_00004_nrca2_calints.fits\n",
      "[spaceKLIP.imagetools:INFO]   --> Nan replacement: replaced 0 nan pixel(s) with value 0.0 -- 0.00%\n",
      "[spaceKLIP.imagetools:INFO]   --> Nan replacement: jw04454002001_03106_00005_nrca2_calints.fits\n",
      "[spaceKLIP.imagetools:INFO]   --> Nan replacement: replaced 0 nan pixel(s) with value 0.0 -- 0.00%\n",
      "[spaceKLIP.imagetools:INFO]   --> Nan replacement: jw04454002001_03106_00006_nrca2_calints.fits\n",
      "[spaceKLIP.imagetools:INFO]   --> Nan replacement: replaced 0 nan pixel(s) with value 0.0 -- 0.00%\n",
      "[spaceKLIP.imagetools:INFO]   --> Nan replacement: jw04454002001_03106_00007_nrca2_calints.fits\n",
      "[spaceKLIP.imagetools:INFO]   --> Nan replacement: replaced 0 nan pixel(s) with value 0.0 -- 0.00%\n",
      "[spaceKLIP.imagetools:INFO]   --> Nan replacement: jw04454002001_03106_00008_nrca2_calints.fits\n",
      "[spaceKLIP.imagetools:INFO]   --> Nan replacement: replaced 0 nan pixel(s) with value 0.0 -- 0.00%\n",
      "[spaceKLIP.imagetools:INFO]   --> Nan replacement: jw04454002001_03106_00009_nrca2_calints.fits\n",
      "[spaceKLIP.imagetools:INFO]   --> Nan replacement: replaced 0 nan pixel(s) with value 0.0 -- 0.00%\n",
      "[spaceKLIP.imagetools:INFO] --> Concatenation JWST_NIRCAM_NRCA2_F210M_MASKRND_MASK210R_SUB640A210R\n",
      "[spaceKLIP.imagetools:INFO]   --> Frame blurring: jw04454001001_03106_00001_nrca2_calints.fits\n",
      "[spaceKLIP.imagetools:INFO]   --> Frame blurring: factor = 0.399\n",
      "[spaceKLIP.imagetools:INFO]   --> Frame blurring: jw01411027001_03105_00001_nrca2_calints.fits\n",
      "[spaceKLIP.imagetools:INFO]   --> Frame blurring: factor = 0.399\n",
      "[spaceKLIP.imagetools:INFO]   --> Frame blurring: jw01411027001_03105_00002_nrca2_calints.fits\n",
      "[spaceKLIP.imagetools:INFO]   --> Frame blurring: factor = 0.399\n",
      "[spaceKLIP.imagetools:INFO]   --> Frame blurring: jw01411027001_03105_00003_nrca2_calints.fits\n",
      "[spaceKLIP.imagetools:INFO]   --> Frame blurring: factor = 0.399\n",
      "[spaceKLIP.imagetools:INFO]   --> Frame blurring: jw01411027001_03105_00004_nrca2_calints.fits\n",
      "[spaceKLIP.imagetools:INFO]   --> Frame blurring: factor = 0.399\n",
      "[spaceKLIP.imagetools:INFO]   --> Frame blurring: jw01411027001_03105_00005_nrca2_calints.fits\n",
      "[spaceKLIP.imagetools:INFO]   --> Frame blurring: factor = 0.399\n",
      "[spaceKLIP.imagetools:INFO]   --> Frame blurring: jw04451009001_03106_00001_nrca2_calints.fits\n",
      "[spaceKLIP.imagetools:INFO]   --> Frame blurring: factor = 0.399\n",
      "[spaceKLIP.imagetools:INFO]   --> Frame blurring: jw04451010001_03106_00001_nrca2_calints.fits\n",
      "[spaceKLIP.imagetools:INFO]   --> Frame blurring: factor = 0.399\n",
      "[spaceKLIP.imagetools:INFO]   --> Frame blurring: jw04451010001_03106_00002_nrca2_calints.fits\n",
      "[spaceKLIP.imagetools:INFO]   --> Frame blurring: factor = 0.399\n",
      "[spaceKLIP.imagetools:INFO]   --> Frame blurring: jw04451010001_03106_00003_nrca2_calints.fits\n",
      "[spaceKLIP.imagetools:INFO]   --> Frame blurring: factor = 0.399\n",
      "[spaceKLIP.imagetools:INFO]   --> Frame blurring: jw04451010001_03106_00004_nrca2_calints.fits\n",
      "[spaceKLIP.imagetools:INFO]   --> Frame blurring: factor = 0.399\n",
      "[spaceKLIP.imagetools:INFO]   --> Frame blurring: jw04451010001_03106_00005_nrca2_calints.fits\n",
      "[spaceKLIP.imagetools:INFO]   --> Frame blurring: factor = 0.399\n",
      "[spaceKLIP.imagetools:INFO]   --> Frame blurring: jw04451010001_03106_00006_nrca2_calints.fits\n",
      "[spaceKLIP.imagetools:INFO]   --> Frame blurring: factor = 0.399\n",
      "[spaceKLIP.imagetools:INFO]   --> Frame blurring: jw04451010001_03106_00007_nrca2_calints.fits\n",
      "[spaceKLIP.imagetools:INFO]   --> Frame blurring: factor = 0.399\n",
      "[spaceKLIP.imagetools:INFO]   --> Frame blurring: jw04451010001_03106_00008_nrca2_calints.fits\n",
      "[spaceKLIP.imagetools:INFO]   --> Frame blurring: factor = 0.399\n",
      "[spaceKLIP.imagetools:INFO]   --> Frame blurring: jw04451010001_03106_00009_nrca2_calints.fits\n",
      "[spaceKLIP.imagetools:INFO]   --> Frame blurring: factor = 0.399\n",
      "[spaceKLIP.imagetools:INFO]   --> Frame blurring: jw04454002001_03106_00001_nrca2_calints.fits\n",
      "[spaceKLIP.imagetools:INFO]   --> Frame blurring: factor = 0.399\n",
      "[spaceKLIP.imagetools:INFO]   --> Frame blurring: jw04454002001_03106_00002_nrca2_calints.fits\n",
      "[spaceKLIP.imagetools:INFO]   --> Frame blurring: factor = 0.399\n",
      "[spaceKLIP.imagetools:INFO]   --> Frame blurring: jw04454002001_03106_00003_nrca2_calints.fits\n",
      "[spaceKLIP.imagetools:INFO]   --> Frame blurring: factor = 0.399\n",
      "[spaceKLIP.imagetools:INFO]   --> Frame blurring: jw04454002001_03106_00004_nrca2_calints.fits\n",
      "[spaceKLIP.imagetools:INFO]   --> Frame blurring: factor = 0.399\n",
      "[spaceKLIP.imagetools:INFO]   --> Frame blurring: jw04454002001_03106_00005_nrca2_calints.fits\n",
      "[spaceKLIP.imagetools:INFO]   --> Frame blurring: factor = 0.399\n",
      "[spaceKLIP.imagetools:INFO]   --> Frame blurring: jw04454002001_03106_00006_nrca2_calints.fits\n",
      "[spaceKLIP.imagetools:INFO]   --> Frame blurring: factor = 0.399\n",
      "[spaceKLIP.imagetools:INFO]   --> Frame blurring: jw04454002001_03106_00007_nrca2_calints.fits\n",
      "[spaceKLIP.imagetools:INFO]   --> Frame blurring: factor = 0.399\n",
      "[spaceKLIP.imagetools:INFO]   --> Frame blurring: jw04454002001_03106_00008_nrca2_calints.fits\n",
      "[spaceKLIP.imagetools:INFO]   --> Frame blurring: factor = 0.399\n",
      "[spaceKLIP.imagetools:INFO]   --> Frame blurring: jw04454002001_03106_00009_nrca2_calints.fits\n",
      "[spaceKLIP.imagetools:INFO]   --> Frame blurring: factor = 0.399\n",
      "[spaceKLIP.imagetools:INFO] --> Concatenation JWST_NIRCAM_NRCA2_F210M_MASKRND_MASK210R_SUB640A210R\n",
      "[spaceKLIP.imagetools:INFO]   --> Frame padding: jw04454001001_03106_00001_nrca2_calints.fits\n",
      "[spaceKLIP.imagetools:INFO]   --> Frame padding: old shape = (640, 640), new shape = (705, 705), fill value = 0.00\n",
      "[spaceKLIP.imagetools:INFO]   --> Frame padding: jw01411027001_03105_00001_nrca2_calints.fits\n",
      "[spaceKLIP.imagetools:INFO]   --> Frame padding: old shape = (640, 640), new shape = (705, 705), fill value = 0.00\n",
      "[spaceKLIP.imagetools:INFO]   --> Frame padding: jw01411027001_03105_00002_nrca2_calints.fits\n",
      "[spaceKLIP.imagetools:INFO]   --> Frame padding: old shape = (640, 640), new shape = (705, 705), fill value = 0.00\n",
      "[spaceKLIP.imagetools:INFO]   --> Frame padding: jw01411027001_03105_00003_nrca2_calints.fits\n",
      "[spaceKLIP.imagetools:INFO]   --> Frame padding: old shape = (640, 640), new shape = (705, 705), fill value = 0.00\n",
      "[spaceKLIP.imagetools:INFO]   --> Frame padding: jw01411027001_03105_00004_nrca2_calints.fits\n",
      "[spaceKLIP.imagetools:INFO]   --> Frame padding: old shape = (640, 640), new shape = (705, 705), fill value = 0.00\n",
      "[spaceKLIP.imagetools:INFO]   --> Frame padding: jw01411027001_03105_00005_nrca2_calints.fits\n",
      "[spaceKLIP.imagetools:INFO]   --> Frame padding: old shape = (640, 640), new shape = (705, 705), fill value = 0.00\n",
      "[spaceKLIP.imagetools:INFO]   --> Frame padding: jw04451009001_03106_00001_nrca2_calints.fits\n",
      "[spaceKLIP.imagetools:INFO]   --> Frame padding: old shape = (640, 640), new shape = (705, 705), fill value = 0.00\n",
      "[spaceKLIP.imagetools:INFO]   --> Frame padding: jw04451010001_03106_00001_nrca2_calints.fits\n",
      "[spaceKLIP.imagetools:INFO]   --> Frame padding: old shape = (640, 640), new shape = (705, 705), fill value = 0.00\n",
      "[spaceKLIP.imagetools:INFO]   --> Frame padding: jw04451010001_03106_00002_nrca2_calints.fits\n",
      "[spaceKLIP.imagetools:INFO]   --> Frame padding: old shape = (640, 640), new shape = (705, 705), fill value = 0.00\n",
      "[spaceKLIP.imagetools:INFO]   --> Frame padding: jw04451010001_03106_00003_nrca2_calints.fits\n",
      "[spaceKLIP.imagetools:INFO]   --> Frame padding: old shape = (640, 640), new shape = (705, 705), fill value = 0.00\n",
      "[spaceKLIP.imagetools:INFO]   --> Frame padding: jw04451010001_03106_00004_nrca2_calints.fits\n",
      "[spaceKLIP.imagetools:INFO]   --> Frame padding: old shape = (640, 640), new shape = (705, 705), fill value = 0.00\n",
      "[spaceKLIP.imagetools:INFO]   --> Frame padding: jw04451010001_03106_00005_nrca2_calints.fits\n",
      "[spaceKLIP.imagetools:INFO]   --> Frame padding: old shape = (640, 640), new shape = (705, 705), fill value = 0.00\n",
      "[spaceKLIP.imagetools:INFO]   --> Frame padding: jw04451010001_03106_00006_nrca2_calints.fits\n",
      "[spaceKLIP.imagetools:INFO]   --> Frame padding: old shape = (640, 640), new shape = (705, 705), fill value = 0.00\n",
      "[spaceKLIP.imagetools:INFO]   --> Frame padding: jw04451010001_03106_00007_nrca2_calints.fits\n",
      "[spaceKLIP.imagetools:INFO]   --> Frame padding: old shape = (640, 640), new shape = (705, 705), fill value = 0.00\n",
      "[spaceKLIP.imagetools:INFO]   --> Frame padding: jw04451010001_03106_00008_nrca2_calints.fits\n",
      "[spaceKLIP.imagetools:INFO]   --> Frame padding: old shape = (640, 640), new shape = (705, 705), fill value = 0.00\n",
      "[spaceKLIP.imagetools:INFO]   --> Frame padding: jw04451010001_03106_00009_nrca2_calints.fits\n",
      "[spaceKLIP.imagetools:INFO]   --> Frame padding: old shape = (640, 640), new shape = (705, 705), fill value = 0.00\n",
      "[spaceKLIP.imagetools:INFO]   --> Frame padding: jw04454002001_03106_00001_nrca2_calints.fits\n",
      "[spaceKLIP.imagetools:INFO]   --> Frame padding: old shape = (640, 640), new shape = (705, 705), fill value = 0.00\n",
      "[spaceKLIP.imagetools:INFO]   --> Frame padding: jw04454002001_03106_00002_nrca2_calints.fits\n",
      "[spaceKLIP.imagetools:INFO]   --> Frame padding: old shape = (640, 640), new shape = (705, 705), fill value = 0.00\n",
      "[spaceKLIP.imagetools:INFO]   --> Frame padding: jw04454002001_03106_00003_nrca2_calints.fits\n",
      "[spaceKLIP.imagetools:INFO]   --> Frame padding: old shape = (640, 640), new shape = (705, 705), fill value = 0.00\n",
      "[spaceKLIP.imagetools:INFO]   --> Frame padding: jw04454002001_03106_00004_nrca2_calints.fits\n",
      "[spaceKLIP.imagetools:INFO]   --> Frame padding: old shape = (640, 640), new shape = (705, 705), fill value = 0.00\n",
      "[spaceKLIP.imagetools:INFO]   --> Frame padding: jw04454002001_03106_00005_nrca2_calints.fits\n",
      "[spaceKLIP.imagetools:INFO]   --> Frame padding: old shape = (640, 640), new shape = (705, 705), fill value = 0.00\n",
      "[spaceKLIP.imagetools:INFO]   --> Frame padding: jw04454002001_03106_00006_nrca2_calints.fits\n",
      "[spaceKLIP.imagetools:INFO]   --> Frame padding: old shape = (640, 640), new shape = (705, 705), fill value = 0.00\n",
      "[spaceKLIP.imagetools:INFO]   --> Frame padding: jw04454002001_03106_00007_nrca2_calints.fits\n",
      "[spaceKLIP.imagetools:INFO]   --> Frame padding: old shape = (640, 640), new shape = (705, 705), fill value = 0.00\n",
      "[spaceKLIP.imagetools:INFO]   --> Frame padding: jw04454002001_03106_00008_nrca2_calints.fits\n",
      "[spaceKLIP.imagetools:INFO]   --> Frame padding: old shape = (640, 640), new shape = (705, 705), fill value = 0.00\n",
      "[spaceKLIP.imagetools:INFO]   --> Frame padding: jw04454002001_03106_00009_nrca2_calints.fits\n",
      "[spaceKLIP.imagetools:INFO]   --> Frame padding: old shape = (640, 640), new shape = (705, 705), fill value = 0.00\n",
      "[spaceKLIP.imagetools:INFO] --> Concatenation JWST_NIRCAM_NRCA2_F210M_MASKRND_MASK210R_SUB640A210R\n",
      "[spaceKLIP.imagetools:INFO]   --> Recenter frames: jw04454001001_03106_00001_nrca2_calints.fits\n",
      "[spaceKLIP.imagetools:INFO]   --> Recenter frames: generating WebbPSF image for absolute centering (this might take a while)\n",
      "[spaceKLIP.psf:INFO] Generating on-axis and off-axis PSFs...\n"
     ]
    },
    {
     "name": "stderr",
     "output_type": "stream",
     "text": [
      "[py.warnings:WARNING] /Users/rkane/miniconda3/envs/spaceklip2/lib/python3.11/site-packages/poppy/instrument.py:624: DeprecationWarning: _get_optical_system is deprecated; use get_optical_system (without leading underscore) instead.\n",
      "[py.warnings:WARNING]   warnings.warn(\"_get_optical_system is deprecated; use get_optical_system (without leading underscore) instead.\",\n",
      "[py.warnings:WARNING] \n",
      "[py.warnings:WARNING] /Users/rkane/miniconda3/envs/spaceklip2/lib/python3.11/site-packages/poppy/optics.py:464: DeprecationWarning: JWST NIRCam specific functionality in poppy.BandLimitedCoron is moving to webbpsf.NIRCam_BandLimitedCoron. The \"nircamwedge\" and \"nircamcircular\" options in poppy will be removed in a future version of poppy.\n",
      "[py.warnings:WARNING]   warnings.warn('JWST NIRCam specific functionality in poppy.BandLimitedCoron is moving to ' +\n",
      "[py.warnings:WARNING] \n"
     ]
    },
    {
     "name": "stdout",
     "output_type": "stream",
     "text": [
      "[spaceKLIP.psf:INFO]   Done.\n",
      "[spaceKLIP.imagetools:INFO]   --> Recenter frames: star offset from coronagraph center (dx, dy) = (0.51, 0.78) pix\n",
      "[spaceKLIP.imagetools:INFO]  Plot saved in DATA/JWST/NIRCam/04454/F210M/recentered/JWST_NIRCAM_NRCA2_F210M_MASKRND_MASK210R_SUB640A210R_recenter.pdf\n",
      "[spaceKLIP.imagetools:INFO]   --> Recenter frames: jw04454001001_03106_00001_nrca2_calints.fits\n",
      "[spaceKLIP.imagetools:INFO]   --> Recenter frames: median required shift = 328.06 mas\n",
      "[spaceKLIP.imagetools:INFO]   --> Recenter frames: jw01411027001_03105_00001_nrca2_calints.fits\n",
      "[spaceKLIP.imagetools:INFO]   --> Recenter frames: jw01411027001_03105_00001_nrca2_calints.fits\n",
      "[spaceKLIP.imagetools:INFO]   --> Recenter frames: median required shift = 328.06 mas\n",
      "[spaceKLIP.imagetools:INFO]   --> Recenter frames: jw01411027001_03105_00002_nrca2_calints.fits\n",
      "[spaceKLIP.imagetools:INFO]   --> Recenter frames: jw01411027001_03105_00002_nrca2_calints.fits\n",
      "[spaceKLIP.imagetools:INFO]   --> Recenter frames: median required shift = 328.06 mas\n",
      "[spaceKLIP.imagetools:INFO]   --> Recenter frames: jw01411027001_03105_00003_nrca2_calints.fits\n",
      "[spaceKLIP.imagetools:INFO]   --> Recenter frames: jw01411027001_03105_00003_nrca2_calints.fits\n",
      "[spaceKLIP.imagetools:INFO]   --> Recenter frames: median required shift = 328.06 mas\n",
      "[spaceKLIP.imagetools:INFO]   --> Recenter frames: jw01411027001_03105_00004_nrca2_calints.fits\n",
      "[spaceKLIP.imagetools:INFO]   --> Recenter frames: jw01411027001_03105_00004_nrca2_calints.fits\n",
      "[spaceKLIP.imagetools:INFO]   --> Recenter frames: median required shift = 328.06 mas\n",
      "[spaceKLIP.imagetools:INFO]   --> Recenter frames: jw01411027001_03105_00005_nrca2_calints.fits\n",
      "[spaceKLIP.imagetools:INFO]   --> Recenter frames: jw01411027001_03105_00005_nrca2_calints.fits\n",
      "[spaceKLIP.imagetools:INFO]   --> Recenter frames: median required shift = 328.06 mas\n",
      "[spaceKLIP.imagetools:INFO]   --> Recenter frames: jw04451009001_03106_00001_nrca2_calints.fits\n",
      "[spaceKLIP.imagetools:INFO]   --> Recenter frames: jw04451009001_03106_00001_nrca2_calints.fits\n",
      "[spaceKLIP.imagetools:INFO]   --> Recenter frames: median required shift = 328.06 mas\n",
      "[spaceKLIP.imagetools:INFO]   --> Recenter frames: jw04451010001_03106_00001_nrca2_calints.fits\n",
      "[spaceKLIP.imagetools:INFO]   --> Recenter frames: jw04451010001_03106_00001_nrca2_calints.fits\n",
      "[spaceKLIP.imagetools:INFO]   --> Recenter frames: median required shift = 328.06 mas\n",
      "[spaceKLIP.imagetools:INFO]   --> Recenter frames: jw04451010001_03106_00002_nrca2_calints.fits\n",
      "[spaceKLIP.imagetools:INFO]   --> Recenter frames: jw04451010001_03106_00002_nrca2_calints.fits\n",
      "[spaceKLIP.imagetools:INFO]   --> Recenter frames: median required shift = 328.06 mas\n",
      "[spaceKLIP.imagetools:INFO]   --> Recenter frames: jw04451010001_03106_00003_nrca2_calints.fits\n",
      "[spaceKLIP.imagetools:INFO]   --> Recenter frames: jw04451010001_03106_00003_nrca2_calints.fits\n",
      "[spaceKLIP.imagetools:INFO]   --> Recenter frames: median required shift = 328.06 mas\n",
      "[spaceKLIP.imagetools:INFO]   --> Recenter frames: jw04451010001_03106_00004_nrca2_calints.fits\n",
      "[spaceKLIP.imagetools:INFO]   --> Recenter frames: jw04451010001_03106_00004_nrca2_calints.fits\n",
      "[spaceKLIP.imagetools:INFO]   --> Recenter frames: median required shift = 328.06 mas\n",
      "[spaceKLIP.imagetools:INFO]   --> Recenter frames: jw04451010001_03106_00005_nrca2_calints.fits\n",
      "[spaceKLIP.imagetools:INFO]   --> Recenter frames: jw04451010001_03106_00005_nrca2_calints.fits\n",
      "[spaceKLIP.imagetools:INFO]   --> Recenter frames: median required shift = 328.06 mas\n",
      "[spaceKLIP.imagetools:INFO]   --> Recenter frames: jw04451010001_03106_00006_nrca2_calints.fits\n",
      "[spaceKLIP.imagetools:INFO]   --> Recenter frames: jw04451010001_03106_00006_nrca2_calints.fits\n",
      "[spaceKLIP.imagetools:INFO]   --> Recenter frames: median required shift = 328.06 mas\n"
     ]
    },
    {
     "name": "stderr",
     "output_type": "stream",
     "text": [
      "[py.warnings:WARNING] /Users/rkane/miniconda3/envs/spaceklip2/lib/python3.11/site-packages/astropy/io/fits/header.py:449: ResourceWarning: unclosed file <_io.BufferedReader name='/Users/rkane/Documents/spaceKLIP_repos/webbpsf-data/MAST_JWST_WSS_OPDs/O2023061101-NRCA3_FP1-1.fits'>\n",
      "[py.warnings:WARNING]   cards.append(Card.fromstring(empty.join(image)))\n",
      "[py.warnings:WARNING] \n"
     ]
    },
    {
     "name": "stdout",
     "output_type": "stream",
     "text": [
      "[spaceKLIP.imagetools:INFO]   --> Recenter frames: jw04451010001_03106_00007_nrca2_calints.fits\n",
      "[spaceKLIP.imagetools:INFO]   --> Recenter frames: jw04451010001_03106_00007_nrca2_calints.fits\n",
      "[spaceKLIP.imagetools:INFO]   --> Recenter frames: median required shift = 328.06 mas\n",
      "[spaceKLIP.imagetools:INFO]   --> Recenter frames: jw04451010001_03106_00008_nrca2_calints.fits\n",
      "[spaceKLIP.imagetools:INFO]   --> Recenter frames: jw04451010001_03106_00008_nrca2_calints.fits\n",
      "[spaceKLIP.imagetools:INFO]   --> Recenter frames: median required shift = 328.06 mas\n",
      "[spaceKLIP.imagetools:INFO]   --> Recenter frames: jw04451010001_03106_00009_nrca2_calints.fits\n",
      "[spaceKLIP.imagetools:INFO]   --> Recenter frames: jw04451010001_03106_00009_nrca2_calints.fits\n",
      "[spaceKLIP.imagetools:INFO]   --> Recenter frames: median required shift = 328.06 mas\n",
      "[spaceKLIP.imagetools:INFO]   --> Recenter frames: jw04454002001_03106_00001_nrca2_calints.fits\n",
      "[spaceKLIP.imagetools:INFO]   --> Recenter frames: jw04454002001_03106_00001_nrca2_calints.fits\n",
      "[spaceKLIP.imagetools:INFO]   --> Recenter frames: median required shift = 328.06 mas\n",
      "[spaceKLIP.imagetools:INFO]   --> Recenter frames: jw04454002001_03106_00002_nrca2_calints.fits\n",
      "[spaceKLIP.imagetools:INFO]   --> Recenter frames: jw04454002001_03106_00002_nrca2_calints.fits\n",
      "[spaceKLIP.imagetools:INFO]   --> Recenter frames: median required shift = 328.06 mas\n",
      "[spaceKLIP.imagetools:INFO]   --> Recenter frames: jw04454002001_03106_00003_nrca2_calints.fits\n",
      "[spaceKLIP.imagetools:INFO]   --> Recenter frames: jw04454002001_03106_00003_nrca2_calints.fits\n",
      "[spaceKLIP.imagetools:INFO]   --> Recenter frames: median required shift = 328.06 mas\n",
      "[spaceKLIP.imagetools:INFO]   --> Recenter frames: jw04454002001_03106_00004_nrca2_calints.fits\n",
      "[spaceKLIP.imagetools:INFO]   --> Recenter frames: jw04454002001_03106_00004_nrca2_calints.fits\n",
      "[spaceKLIP.imagetools:INFO]   --> Recenter frames: median required shift = 328.06 mas\n",
      "[spaceKLIP.imagetools:INFO]   --> Recenter frames: jw04454002001_03106_00005_nrca2_calints.fits\n",
      "[spaceKLIP.imagetools:INFO]   --> Recenter frames: jw04454002001_03106_00005_nrca2_calints.fits\n",
      "[spaceKLIP.imagetools:INFO]   --> Recenter frames: median required shift = 328.06 mas\n",
      "[spaceKLIP.imagetools:INFO]   --> Recenter frames: jw04454002001_03106_00006_nrca2_calints.fits\n",
      "[spaceKLIP.imagetools:INFO]   --> Recenter frames: jw04454002001_03106_00006_nrca2_calints.fits\n",
      "[spaceKLIP.imagetools:INFO]   --> Recenter frames: median required shift = 328.06 mas\n",
      "[spaceKLIP.imagetools:INFO]   --> Recenter frames: jw04454002001_03106_00007_nrca2_calints.fits\n",
      "[spaceKLIP.imagetools:INFO]   --> Recenter frames: jw04454002001_03106_00007_nrca2_calints.fits\n",
      "[spaceKLIP.imagetools:INFO]   --> Recenter frames: median required shift = 328.06 mas\n",
      "[spaceKLIP.imagetools:INFO]   --> Recenter frames: jw04454002001_03106_00008_nrca2_calints.fits\n",
      "[spaceKLIP.imagetools:INFO]   --> Recenter frames: jw04454002001_03106_00008_nrca2_calints.fits\n",
      "[spaceKLIP.imagetools:INFO]   --> Recenter frames: median required shift = 328.06 mas\n",
      "[spaceKLIP.imagetools:INFO]   --> Recenter frames: jw04454002001_03106_00009_nrca2_calints.fits\n",
      "[spaceKLIP.imagetools:INFO]   --> Recenter frames: jw04454002001_03106_00009_nrca2_calints.fits\n",
      "[spaceKLIP.imagetools:INFO]   --> Recenter frames: median required shift = 328.06 mas\n",
      "[spaceKLIP.imagetools:INFO] --> Concatenation JWST_NIRCAM_NRCA2_F210M_MASKRND_MASK210R_SUB640A210R\n",
      "[spaceKLIP.imagetools:INFO]   --> Align frames: jw04454001001_03106_00001_nrca2_calints.fits\n",
      "[spaceKLIP.imagetools:INFO]   --> Align frames: median required shift = 0.00 mas\n"
     ]
    },
    {
     "name": "stderr",
     "output_type": "stream",
     "text": [
      "[spaceKLIP.imagetools:WARNING]   --> The following frames might not be properly aligned: [ 1  2  3  4  5  6  7  8  9 10 11 12 13 14 15 16 17]\n"
     ]
    },
    {
     "name": "stdout",
     "output_type": "stream",
     "text": [
      "[spaceKLIP.imagetools:INFO]   --> Align frames: jw01411027001_03105_00001_nrca2_calints.fits\n",
      "[spaceKLIP.imagetools:INFO]   --> Align frames: median required shift = 0.00 mas\n"
     ]
    },
    {
     "name": "stderr",
     "output_type": "stream",
     "text": [
      "[spaceKLIP.imagetools:WARNING]   --> The following frames might not be properly aligned: [0 1 2 3 4 5 6 7 8 9]\n"
     ]
    },
    {
     "name": "stdout",
     "output_type": "stream",
     "text": [
      "[spaceKLIP.imagetools:INFO]   --> Align frames: jw01411027001_03105_00002_nrca2_calints.fits\n",
      "[spaceKLIP.imagetools:INFO]   --> Align frames: median required shift = 21.21 mas\n",
      "[spaceKLIP.imagetools:INFO]   --> Align frames: jw01411027001_03105_00003_nrca2_calints.fits\n",
      "[spaceKLIP.imagetools:INFO]   --> Align frames: median required shift = 21.21 mas\n",
      "[spaceKLIP.imagetools:INFO]   --> Align frames: jw01411027001_03105_00004_nrca2_calints.fits\n",
      "[spaceKLIP.imagetools:INFO]   --> Align frames: median required shift = 21.21 mas\n",
      "[spaceKLIP.imagetools:INFO]   --> Align frames: jw01411027001_03105_00005_nrca2_calints.fits\n",
      "[spaceKLIP.imagetools:INFO]   --> Align frames: median required shift = 21.21 mas\n",
      "[spaceKLIP.imagetools:INFO]   --> Align frames: jw04451009001_03106_00001_nrca2_calints.fits\n",
      "[spaceKLIP.imagetools:INFO]   --> Align frames: median required shift = 7.28 mas\n",
      "[spaceKLIP.imagetools:INFO]   --> Align frames: jw04451010001_03106_00001_nrca2_calints.fits\n",
      "[spaceKLIP.imagetools:INFO]   --> Align frames: median required shift = 7.28 mas\n",
      "[spaceKLIP.imagetools:INFO]   --> Align frames: jw04451010001_03106_00002_nrca2_calints.fits\n",
      "[spaceKLIP.imagetools:INFO]   --> Align frames: median required shift = 19.31 mas\n",
      "[spaceKLIP.imagetools:INFO]   --> Align frames: jw04451010001_03106_00003_nrca2_calints.fits\n",
      "[spaceKLIP.imagetools:INFO]   --> Align frames: median required shift = 15.26 mas\n",
      "[spaceKLIP.imagetools:INFO]   --> Align frames: jw04451010001_03106_00004_nrca2_calints.fits\n",
      "[spaceKLIP.imagetools:INFO]   --> Align frames: median required shift = 13.15 mas\n",
      "[spaceKLIP.imagetools:INFO]   --> Align frames: jw04451010001_03106_00005_nrca2_calints.fits\n",
      "[spaceKLIP.imagetools:INFO]   --> Align frames: median required shift = 18.79 mas\n",
      "[spaceKLIP.imagetools:INFO]   --> Align frames: jw04451010001_03106_00006_nrca2_calints.fits\n",
      "[spaceKLIP.imagetools:INFO]   --> Align frames: median required shift = 23.09 mas\n",
      "[spaceKLIP.imagetools:INFO]   --> Align frames: jw04451010001_03106_00007_nrca2_calints.fits\n",
      "[spaceKLIP.imagetools:INFO]   --> Align frames: median required shift = 27.80 mas\n",
      "[spaceKLIP.imagetools:INFO]   --> Align frames: jw04451010001_03106_00008_nrca2_calints.fits\n",
      "[spaceKLIP.imagetools:INFO]   --> Align frames: median required shift = 27.07 mas\n",
      "[spaceKLIP.imagetools:INFO]   --> Align frames: jw04451010001_03106_00009_nrca2_calints.fits\n",
      "[spaceKLIP.imagetools:INFO]   --> Align frames: median required shift = 25.55 mas\n",
      "[spaceKLIP.imagetools:INFO]   --> Align frames: jw04454002001_03106_00001_nrca2_calints.fits\n",
      "[spaceKLIP.imagetools:INFO]   --> Align frames: median required shift = 7.28 mas\n",
      "[spaceKLIP.imagetools:INFO]   --> Align frames: jw04454002001_03106_00002_nrca2_calints.fits\n",
      "[spaceKLIP.imagetools:INFO]   --> Align frames: median required shift = 19.31 mas\n",
      "[spaceKLIP.imagetools:INFO]   --> Align frames: jw04454002001_03106_00003_nrca2_calints.fits\n",
      "[spaceKLIP.imagetools:INFO]   --> Align frames: median required shift = 15.26 mas\n",
      "[spaceKLIP.imagetools:INFO]   --> Align frames: jw04454002001_03106_00004_nrca2_calints.fits\n",
      "[spaceKLIP.imagetools:INFO]   --> Align frames: median required shift = 13.15 mas\n",
      "[spaceKLIP.imagetools:INFO]   --> Align frames: jw04454002001_03106_00005_nrca2_calints.fits\n",
      "[spaceKLIP.imagetools:INFO]   --> Align frames: median required shift = 18.79 mas\n",
      "[spaceKLIP.imagetools:INFO]   --> Align frames: jw04454002001_03106_00006_nrca2_calints.fits\n",
      "[spaceKLIP.imagetools:INFO]   --> Align frames: median required shift = 23.09 mas\n",
      "[spaceKLIP.imagetools:INFO]   --> Align frames: jw04454002001_03106_00007_nrca2_calints.fits\n",
      "[spaceKLIP.imagetools:INFO]   --> Align frames: median required shift = 27.80 mas\n",
      "[spaceKLIP.imagetools:INFO]   --> Align frames: jw04454002001_03106_00008_nrca2_calints.fits\n",
      "[spaceKLIP.imagetools:INFO]   --> Align frames: median required shift = 27.07 mas\n",
      "[spaceKLIP.imagetools:INFO]   --> Align frames: jw04454002001_03106_00009_nrca2_calints.fits\n",
      "[spaceKLIP.imagetools:INFO]   --> Align frames: median required shift = 25.55 mas\n",
      "[spaceKLIP.imagetools:INFO]  Plot saved in DATA/JWST/NIRCam/04454/F210M/aligned/JWST_NIRCAM_NRCA2_F210M_MASKRND_MASK210R_SUB640A210R_align_sci.pdf\n",
      "[spaceKLIP.imagetools:INFO]  Plot saved in DATA/JWST/NIRCam/04454/F210M/aligned/JWST_NIRCAM_NRCA2_F210M_MASKRND_MASK210R_SUB640A210R_align_ref.pdf\n"
     ]
    }
   ],
   "source": [
    "#reduced = True\n",
    "if not reduced:\n",
    "    coron1pipeline.run_obs(database=Database,\n",
    "                           steps={'saturation': {'n_pix_grow_sat': 1,\n",
    "                                                 'grow_diagonal': False},\n",
    "                                  'refpix': {'odd_even_columns': True,\n",
    "                                             'odd_even_rows': True,\n",
    "                                             'nlower': 4,\n",
    "                                             'nupper': 4,\n",
    "                                             'nleft': 4,\n",
    "                                             'nright': 4,\n",
    "                                             'nrow_off': 0,\n",
    "                                             'ncol_off': 0},\n",
    "                                  'dark_current': {'skip': True},\n",
    "                                  'persistence': {'skip': True},\n",
    "                                  'jump': {'rejection_threshold': 4.,\n",
    "                                           'three_group_rejection_threshold': 4.,\n",
    "                                           'four_group_rejection_threshold': 4.,\n",
    "                                           'maximum_cores': 'all'},\n",
    "                                  'ramp_fit': {'save_calibrated_ramp': False,\n",
    "                                               'maximum_cores': 'all'}},\n",
    "                            subdir='stage1')\n",
    "\n",
    "if not reduced:\n",
    "    coron2pipeline.run_obs(database=Database,\n",
    "                           steps={'outlier_detection': {'skip': False}},\n",
    "                           subdir='stage2')\n",
    "\n",
    "ImageTools = imagetools.ImageTools(Database)\n",
    "\n",
    "if not cleanalign:\n",
    "    ImageTools.update_nircam_centers()\n",
    "\n",
    "if not cleanalign:\n",
    "    ImageTools.subtract_median(types=['SCI', 'SCI_TA', 'SCI_BG', 'REF', 'REF_TA', 'REF_BG'],\n",
    "                                   subdir='medsub')\n",
    "\n",
    "# Fix bad pixels using custom spaceKLIP routines. Multiple routines can be\n",
    "# combined in a custom order by joining them with a + sign.\n",
    "# - bpclean: use sigma clipping to find additional bad pixels.\n",
    "# - custom: use custom map to find additional bad pixels.\n",
    "# - timemed: replace pixels which are only bad in some frames with their\n",
    "#            median value from the good frames.\n",
    "# - dqmed:   replace bad pixels with the median of surrounding good\n",
    "#            pixels.\n",
    "# - medfilt: replace bad pixels with an image plane median filter.\n",
    "if not cleanalign:\n",
    "    ImageTools.fix_bad_pixels(method='bpclean+timemed+dqmed+medfilt',\n",
    "                              bpclean_kwargs={'sigclip': 5,\n",
    "                                              'shift_x': [-1, 0, 1],\n",
    "                                              'shift_y': [-1, 0, 1]},\n",
    "                              custom_kwargs={},\n",
    "                              timemed_kwargs={},\n",
    "                              dqmed_kwargs={'shift_x': [-1, 0, 1],\n",
    "                                            'shift_y': [-1, 0, 1]},\n",
    "                              medfilt_kwargs={'size': 4},\n",
    "                              subdir='bpcleaned')\n",
    "\n",
    "if not cleanalign:\n",
    "    ImageTools.replace_nans(cval=0.,\n",
    "                            types=['SCI', 'SCI_BG', 'REF', 'REF_BG'],\n",
    "                            subdir='nanreplaced')\n",
    "\n",
    "if not cleanalign:\n",
    "    if blur:\n",
    "        ImageTools.blur_frames()\n",
    "\n",
    "if not cleanalign:\n",
    "    if crop:\n",
    "        ImageTools.crop_frames(npix=10)\n",
    "    \n",
    "    if pad:\n",
    "        ImageTools.pad_frames(\n",
    "                              npix=[32, 33, 32, 33],\n",
    "                              # npix=[1, 144, 73, 72], # shortwave\n",
    "                              types=['SCI', 'SCI_BG', 'REF', 'REF_BG'],\n",
    "                              cval=0.\n",
    "                             )\n",
    "        \n",
    "if not aligned and coadd:\n",
    "    ImageTools.coadd_frames()\n",
    "\n",
    "if not cleanalign:\n",
    "    ImageTools.recenter_frames(\n",
    "        spectral_type='F0V',\n",
    "    )\n",
    "\n",
    "if not aligned:\n",
    "    ImageTools.align_frames(\n",
    "        subdir='aligned', #f'aligned{epoch}',\n",
    "        method='fourier',\n",
    "        align_algo='leastsq',\n",
    "    )"
   ]
  },
  {
   "cell_type": "code",
   "execution_count": 116,
   "id": "365d45a1-3cef-499e-a746-79e3f8f94960",
   "metadata": {},
   "outputs": [
    {
     "name": "stdout",
     "output_type": "stream",
     "text": [
      "[spaceKLIP.pyklippipeline:INFO] --> Concatenation JWST_NIRCAM_NRCA2_F210M_MASKRND_MASK210R_SUB640A210R\n"
     ]
    },
    {
     "name": "stderr",
     "output_type": "stream",
     "text": [
      "[py.warnings:WARNING] /Users/rkane/miniconda3/envs/spaceklip2/lib/python3.11/site-packages/astropy/wcs/wcs.py:805: FITSFixedWarning: 'obsfix' made the change 'Set OBSGEO-L to   -83.722231 from OBSGEO-[XYZ].\n",
      "[py.warnings:WARNING] Set OBSGEO-B to   -34.973915 from OBSGEO-[XYZ].\n",
      "[py.warnings:WARNING] Set OBSGEO-H to 1715909457.261 from OBSGEO-[XYZ]'.\n",
      "[py.warnings:WARNING]   warnings.warn(\n",
      "[py.warnings:WARNING] \n"
     ]
    },
    {
     "name": "stdout",
     "output_type": "stream",
     "text": [
      "[spaceKLIP.pyklippipeline:INFO]   --> pyKLIP: mode = ADI+RDI, annuli = 4, subsections = 3\n",
      "Begin align and scale images for each wavelength\n",
      "Wavelength 2.098e-06 with index 0 has finished align and scale. Queuing for KLIP\n",
      "Total number of tasks for KLIP processing is 12\n"
     ]
    },
    {
     "data": {
      "application/vnd.jupyter.widget-view+json": {
       "model_id": "b36ac66be2884e1c98dac8ca440c4029",
       "version_major": 2,
       "version_minor": 0
      },
      "text/plain": [
       "  0%|          | 0/12 [00:00<?, ?it/s]"
      ]
     },
     "metadata": {},
     "output_type": "display_data"
    },
    {
     "name": "stdout",
     "output_type": "stream",
     "text": [
      "Closing threadpool\n",
      "section is too small (0 pixels), skipping...\n",
      "section is too small (0 pixels), skipping...\n",
      "section is too small (0 pixels), skipping...\n",
      "Derotating Images...\n",
      "Writing Images to directory /Users/rkane/Documents/DATA/JWST/NIRCam/04454/F210M/klipsub\n",
      "wavelength collapsing reduced data of shape (b, N, wv, y, x):(13, 18, 1, 705, 705)\n"
     ]
    },
    {
     "name": "stderr",
     "output_type": "stream",
     "text": [
      "[py.warnings:WARNING] /Users/rkane/miniconda3/envs/spaceklip2/lib/python3.11/site-packages/astropy/wcs/wcs.py:805: FITSFixedWarning: 'datfix' made the change 'Set DATE-BEG to '2023-06-10T18:28:39.340' from MJD-BEG.\n",
      "[py.warnings:WARNING] Set DATE-AVG to '2023-06-10T18:41:50.464' from MJD-AVG.\n",
      "[py.warnings:WARNING] Set DATE-END to '2023-06-10T18:55:01.588' from MJD-END'.\n",
      "[py.warnings:WARNING]   warnings.warn(\n",
      "[py.warnings:WARNING] \n",
      "[py.warnings:WARNING] /Users/rkane/miniconda3/envs/spaceklip2/lib/python3.11/site-packages/astropy/wcs/wcs.py:805: FITSFixedWarning: 'obsfix' made the change 'Set OBSGEO-L to   -83.722231 from OBSGEO-[XYZ].\n",
      "[py.warnings:WARNING] Set OBSGEO-B to   -34.973915 from OBSGEO-[XYZ].\n",
      "[py.warnings:WARNING] Set OBSGEO-H to 1715909457.261 from OBSGEO-[XYZ]'.\n",
      "[py.warnings:WARNING]   warnings.warn(\n",
      "[py.warnings:WARNING] \n"
     ]
    },
    {
     "name": "stdout",
     "output_type": "stream",
     "text": [
      "[spaceKLIP.database:INFO] --> Identified 1 concatenation(s)\n",
      "[spaceKLIP.database:INFO]   --> Concatenation 1: JWST_NIRCAM_NRCA2_F210M_MASKRND_MASK210R_SUB640A210R\n"
     ]
    },
    {
     "name": "stderr",
     "output_type": "stream",
     "text": [
      "[py.warnings:WARNING] /var/folders/0x/ms4g19v94ks3vl4stzvlgh44000184/T/ipykernel_20928/2822895338.py:7: ResourceWarning: unclosed file <_io.BufferedReader name='DATA/JWST/NIRCam/04454/F210M/aligned/jw04454001001_03106_00001_nrca2_calints_psfmask.fits'>\n",
      "[py.warnings:WARNING]   pyklippipeline.run_obs(database=Database,\n",
      "[py.warnings:WARNING] \n"
     ]
    },
    {
     "name": "stdout",
     "output_type": "stream",
     "text": [
      " TYPE   EXP_TYPE DATAMODL ... BUNIT       BLURFWHM     \n",
      "------ --------- -------- ... ------ ------------------\n",
      "PYKLIP NRC_CORON   STAGE3 ... MJy/sr 0.9397012604707009\n"
     ]
    }
   ],
   "source": [
    "import platform\n",
    "if platform.processor() == 'arm':\n",
    "    os.environ[\"OPENBLAS_NUM_THREADS\"] = \"1\"\n",
    "    os.environ[\"OMP_NUM_THREADS\"] = \"1\" \n",
    "# once other image reduction steps are done, run this so that pyklip.parallelized doesn't kill your apple chip\n",
    "\n",
    "pyklippipeline.run_obs(database=Database,\n",
    "                       kwargs={'mode': ['ADI+RDI'],\n",
    "                               'annuli': [4],\n",
    "                               # 'movement': [0.5],\n",
    "                               'subsections': [3],\n",
    "                                #'numbasis': [1, 2, 5, 8, 10,],\n",
    "                               'numbasis': [1, 2, 3, 4, 5, 6, 7, 8, 9, 10, 20, 50, 100],\n",
    "                               'algo': 'klip'},\n",
    "                       subdir='klipsub' #f'klipsub{epoch}'\n",
    "                      )"
   ]
  },
  {
   "cell_type": "code",
   "execution_count": 92,
   "id": "30353b37-f3c3-4a5b-8e97-61cd3e987ffc",
   "metadata": {},
   "outputs": [
    {
     "name": "stdout",
     "output_type": "stream",
     "text": [
      "[spaceKLIP.classpsfsubpipeline:INFO] --> Concatenation JWST_NIRCAM_NRCA2_F210M_MASKRND_MASK210R_SUB640A210R\n"
     ]
    },
    {
     "name": "stderr",
     "output_type": "stream",
     "text": [
      "[py.warnings:WARNING] /Users/rkane/Documents/spaceklip_repos/spaceKLIP/spaceKLIP/classpsfsubpipeline.py:271: RuntimeWarning: All-NaN slice encountered\n",
      "[py.warnings:WARNING]   sci_data = np.nanmedian(sci_data, axis=0)\n",
      "[py.warnings:WARNING] \n",
      "[py.warnings:WARNING] /Users/rkane/Documents/spaceklip_repos/spaceKLIP/spaceKLIP/classpsfsubpipeline.py:273: RuntimeWarning: invalid value encountered in divide\n",
      "[py.warnings:WARNING]   sci_erro = np.true_divide(np.sqrt(np.nansum(sci_erro**2, axis=0)), nsample)\n",
      "[py.warnings:WARNING] \n",
      "[py.warnings:WARNING] /Users/rkane/miniconda3/envs/spaceklip2/lib/python3.11/site-packages/astropy/wcs/wcs.py:805: FITSFixedWarning: 'datfix' made the change 'Set DATE-BEG to '2023-06-10T18:28:39.340' from MJD-BEG.\n",
      "[py.warnings:WARNING] Set DATE-AVG to '2023-06-10T18:41:50.464' from MJD-AVG.\n",
      "[py.warnings:WARNING] Set DATE-END to '2023-06-10T18:55:01.588' from MJD-END'.\n",
      "[py.warnings:WARNING]   warnings.warn(\n",
      "[py.warnings:WARNING] \n",
      "[py.warnings:WARNING] /Users/rkane/miniconda3/envs/spaceklip2/lib/python3.11/site-packages/astropy/wcs/wcs.py:805: FITSFixedWarning: 'obsfix' made the change 'Set OBSGEO-L to   -83.722231 from OBSGEO-[XYZ].\n",
      "[py.warnings:WARNING] Set OBSGEO-B to   -34.973915 from OBSGEO-[XYZ].\n",
      "[py.warnings:WARNING] Set OBSGEO-H to 1715909457.261 from OBSGEO-[XYZ]'.\n",
      "[py.warnings:WARNING]   warnings.warn(\n",
      "[py.warnings:WARNING] \n"
     ]
    },
    {
     "name": "stdout",
     "output_type": "stream",
     "text": [
      "[spaceKLIP.classpsfsubpipeline:INFO] --> Average best fit scaling factor (dpos1) = 0.89\n"
     ]
    },
    {
     "name": "stderr",
     "output_type": "stream",
     "text": [
      "[py.warnings:WARNING] /var/folders/0x/ms4g19v94ks3vl4stzvlgh44000184/T/ipykernel_20928/1374156119.py:2: ResourceWarning: unclosed file <_io.BufferedReader name='DATA/JWST/NIRCam/04454/F210M/aligned/jw04454001001_03106_00001_nrca2_calints_psfmask.fits'>\n",
      "[py.warnings:WARNING]   classpsfsubpipeline.run_obs(Database,\n",
      "[py.warnings:WARNING] \n"
     ]
    }
   ],
   "source": [
    "from spaceKLIP import classpsfsubpipeline\n",
    "classpsfsubpipeline.run_obs(Database, \n",
    "                            subdir='classical',\n",
    "                            kwargs = {'save_rolls': True})"
   ]
  },
  {
   "cell_type": "code",
   "execution_count": null,
   "id": "f3f02feb-f897-4bf1-93c6-dd5b00f16116",
   "metadata": {
    "scrolled": true,
    "tags": []
   },
   "outputs": [],
   "source": []
  },
  {
   "cell_type": "code",
   "execution_count": null,
   "id": "29bb714f-4469-413e-a4fe-909b2001c507",
   "metadata": {},
   "outputs": [],
   "source": [
    "f'klipsub{epoch}'"
   ]
  },
  {
   "cell_type": "code",
   "execution_count": null,
   "id": "75b6c353-00fb-40fb-9712-2e6d1b39b63b",
   "metadata": {},
   "outputs": [],
   "source": [
    "# # select a subset of obs, usually we are only interested in F200W+F444W\n",
    "\n",
    "# select_obs = [\n",
    "#               # 'JWST_NIRCAM_NRCA2_F200W_MASKRND_MASK335R_SUB320A335R',\n",
    "#               # 'JWST_NIRCAM_NRCALONG_F356W_MASKRND_MASK335R_SUB320A335R',\n",
    "#               'JWST_NIRCAM_NRCALONG_F444W_MASKRND_MASK335R_SUB320A335R',\n",
    "#               ]\n",
    "\n",
    "# Database.obs = {k:Database.obs[k] for k in select_obs}\n",
    "# Database.red = {k:Database.red[k] for k in select_obs}"
   ]
  },
  {
   "cell_type": "code",
   "execution_count": null,
   "id": "9c12f9b5-3aa3-472d-b1bf-657a422a9d3f",
   "metadata": {},
   "outputs": [],
   "source": [
    "# Database.red['JWST_NIRCAM_NRCALONG_F444W_MASKRND_MASK335R_SUB320A335R']"
   ]
  },
  {
   "cell_type": "code",
   "execution_count": null,
   "id": "7360273e-5c9c-452d-85fe-849cda8e4e47",
   "metadata": {},
   "outputs": [],
   "source": [
    "Analysis = analysistools.AnalysisTools(Database)\n",
    "\n",
    "# companions = [[.3173, .0663, 1e-4]]\n",
    "companions = [[.283, -.074, 1e-4]]\n",
    "\n",
    "# companion_masks = [[.3173, .0663, 2]]\n",
    "companion_masks = [[.283, -.074, 2]]\n",
    "\n",
    "# blob 119.3 and 240.2 pixels\n",
    "# cen = 320//2\n",
    "# companions = [[(cen-119.3)*0.063, (240.2-cen)*0.063, 1e-6]]\n",
    "\n",
    "starfile = data_root+'vizier_votable.vot' #library_subtracted/\n",
    "\n",
    "mstar_err = 0.0\n",
    "# {'F200W':0.002773909429007033, \n",
    "#              'F356W':0.0302418599954501, \n",
    "#              'F444W':0.037934753620330594}"
   ]
  },
  {
   "cell_type": "code",
   "execution_count": null,
   "id": "821d1617-109c-4678-855a-f2cb76459307",
   "metadata": {},
   "outputs": [],
   "source": [
    "import astropy\n",
    "\n",
    "# Read in VOT version\n",
    "vot_version = astropy.table.Table.read(starfile)\n",
    "\n",
    "# convert from freq to wl, just for plotting below.\n",
    "vot_version['wavelength'] = (astropy.constants.c /  vot_version['sed_freq']).to(astropy.units.micron)\n",
    "plt.clf()\n",
    "plt.figure()\n",
    "plt.scatter(vot_version['wavelength'], vot_version['sed_flux'], label='vizier_votable.vot', color='C1')\n",
    "\n",
    "plt.xlabel(\"Wavelength [micron]\")\n",
    "plt.ylabel(\"Flux [Jansky]\")\n",
    "plt.xlim(0,8)\n",
    "plt.legend(fontsize=9)\n",
    "plt.show()"
   ]
  },
  {
   "cell_type": "code",
   "execution_count": null,
   "id": "7986eb7a-9655-4487-86de-6f5d0126180a",
   "metadata": {
    "scrolled": true,
    "tags": []
   },
   "outputs": [],
   "source": [
    "Analysis.raw_contrast(starfile,spectral_type='F0V',companions=companions, subdir='rawcon') #library_subtracted/"
   ]
  },
  {
   "cell_type": "code",
   "execution_count": null,
   "id": "bcd589c3-6303-433b-ad1b-fee79014e046",
   "metadata": {},
   "outputs": [],
   "source": [
    "import platform\n",
    "if platform.processor() == 'arm':\n",
    "    os.environ[\"OPENBLAS_NUM_THREADS\"] = \"1\"\n",
    "    os.environ[\"OMP_NUM_THREADS\"] = \"1\" "
   ]
  },
  {
   "cell_type": "code",
   "execution_count": null,
   "id": "7195e8a3-a7cb-4358-a195-d97993466149",
   "metadata": {
    "scrolled": true,
    "tags": []
   },
   "outputs": [],
   "source": [
    "inj_seps = [0.05, 0.1, 0.15, 0.2, 0.25, 0.3, 0.35, 0.4, 0.45, 0.5, 0.6, 0.7, 0.8, 0.9, 1.0, 1.2, 1.4, 1.6, 1.8, 2.0, 2.5, 3.0]\n",
    "#Analysis.raw_contrast(starfile,spectral_type='F8V',companions=companions, plot_xlim=(0,3), subdir='rawcon')\n",
    "Analysis.calibrate_contrast(companions=companion_masks,\n",
    "                            injection_seps=inj_seps,\n",
    "                            plot_xlim=(0,3),\n",
    "                            subdir='calcon'#f'calcon{epoch}_noiwa_studentt'\n",
    "                           )"
   ]
  },
  {
   "cell_type": "code",
   "execution_count": null,
   "id": "03fb9435-8074-4927-9075-d9b07822a34f",
   "metadata": {},
   "outputs": [],
   "source": [
    "import platform\n",
    "if platform.processor() == 'arm':\n",
    "    os.environ[\"OPENBLAS_NUM_THREADS\"] = \"1\"\n",
    "    os.environ[\"OMP_NUM_THREADS\"] = \"1\" \n",
    "# once other image reduction steps are done, run this so that pyklip.parallelized doesn't kill your apple chip"
   ]
  },
  {
   "cell_type": "code",
   "execution_count": null,
   "id": "4096572d-5af9-401e-bc28-cdb1db40242e",
   "metadata": {
    "scrolled": true,
    "tags": []
   },
   "outputs": [],
   "source": [
    "Analysis.extract_companions(companions, \n",
    "                            starfile, \n",
    "                            mstar_err, \n",
    "                            klmode=10,\n",
    "                            spectral_type='F0V', \n",
    "                            fitmethod='mcmc',\n",
    "                            fitkernel='matern32',\n",
    "                            subdir='companions'\n",
    "#                             # subdir='companions_e1_nestedfix'\n",
    "#                             subdir='companions_e3_testiwaoff'\n",
    "                            )"
   ]
  },
  {
   "cell_type": "code",
   "execution_count": null,
   "id": "4c9cb0b8-3cf2-4e62-84b8-2a629a0a26a6",
   "metadata": {
    "scrolled": true
   },
   "outputs": [],
   "source": [
    "crash"
   ]
  },
  {
   "cell_type": "code",
   "execution_count": null,
   "id": "d041f39b-85bc-4019-9fa3-6ffd862223e8",
   "metadata": {},
   "outputs": [],
   "source": []
  },
  {
   "cell_type": "code",
   "execution_count": null,
   "id": "2c3bee5a-4a7b-499c-b8eb-0b8360427bda",
   "metadata": {},
   "outputs": [],
   "source": []
  },
  {
   "cell_type": "code",
   "execution_count": null,
   "id": "6f478983-ca6a-4c80-99f8-76d303126e9f",
   "metadata": {},
   "outputs": [],
   "source": []
  },
  {
   "cell_type": "code",
   "execution_count": null,
   "id": "2a1dd9ac-210d-484f-b1a9-493eb86419df",
   "metadata": {},
   "outputs": [],
   "source": [
    "# Set the input and output directories and grab the input FITS files.\n",
    "reduced = True\n",
    "cleanalign = True\n",
    "aligned = True\n",
    "\n",
    "pad = False\n",
    "coadd = False\n",
    "crop = False\n",
    "\n",
    "if aligned and coadd:\n",
    "    input_dir = './spaceklip/coadded/'\n",
    "    fitsfiles = sorted([input_dir + f for f in os.listdir(input_dir) if f.endswith('calints.fits')])\n",
    "elif aligned:\n",
    "    # input_dir = './spaceklip/aligned/'\n",
    "    input_dir = './spaceklip/aligned_e3/'\n",
    "    fitsfiles = sorted([input_dir + f for f in os.listdir(input_dir) if f.endswith('calints.fits')])\n",
    "elif cleanalign:\n",
    "    input_dir = './spaceklip/nanreplaced/'\n",
    "    fitsfiles = sorted([input_dir + f for f in os.listdir(input_dir) if f.endswith('calints.fits')])\n",
    "elif reduced:\n",
    "    input_dir = './spaceklip/stage2/'\n",
    "    fitsfiles = sorted([input_dir + f for f in os.listdir(input_dir) if f.endswith('.fits')])\n",
    "else:\n",
    "    # input_dir = './04558/'\n",
    "    # input_dir = './uncal_e1/'\n",
    "    # input_dir = './uncal_e2/'\n",
    "    input_dir = './uncal_e3/'\n",
    "    fitsfiles = sorted([input_dir + f for f in os.listdir(input_dir) if f.endswith('.fits')])\n",
    "\n",
    "output_dir = './spaceklip/'"
   ]
  },
  {
   "cell_type": "code",
   "execution_count": null,
   "id": "05ae9493-e0ac-484d-9d9a-f832ca7209fc",
   "metadata": {
    "scrolled": true,
    "tags": []
   },
   "outputs": [],
   "source": [
    "# Initialize the spaceKLIP database and read the input FITS files.\n",
    "Database = database.Database(output_dir=output_dir)\n",
    "Database.read_jwst_s012_data(datapaths=fitsfiles,\n",
    "                             psflibpaths=None,\n",
    "                             bgpaths=None)"
   ]
  },
  {
   "cell_type": "code",
   "execution_count": null,
   "id": "1feced0e-6727-4a3a-b556-5a444389452d",
   "metadata": {},
   "outputs": [],
   "source": [
    "select_obs = [\n",
    "              # 'JWST_NIRCAM_NRCA2_F200W_MASKRND_MASK335R_SUB320A335R',\n",
    "              'JWST_NIRCAM_NRCALONG_F356W_MASKRND_MASK335R_SUB320A335R',\n",
    "              'JWST_NIRCAM_NRCALONG_F444W_MASKRND_MASK335R_SUB320A335R',\n",
    "              ]\n",
    "\n",
    "Database.obs = {k:Database.obs[k] for k in select_obs}"
   ]
  },
  {
   "cell_type": "code",
   "execution_count": null,
   "id": "2a066055-11e2-42aa-8f83-7252b9930174",
   "metadata": {},
   "outputs": [],
   "source": [
    "ImageTools = imagetools.ImageTools(Database)"
   ]
  },
  {
   "cell_type": "code",
   "execution_count": null,
   "id": "e9f26329-93ca-46a9-87dd-227e06d751d3",
   "metadata": {
    "scrolled": true,
    "tags": []
   },
   "outputs": [],
   "source": [
    "pyklippipeline.run_obs(database=Database,\n",
    "                       kwargs={'mode': ['ADI+RDI'],\n",
    "                               'annuli': [4],\n",
    "                               # 'movement': [0.5],\n",
    "                               'subsections': [3],\n",
    "                               'numbasis': [1, 2, 3, 4, 5, 10, 20, 50, 100],\n",
    "                               'algo': 'klip'},\n",
    "                       subdir='klipsub_e3')"
   ]
  },
  {
   "cell_type": "code",
   "execution_count": null,
   "id": "c40b30ba-9083-467e-8f47-38e5ea929391",
   "metadata": {},
   "outputs": [],
   "source": [
    "Analysis = analysistools.AnalysisTools(Database)\n",
    "\n",
    "# companions = [[.3173, .0663, 1e-4]]\n",
    "companions = [[.3147, .0531, 1e-4]]\n",
    "\n",
    "# blob 119.3 and 240.2 pixels\n",
    "# cen = 320//2\n",
    "# companions = [[(cen-119.3)*0.063, (240.2-cen)*0.063, 1e-6]]\n",
    "\n",
    "starfile = './AFLepA.vot'\n",
    "\n",
    "mstar_err = 0.0\n",
    "# {'F200W':0.002773909429007033, \n",
    "#              'F356W':0.0302418599954501, \n",
    "#              'F444W':0.037934753620330594}"
   ]
  },
  {
   "cell_type": "code",
   "execution_count": null,
   "id": "49b6b99f-0096-46b5-a4be-b5115ab1800c",
   "metadata": {
    "scrolled": true,
    "tags": []
   },
   "outputs": [],
   "source": [
    "# Analysis.raw_contrast(starfile,spectral_type='F8V',companions=companions, plot_xlim=(0,3), subdir='rawcon_e3')"
   ]
  },
  {
   "cell_type": "code",
   "execution_count": null,
   "id": "4dc51a1f-4932-415a-93d6-01da84fd1214",
   "metadata": {
    "scrolled": true,
    "tags": []
   },
   "outputs": [],
   "source": [
    "# inj_seps = [0.1, 0.2, 0.3, 0.4, 0.5, 0.6, 0.7, 0.8, 0.9, 1.0, 1.2, 1.4, 1.6, 1.8, 2.0, 2.5, 3.0]\n",
    "# Analysis.raw_contrast(starfile,spectral_type='F8V',companions=companions, plot_xlim=(0,3), subdir='rawcon')\n",
    "# Analysis.calibrate_contrast(\n",
    "#                             companions=companions,\n",
    "#                             injection_seps=inj_seps,\n",
    "#                             plot_xlim=(0,3),\n",
    "#                             subdir='calcon_e3'\n",
    "#                            )"
   ]
  },
  {
   "cell_type": "code",
   "execution_count": null,
   "id": "784c33ee-1dc7-49d2-9e8e-70e0c35307ed",
   "metadata": {
    "scrolled": true,
    "tags": []
   },
   "outputs": [],
   "source": [
    "Analysis.extract_companions(companions, \n",
    "                            starfile, \n",
    "                            mstar_err, \n",
    "                            klmode=100,\n",
    "                            spectral_type='F8V', \n",
    "                            fitmethod='nested',\n",
    "                            fitkernel='diag',\n",
    "                            subdir='companions'\n",
    "                           )"
   ]
  },
  {
   "cell_type": "code",
   "execution_count": null,
   "id": "51ef59ef-1cd2-473e-81cb-556d8746234b",
   "metadata": {},
   "outputs": [],
   "source": []
  },
  {
   "cell_type": "code",
   "execution_count": null,
   "id": "78a3cee4-7a2f-4b28-8e8a-1079da2a92d8",
   "metadata": {},
   "outputs": [],
   "source": []
  },
  {
   "cell_type": "code",
   "execution_count": null,
   "id": "d969f448-18b9-4334-898f-2855f3250765",
   "metadata": {},
   "outputs": [],
   "source": []
  },
  {
   "cell_type": "markdown",
   "id": "f75263c1-b8bd-4221-a1e5-85e88a9fe9ce",
   "metadata": {},
   "source": [
    "# F200W why do you haate me"
   ]
  },
  {
   "cell_type": "code",
   "execution_count": null,
   "id": "5af95806-574f-41da-8cb0-f91dacf962ce",
   "metadata": {
    "scrolled": true,
    "tags": []
   },
   "outputs": [],
   "source": [
    "# Set the input and output directories and grab the input FITS files.\n",
    "reduced = True\n",
    "cleanalign = True\n",
    "aligned = True\n",
    "\n",
    "pad = False\n",
    "coadd = False\n",
    "crop = False\n",
    "\n",
    "if aligned and coadd:\n",
    "    input_dir = './spaceklip/coadded/'\n",
    "    fitsfiles = sorted([input_dir + f for f in os.listdir(input_dir) if f.endswith('calints.fits')])\n",
    "elif aligned:\n",
    "    # input_dir = './spaceklip/aligned/'\n",
    "    input_dir = './spaceklip/aligned_e1/'\n",
    "    fitsfiles = sorted([input_dir + f for f in os.listdir(input_dir) if f.endswith('calints.fits')])\n",
    "elif cleanalign:\n",
    "    input_dir = './spaceklip/nanreplaced/'\n",
    "    fitsfiles = sorted([input_dir + f for f in os.listdir(input_dir) if f.endswith('calints.fits')])\n",
    "elif reduced:\n",
    "    input_dir = './spaceklip/stage2/'\n",
    "    fitsfiles = sorted([input_dir + f for f in os.listdir(input_dir) if f.endswith('.fits')])\n",
    "else:\n",
    "    # input_dir = './04558/'\n",
    "    # input_dir = './uncal_e1/'\n",
    "    # input_dir = './uncal_e2/'\n",
    "    input_dir = './uncal_e3/'\n",
    "    fitsfiles = sorted([input_dir + f for f in os.listdir(input_dir) if f.endswith('.fits')])\n",
    "\n",
    "output_dir = './spaceklip/'\n",
    "\n",
    "# Initialize the spaceKLIP database and read the input FITS files.\n",
    "Database = database.Database(output_dir=output_dir)\n",
    "Database.read_jwst_s012_data(datapaths=fitsfiles,\n",
    "                             psflibpaths=None,\n",
    "                             bgpaths=None)\n",
    "\n",
    "select_obs = [\n",
    "              'JWST_NIRCAM_NRCA2_F200W_MASKRND_MASK335R_SUB320A335R',\n",
    "              ]\n",
    "\n",
    "Database.obs = {k:Database.obs[k] for k in select_obs}\n",
    "\n",
    "ImageTools = imagetools.ImageTools(Database)\n",
    "\n",
    "pyklippipeline.run_obs(database=Database,\n",
    "                       kwargs={'mode': ['ADI+RDI'],\n",
    "                               'annuli': [4],\n",
    "                               # 'movement': [0.5],\n",
    "                               'subsections': [3],\n",
    "                               'numbasis': [1, 2, 3, 4, 5, 10, 20, 50, 100],\n",
    "                               'algo': 'klip'},\n",
    "                       subdir='klipsub_e1')\n",
    "\n",
    "Analysis = analysistools.AnalysisTools(Database)\n",
    "\n",
    "companions = [[.3173, .0663, 1e-4]]\n",
    "# companions = [[.3147, .0531, 1e-4]]\n",
    "\n",
    "# blob 119.3 and 240.2 pixels\n",
    "# cen = 320//2\n",
    "# companions = [[(cen-119.3)*0.063, (240.2-cen)*0.063, 1e-6]]\n",
    "\n",
    "starfile = './AFLepA.vot'\n",
    "\n",
    "mstar_err = 0.0\n",
    "# {'F200W':0.002773909429007033, \n",
    "#              'F356W':0.0302418599954501, \n",
    "#              'F444W':0.037934753620330594}\n",
    "\n",
    "# Analysis.raw_contrast(starfile,spectral_type='F8V',companions=companions, plot_xlim=(0,3), subdir='rawcon_e1')\n",
    "\n",
    "# inj_seps = [0.1, 0.2, 0.3, 0.4, 0.5, 0.6, 0.7, 0.8, 0.9, 1.0, 1.2, 1.4, 1.6, 1.8, 2.0, 2.5, 3.0]\n",
    "# Analysis.raw_contrast(starfile,spectral_type='F8V',companions=companions, plot_xlim=(0,3), subdir='rawcon')\n",
    "# Analysis.calibrate_contrast(\n",
    "#                             companions=companions,\n",
    "#                             injection_seps=inj_seps,\n",
    "#                             plot_xlim=(0,3),\n",
    "#                             subdir='calcon_e1'\n",
    "#                            )\n",
    "\n",
    "Analysis.extract_companions(companions, \n",
    "                            starfile, \n",
    "                            mstar_err, \n",
    "                            klmode=100,\n",
    "                            spectral_type='F8V', \n",
    "                            fitmethod='nested',\n",
    "                            fitkernel='diag',\n",
    "                            subdir='companions_e1'\n",
    "                           )"
   ]
  },
  {
   "cell_type": "code",
   "execution_count": null,
   "id": "e12dab1a-b7e9-4f12-b404-30ff6c26589c",
   "metadata": {
    "scrolled": true,
    "tags": []
   },
   "outputs": [],
   "source": [
    "# Set the input and output directories and grab the input FITS files.\n",
    "reduced = True\n",
    "cleanalign = True\n",
    "aligned = True\n",
    "\n",
    "pad = False\n",
    "coadd = False\n",
    "crop = False\n",
    "\n",
    "if aligned and coadd:\n",
    "    input_dir = './spaceklip/coadded/'\n",
    "    fitsfiles = sorted([input_dir + f for f in os.listdir(input_dir) if f.endswith('calints.fits')])\n",
    "elif aligned:\n",
    "    # input_dir = './spaceklip/aligned/'\n",
    "    input_dir = './spaceklip/aligned_e3/'\n",
    "    fitsfiles = sorted([input_dir + f for f in os.listdir(input_dir) if f.endswith('calints.fits')])\n",
    "elif cleanalign:\n",
    "    input_dir = './spaceklip/nanreplaced/'\n",
    "    fitsfiles = sorted([input_dir + f for f in os.listdir(input_dir) if f.endswith('calints.fits')])\n",
    "elif reduced:\n",
    "    input_dir = './spaceklip/stage2/'\n",
    "    fitsfiles = sorted([input_dir + f for f in os.listdir(input_dir) if f.endswith('.fits')])\n",
    "else:\n",
    "    # input_dir = './04558/'\n",
    "    # input_dir = './uncal_e1/'\n",
    "    # input_dir = './uncal_e2/'\n",
    "    input_dir = './uncal_e3/'\n",
    "    fitsfiles = sorted([input_dir + f for f in os.listdir(input_dir) if f.endswith('.fits')])\n",
    "\n",
    "output_dir = './spaceklip/'\n",
    "\n",
    "# Initialize the spaceKLIP database and read the input FITS files.\n",
    "Database = database.Database(output_dir=output_dir)\n",
    "Database.read_jwst_s012_data(datapaths=fitsfiles,\n",
    "                             psflibpaths=None,\n",
    "                             bgpaths=None)\n",
    "\n",
    "select_obs = [\n",
    "              'JWST_NIRCAM_NRCA2_F200W_MASKRND_MASK335R_SUB320A335R',\n",
    "              ]\n",
    "\n",
    "Database.obs = {k:Database.obs[k] for k in select_obs}\n",
    "\n",
    "ImageTools = imagetools.ImageTools(Database)\n",
    "\n",
    "pyklippipeline.run_obs(database=Database,\n",
    "                       kwargs={'mode': ['ADI+RDI'],\n",
    "                               'annuli': [4],\n",
    "                               # 'movement': [0.5],\n",
    "                               'subsections': [3],\n",
    "                               'numbasis': [1, 2, 3, 4, 5, 10, 20, 50, 100],\n",
    "                               'algo': 'klip'},\n",
    "                       subdir='klipsub_e3')\n",
    "\n",
    "Analysis = analysistools.AnalysisTools(Database)\n",
    "\n",
    "# companions = [[.3173, .0663, 1e-4]]\n",
    "companions = [[.3147, .0531, 1e-4]]\n",
    "\n",
    "# blob 119.3 and 240.2 pixels\n",
    "# cen = 320//2\n",
    "# companions = [[(cen-119.3)*0.063, (240.2-cen)*0.063, 1e-6]]\n",
    "\n",
    "starfile = './AFLepA.vot'\n",
    "\n",
    "mstar_err = 0.0\n",
    "# {'F200W':0.002773909429007033, \n",
    "#              'F356W':0.0302418599954501, \n",
    "#              'F444W':0.037934753620330594}\n",
    "\n",
    "Analysis.raw_contrast(starfile,spectral_type='F8V',companions=companions, plot_xlim=(0,3), subdir='rawcon_e3')\n",
    "\n",
    "inj_seps = [0.1, 0.2, 0.3, 0.4, 0.5, 0.6, 0.7, 0.8, 0.9, 1.0, 1.2, 1.4, 1.6, 1.8, 2.0, 2.5, 3.0]\n",
    "Analysis.raw_contrast(starfile,spectral_type='F8V',companions=companions, plot_xlim=(0,3), subdir='rawcon')\n",
    "Analysis.calibrate_contrast(\n",
    "                            companions=companions,\n",
    "                            injection_seps=inj_seps,\n",
    "                            plot_xlim=(0,3),\n",
    "                            subdir='calcon_e3'\n",
    "                           )\n",
    "\n",
    "# Analysis.extract_companions(companions, \n",
    "#                             starfile, \n",
    "#                             mstar_err, \n",
    "#                             klmode=100,\n",
    "#                             spectral_type='F8V', \n",
    "#                             fitmethod='mcmc',\n",
    "#                             fitkernel='diag',\n",
    "#                             subdir='companions_e3'\n",
    "#                            )"
   ]
  },
  {
   "cell_type": "code",
   "execution_count": null,
   "id": "eee8ed41-6316-4e41-82e0-6ceac29187fd",
   "metadata": {},
   "outputs": [],
   "source": []
  },
  {
   "cell_type": "code",
   "execution_count": null,
   "id": "fa31f16b-db4f-4c9c-b3e4-0a9c0ca4795f",
   "metadata": {},
   "outputs": [],
   "source": []
  },
  {
   "cell_type": "code",
   "execution_count": null,
   "id": "d2ea4774-1107-4117-a3b1-4dc0d0cca274",
   "metadata": {},
   "outputs": [],
   "source": []
  },
  {
   "cell_type": "code",
   "execution_count": null,
   "id": "ffea5345-9ee5-452c-aae1-26ba968804f3",
   "metadata": {},
   "outputs": [],
   "source": []
  },
  {
   "cell_type": "code",
   "execution_count": null,
   "id": "727dcb4e-bf47-4595-bce6-e55d3d0fb532",
   "metadata": {},
   "outputs": [],
   "source": []
  },
  {
   "cell_type": "code",
   "execution_count": null,
   "id": "34d86ec7-720a-4a40-9e24-9ae49c58ab0b",
   "metadata": {},
   "outputs": [],
   "source": [
    "Analysis.raw_contrast(starfile=data_root+'vizier_votable.vot',\n",
    "                      spectral_type='F8V',\n",
    "                      companions=[[.3147, .0531, 1e-4]], \n",
    "                      plot_xlim=(0,3), \n",
    "                      subdir='rawcon')"
   ]
  },
  {
   "cell_type": "code",
   "execution_count": null,
   "id": "47a8917f-aedb-48fb-8c0d-483011889fd4",
   "metadata": {},
   "outputs": [],
   "source": [
    "Analysis.calibrate_contrast(\n",
    "                            companions=[[.3147, .0531, 1e-4]],\n",
    "                            injection_seps=inj_seps,\n",
    "                            plot_xlim=(0,3),\n",
    "                            subdir='calcon'\n",
    "                           )"
   ]
  },
  {
   "cell_type": "code",
   "execution_count": null,
   "id": "229d4665-3108-4702-b2c5-cea5347fc16c",
   "metadata": {},
   "outputs": [],
   "source": []
  },
  {
   "cell_type": "code",
   "execution_count": null,
   "id": "d12f0847-7b4c-401d-a738-87c02b57205c",
   "metadata": {},
   "outputs": [],
   "source": []
  },
  {
   "cell_type": "code",
   "execution_count": null,
   "id": "8db40b75-6788-4970-bba3-897bd212d392",
   "metadata": {},
   "outputs": [],
   "source": []
  },
  {
   "cell_type": "code",
   "execution_count": null,
   "id": "6ffb286a-adde-4ba8-858c-d91b6f6c7571",
   "metadata": {},
   "outputs": [],
   "source": [
    "from spaceKLIP.mast import query_coron_datasets\n",
    "a=query_coron_datasets('NIRCam','F200W','MASKA335R',ignore_ta=True,ignore_cal=True,level='uncal')\n",
    "a.sort('program')\n",
    "a[72:]"
   ]
  },
  {
   "cell_type": "code",
   "execution_count": null,
   "id": "359e1ac4-8efa-4039-88c4-2e5fbb819246",
   "metadata": {},
   "outputs": [],
   "source": [
    "ff = sorted(['DATA/JWST/NIRCam/04558_1/F200W/uncal/' + f for f in os.listdir('DATA/JWST/NIRCam/04558_1/F200W/uncal/') if f.endswith('.fits')])\n",
    "\n",
    "db = database.Database(output_dir='DATA/JWST/NIRCam/04558_1/F200W/')\n",
    "db.read_jwst_s012_data(datapaths=ff,\n",
    "                             psflibpaths=None,\n",
    "                             bgpaths=None)"
   ]
  },
  {
   "cell_type": "code",
   "execution_count": null,
   "id": "2b4dfe7e-9f3a-4cbe-adfd-39600a37322c",
   "metadata": {},
   "outputs": [],
   "source": [
    "Database.obs['JWST_NIRCAM_NRCA2_F200W_MASKRND_MASK335R_SUB320A335R'][0:13]"
   ]
  },
  {
   "cell_type": "code",
   "execution_count": null,
   "id": "ed45b835-4a71-47fd-a1b6-88eb83b43d3d",
   "metadata": {},
   "outputs": [],
   "source": [
    "colors = plt.rcParams['axes.prop_cycle'].by_key()['color']\n",
    "len(colors)"
   ]
  },
  {
   "cell_type": "code",
   "execution_count": null,
   "id": "a9dbc069-6f3c-4165-81ff-6645819482bc",
   "metadata": {},
   "outputs": [],
   "source": []
  }
 ],
 "metadata": {
  "kernelspec": {
   "display_name": "Python 3 (ipykernel)",
   "language": "python",
   "name": "python3"
  },
  "language_info": {
   "codemirror_mode": {
    "name": "ipython",
    "version": 3
   },
   "file_extension": ".py",
   "mimetype": "text/x-python",
   "name": "python",
   "nbconvert_exporter": "python",
   "pygments_lexer": "ipython3",
   "version": "3.11.9"
  }
 },
 "nbformat": 4,
 "nbformat_minor": 5
}
