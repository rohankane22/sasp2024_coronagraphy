{
 "cells": [
  {
   "cell_type": "code",
   "execution_count": 42,
   "id": "b464f88c-0f7e-481c-b67a-a18a833c689a",
   "metadata": {},
   "outputs": [],
   "source": [
    "from __future__ import division\n",
    "\n",
    "# =============================================================================\n",
    "# IMPORTS\n",
    "# =============================================================================\n",
    "\n",
    "import os\n",
    "import pdb\n",
    "import sys \n",
    "\n",
    "import astropy.io.fits as pyfits\n",
    "import matplotlib.pyplot as plt\n",
    "import numpy as np\n",
    "\n",
    "from spaceKLIP import database, coron1pipeline, coron2pipeline, coron3pipeline, pyklippipeline, imagetools, analysistools\n",
    "\n",
    "# plotting\n",
    "import matplotlib.pyplot as plt"
   ]
  },
  {
   "cell_type": "code",
   "execution_count": 49,
   "id": "e2c27464-460a-48cc-9a14-00f6b93cc25a",
   "metadata": {},
   "outputs": [],
   "source": [
    "# Set the input and output directories and grab the input FITS files.\n",
    "reduced = False\n",
    "cleanalign = False\n",
    "aligned = False\n",
    "\n",
    "blur = True\n",
    "pad = True\n",
    "coadd = False\n",
    "crop = False\n",
    "\n",
    "data_root='DATA/JWST/NIRCam/01448/F480M/'\n",
    "\n",
    "if aligned and coadd:\n",
    "    input_dir = os.path.join(data_root, 'coadded/')\n",
    "    fitsfiles = sorted([input_dir + f for f in os.listdir(input_dir) if f.endswith('calints.fits')])\n",
    "elif aligned:\n",
    "    # input_dir = './spaceklip/aligned/'\n",
    "    input_dir = os.path.join(data_root, 'aligned/')#f'./spaceklip/aligned{epoch}/'\n",
    "    # input_dir = './spaceklip/aligned/'\n",
    "    fitsfiles = sorted([input_dir + f for f in os.listdir(input_dir) if f.endswith('calints.fits')])\n",
    "elif cleanalign:\n",
    "    input_dir = os.path.join(data_root, 'recentered/')\n",
    "    fitsfiles = sorted([input_dir + f for f in os.listdir(input_dir) if f.endswith('calints.fits')])\n",
    "elif reduced:\n",
    "    input_dir = os.path.join(data_root, 'stage2/')\n",
    "    fitsfiles = sorted([input_dir + f for f in os.listdir(input_dir) if f.endswith('.fits')])\n",
    "else:\n",
    "    # input_dir = './04558/'\n",
    "    input_dir = os.path.join(data_root, 'uncal/') #f'/Users/wbalmer/data/jwst/aflep/uncal{epoch}/'\n",
    "    # input_dir = '/Users/wbalmer/data/jwst/aflep/uncal_e3/'\n",
    "    # input_dir = './uncal_e2/'\n",
    "    # input_dir = './uncal_e3/'\n",
    "    fitsfiles = sorted([input_dir + f for f in os.listdir(input_dir) if f.endswith('.fits')])\n",
    "\n",
    "# additional PSF references dir\n",
    "ref_ids = []\n",
    "additionalrefs = []\n",
    "for i in range(len(ref_ids)):\n",
    "    input_dir_ref = 'DATA/JWST/NIRCam/%s/F480M/uncal/' % ref_ids[i]\n",
    "    # read files in additional PSF references input dir\n",
    "    additionalrefs = additionalrefs + sorted([input_dir_ref + f for f in os.listdir(input_dir_ref) if f.endswith('.fits')])\n",
    "# list of PSF reference files in main input dir\n",
    "#psffitsfiles = [f for f in fitsfiles if 'jw04558003001' in f]+[f for f in fitsfiles if 'jw04558006001' in f]+[f for f in fitsfiles if 'jw04558009001' in f]\n",
    "psffitsfiles = [f for f in fitsfiles if '10001' in f]\n",
    "# global list of ALL files\n",
    "allpaths = fitsfiles + additionalrefs\n",
    "# global list of all PSF reference files \n",
    "psfpaths = additionalrefs + psffitsfiles\n",
    "\n",
    "\n",
    "output_dir = data_root"
   ]
  },
  {
   "cell_type": "code",
   "execution_count": 50,
   "id": "29ec1dd2-40f3-4902-a8f9-7dc2899972e2",
   "metadata": {},
   "outputs": [
    {
     "name": "stdout",
     "output_type": "stream",
     "text": [
      "[spaceKLIP.database:INFO] --> Identified 1 concatenation(s)\n",
      "[spaceKLIP.database:INFO]   --> Concatenation 1: JWST_NIRCAM_NRCBLONG_F480M_CLEAR_NONE_FULL\n",
      " TYPE   EXP_TYPE DATAMODL TELESCOP ... BUNIT      ROLL_REF      BLURFWHM\n",
      "------ --------- -------- -------- ... ----- ------------------ --------\n",
      "   SCI NRC_IMAGE   STAGE0     JWST ...    DN 273.21303545364003      nan\n",
      "   SCI NRC_IMAGE   STAGE0     JWST ...    DN   273.213005067784      nan\n",
      "   SCI NRC_IMAGE   STAGE0     JWST ...    DN  273.2132490364184      nan\n",
      "SCI_BG NRC_IMAGE   STAGE0     JWST ...    DN  229.6612460254641      nan\n",
      "SCI_BG NRC_IMAGE   STAGE0     JWST ...    DN 229.66138104316786      nan\n",
      "SCI_BG NRC_IMAGE   STAGE0     JWST ...    DN  229.6611882703116      nan\n",
      "   SCI NRC_IMAGE   STAGE0     JWST ...    DN 172.72211377042873      nan\n",
      "   SCI NRC_IMAGE   STAGE0     JWST ...    DN 172.72195238194033      nan\n",
      "   SCI NRC_IMAGE   STAGE0     JWST ...    DN 172.72221068076723      nan\n",
      "SCI_BG NRC_IMAGE   STAGE0     JWST ...    DN 109.27920199517112      nan\n",
      "   ...       ...      ...      ... ...   ...                ...      ...\n",
      "   SCI NRC_IMAGE   STAGE0     JWST ...    DN 313.73823328369775      nan\n",
      "   SCI NRC_IMAGE   STAGE0     JWST ...    DN 132.51802947964975      nan\n",
      "   SCI NRC_IMAGE   STAGE0     JWST ...    DN 132.51856925673968      nan\n",
      "   SCI NRC_IMAGE   STAGE0     JWST ...    DN 132.51750825057144      nan\n",
      "   SCI NRC_IMAGE   STAGE0     JWST ...    DN 104.68888093697413      nan\n",
      "   SCI NRC_IMAGE   STAGE0     JWST ...    DN 104.68881162527192      nan\n",
      "   SCI NRC_IMAGE   STAGE0     JWST ...    DN 104.68897838718418      nan\n",
      "SCI_BG NRC_IMAGE   STAGE0     JWST ...    DN 259.66282854873424      nan\n",
      "SCI_BG NRC_IMAGE   STAGE0     JWST ...    DN  259.6627709589463      nan\n",
      "SCI_BG NRC_IMAGE   STAGE0     JWST ...    DN 259.66284797523724      nan\n",
      "Length = 24 rows\n"
     ]
    }
   ],
   "source": [
    "# Initialize the spaceKLIP database and read the input FITS files.\n",
    "Database = database.Database(output_dir=output_dir)\n",
    "Database.read_jwst_s012_data(datapaths=fitsfiles,\n",
    "                             psflibpaths=psfpaths,\n",
    "                             bgpaths=None)"
   ]
  },
  {
   "cell_type": "code",
   "execution_count": 51,
   "id": "d7a8a80a-44af-4ba4-b53d-e228f026c478",
   "metadata": {},
   "outputs": [
    {
     "name": "stdout",
     "output_type": "stream",
     "text": [
      "NIRCAM_F480M_NONE\n",
      "\tSTAGE0: 24 files;\t15 SCI, 0 REF, 9 BG\n"
     ]
    }
   ],
   "source": [
    "Database.summarize()"
   ]
  },
  {
   "cell_type": "code",
   "execution_count": 52,
   "id": "c7507ae2-b37f-40ec-a35c-46ea97dab740",
   "metadata": {},
   "outputs": [
    {
     "name": "stdout",
     "output_type": "stream",
     "text": [
      "[spaceKLIP.coron1pipeline:INFO] --> Concatenation JWST_NIRCAM_NRCBLONG_F480M_CLEAR_NONE_FULL\n",
      "[spaceKLIP.coron1pipeline:INFO]   --> Coron1Pipeline: processing jw01448001001_08101_00001_nrcblong_uncal.fits\n",
      "[spaceKLIP.coron1pipeline:INFO]   --> Coron1Pipeline: processing jw01448001001_08101_00002_nrcblong_uncal.fits\n",
      "[spaceKLIP.coron1pipeline:INFO]   --> Coron1Pipeline: processing jw01448001001_08101_00003_nrcblong_uncal.fits\n",
      "[spaceKLIP.coron1pipeline:INFO]   --> Coron1Pipeline: processing jw01448002001_08101_00001_nrcblong_uncal.fits\n",
      "[spaceKLIP.coron1pipeline:INFO]   --> Coron1Pipeline: processing jw01448002001_08101_00002_nrcblong_uncal.fits\n",
      "[spaceKLIP.coron1pipeline:INFO]   --> Coron1Pipeline: processing jw01448002001_08101_00003_nrcblong_uncal.fits\n",
      "[spaceKLIP.coron1pipeline:INFO]   --> Coron1Pipeline: processing jw01448003001_08101_00001_nrcblong_uncal.fits\n",
      "[spaceKLIP.coron1pipeline:INFO]   --> Coron1Pipeline: processing jw01448003001_08101_00002_nrcblong_uncal.fits\n",
      "[spaceKLIP.coron1pipeline:INFO]   --> Coron1Pipeline: processing jw01448003001_08101_00003_nrcblong_uncal.fits\n",
      "[spaceKLIP.coron1pipeline:INFO]   --> Coron1Pipeline: processing jw01448004001_08101_00001_nrcblong_uncal.fits\n",
      "[spaceKLIP.coron1pipeline:INFO]   --> Coron1Pipeline: processing jw01448004001_08101_00002_nrcblong_uncal.fits\n"
     ]
    },
    {
     "ename": "KeyboardInterrupt",
     "evalue": "",
     "output_type": "error",
     "traceback": [
      "\u001b[0;31m---------------------------------------------------------------------------\u001b[0m",
      "\u001b[0;31mKeyboardInterrupt\u001b[0m                         Traceback (most recent call last)",
      "Cell \u001b[0;32mIn[52], line 2\u001b[0m\n\u001b[1;32m      1\u001b[0m \u001b[38;5;28;01mif\u001b[39;00m \u001b[38;5;129;01mnot\u001b[39;00m reduced:\n\u001b[0;32m----> 2\u001b[0m     \u001b[43mcoron1pipeline\u001b[49m\u001b[38;5;241;43m.\u001b[39;49m\u001b[43mrun_obs\u001b[49m\u001b[43m(\u001b[49m\u001b[43mdatabase\u001b[49m\u001b[38;5;241;43m=\u001b[39;49m\u001b[43mDatabase\u001b[49m\u001b[43m,\u001b[49m\n\u001b[1;32m      3\u001b[0m \u001b[43m                           \u001b[49m\u001b[43msteps\u001b[49m\u001b[38;5;241;43m=\u001b[39;49m\u001b[43m{\u001b[49m\u001b[38;5;124;43m'\u001b[39;49m\u001b[38;5;124;43msaturation\u001b[39;49m\u001b[38;5;124;43m'\u001b[39;49m\u001b[43m:\u001b[49m\u001b[43m \u001b[49m\u001b[43m{\u001b[49m\u001b[38;5;124;43m'\u001b[39;49m\u001b[38;5;124;43mn_pix_grow_sat\u001b[39;49m\u001b[38;5;124;43m'\u001b[39;49m\u001b[43m:\u001b[49m\u001b[43m \u001b[49m\u001b[38;5;241;43m1\u001b[39;49m\u001b[43m,\u001b[49m\n\u001b[1;32m      4\u001b[0m \u001b[43m                                                 \u001b[49m\u001b[38;5;124;43m'\u001b[39;49m\u001b[38;5;124;43mgrow_diagonal\u001b[39;49m\u001b[38;5;124;43m'\u001b[39;49m\u001b[43m:\u001b[49m\u001b[43m \u001b[49m\u001b[38;5;28;43;01mFalse\u001b[39;49;00m\u001b[43m}\u001b[49m\u001b[43m,\u001b[49m\n\u001b[1;32m      5\u001b[0m \u001b[43m                                  \u001b[49m\u001b[38;5;124;43m'\u001b[39;49m\u001b[38;5;124;43mrefpix\u001b[39;49m\u001b[38;5;124;43m'\u001b[39;49m\u001b[43m:\u001b[49m\u001b[43m \u001b[49m\u001b[43m{\u001b[49m\u001b[38;5;124;43m'\u001b[39;49m\u001b[38;5;124;43modd_even_columns\u001b[39;49m\u001b[38;5;124;43m'\u001b[39;49m\u001b[43m:\u001b[49m\u001b[43m \u001b[49m\u001b[38;5;28;43;01mTrue\u001b[39;49;00m\u001b[43m,\u001b[49m\n\u001b[1;32m      6\u001b[0m \u001b[43m                                             \u001b[49m\u001b[38;5;124;43m'\u001b[39;49m\u001b[38;5;124;43modd_even_rows\u001b[39;49m\u001b[38;5;124;43m'\u001b[39;49m\u001b[43m:\u001b[49m\u001b[43m \u001b[49m\u001b[38;5;28;43;01mTrue\u001b[39;49;00m\u001b[43m,\u001b[49m\n\u001b[1;32m      7\u001b[0m \u001b[43m                                             \u001b[49m\u001b[38;5;124;43m'\u001b[39;49m\u001b[38;5;124;43mnlower\u001b[39;49m\u001b[38;5;124;43m'\u001b[39;49m\u001b[43m:\u001b[49m\u001b[43m \u001b[49m\u001b[38;5;241;43m4\u001b[39;49m\u001b[43m,\u001b[49m\n\u001b[1;32m      8\u001b[0m \u001b[43m                                             \u001b[49m\u001b[38;5;124;43m'\u001b[39;49m\u001b[38;5;124;43mnupper\u001b[39;49m\u001b[38;5;124;43m'\u001b[39;49m\u001b[43m:\u001b[49m\u001b[43m \u001b[49m\u001b[38;5;241;43m4\u001b[39;49m\u001b[43m,\u001b[49m\n\u001b[1;32m      9\u001b[0m \u001b[43m                                             \u001b[49m\u001b[38;5;124;43m'\u001b[39;49m\u001b[38;5;124;43mnleft\u001b[39;49m\u001b[38;5;124;43m'\u001b[39;49m\u001b[43m:\u001b[49m\u001b[43m \u001b[49m\u001b[38;5;241;43m4\u001b[39;49m\u001b[43m,\u001b[49m\n\u001b[1;32m     10\u001b[0m \u001b[43m                                             \u001b[49m\u001b[38;5;124;43m'\u001b[39;49m\u001b[38;5;124;43mnright\u001b[39;49m\u001b[38;5;124;43m'\u001b[39;49m\u001b[43m:\u001b[49m\u001b[43m \u001b[49m\u001b[38;5;241;43m4\u001b[39;49m\u001b[43m,\u001b[49m\n\u001b[1;32m     11\u001b[0m \u001b[43m                                             \u001b[49m\u001b[38;5;124;43m'\u001b[39;49m\u001b[38;5;124;43mnrow_off\u001b[39;49m\u001b[38;5;124;43m'\u001b[39;49m\u001b[43m:\u001b[49m\u001b[43m \u001b[49m\u001b[38;5;241;43m0\u001b[39;49m\u001b[43m,\u001b[49m\n\u001b[1;32m     12\u001b[0m \u001b[43m                                             \u001b[49m\u001b[38;5;124;43m'\u001b[39;49m\u001b[38;5;124;43mncol_off\u001b[39;49m\u001b[38;5;124;43m'\u001b[39;49m\u001b[43m:\u001b[49m\u001b[43m \u001b[49m\u001b[38;5;241;43m0\u001b[39;49m\u001b[43m}\u001b[49m\u001b[43m,\u001b[49m\n\u001b[1;32m     13\u001b[0m \u001b[43m                                  \u001b[49m\u001b[38;5;124;43m'\u001b[39;49m\u001b[38;5;124;43mdark_current\u001b[39;49m\u001b[38;5;124;43m'\u001b[39;49m\u001b[43m:\u001b[49m\u001b[43m \u001b[49m\u001b[43m{\u001b[49m\u001b[38;5;124;43m'\u001b[39;49m\u001b[38;5;124;43mskip\u001b[39;49m\u001b[38;5;124;43m'\u001b[39;49m\u001b[43m:\u001b[49m\u001b[43m \u001b[49m\u001b[38;5;28;43;01mTrue\u001b[39;49;00m\u001b[43m}\u001b[49m\u001b[43m,\u001b[49m\n\u001b[1;32m     14\u001b[0m \u001b[43m                                  \u001b[49m\u001b[38;5;124;43m'\u001b[39;49m\u001b[38;5;124;43mpersistence\u001b[39;49m\u001b[38;5;124;43m'\u001b[39;49m\u001b[43m:\u001b[49m\u001b[43m \u001b[49m\u001b[43m{\u001b[49m\u001b[38;5;124;43m'\u001b[39;49m\u001b[38;5;124;43mskip\u001b[39;49m\u001b[38;5;124;43m'\u001b[39;49m\u001b[43m:\u001b[49m\u001b[43m \u001b[49m\u001b[38;5;28;43;01mTrue\u001b[39;49;00m\u001b[43m}\u001b[49m\u001b[43m,\u001b[49m\n\u001b[1;32m     15\u001b[0m \u001b[43m                                  \u001b[49m\u001b[38;5;124;43m'\u001b[39;49m\u001b[38;5;124;43mjump\u001b[39;49m\u001b[38;5;124;43m'\u001b[39;49m\u001b[43m:\u001b[49m\u001b[43m \u001b[49m\u001b[43m{\u001b[49m\u001b[38;5;124;43m'\u001b[39;49m\u001b[38;5;124;43mrejection_threshold\u001b[39;49m\u001b[38;5;124;43m'\u001b[39;49m\u001b[43m:\u001b[49m\u001b[43m \u001b[49m\u001b[38;5;241;43m4.\u001b[39;49m\u001b[43m,\u001b[49m\n\u001b[1;32m     16\u001b[0m \u001b[43m                                           \u001b[49m\u001b[38;5;124;43m'\u001b[39;49m\u001b[38;5;124;43mthree_group_rejection_threshold\u001b[39;49m\u001b[38;5;124;43m'\u001b[39;49m\u001b[43m:\u001b[49m\u001b[43m \u001b[49m\u001b[38;5;241;43m4.\u001b[39;49m\u001b[43m,\u001b[49m\n\u001b[1;32m     17\u001b[0m \u001b[43m                                           \u001b[49m\u001b[38;5;124;43m'\u001b[39;49m\u001b[38;5;124;43mfour_group_rejection_threshold\u001b[39;49m\u001b[38;5;124;43m'\u001b[39;49m\u001b[43m:\u001b[49m\u001b[43m \u001b[49m\u001b[38;5;241;43m4.\u001b[39;49m\u001b[43m,\u001b[49m\n\u001b[1;32m     18\u001b[0m \u001b[43m                                           \u001b[49m\u001b[38;5;124;43m'\u001b[39;49m\u001b[38;5;124;43mmaximum_cores\u001b[39;49m\u001b[38;5;124;43m'\u001b[39;49m\u001b[43m:\u001b[49m\u001b[43m \u001b[49m\u001b[38;5;124;43m'\u001b[39;49m\u001b[38;5;124;43mall\u001b[39;49m\u001b[38;5;124;43m'\u001b[39;49m\u001b[43m}\u001b[49m\u001b[43m,\u001b[49m\n\u001b[1;32m     19\u001b[0m \u001b[43m                                  \u001b[49m\u001b[38;5;124;43m'\u001b[39;49m\u001b[38;5;124;43mramp_fit\u001b[39;49m\u001b[38;5;124;43m'\u001b[39;49m\u001b[43m:\u001b[49m\u001b[43m \u001b[49m\u001b[43m{\u001b[49m\u001b[38;5;124;43m'\u001b[39;49m\u001b[38;5;124;43msave_calibrated_ramp\u001b[39;49m\u001b[38;5;124;43m'\u001b[39;49m\u001b[43m:\u001b[49m\u001b[43m \u001b[49m\u001b[38;5;28;43;01mFalse\u001b[39;49;00m\u001b[43m,\u001b[49m\n\u001b[1;32m     20\u001b[0m \u001b[43m                                               \u001b[49m\u001b[38;5;124;43m'\u001b[39;49m\u001b[38;5;124;43mmaximum_cores\u001b[39;49m\u001b[38;5;124;43m'\u001b[39;49m\u001b[43m:\u001b[49m\u001b[43m \u001b[49m\u001b[38;5;124;43m'\u001b[39;49m\u001b[38;5;124;43mall\u001b[39;49m\u001b[38;5;124;43m'\u001b[39;49m\u001b[43m}\u001b[49m\u001b[43m}\u001b[49m\u001b[43m,\u001b[49m\n\u001b[1;32m     21\u001b[0m \u001b[43m                            \u001b[49m\u001b[43msubdir\u001b[49m\u001b[38;5;241;43m=\u001b[39;49m\u001b[38;5;124;43m'\u001b[39;49m\u001b[38;5;124;43mstage1\u001b[39;49m\u001b[38;5;124;43m'\u001b[39;49m\u001b[43m)\u001b[49m\n\u001b[1;32m     23\u001b[0m \u001b[38;5;28;01mif\u001b[39;00m \u001b[38;5;129;01mnot\u001b[39;00m reduced:\n\u001b[1;32m     24\u001b[0m     coron2pipeline\u001b[38;5;241m.\u001b[39mrun_obs(database\u001b[38;5;241m=\u001b[39mDatabase,\n\u001b[1;32m     25\u001b[0m                            steps\u001b[38;5;241m=\u001b[39m{\u001b[38;5;124m'\u001b[39m\u001b[38;5;124moutlier_detection\u001b[39m\u001b[38;5;124m'\u001b[39m: {\u001b[38;5;124m'\u001b[39m\u001b[38;5;124mskip\u001b[39m\u001b[38;5;124m'\u001b[39m: \u001b[38;5;28;01mFalse\u001b[39;00m}},\n\u001b[1;32m     26\u001b[0m                            subdir\u001b[38;5;241m=\u001b[39m\u001b[38;5;124m'\u001b[39m\u001b[38;5;124mstage2\u001b[39m\u001b[38;5;124m'\u001b[39m)\n",
      "File \u001b[0;32m~/Documents/spaceklip_repos/spaceKLIP/spaceKLIP/coron1pipeline.py:883\u001b[0m, in \u001b[0;36mrun_obs\u001b[0;34m(database, steps, subdir, overwrite, quiet, verbose, **kwargs)\u001b[0m\n\u001b[1;32m    881\u001b[0m \u001b[38;5;28;01melse\u001b[39;00m:\n\u001b[1;32m    882\u001b[0m     \u001b[38;5;28;01mif\u001b[39;00m \u001b[38;5;129;01mnot\u001b[39;00m quiet: log\u001b[38;5;241m.\u001b[39minfo(\u001b[38;5;124m'\u001b[39m\u001b[38;5;124m  --> Coron1Pipeline: processing \u001b[39m\u001b[38;5;124m'\u001b[39m \u001b[38;5;241m+\u001b[39m tail)\n\u001b[0;32m--> 883\u001b[0m     _ \u001b[38;5;241m=\u001b[39m \u001b[43mrun_single_file\u001b[49m\u001b[43m(\u001b[49m\u001b[43mfitspath\u001b[49m\u001b[43m,\u001b[49m\u001b[43m \u001b[49m\u001b[43moutput_dir\u001b[49m\u001b[43m,\u001b[49m\u001b[43m \u001b[49m\u001b[43msteps\u001b[49m\u001b[38;5;241;43m=\u001b[39;49m\u001b[43msteps\u001b[49m\u001b[43m,\u001b[49m\u001b[43m \u001b[49m\n\u001b[1;32m    884\u001b[0m \u001b[43m                        \u001b[49m\u001b[43mverbose\u001b[49m\u001b[38;5;241;43m=\u001b[39;49m\u001b[43mverbose\u001b[49m\u001b[43m,\u001b[49m\u001b[43m \u001b[49m\u001b[38;5;241;43m*\u001b[39;49m\u001b[38;5;241;43m*\u001b[39;49m\u001b[43mkwargs\u001b[49m\u001b[43m)\u001b[49m\n\u001b[1;32m    886\u001b[0m \u001b[38;5;66;03m# Update spaceKLIP database.\u001b[39;00m\n\u001b[1;32m    887\u001b[0m database\u001b[38;5;241m.\u001b[39mupdate_obs(key, j, fitsout_path)\n",
      "File \u001b[0;32m~/Documents/spaceklip_repos/spaceKLIP/spaceKLIP/coron1pipeline.py:710\u001b[0m, in \u001b[0;36mrun_single_file\u001b[0;34m(fitspath, output_dir, steps, verbose, **kwargs)\u001b[0m\n\u001b[1;32m    708\u001b[0m \u001b[38;5;28;01mtry\u001b[39;00m:\n\u001b[1;32m    709\u001b[0m     \u001b[38;5;28;01mwith\u001b[39;00m all_logging_disabled(log_level):\n\u001b[0;32m--> 710\u001b[0m         res \u001b[38;5;241m=\u001b[39m \u001b[43mpipeline\u001b[49m\u001b[38;5;241;43m.\u001b[39;49m\u001b[43mrun\u001b[49m\u001b[43m(\u001b[49m\u001b[43mfitspath\u001b[49m\u001b[43m)\u001b[49m\n\u001b[1;32m    711\u001b[0m \u001b[38;5;28;01mexcept\u001b[39;00m \u001b[38;5;167;01mException\u001b[39;00m \u001b[38;5;28;01mas\u001b[39;00m e:\n\u001b[1;32m    712\u001b[0m     \u001b[38;5;28;01mraise\u001b[39;00m \u001b[38;5;167;01mRuntimeError\u001b[39;00m(\n\u001b[1;32m    713\u001b[0m         \u001b[38;5;124m'\u001b[39m\u001b[38;5;124mCaught exception during pipeline processing.\u001b[39m\u001b[38;5;124m'\u001b[39m\n\u001b[1;32m    714\u001b[0m         \u001b[38;5;124m'\u001b[39m\u001b[38;5;130;01m\\n\u001b[39;00m\u001b[38;5;124mException: \u001b[39m\u001b[38;5;132;01m{}\u001b[39;00m\u001b[38;5;124m'\u001b[39m\u001b[38;5;241m.\u001b[39mformat(e)\n\u001b[1;32m    715\u001b[0m     )\n",
      "File \u001b[0;32m~/miniconda3/envs/spaceklip2/lib/python3.11/site-packages/stpipe/step.py:509\u001b[0m, in \u001b[0;36mStep.run\u001b[0;34m(self, *args)\u001b[0m\n\u001b[1;32m    507\u001b[0m     \u001b[38;5;28mself\u001b[39m\u001b[38;5;241m.\u001b[39mprefetch(\u001b[38;5;241m*\u001b[39margs)\n\u001b[1;32m    508\u001b[0m \u001b[38;5;28;01mtry\u001b[39;00m:\n\u001b[0;32m--> 509\u001b[0m     step_result \u001b[38;5;241m=\u001b[39m \u001b[38;5;28;43mself\u001b[39;49m\u001b[38;5;241;43m.\u001b[39;49m\u001b[43mprocess\u001b[49m\u001b[43m(\u001b[49m\u001b[38;5;241;43m*\u001b[39;49m\u001b[43margs\u001b[49m\u001b[43m)\u001b[49m\n\u001b[1;32m    510\u001b[0m \u001b[38;5;28;01mexcept\u001b[39;00m \u001b[38;5;167;01mTypeError\u001b[39;00m \u001b[38;5;28;01mas\u001b[39;00m e:\n\u001b[1;32m    511\u001b[0m     \u001b[38;5;28;01mif\u001b[39;00m \u001b[38;5;124m\"\u001b[39m\u001b[38;5;124mprocess() takes exactly\u001b[39m\u001b[38;5;124m\"\u001b[39m \u001b[38;5;129;01min\u001b[39;00m \u001b[38;5;28mstr\u001b[39m(e):\n",
      "File \u001b[0;32m~/Documents/spaceklip_repos/spaceKLIP/spaceKLIP/coron1pipeline.py:140\u001b[0m, in \u001b[0;36mCoron1Pipeline_spaceKLIP.process\u001b[0;34m(self, input)\u001b[0m\n\u001b[1;32m    138\u001b[0m \u001b[38;5;28minput\u001b[39m \u001b[38;5;241m=\u001b[39m \u001b[38;5;28mself\u001b[39m\u001b[38;5;241m.\u001b[39mrun_step(\u001b[38;5;28mself\u001b[39m\u001b[38;5;241m.\u001b[39mgroup_scale, \u001b[38;5;28minput\u001b[39m)\n\u001b[1;32m    139\u001b[0m \u001b[38;5;28minput\u001b[39m \u001b[38;5;241m=\u001b[39m \u001b[38;5;28mself\u001b[39m\u001b[38;5;241m.\u001b[39mrun_step(\u001b[38;5;28mself\u001b[39m\u001b[38;5;241m.\u001b[39mdq_init, \u001b[38;5;28minput\u001b[39m)\n\u001b[0;32m--> 140\u001b[0m \u001b[38;5;28minput\u001b[39m \u001b[38;5;241m=\u001b[39m \u001b[38;5;28;43mself\u001b[39;49m\u001b[38;5;241;43m.\u001b[39;49m\u001b[43mdo_saturation\u001b[49m\u001b[43m(\u001b[49m\u001b[38;5;28;43minput\u001b[39;49m\u001b[43m)\u001b[49m\n\u001b[1;32m    141\u001b[0m \u001b[38;5;28minput\u001b[39m \u001b[38;5;241m=\u001b[39m \u001b[38;5;28mself\u001b[39m\u001b[38;5;241m.\u001b[39mrun_step(\u001b[38;5;28mself\u001b[39m\u001b[38;5;241m.\u001b[39mipc, \u001b[38;5;28minput\u001b[39m)\n\u001b[1;32m    142\u001b[0m \u001b[38;5;28minput\u001b[39m \u001b[38;5;241m=\u001b[39m \u001b[38;5;28mself\u001b[39m\u001b[38;5;241m.\u001b[39mrun_step(\u001b[38;5;28mself\u001b[39m\u001b[38;5;241m.\u001b[39msuperbias, \u001b[38;5;28minput\u001b[39m)\n",
      "File \u001b[0;32m~/Documents/spaceklip_repos/spaceKLIP/spaceKLIP/coron1pipeline.py:322\u001b[0m, in \u001b[0;36mCoron1Pipeline_spaceKLIP.do_saturation\u001b[0;34m(self, input, **kwargs)\u001b[0m\n\u001b[1;32m    319\u001b[0m \u001b[38;5;28;01melse\u001b[39;00m: \u001b[38;5;66;03m# No diagonal growth\u001b[39;00m\n\u001b[1;32m    320\u001b[0m     \u001b[38;5;66;03m# Initial run with 0 pixel growth\u001b[39;00m\n\u001b[1;32m    321\u001b[0m     \u001b[38;5;28mself\u001b[39m\u001b[38;5;241m.\u001b[39msaturation\u001b[38;5;241m.\u001b[39mn_pix_grow_sat \u001b[38;5;241m=\u001b[39m \u001b[38;5;241m0\u001b[39m\n\u001b[0;32m--> 322\u001b[0m     res \u001b[38;5;241m=\u001b[39m \u001b[38;5;28;43mself\u001b[39;49m\u001b[38;5;241;43m.\u001b[39;49m\u001b[43mrun_step\u001b[49m\u001b[43m(\u001b[49m\u001b[38;5;28;43mself\u001b[39;49m\u001b[38;5;241;43m.\u001b[39;49m\u001b[43msaturation\u001b[49m\u001b[43m,\u001b[49m\u001b[43m \u001b[49m\u001b[38;5;28;43minput\u001b[39;49m\u001b[43m,\u001b[49m\u001b[43m \u001b[49m\u001b[38;5;241;43m*\u001b[39;49m\u001b[38;5;241;43m*\u001b[39;49m\u001b[43mkwargs\u001b[49m\u001b[43m)\u001b[49m\n\u001b[1;32m    323\u001b[0m     \u001b[38;5;66;03m# Reset to original value\u001b[39;00m\n\u001b[1;32m    324\u001b[0m     \u001b[38;5;28mself\u001b[39m\u001b[38;5;241m.\u001b[39msaturation\u001b[38;5;241m.\u001b[39mn_pix_grow_sat \u001b[38;5;241m=\u001b[39m npix_grow\n",
      "File \u001b[0;32m~/Documents/spaceklip_repos/spaceKLIP/spaceKLIP/coron1pipeline.py:263\u001b[0m, in \u001b[0;36mCoron1Pipeline_spaceKLIP.run_step\u001b[0;34m(self, step_obj, input, save_results, **kwargs)\u001b[0m\n\u001b[1;32m    261\u001b[0m step_save_orig \u001b[38;5;241m=\u001b[39m step_obj\u001b[38;5;241m.\u001b[39msave_results\n\u001b[1;32m    262\u001b[0m step_obj\u001b[38;5;241m.\u001b[39msave_results \u001b[38;5;241m=\u001b[39m \u001b[38;5;28;01mFalse\u001b[39;00m\n\u001b[0;32m--> 263\u001b[0m res \u001b[38;5;241m=\u001b[39m \u001b[43mstep_obj\u001b[49m\u001b[43m(\u001b[49m\u001b[38;5;28;43minput\u001b[39;49m\u001b[43m)\u001b[49m\n\u001b[1;32m    264\u001b[0m step_obj\u001b[38;5;241m.\u001b[39msave_results \u001b[38;5;241m=\u001b[39m step_save_orig\n\u001b[1;32m    266\u001b[0m \u001b[38;5;66;03m# Check if group scale correction or gain scale correction were skipped.\u001b[39;00m\n",
      "File \u001b[0;32m~/miniconda3/envs/spaceklip2/lib/python3.11/site-packages/stpipe/step.py:509\u001b[0m, in \u001b[0;36mStep.run\u001b[0;34m(self, *args)\u001b[0m\n\u001b[1;32m    507\u001b[0m     \u001b[38;5;28mself\u001b[39m\u001b[38;5;241m.\u001b[39mprefetch(\u001b[38;5;241m*\u001b[39margs)\n\u001b[1;32m    508\u001b[0m \u001b[38;5;28;01mtry\u001b[39;00m:\n\u001b[0;32m--> 509\u001b[0m     step_result \u001b[38;5;241m=\u001b[39m \u001b[38;5;28;43mself\u001b[39;49m\u001b[38;5;241;43m.\u001b[39;49m\u001b[43mprocess\u001b[49m\u001b[43m(\u001b[49m\u001b[38;5;241;43m*\u001b[39;49m\u001b[43margs\u001b[49m\u001b[43m)\u001b[49m\n\u001b[1;32m    510\u001b[0m \u001b[38;5;28;01mexcept\u001b[39;00m \u001b[38;5;167;01mTypeError\u001b[39;00m \u001b[38;5;28;01mas\u001b[39;00m e:\n\u001b[1;32m    511\u001b[0m     \u001b[38;5;28;01mif\u001b[39;00m \u001b[38;5;124m\"\u001b[39m\u001b[38;5;124mprocess() takes exactly\u001b[39m\u001b[38;5;124m\"\u001b[39m \u001b[38;5;129;01min\u001b[39;00m \u001b[38;5;28mstr\u001b[39m(e):\n",
      "File \u001b[0;32m~/miniconda3/envs/spaceklip2/lib/python3.11/site-packages/jwst/saturation/saturation_step.py:49\u001b[0m, in \u001b[0;36mSaturationStep.process\u001b[0;34m(self, input)\u001b[0m\n\u001b[1;32m     47\u001b[0m     sat \u001b[38;5;241m=\u001b[39m saturation\u001b[38;5;241m.\u001b[39mirs2_flag_saturation(input_model, ref_model, \u001b[38;5;28mself\u001b[39m\u001b[38;5;241m.\u001b[39mn_pix_grow_sat)\n\u001b[1;32m     48\u001b[0m \u001b[38;5;28;01melse\u001b[39;00m:\n\u001b[0;32m---> 49\u001b[0m     sat \u001b[38;5;241m=\u001b[39m \u001b[43msaturation\u001b[49m\u001b[38;5;241;43m.\u001b[39;49m\u001b[43mflag_saturation\u001b[49m\u001b[43m(\u001b[49m\u001b[43minput_model\u001b[49m\u001b[43m,\u001b[49m\u001b[43m \u001b[49m\u001b[43mref_model\u001b[49m\u001b[43m,\u001b[49m\u001b[43m \u001b[49m\u001b[38;5;28;43mself\u001b[39;49m\u001b[38;5;241;43m.\u001b[39;49m\u001b[43mn_pix_grow_sat\u001b[49m\u001b[43m)\u001b[49m\n\u001b[1;32m     51\u001b[0m \u001b[38;5;66;03m# Close the reference file and update the step status\u001b[39;00m\n\u001b[1;32m     52\u001b[0m ref_model\u001b[38;5;241m.\u001b[39mclose()\n",
      "File \u001b[0;32m~/miniconda3/envs/spaceklip2/lib/python3.11/site-packages/jwst/saturation/saturation.py:71\u001b[0m, in \u001b[0;36mflag_saturation\u001b[0;34m(input_model, ref_model, n_pix_grow_sat)\u001b[0m\n\u001b[1;32m     68\u001b[0m     sat_dq \u001b[38;5;241m=\u001b[39m ref_sub_model\u001b[38;5;241m.\u001b[39mdq\u001b[38;5;241m.\u001b[39mcopy()\n\u001b[1;32m     69\u001b[0m     ref_sub_model\u001b[38;5;241m.\u001b[39mclose()\n\u001b[0;32m---> 71\u001b[0m gdq_new, pdq_new, zframe \u001b[38;5;241m=\u001b[39m \u001b[43mflag_saturated_pixels\u001b[49m\u001b[43m(\u001b[49m\n\u001b[1;32m     72\u001b[0m \u001b[43m    \u001b[49m\u001b[43mdata\u001b[49m\u001b[43m,\u001b[49m\u001b[43m \u001b[49m\u001b[43mgdq\u001b[49m\u001b[43m,\u001b[49m\u001b[43m \u001b[49m\u001b[43mpdq\u001b[49m\u001b[43m,\u001b[49m\u001b[43m \u001b[49m\u001b[43msat_thresh\u001b[49m\u001b[43m,\u001b[49m\u001b[43m \u001b[49m\u001b[43msat_dq\u001b[49m\u001b[43m,\u001b[49m\u001b[43m \u001b[49m\u001b[43mATOD_LIMIT\u001b[49m\u001b[43m,\u001b[49m\u001b[43m \u001b[49m\u001b[43mdqflags\u001b[49m\u001b[38;5;241;43m.\u001b[39;49m\u001b[43mpixel\u001b[49m\u001b[43m,\u001b[49m\n\u001b[1;32m     73\u001b[0m \u001b[43m    \u001b[49m\u001b[43mn_pix_grow_sat\u001b[49m\u001b[38;5;241;43m=\u001b[39;49m\u001b[43mn_pix_grow_sat\u001b[49m\u001b[43m,\u001b[49m\u001b[43m \u001b[49m\u001b[43mzframe\u001b[49m\u001b[38;5;241;43m=\u001b[39;49m\u001b[43mzframe\u001b[49m\u001b[43m)\u001b[49m\n\u001b[1;32m     75\u001b[0m \u001b[38;5;66;03m# Save the flags in the output GROUPDQ array\u001b[39;00m\n\u001b[1;32m     76\u001b[0m output_model\u001b[38;5;241m.\u001b[39mgroupdq \u001b[38;5;241m=\u001b[39m gdq_new\n",
      "File \u001b[0;32m~/miniconda3/envs/spaceklip2/lib/python3.11/site-packages/stcal/saturation/saturation.py:96\u001b[0m, in \u001b[0;36mflag_saturated_pixels\u001b[0;34m(data, gdq, pdq, sat_thresh, sat_dq, atod_limit, dqflags, n_pix_grow_sat, zframe, read_pattern)\u001b[0m\n\u001b[1;32m     92\u001b[0m \u001b[38;5;28;01melse\u001b[39;00m:\n\u001b[1;32m     93\u001b[0m     dilution_factor \u001b[38;5;241m=\u001b[39m \u001b[38;5;241m1\u001b[39m\n\u001b[0;32m---> 96\u001b[0m flagarray, flaglowarray \u001b[38;5;241m=\u001b[39m \u001b[43mplane_saturation\u001b[49m\u001b[43m(\u001b[49m\n\u001b[1;32m     97\u001b[0m \u001b[43m    \u001b[49m\u001b[43mplane\u001b[49m\u001b[43m,\u001b[49m\u001b[43m \u001b[49m\u001b[43msat_thresh\u001b[49m\u001b[43m \u001b[49m\u001b[38;5;241;43m*\u001b[39;49m\u001b[43m \u001b[49m\u001b[43mdilution_factor\u001b[49m\u001b[43m,\u001b[49m\u001b[43m \u001b[49m\u001b[43mdqflags\u001b[49m\u001b[43m)\u001b[49m\n\u001b[1;32m     99\u001b[0m \u001b[38;5;66;03m# for saturation, the flag is set in the current plane\u001b[39;00m\n\u001b[1;32m    100\u001b[0m \u001b[38;5;66;03m# and all following planes.\u001b[39;00m\n\u001b[1;32m    101\u001b[0m np\u001b[38;5;241m.\u001b[39mbitwise_or(\n\u001b[1;32m    102\u001b[0m     gdq[ints, group:, :, :], flagarray, gdq[ints, group:, :, :])\n",
      "File \u001b[0;32m~/miniconda3/envs/spaceklip2/lib/python3.11/site-packages/stcal/saturation/saturation.py:190\u001b[0m, in \u001b[0;36mplane_saturation\u001b[0;34m(plane, sat_thresh, dqflags)\u001b[0m\n\u001b[1;32m    186\u001b[0m flaglowarray \u001b[38;5;241m=\u001b[39m np\u001b[38;5;241m.\u001b[39mzeros(plane\u001b[38;5;241m.\u001b[39mshape, dtype\u001b[38;5;241m=\u001b[39mnp\u001b[38;5;241m.\u001b[39muint32)\n\u001b[1;32m    188\u001b[0m \u001b[38;5;66;03m# Update the 4D gdq array with the saturation flag.\u001b[39;00m\n\u001b[1;32m    189\u001b[0m \u001b[38;5;66;03m# check for saturation\u001b[39;00m\n\u001b[0;32m--> 190\u001b[0m flagarray[:, :] \u001b[38;5;241m=\u001b[39m \u001b[43mnp\u001b[49m\u001b[38;5;241;43m.\u001b[39;49m\u001b[43mwhere\u001b[49m\u001b[43m(\u001b[49m\u001b[43mplane\u001b[49m\u001b[43m[\u001b[49m\u001b[43m:\u001b[49m\u001b[43m,\u001b[49m\u001b[43m \u001b[49m\u001b[43m:\u001b[49m\u001b[43m]\u001b[49m\u001b[43m \u001b[49m\u001b[38;5;241;43m>\u001b[39;49m\u001b[38;5;241;43m=\u001b[39;49m\u001b[43m \u001b[49m\u001b[43msat_thresh\u001b[49m\u001b[43m,\u001b[49m\u001b[43m \u001b[49m\u001b[43msaturated\u001b[49m\u001b[43m,\u001b[49m\u001b[43m \u001b[49m\u001b[38;5;241;43m0\u001b[39;49m\u001b[43m)\u001b[49m\n\u001b[1;32m    192\u001b[0m \u001b[38;5;66;03m# check for A/D floor\u001b[39;00m\n\u001b[1;32m    193\u001b[0m flaglowarray[:, :] \u001b[38;5;241m=\u001b[39m np\u001b[38;5;241m.\u001b[39mwhere(plane[:, :] \u001b[38;5;241m<\u001b[39m\u001b[38;5;241m=\u001b[39m \u001b[38;5;241m0\u001b[39m, ad_floor \u001b[38;5;241m|\u001b[39m donotuse, \u001b[38;5;241m0\u001b[39m)\n",
      "File \u001b[0;32m~/miniconda3/envs/spaceklip2/lib/python3.11/site-packages/numpy/core/multiarray.py:346\u001b[0m, in \u001b[0;36mwhere\u001b[0;34m(condition, x, y)\u001b[0m\n\u001b[1;32m    256\u001b[0m \u001b[38;5;250m    \u001b[39m\u001b[38;5;124;03m\"\"\"\u001b[39;00m\n\u001b[1;32m    257\u001b[0m \u001b[38;5;124;03m    inner(a, b, /)\u001b[39;00m\n\u001b[1;32m    258\u001b[0m \n\u001b[0;32m   (...)\u001b[0m\n\u001b[1;32m    341\u001b[0m \n\u001b[1;32m    342\u001b[0m \u001b[38;5;124;03m    \"\"\"\u001b[39;00m\n\u001b[1;32m    343\u001b[0m     \u001b[38;5;28;01mreturn\u001b[39;00m (a, b)\n\u001b[0;32m--> 346\u001b[0m \u001b[38;5;129m@array_function_from_c_func_and_dispatcher\u001b[39m(_multiarray_umath\u001b[38;5;241m.\u001b[39mwhere)\n\u001b[1;32m    347\u001b[0m \u001b[38;5;28;01mdef\u001b[39;00m \u001b[38;5;21mwhere\u001b[39m(condition, x\u001b[38;5;241m=\u001b[39m\u001b[38;5;28;01mNone\u001b[39;00m, y\u001b[38;5;241m=\u001b[39m\u001b[38;5;28;01mNone\u001b[39;00m):\n\u001b[1;32m    348\u001b[0m \u001b[38;5;250m    \u001b[39m\u001b[38;5;124;03m\"\"\"\u001b[39;00m\n\u001b[1;32m    349\u001b[0m \u001b[38;5;124;03m    where(condition, [x, y], /)\u001b[39;00m\n\u001b[1;32m    350\u001b[0m \n\u001b[0;32m   (...)\u001b[0m\n\u001b[1;32m    416\u001b[0m \u001b[38;5;124;03m           [ 0,  3, -1]])\u001b[39;00m\n\u001b[1;32m    417\u001b[0m \u001b[38;5;124;03m    \"\"\"\u001b[39;00m\n\u001b[1;32m    418\u001b[0m     \u001b[38;5;28;01mreturn\u001b[39;00m (condition, x, y)\n",
      "\u001b[0;31mKeyboardInterrupt\u001b[0m: "
     ]
    }
   ],
   "source": [
    "if not reduced:\n",
    "    coron1pipeline.run_obs(database=Database,\n",
    "                           steps={'saturation': {'n_pix_grow_sat': 1,\n",
    "                                                 'grow_diagonal': False},\n",
    "                                  'refpix': {'odd_even_columns': True,\n",
    "                                             'odd_even_rows': True,\n",
    "                                             'nlower': 4,\n",
    "                                             'nupper': 4,\n",
    "                                             'nleft': 4,\n",
    "                                             'nright': 4,\n",
    "                                             'nrow_off': 0,\n",
    "                                             'ncol_off': 0},\n",
    "                                  'dark_current': {'skip': True},\n",
    "                                  'persistence': {'skip': True},\n",
    "                                  'jump': {'rejection_threshold': 4.,\n",
    "                                           'three_group_rejection_threshold': 4.,\n",
    "                                           'four_group_rejection_threshold': 4.,\n",
    "                                           'maximum_cores': 'all'},\n",
    "                                  'ramp_fit': {'save_calibrated_ramp': False,\n",
    "                                               'maximum_cores': 'all'}},\n",
    "                            subdir='stage1')\n",
    "\n",
    "if not reduced:\n",
    "    coron2pipeline.run_obs(database=Database,\n",
    "                           steps={'outlier_detection': {'skip': False}},\n",
    "                           subdir='stage2')"
   ]
  },
  {
   "cell_type": "code",
   "execution_count": null,
   "id": "5dbad88a-1e83-47d7-9c2b-25ca0622266c",
   "metadata": {},
   "outputs": [],
   "source": []
  }
 ],
 "metadata": {
  "kernelspec": {
   "display_name": "Python 3 (ipykernel)",
   "language": "python",
   "name": "python3"
  },
  "language_info": {
   "codemirror_mode": {
    "name": "ipython",
    "version": 3
   },
   "file_extension": ".py",
   "mimetype": "text/x-python",
   "name": "python",
   "nbconvert_exporter": "python",
   "pygments_lexer": "ipython3",
   "version": "3.11.9"
  }
 },
 "nbformat": 4,
 "nbformat_minor": 5
}
