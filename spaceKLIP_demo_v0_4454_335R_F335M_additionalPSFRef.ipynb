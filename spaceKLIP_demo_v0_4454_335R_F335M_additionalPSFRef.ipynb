{
 "cells": [
  {
   "cell_type": "code",
   "execution_count": 1,
   "id": "180cfab4-7c0c-4e4f-b73a-05081c56e510",
   "metadata": {
    "tags": []
   },
   "outputs": [
    {
     "name": "stderr",
     "output_type": "stream",
     "text": [
      "**WARNING**: LOCAL JWST PRD VERSION PRDOPSSOC-063 DOESN'T MATCH THE CURRENT ONLINE VERSION PRDOPSSOC-065\n",
      "Please consider updating pysiaf, e.g. pip install --upgrade pysiaf or conda update pysiaf\n"
     ]
    }
   ],
   "source": [
    "from __future__ import division\n",
    "\n",
    "# plotting\n",
    "import matplotlib.pyplot as plt\n",
    "#plt.style.use('/Users/wbalmer/exoG/balmer.mplstyle')\n",
    "# import seaborn as sb\n",
    "# sb.set_context('talk')\n",
    "\n",
    "# =============================================================================\n",
    "# IMPORTS\n",
    "# =============================================================================\n",
    "\n",
    "import os\n",
    "import pdb\n",
    "import sys\n",
    "import json\n",
    "\n",
    "import astropy.io.fits as pyfits\n",
    "import matplotlib.pyplot as plt\n",
    "import numpy as np\n",
    "\n",
    "from spaceKLIP import database, coron1pipeline, coron2pipeline, coron3pipeline, pyklippipeline, imagetools, analysistools\n"
   ]
  },
  {
   "cell_type": "code",
   "execution_count": 14,
   "id": "2abb7c07-c45e-4bf2-880e-a14ba35d641d",
   "metadata": {
    "scrolled": true,
    "tags": []
   },
   "outputs": [
    {
     "name": "stdout",
     "output_type": "stream",
     "text": [
      "[spaceKLIP.database:INFO] --> Identified 1 concatenation(s)\n",
      "[spaceKLIP.database:INFO]   --> Concatenation 1: JWST_NIRCAM_NRCALONG_F335M_MASKRND_MASK335R_SUB320A335R\n",
      "TYPE  EXP_TYPE DATAMODL TELESCOP          TARGPROP         INSTRUME DETECTOR ... NUMDTHPT XOFFSET YOFFSET  PIXSCALE  BUNIT      ROLL_REF      BLURFWHM\n",
      "---- --------- -------- -------- ------------------------- -------- -------- ... -------- ------- ------- ---------- ----- ------------------ --------\n",
      " SCI NRC_CORON   STAGE0     JWST HD-114174-STAR1-COMPANION   NIRCAM NRCALONG ...        1     0.0     0.0 0.06247899    DN 117.44967964598992      nan\n",
      " REF NRC_CORON   STAGE0     JWST           HD-111733-STAR2   NIRCAM NRCALONG ...        9     0.0     0.0 0.06247899    DN 117.14964279066245      nan\n",
      " REF NRC_CORON   STAGE0     JWST           HD-111733-STAR2   NIRCAM NRCALONG ...        9     0.0     0.0 0.06247899    DN 117.14962770506588      nan\n",
      " REF NRC_CORON   STAGE0     JWST           HD-111733-STAR2   NIRCAM NRCALONG ...        9     0.0     0.0 0.06247899    DN 117.14963505014724      nan\n",
      " REF NRC_CORON   STAGE0     JWST           HD-111733-STAR2   NIRCAM NRCALONG ...        9     0.0     0.0 0.06247899    DN  117.1496243393656      nan\n",
      " REF NRC_CORON   STAGE0     JWST           HD-111733-STAR2   NIRCAM NRCALONG ...        9     0.0     0.0 0.06247899    DN 117.14962820150882      nan\n",
      " REF NRC_CORON   STAGE0     JWST           HD-111733-STAR2   NIRCAM NRCALONG ...        9     0.0     0.0 0.06247899    DN 117.14963093286649      nan\n",
      " REF NRC_CORON   STAGE0     JWST           HD-111733-STAR2   NIRCAM NRCALONG ...        9     0.0     0.0 0.06247899    DN 117.14962617769888      nan\n",
      " REF NRC_CORON   STAGE0     JWST           HD-111733-STAR2   NIRCAM NRCALONG ...        9     0.0     0.0 0.06247899    DN 117.14963110914898      nan\n",
      " REF NRC_CORON   STAGE0     JWST           HD-111733-STAR2   NIRCAM NRCALONG ...        9     0.0     0.0 0.06247899    DN 117.14963716189571      nan\n",
      " REF NRC_CORON   STAGE0     JWST                  HD-46730   NIRCAM NRCALONG ...        5     0.0     0.0 0.06247899    DN  74.00315247223921      nan\n",
      " REF NRC_CORON   STAGE0     JWST                  HD-46730   NIRCAM NRCALONG ...        5     0.0     0.0 0.06247899    DN  74.00313555187293      nan\n",
      " REF NRC_CORON   STAGE0     JWST                  HD-46730   NIRCAM NRCALONG ...        5     0.0     0.0 0.06247899    DN  74.00309001780978      nan\n",
      " REF NRC_CORON   STAGE0     JWST                  HD-46730   NIRCAM NRCALONG ...        5     0.0     0.0 0.06247899    DN  74.00307094372124      nan\n",
      " REF NRC_CORON   STAGE0     JWST                  HD-46730   NIRCAM NRCALONG ...        5     0.0     0.0 0.06247899    DN  74.00310835421533      nan\n",
      " REF NRC_CORON   STAGE0     JWST                  HD-46730   NIRCAM NRCALONG ...        5     0.0     0.0 0.06247899    DN  74.00315247223921      nan\n",
      " REF NRC_CORON   STAGE0     JWST                  HD-46730   NIRCAM NRCALONG ...        5     0.0     0.0 0.06247899    DN  74.00313555187293      nan\n",
      " REF NRC_CORON   STAGE0     JWST                  HD-46730   NIRCAM NRCALONG ...        5     0.0     0.0 0.06247899    DN  74.00309001780978      nan\n",
      " REF NRC_CORON   STAGE0     JWST                  HD-46730   NIRCAM NRCALONG ...        5     0.0     0.0 0.06247899    DN  74.00307094372124      nan\n",
      " REF NRC_CORON   STAGE0     JWST                  HD-46730   NIRCAM NRCALONG ...        5     0.0     0.0 0.06247899    DN  74.00310835421533      nan\n",
      " REF NRC_CORON   STAGE0     JWST           HD-111733-STAR2   NIRCAM NRCALONG ...        9     0.0     0.0 0.06247899    DN 117.14964279066245      nan\n",
      " REF NRC_CORON   STAGE0     JWST           HD-111733-STAR2   NIRCAM NRCALONG ...        9     0.0     0.0 0.06247899    DN 117.14962770506588      nan\n",
      " REF NRC_CORON   STAGE0     JWST           HD-111733-STAR2   NIRCAM NRCALONG ...        9     0.0     0.0 0.06247899    DN 117.14963505014724      nan\n",
      " REF NRC_CORON   STAGE0     JWST           HD-111733-STAR2   NIRCAM NRCALONG ...        9     0.0     0.0 0.06247899    DN  117.1496243393656      nan\n",
      " REF NRC_CORON   STAGE0     JWST           HD-111733-STAR2   NIRCAM NRCALONG ...        9     0.0     0.0 0.06247899    DN 117.14962820150882      nan\n",
      " REF NRC_CORON   STAGE0     JWST           HD-111733-STAR2   NIRCAM NRCALONG ...        9     0.0     0.0 0.06247899    DN 117.14963093286649      nan\n",
      " REF NRC_CORON   STAGE0     JWST           HD-111733-STAR2   NIRCAM NRCALONG ...        9     0.0     0.0 0.06247899    DN 117.14962617769888      nan\n",
      " REF NRC_CORON   STAGE0     JWST           HD-111733-STAR2   NIRCAM NRCALONG ...        9     0.0     0.0 0.06247899    DN 117.14963110914898      nan\n",
      " REF NRC_CORON   STAGE0     JWST           HD-111733-STAR2   NIRCAM NRCALONG ...        9     0.0     0.0 0.06247899    DN 117.14963716189571      nan\n"
     ]
    }
   ],
   "source": [
    "# Set the input and output directories and grab the input FITS files.\n",
    "reduced = False\n",
    "\n",
    "# main data set input dir\n",
    "input_dir = '/Users/jgirard/Soft/spaceKLIP/examples/DATA/4454/uncal/'\n",
    "output_dir = './SKLIP_OUT_4454_TEST_F335M_4/'\n",
    "\n",
    "# additional PSF references dir\n",
    "input_dir_ref = '/Users/jgirard/Soft/spaceKLIP/examples/DATA/6570/uncal/'\n",
    "\n",
    "# read files in main data set input dir\n",
    "fitsfiles = sorted([input_dir + f for f in os.listdir(input_dir) if f.endswith('.fits')])\n",
    "\n",
    "# read files in additional PSF references input dir\n",
    "additionalrefs = sorted([input_dir_ref + f for f in os.listdir(input_dir_ref) if f.endswith('.fits')])\n",
    "\n",
    "# list of PSF reference files in main input dir\n",
    "psffitsfiles = [f for f in fitsfiles if not '3001' in f]\n",
    "\n",
    "# global list of ALL files\n",
    "allpaths = fitsfiles + additionalrefs\n",
    "\n",
    "# global list of all PSF reference files \n",
    "psfpaths = additionalrefs + psffitsfiles\n",
    "# Initialize the spaceKLIP database and read the input FITS files.\n",
    "\n",
    "Database = database.Database(output_dir=output_dir)\n",
    "#Database = database.create_database(input_dir = input_dir,\n",
    "#                                              output_dir= OTHER PATH, \n",
    "#                                              filt= YOUR FILTER, or IGNORE,\n",
    "#                                              pid= PID)\n",
    "\n",
    "Database.read_jwst_s012_data(datapaths=allpaths, #ALL OF YOUR FILES INCLUDING REFS\n",
    "                             psflibpaths=psfpaths, #LIST OF REF FILES\n",
    "                             bgpaths=None)\n",
    "\n"
   ]
  },
  {
   "cell_type": "code",
   "execution_count": 15,
   "id": "f9cd87a1-10fe-49a8-af4d-df1bdcd9d816",
   "metadata": {
    "scrolled": true,
    "tags": []
   },
   "outputs": [
    {
     "name": "stdout",
     "output_type": "stream",
     "text": [
      "[spaceKLIP.coron1pipeline:INFO] --> Concatenation JWST_NIRCAM_NRCALONG_F335M_MASKRND_MASK335R_SUB320A335R\n",
      "[spaceKLIP.coron1pipeline:INFO]   --> Coron1Pipeline: processing jw04454003001_03106_00001_nrcalong_uncal.fits\n"
     ]
    },
    {
     "name": "stderr",
     "output_type": "stream",
     "text": [
      "**WARNING**: LOCAL JWST PRD VERSION PRDOPSSOC-063 DOESN'T MATCH THE CURRENT ONLINE VERSION PRDOPSSOC-065\n",
      "Please consider updating pysiaf, e.g. pip install --upgrade pysiaf or conda update pysiaf\n",
      "**WARNING**: LOCAL JWST PRD VERSION PRDOPSSOC-063 DOESN'T MATCH THE CURRENT ONLINE VERSION PRDOPSSOC-065\n",
      "Please consider updating pysiaf, e.g. pip install --upgrade pysiaf or conda update pysiaf\n",
      "**WARNING**: LOCAL JWST PRD VERSION PRDOPSSOC-063 DOESN'T MATCH THE CURRENT ONLINE VERSION PRDOPSSOC-065\n",
      "Please consider updating pysiaf, e.g. pip install --upgrade pysiaf or conda update pysiaf\n",
      "**WARNING**: LOCAL JWST PRD VERSION PRDOPSSOC-063 DOESN'T MATCH THE CURRENT ONLINE VERSION PRDOPSSOC-065\n",
      "Please consider updating pysiaf, e.g. pip install --upgrade pysiaf or conda update pysiaf\n"
     ]
    },
    {
     "name": "stdout",
     "output_type": "stream",
     "text": [
      "[spaceKLIP.coron1pipeline:INFO]   --> Coron1Pipeline: processing jw04454004001_03106_00001_nrcalong_uncal.fits\n"
     ]
    },
    {
     "name": "stderr",
     "output_type": "stream",
     "text": [
      "**WARNING**: LOCAL JWST PRD VERSION PRDOPSSOC-063 DOESN'T MATCH THE CURRENT ONLINE VERSION PRDOPSSOC-065\n",
      "Please consider updating pysiaf, e.g. pip install --upgrade pysiaf or conda update pysiaf\n",
      "**WARNING**: LOCAL JWST PRD VERSION PRDOPSSOC-063 DOESN'T MATCH THE CURRENT ONLINE VERSION PRDOPSSOC-065\n",
      "Please consider updating pysiaf, e.g. pip install --upgrade pysiaf or conda update pysiaf\n",
      "**WARNING**: LOCAL JWST PRD VERSION PRDOPSSOC-063 DOESN'T MATCH THE CURRENT ONLINE VERSION PRDOPSSOC-065\n",
      "Please consider updating pysiaf, e.g. pip install --upgrade pysiaf or conda update pysiaf\n",
      "**WARNING**: LOCAL JWST PRD VERSION PRDOPSSOC-063 DOESN'T MATCH THE CURRENT ONLINE VERSION PRDOPSSOC-065\n",
      "Please consider updating pysiaf, e.g. pip install --upgrade pysiaf or conda update pysiaf\n"
     ]
    },
    {
     "name": "stdout",
     "output_type": "stream",
     "text": [
      "[spaceKLIP.coron1pipeline:INFO]   --> Coron1Pipeline: processing jw04454004001_03106_00002_nrcalong_uncal.fits\n"
     ]
    },
    {
     "name": "stderr",
     "output_type": "stream",
     "text": [
      "**WARNING**: LOCAL JWST PRD VERSION PRDOPSSOC-063 DOESN'T MATCH THE CURRENT ONLINE VERSION PRDOPSSOC-065\n",
      "Please consider updating pysiaf, e.g. pip install --upgrade pysiaf or conda update pysiaf\n",
      "**WARNING**: LOCAL JWST PRD VERSION PRDOPSSOC-063 DOESN'T MATCH THE CURRENT ONLINE VERSION PRDOPSSOC-065\n",
      "Please consider updating pysiaf, e.g. pip install --upgrade pysiaf or conda update pysiaf\n",
      "**WARNING**: LOCAL JWST PRD VERSION PRDOPSSOC-063 DOESN'T MATCH THE CURRENT ONLINE VERSION PRDOPSSOC-065\n",
      "Please consider updating pysiaf, e.g. pip install --upgrade pysiaf or conda update pysiaf\n",
      "**WARNING**: LOCAL JWST PRD VERSION PRDOPSSOC-063 DOESN'T MATCH THE CURRENT ONLINE VERSION PRDOPSSOC-065\n",
      "Please consider updating pysiaf, e.g. pip install --upgrade pysiaf or conda update pysiaf\n"
     ]
    },
    {
     "name": "stdout",
     "output_type": "stream",
     "text": [
      "[spaceKLIP.coron1pipeline:INFO]   --> Coron1Pipeline: processing jw04454004001_03106_00003_nrcalong_uncal.fits\n"
     ]
    },
    {
     "name": "stderr",
     "output_type": "stream",
     "text": [
      "**WARNING**: LOCAL JWST PRD VERSION PRDOPSSOC-063 DOESN'T MATCH THE CURRENT ONLINE VERSION PRDOPSSOC-065\n",
      "Please consider updating pysiaf, e.g. pip install --upgrade pysiaf or conda update pysiaf\n",
      "**WARNING**: LOCAL JWST PRD VERSION PRDOPSSOC-063 DOESN'T MATCH THE CURRENT ONLINE VERSION PRDOPSSOC-065\n",
      "Please consider updating pysiaf, e.g. pip install --upgrade pysiaf or conda update pysiaf\n",
      "**WARNING**: LOCAL JWST PRD VERSION PRDOPSSOC-063 DOESN'T MATCH THE CURRENT ONLINE VERSION PRDOPSSOC-065\n",
      "Please consider updating pysiaf, e.g. pip install --upgrade pysiaf or conda update pysiaf\n",
      "**WARNING**: LOCAL JWST PRD VERSION PRDOPSSOC-063 DOESN'T MATCH THE CURRENT ONLINE VERSION PRDOPSSOC-065\n",
      "Please consider updating pysiaf, e.g. pip install --upgrade pysiaf or conda update pysiaf\n"
     ]
    },
    {
     "name": "stdout",
     "output_type": "stream",
     "text": [
      "[spaceKLIP.coron1pipeline:INFO]   --> Coron1Pipeline: processing jw04454004001_03106_00004_nrcalong_uncal.fits\n"
     ]
    },
    {
     "name": "stderr",
     "output_type": "stream",
     "text": [
      "**WARNING**: LOCAL JWST PRD VERSION PRDOPSSOC-063 DOESN'T MATCH THE CURRENT ONLINE VERSION PRDOPSSOC-065\n",
      "Please consider updating pysiaf, e.g. pip install --upgrade pysiaf or conda update pysiaf\n",
      "**WARNING**: LOCAL JWST PRD VERSION PRDOPSSOC-063 DOESN'T MATCH THE CURRENT ONLINE VERSION PRDOPSSOC-065\n",
      "Please consider updating pysiaf, e.g. pip install --upgrade pysiaf or conda update pysiaf\n",
      "**WARNING**: LOCAL JWST PRD VERSION PRDOPSSOC-063 DOESN'T MATCH THE CURRENT ONLINE VERSION PRDOPSSOC-065\n",
      "Please consider updating pysiaf, e.g. pip install --upgrade pysiaf or conda update pysiaf\n",
      "**WARNING**: LOCAL JWST PRD VERSION PRDOPSSOC-063 DOESN'T MATCH THE CURRENT ONLINE VERSION PRDOPSSOC-065\n",
      "Please consider updating pysiaf, e.g. pip install --upgrade pysiaf or conda update pysiaf\n"
     ]
    },
    {
     "name": "stdout",
     "output_type": "stream",
     "text": [
      "[spaceKLIP.coron1pipeline:INFO]   --> Coron1Pipeline: processing jw04454004001_03106_00005_nrcalong_uncal.fits\n"
     ]
    },
    {
     "name": "stderr",
     "output_type": "stream",
     "text": [
      "**WARNING**: LOCAL JWST PRD VERSION PRDOPSSOC-063 DOESN'T MATCH THE CURRENT ONLINE VERSION PRDOPSSOC-065\n",
      "Please consider updating pysiaf, e.g. pip install --upgrade pysiaf or conda update pysiaf\n",
      "**WARNING**: LOCAL JWST PRD VERSION PRDOPSSOC-063 DOESN'T MATCH THE CURRENT ONLINE VERSION PRDOPSSOC-065\n",
      "Please consider updating pysiaf, e.g. pip install --upgrade pysiaf or conda update pysiaf\n",
      "**WARNING**: LOCAL JWST PRD VERSION PRDOPSSOC-063 DOESN'T MATCH THE CURRENT ONLINE VERSION PRDOPSSOC-065\n",
      "Please consider updating pysiaf, e.g. pip install --upgrade pysiaf or conda update pysiaf\n",
      "**WARNING**: LOCAL JWST PRD VERSION PRDOPSSOC-063 DOESN'T MATCH THE CURRENT ONLINE VERSION PRDOPSSOC-065\n",
      "Please consider updating pysiaf, e.g. pip install --upgrade pysiaf or conda update pysiaf\n"
     ]
    },
    {
     "name": "stdout",
     "output_type": "stream",
     "text": [
      "[spaceKLIP.coron1pipeline:INFO]   --> Coron1Pipeline: processing jw04454004001_03106_00006_nrcalong_uncal.fits\n"
     ]
    },
    {
     "name": "stderr",
     "output_type": "stream",
     "text": [
      "**WARNING**: LOCAL JWST PRD VERSION PRDOPSSOC-063 DOESN'T MATCH THE CURRENT ONLINE VERSION PRDOPSSOC-065\n",
      "Please consider updating pysiaf, e.g. pip install --upgrade pysiaf or conda update pysiaf\n",
      "**WARNING**: LOCAL JWST PRD VERSION PRDOPSSOC-063 DOESN'T MATCH THE CURRENT ONLINE VERSION PRDOPSSOC-065\n",
      "Please consider updating pysiaf, e.g. pip install --upgrade pysiaf or conda update pysiaf\n",
      "**WARNING**: LOCAL JWST PRD VERSION PRDOPSSOC-063 DOESN'T MATCH THE CURRENT ONLINE VERSION PRDOPSSOC-065\n",
      "Please consider updating pysiaf, e.g. pip install --upgrade pysiaf or conda update pysiaf\n",
      "**WARNING**: LOCAL JWST PRD VERSION PRDOPSSOC-063 DOESN'T MATCH THE CURRENT ONLINE VERSION PRDOPSSOC-065\n",
      "Please consider updating pysiaf, e.g. pip install --upgrade pysiaf or conda update pysiaf\n"
     ]
    },
    {
     "name": "stdout",
     "output_type": "stream",
     "text": [
      "[spaceKLIP.coron1pipeline:INFO]   --> Coron1Pipeline: processing jw04454004001_03106_00007_nrcalong_uncal.fits\n"
     ]
    },
    {
     "name": "stderr",
     "output_type": "stream",
     "text": [
      "**WARNING**: LOCAL JWST PRD VERSION PRDOPSSOC-063 DOESN'T MATCH THE CURRENT ONLINE VERSION PRDOPSSOC-065\n",
      "Please consider updating pysiaf, e.g. pip install --upgrade pysiaf or conda update pysiaf\n",
      "**WARNING**: LOCAL JWST PRD VERSION PRDOPSSOC-063 DOESN'T MATCH THE CURRENT ONLINE VERSION PRDOPSSOC-065\n",
      "Please consider updating pysiaf, e.g. pip install --upgrade pysiaf or conda update pysiaf\n",
      "**WARNING**: LOCAL JWST PRD VERSION PRDOPSSOC-063 DOESN'T MATCH THE CURRENT ONLINE VERSION PRDOPSSOC-065\n",
      "Please consider updating pysiaf, e.g. pip install --upgrade pysiaf or conda update pysiaf\n",
      "**WARNING**: LOCAL JWST PRD VERSION PRDOPSSOC-063 DOESN'T MATCH THE CURRENT ONLINE VERSION PRDOPSSOC-065\n",
      "Please consider updating pysiaf, e.g. pip install --upgrade pysiaf or conda update pysiaf\n"
     ]
    },
    {
     "name": "stdout",
     "output_type": "stream",
     "text": [
      "[spaceKLIP.coron1pipeline:INFO]   --> Coron1Pipeline: processing jw04454004001_03106_00008_nrcalong_uncal.fits\n"
     ]
    },
    {
     "name": "stderr",
     "output_type": "stream",
     "text": [
      "**WARNING**: LOCAL JWST PRD VERSION PRDOPSSOC-063 DOESN'T MATCH THE CURRENT ONLINE VERSION PRDOPSSOC-065\n",
      "Please consider updating pysiaf, e.g. pip install --upgrade pysiaf or conda update pysiaf\n",
      "**WARNING**: LOCAL JWST PRD VERSION PRDOPSSOC-063 DOESN'T MATCH THE CURRENT ONLINE VERSION PRDOPSSOC-065\n",
      "Please consider updating pysiaf, e.g. pip install --upgrade pysiaf or conda update pysiaf\n",
      "**WARNING**: LOCAL JWST PRD VERSION PRDOPSSOC-063 DOESN'T MATCH THE CURRENT ONLINE VERSION PRDOPSSOC-065\n",
      "Please consider updating pysiaf, e.g. pip install --upgrade pysiaf or conda update pysiaf\n",
      "**WARNING**: LOCAL JWST PRD VERSION PRDOPSSOC-063 DOESN'T MATCH THE CURRENT ONLINE VERSION PRDOPSSOC-065\n",
      "Please consider updating pysiaf, e.g. pip install --upgrade pysiaf or conda update pysiaf\n"
     ]
    },
    {
     "name": "stdout",
     "output_type": "stream",
     "text": [
      "[spaceKLIP.coron1pipeline:INFO]   --> Coron1Pipeline: processing jw04454004001_03106_00009_nrcalong_uncal.fits\n"
     ]
    },
    {
     "name": "stderr",
     "output_type": "stream",
     "text": [
      "**WARNING**: LOCAL JWST PRD VERSION PRDOPSSOC-063 DOESN'T MATCH THE CURRENT ONLINE VERSION PRDOPSSOC-065\n",
      "Please consider updating pysiaf, e.g. pip install --upgrade pysiaf or conda update pysiaf\n",
      "**WARNING**: LOCAL JWST PRD VERSION PRDOPSSOC-063 DOESN'T MATCH THE CURRENT ONLINE VERSION PRDOPSSOC-065\n",
      "Please consider updating pysiaf, e.g. pip install --upgrade pysiaf or conda update pysiaf\n",
      "**WARNING**: LOCAL JWST PRD VERSION PRDOPSSOC-063 DOESN'T MATCH THE CURRENT ONLINE VERSION PRDOPSSOC-065\n",
      "Please consider updating pysiaf, e.g. pip install --upgrade pysiaf or conda update pysiaf\n",
      "**WARNING**: LOCAL JWST PRD VERSION PRDOPSSOC-063 DOESN'T MATCH THE CURRENT ONLINE VERSION PRDOPSSOC-065\n",
      "Please consider updating pysiaf, e.g. pip install --upgrade pysiaf or conda update pysiaf\n"
     ]
    },
    {
     "name": "stdout",
     "output_type": "stream",
     "text": [
      "[spaceKLIP.coron1pipeline:INFO]   --> Coron1Pipeline: processing jw06570007001_03106_00001_nrcalong_uncal.fits\n",
      "[spaceKLIP.coron1pipeline:INFO]   --> Coron1Pipeline: processing jw06570007001_03106_00002_nrcalong_uncal.fits\n",
      "[spaceKLIP.coron1pipeline:INFO]   --> Coron1Pipeline: processing jw06570007001_03106_00003_nrcalong_uncal.fits\n",
      "[spaceKLIP.coron1pipeline:INFO]   --> Coron1Pipeline: processing jw06570007001_03106_00004_nrcalong_uncal.fits\n",
      "[spaceKLIP.coron1pipeline:INFO]   --> Coron1Pipeline: processing jw06570007001_03106_00005_nrcalong_uncal.fits\n",
      "[spaceKLIP.coron1pipeline:INFO]   --> Coron1Pipeline: processing jw06570007001_03106_00001_nrcalong_uncal.fits\n",
      "[spaceKLIP.coron1pipeline:INFO]   --> Coron1Pipeline: processing jw06570007001_03106_00002_nrcalong_uncal.fits\n",
      "[spaceKLIP.coron1pipeline:INFO]   --> Coron1Pipeline: processing jw06570007001_03106_00003_nrcalong_uncal.fits\n",
      "[spaceKLIP.coron1pipeline:INFO]   --> Coron1Pipeline: processing jw06570007001_03106_00004_nrcalong_uncal.fits\n",
      "[spaceKLIP.coron1pipeline:INFO]   --> Coron1Pipeline: processing jw06570007001_03106_00005_nrcalong_uncal.fits\n",
      "[spaceKLIP.coron1pipeline:INFO]   --> Coron1Pipeline: processing jw04454004001_03106_00001_nrcalong_uncal.fits\n"
     ]
    },
    {
     "name": "stderr",
     "output_type": "stream",
     "text": [
      "**WARNING**: LOCAL JWST PRD VERSION PRDOPSSOC-063 DOESN'T MATCH THE CURRENT ONLINE VERSION PRDOPSSOC-065\n",
      "Please consider updating pysiaf, e.g. pip install --upgrade pysiaf or conda update pysiaf\n",
      "**WARNING**: LOCAL JWST PRD VERSION PRDOPSSOC-063 DOESN'T MATCH THE CURRENT ONLINE VERSION PRDOPSSOC-065\n",
      "Please consider updating pysiaf, e.g. pip install --upgrade pysiaf or conda update pysiaf\n",
      "**WARNING**: LOCAL JWST PRD VERSION PRDOPSSOC-063 DOESN'T MATCH THE CURRENT ONLINE VERSION PRDOPSSOC-065\n",
      "Please consider updating pysiaf, e.g. pip install --upgrade pysiaf or conda update pysiaf\n",
      "**WARNING**: LOCAL JWST PRD VERSION PRDOPSSOC-063 DOESN'T MATCH THE CURRENT ONLINE VERSION PRDOPSSOC-065\n",
      "Please consider updating pysiaf, e.g. pip install --upgrade pysiaf or conda update pysiaf\n"
     ]
    },
    {
     "name": "stdout",
     "output_type": "stream",
     "text": [
      "[spaceKLIP.coron1pipeline:INFO]   --> Coron1Pipeline: processing jw04454004001_03106_00002_nrcalong_uncal.fits\n"
     ]
    },
    {
     "name": "stderr",
     "output_type": "stream",
     "text": [
      "**WARNING**: LOCAL JWST PRD VERSION PRDOPSSOC-063 DOESN'T MATCH THE CURRENT ONLINE VERSION PRDOPSSOC-065\n",
      "Please consider updating pysiaf, e.g. pip install --upgrade pysiaf or conda update pysiaf\n",
      "**WARNING**: LOCAL JWST PRD VERSION PRDOPSSOC-063 DOESN'T MATCH THE CURRENT ONLINE VERSION PRDOPSSOC-065\n",
      "Please consider updating pysiaf, e.g. pip install --upgrade pysiaf or conda update pysiaf\n",
      "**WARNING**: LOCAL JWST PRD VERSION PRDOPSSOC-063 DOESN'T MATCH THE CURRENT ONLINE VERSION PRDOPSSOC-065\n",
      "Please consider updating pysiaf, e.g. pip install --upgrade pysiaf or conda update pysiaf\n",
      "**WARNING**: LOCAL JWST PRD VERSION PRDOPSSOC-063 DOESN'T MATCH THE CURRENT ONLINE VERSION PRDOPSSOC-065\n",
      "Please consider updating pysiaf, e.g. pip install --upgrade pysiaf or conda update pysiaf\n"
     ]
    },
    {
     "name": "stdout",
     "output_type": "stream",
     "text": [
      "[spaceKLIP.coron1pipeline:INFO]   --> Coron1Pipeline: processing jw04454004001_03106_00003_nrcalong_uncal.fits\n"
     ]
    },
    {
     "name": "stderr",
     "output_type": "stream",
     "text": [
      "**WARNING**: LOCAL JWST PRD VERSION PRDOPSSOC-063 DOESN'T MATCH THE CURRENT ONLINE VERSION PRDOPSSOC-065\n",
      "Please consider updating pysiaf, e.g. pip install --upgrade pysiaf or conda update pysiaf\n",
      "**WARNING**: LOCAL JWST PRD VERSION PRDOPSSOC-063 DOESN'T MATCH THE CURRENT ONLINE VERSION PRDOPSSOC-065\n",
      "Please consider updating pysiaf, e.g. pip install --upgrade pysiaf or conda update pysiaf\n",
      "**WARNING**: LOCAL JWST PRD VERSION PRDOPSSOC-063 DOESN'T MATCH THE CURRENT ONLINE VERSION PRDOPSSOC-065\n",
      "Please consider updating pysiaf, e.g. pip install --upgrade pysiaf or conda update pysiaf\n",
      "**WARNING**: LOCAL JWST PRD VERSION PRDOPSSOC-063 DOESN'T MATCH THE CURRENT ONLINE VERSION PRDOPSSOC-065\n",
      "Please consider updating pysiaf, e.g. pip install --upgrade pysiaf or conda update pysiaf\n"
     ]
    },
    {
     "name": "stdout",
     "output_type": "stream",
     "text": [
      "[spaceKLIP.coron1pipeline:INFO]   --> Coron1Pipeline: processing jw04454004001_03106_00004_nrcalong_uncal.fits\n"
     ]
    },
    {
     "name": "stderr",
     "output_type": "stream",
     "text": [
      "**WARNING**: LOCAL JWST PRD VERSION PRDOPSSOC-063 DOESN'T MATCH THE CURRENT ONLINE VERSION PRDOPSSOC-065\n",
      "Please consider updating pysiaf, e.g. pip install --upgrade pysiaf or conda update pysiaf\n",
      "**WARNING**: LOCAL JWST PRD VERSION PRDOPSSOC-063 DOESN'T MATCH THE CURRENT ONLINE VERSION PRDOPSSOC-065\n",
      "Please consider updating pysiaf, e.g. pip install --upgrade pysiaf or conda update pysiaf\n",
      "**WARNING**: LOCAL JWST PRD VERSION PRDOPSSOC-063 DOESN'T MATCH THE CURRENT ONLINE VERSION PRDOPSSOC-065\n",
      "Please consider updating pysiaf, e.g. pip install --upgrade pysiaf or conda update pysiaf\n",
      "**WARNING**: LOCAL JWST PRD VERSION PRDOPSSOC-063 DOESN'T MATCH THE CURRENT ONLINE VERSION PRDOPSSOC-065\n",
      "Please consider updating pysiaf, e.g. pip install --upgrade pysiaf or conda update pysiaf\n"
     ]
    },
    {
     "name": "stdout",
     "output_type": "stream",
     "text": [
      "[spaceKLIP.coron1pipeline:INFO]   --> Coron1Pipeline: processing jw04454004001_03106_00005_nrcalong_uncal.fits\n"
     ]
    },
    {
     "name": "stderr",
     "output_type": "stream",
     "text": [
      "**WARNING**: LOCAL JWST PRD VERSION PRDOPSSOC-063 DOESN'T MATCH THE CURRENT ONLINE VERSION PRDOPSSOC-065\n",
      "Please consider updating pysiaf, e.g. pip install --upgrade pysiaf or conda update pysiaf\n",
      "**WARNING**: LOCAL JWST PRD VERSION PRDOPSSOC-063 DOESN'T MATCH THE CURRENT ONLINE VERSION PRDOPSSOC-065\n",
      "Please consider updating pysiaf, e.g. pip install --upgrade pysiaf or conda update pysiaf\n",
      "**WARNING**: LOCAL JWST PRD VERSION PRDOPSSOC-063 DOESN'T MATCH THE CURRENT ONLINE VERSION PRDOPSSOC-065\n",
      "Please consider updating pysiaf, e.g. pip install --upgrade pysiaf or conda update pysiaf\n",
      "**WARNING**: LOCAL JWST PRD VERSION PRDOPSSOC-063 DOESN'T MATCH THE CURRENT ONLINE VERSION PRDOPSSOC-065\n",
      "Please consider updating pysiaf, e.g. pip install --upgrade pysiaf or conda update pysiaf\n"
     ]
    },
    {
     "name": "stdout",
     "output_type": "stream",
     "text": [
      "[spaceKLIP.coron1pipeline:INFO]   --> Coron1Pipeline: processing jw04454004001_03106_00006_nrcalong_uncal.fits\n"
     ]
    },
    {
     "name": "stderr",
     "output_type": "stream",
     "text": [
      "**WARNING**: LOCAL JWST PRD VERSION PRDOPSSOC-063 DOESN'T MATCH THE CURRENT ONLINE VERSION PRDOPSSOC-065\n",
      "Please consider updating pysiaf, e.g. pip install --upgrade pysiaf or conda update pysiaf\n",
      "**WARNING**: LOCAL JWST PRD VERSION PRDOPSSOC-063 DOESN'T MATCH THE CURRENT ONLINE VERSION PRDOPSSOC-065\n",
      "Please consider updating pysiaf, e.g. pip install --upgrade pysiaf or conda update pysiaf\n",
      "**WARNING**: LOCAL JWST PRD VERSION PRDOPSSOC-063 DOESN'T MATCH THE CURRENT ONLINE VERSION PRDOPSSOC-065\n",
      "Please consider updating pysiaf, e.g. pip install --upgrade pysiaf or conda update pysiaf\n",
      "**WARNING**: LOCAL JWST PRD VERSION PRDOPSSOC-063 DOESN'T MATCH THE CURRENT ONLINE VERSION PRDOPSSOC-065\n",
      "Please consider updating pysiaf, e.g. pip install --upgrade pysiaf or conda update pysiaf\n"
     ]
    },
    {
     "name": "stdout",
     "output_type": "stream",
     "text": [
      "[spaceKLIP.coron1pipeline:INFO]   --> Coron1Pipeline: processing jw04454004001_03106_00007_nrcalong_uncal.fits\n"
     ]
    },
    {
     "name": "stderr",
     "output_type": "stream",
     "text": [
      "**WARNING**: LOCAL JWST PRD VERSION PRDOPSSOC-063 DOESN'T MATCH THE CURRENT ONLINE VERSION PRDOPSSOC-065\n",
      "Please consider updating pysiaf, e.g. pip install --upgrade pysiaf or conda update pysiaf\n",
      "**WARNING**: LOCAL JWST PRD VERSION PRDOPSSOC-063 DOESN'T MATCH THE CURRENT ONLINE VERSION PRDOPSSOC-065\n",
      "Please consider updating pysiaf, e.g. pip install --upgrade pysiaf or conda update pysiaf\n",
      "**WARNING**: LOCAL JWST PRD VERSION PRDOPSSOC-063 DOESN'T MATCH THE CURRENT ONLINE VERSION PRDOPSSOC-065\n",
      "Please consider updating pysiaf, e.g. pip install --upgrade pysiaf or conda update pysiaf\n",
      "**WARNING**: LOCAL JWST PRD VERSION PRDOPSSOC-063 DOESN'T MATCH THE CURRENT ONLINE VERSION PRDOPSSOC-065\n",
      "Please consider updating pysiaf, e.g. pip install --upgrade pysiaf or conda update pysiaf\n"
     ]
    },
    {
     "name": "stdout",
     "output_type": "stream",
     "text": [
      "[spaceKLIP.coron1pipeline:INFO]   --> Coron1Pipeline: processing jw04454004001_03106_00008_nrcalong_uncal.fits\n"
     ]
    },
    {
     "name": "stderr",
     "output_type": "stream",
     "text": [
      "**WARNING**: LOCAL JWST PRD VERSION PRDOPSSOC-063 DOESN'T MATCH THE CURRENT ONLINE VERSION PRDOPSSOC-065\n",
      "Please consider updating pysiaf, e.g. pip install --upgrade pysiaf or conda update pysiaf\n",
      "**WARNING**: LOCAL JWST PRD VERSION PRDOPSSOC-063 DOESN'T MATCH THE CURRENT ONLINE VERSION PRDOPSSOC-065\n",
      "Please consider updating pysiaf, e.g. pip install --upgrade pysiaf or conda update pysiaf\n",
      "**WARNING**: LOCAL JWST PRD VERSION PRDOPSSOC-063 DOESN'T MATCH THE CURRENT ONLINE VERSION PRDOPSSOC-065\n",
      "Please consider updating pysiaf, e.g. pip install --upgrade pysiaf or conda update pysiaf\n",
      "**WARNING**: LOCAL JWST PRD VERSION PRDOPSSOC-063 DOESN'T MATCH THE CURRENT ONLINE VERSION PRDOPSSOC-065\n",
      "Please consider updating pysiaf, e.g. pip install --upgrade pysiaf or conda update pysiaf\n"
     ]
    },
    {
     "name": "stdout",
     "output_type": "stream",
     "text": [
      "[spaceKLIP.coron1pipeline:INFO]   --> Coron1Pipeline: processing jw04454004001_03106_00009_nrcalong_uncal.fits\n"
     ]
    },
    {
     "name": "stderr",
     "output_type": "stream",
     "text": [
      "**WARNING**: LOCAL JWST PRD VERSION PRDOPSSOC-063 DOESN'T MATCH THE CURRENT ONLINE VERSION PRDOPSSOC-065\n",
      "Please consider updating pysiaf, e.g. pip install --upgrade pysiaf or conda update pysiaf\n",
      "**WARNING**: LOCAL JWST PRD VERSION PRDOPSSOC-063 DOESN'T MATCH THE CURRENT ONLINE VERSION PRDOPSSOC-065\n",
      "Please consider updating pysiaf, e.g. pip install --upgrade pysiaf or conda update pysiaf\n",
      "**WARNING**: LOCAL JWST PRD VERSION PRDOPSSOC-063 DOESN'T MATCH THE CURRENT ONLINE VERSION PRDOPSSOC-065\n",
      "Please consider updating pysiaf, e.g. pip install --upgrade pysiaf or conda update pysiaf\n",
      "**WARNING**: LOCAL JWST PRD VERSION PRDOPSSOC-063 DOESN'T MATCH THE CURRENT ONLINE VERSION PRDOPSSOC-065\n",
      "Please consider updating pysiaf, e.g. pip install --upgrade pysiaf or conda update pysiaf\n"
     ]
    }
   ],
   "source": [
    "if not reduced:\n",
    "    coron1pipeline.run_obs(database=Database,\n",
    "                           steps={'saturation': {'n_pix_grow_sat': 1,\n",
    "                                                 'grow_diagonal': False},\n",
    "                                  'refpix': {'odd_even_columns': True,\n",
    "                                             'odd_even_rows': True,\n",
    "                                             'nlower': 4,\n",
    "                                             'nupper': 4,\n",
    "                                             'nleft': 4,\n",
    "                                             'nright': 4,\n",
    "                                             'nrow_off': 0,\n",
    "                                             'ncol_off': 0},\n",
    "                                  'dark_current': {'skip': True},\n",
    "                                  'jump': {'rejection_threshold': 4.,\n",
    "                                           'three_group_rejection_threshold': 4.,\n",
    "                                           'four_group_rejection_threshold': 4.},\n",
    "                                  'ramp_fit': {'save_calibrated_ramp': False}},\n",
    "                           subdir='stage1')"
   ]
  },
  {
   "cell_type": "code",
   "execution_count": 16,
   "id": "a16487af-9499-4728-9fb8-e9877b27d441",
   "metadata": {},
   "outputs": [
    {
     "data": {
      "text/plain": [
       "(<function print>,\n",
       " {'JWST_NIRCAM_NRCALONG_F335M_MASKRND_MASK335R_SUB320A335R': <Table length=29>\n",
       "   TYPE   EXP_TYPE DATAMODL TELESCOP ... BLURFWHM                                        FITSFILE                                       MASKFILE\n",
       "  object   object   object   object  ... float64                                          object                                         object \n",
       "  ------ --------- -------- -------- ... -------- ------------------------------------------------------------------------------------- --------\n",
       "     SCI NRC_CORON   STAGE1     JWST ...      nan ./SKLIP_OUT_4454_TEST_F335M_4/stage1/jw04454003001_03106_00001_nrcalong_rateints.fits     NONE\n",
       "     REF NRC_CORON   STAGE1     JWST ...      nan ./SKLIP_OUT_4454_TEST_F335M_4/stage1/jw04454004001_03106_00001_nrcalong_rateints.fits     NONE\n",
       "     REF NRC_CORON   STAGE1     JWST ...      nan ./SKLIP_OUT_4454_TEST_F335M_4/stage1/jw04454004001_03106_00002_nrcalong_rateints.fits     NONE\n",
       "     REF NRC_CORON   STAGE1     JWST ...      nan ./SKLIP_OUT_4454_TEST_F335M_4/stage1/jw04454004001_03106_00003_nrcalong_rateints.fits     NONE\n",
       "     REF NRC_CORON   STAGE1     JWST ...      nan ./SKLIP_OUT_4454_TEST_F335M_4/stage1/jw04454004001_03106_00004_nrcalong_rateints.fits     NONE\n",
       "     REF NRC_CORON   STAGE1     JWST ...      nan ./SKLIP_OUT_4454_TEST_F335M_4/stage1/jw04454004001_03106_00005_nrcalong_rateints.fits     NONE\n",
       "     REF NRC_CORON   STAGE1     JWST ...      nan ./SKLIP_OUT_4454_TEST_F335M_4/stage1/jw04454004001_03106_00006_nrcalong_rateints.fits     NONE\n",
       "     REF NRC_CORON   STAGE1     JWST ...      nan ./SKLIP_OUT_4454_TEST_F335M_4/stage1/jw04454004001_03106_00007_nrcalong_rateints.fits     NONE\n",
       "     REF NRC_CORON   STAGE1     JWST ...      nan ./SKLIP_OUT_4454_TEST_F335M_4/stage1/jw04454004001_03106_00008_nrcalong_rateints.fits     NONE\n",
       "     REF NRC_CORON   STAGE1     JWST ...      nan ./SKLIP_OUT_4454_TEST_F335M_4/stage1/jw04454004001_03106_00009_nrcalong_rateints.fits     NONE\n",
       "     REF NRC_CORON   STAGE1     JWST ...      nan ./SKLIP_OUT_4454_TEST_F335M_4/stage1/jw06570007001_03106_00001_nrcalong_rateints.fits     NONE\n",
       "     REF NRC_CORON   STAGE1     JWST ...      nan ./SKLIP_OUT_4454_TEST_F335M_4/stage1/jw06570007001_03106_00002_nrcalong_rateints.fits     NONE\n",
       "     REF NRC_CORON   STAGE1     JWST ...      nan ./SKLIP_OUT_4454_TEST_F335M_4/stage1/jw06570007001_03106_00003_nrcalong_rateints.fits     NONE\n",
       "     REF NRC_CORON   STAGE1     JWST ...      nan ./SKLIP_OUT_4454_TEST_F335M_4/stage1/jw06570007001_03106_00004_nrcalong_rateints.fits     NONE\n",
       "     REF NRC_CORON   STAGE1     JWST ...      nan ./SKLIP_OUT_4454_TEST_F335M_4/stage1/jw06570007001_03106_00005_nrcalong_rateints.fits     NONE\n",
       "     REF NRC_CORON   STAGE1     JWST ...      nan ./SKLIP_OUT_4454_TEST_F335M_4/stage1/jw06570007001_03106_00001_nrcalong_rateints.fits     NONE\n",
       "     REF NRC_CORON   STAGE1     JWST ...      nan ./SKLIP_OUT_4454_TEST_F335M_4/stage1/jw06570007001_03106_00002_nrcalong_rateints.fits     NONE\n",
       "     REF NRC_CORON   STAGE1     JWST ...      nan ./SKLIP_OUT_4454_TEST_F335M_4/stage1/jw06570007001_03106_00003_nrcalong_rateints.fits     NONE\n",
       "     REF NRC_CORON   STAGE1     JWST ...      nan ./SKLIP_OUT_4454_TEST_F335M_4/stage1/jw06570007001_03106_00004_nrcalong_rateints.fits     NONE\n",
       "     REF NRC_CORON   STAGE1     JWST ...      nan ./SKLIP_OUT_4454_TEST_F335M_4/stage1/jw06570007001_03106_00005_nrcalong_rateints.fits     NONE\n",
       "     REF NRC_CORON   STAGE1     JWST ...      nan ./SKLIP_OUT_4454_TEST_F335M_4/stage1/jw04454004001_03106_00001_nrcalong_rateints.fits     NONE\n",
       "     REF NRC_CORON   STAGE1     JWST ...      nan ./SKLIP_OUT_4454_TEST_F335M_4/stage1/jw04454004001_03106_00002_nrcalong_rateints.fits     NONE\n",
       "     REF NRC_CORON   STAGE1     JWST ...      nan ./SKLIP_OUT_4454_TEST_F335M_4/stage1/jw04454004001_03106_00003_nrcalong_rateints.fits     NONE\n",
       "     REF NRC_CORON   STAGE1     JWST ...      nan ./SKLIP_OUT_4454_TEST_F335M_4/stage1/jw04454004001_03106_00004_nrcalong_rateints.fits     NONE\n",
       "     REF NRC_CORON   STAGE1     JWST ...      nan ./SKLIP_OUT_4454_TEST_F335M_4/stage1/jw04454004001_03106_00005_nrcalong_rateints.fits     NONE\n",
       "     REF NRC_CORON   STAGE1     JWST ...      nan ./SKLIP_OUT_4454_TEST_F335M_4/stage1/jw04454004001_03106_00006_nrcalong_rateints.fits     NONE\n",
       "     REF NRC_CORON   STAGE1     JWST ...      nan ./SKLIP_OUT_4454_TEST_F335M_4/stage1/jw04454004001_03106_00007_nrcalong_rateints.fits     NONE\n",
       "     REF NRC_CORON   STAGE1     JWST ...      nan ./SKLIP_OUT_4454_TEST_F335M_4/stage1/jw04454004001_03106_00008_nrcalong_rateints.fits     NONE\n",
       "     REF NRC_CORON   STAGE1     JWST ...      nan ./SKLIP_OUT_4454_TEST_F335M_4/stage1/jw04454004001_03106_00009_nrcalong_rateints.fits     NONE})"
      ]
     },
     "execution_count": 16,
     "metadata": {},
     "output_type": "execute_result"
    }
   ],
   "source": [
    "print, Database.obs"
   ]
  },
  {
   "cell_type": "code",
   "execution_count": 17,
   "id": "8702434f-5ce5-4abb-95f6-84258ee6e5c3",
   "metadata": {},
   "outputs": [
    {
     "data": {
      "text/plain": [
       "<bound method Database.summarize of <spaceKLIP.database.Database object at 0x7f928110ef50>>"
      ]
     },
     "execution_count": 17,
     "metadata": {},
     "output_type": "execute_result"
    }
   ],
   "source": [
    "Database.summarize"
   ]
  },
  {
   "cell_type": "code",
   "execution_count": 18,
   "id": "e35d75f8-3536-41e1-b293-b64b0865e389",
   "metadata": {
    "scrolled": true,
    "tags": []
   },
   "outputs": [
    {
     "name": "stdout",
     "output_type": "stream",
     "text": [
      "[spaceKLIP.coron2pipeline:INFO] --> Concatenation JWST_NIRCAM_NRCALONG_F335M_MASKRND_MASK335R_SUB320A335R\n",
      "[spaceKLIP.coron2pipeline:INFO]   --> Coron2Pipeline: processing jw04454003001_03106_00001_nrcalong_rateints.fits\n",
      "[spaceKLIP.coron2pipeline:INFO]   --> Coron2Pipeline: processing jw04454004001_03106_00001_nrcalong_rateints.fits\n",
      "[spaceKLIP.coron2pipeline:INFO]   --> Coron2Pipeline: processing jw04454004001_03106_00002_nrcalong_rateints.fits\n",
      "[spaceKLIP.coron2pipeline:INFO]   --> Coron2Pipeline: processing jw04454004001_03106_00003_nrcalong_rateints.fits\n",
      "[spaceKLIP.coron2pipeline:INFO]   --> Coron2Pipeline: processing jw04454004001_03106_00004_nrcalong_rateints.fits\n",
      "[spaceKLIP.coron2pipeline:INFO]   --> Coron2Pipeline: processing jw04454004001_03106_00005_nrcalong_rateints.fits\n",
      "[spaceKLIP.coron2pipeline:INFO]   --> Coron2Pipeline: processing jw04454004001_03106_00006_nrcalong_rateints.fits\n",
      "[spaceKLIP.coron2pipeline:INFO]   --> Coron2Pipeline: processing jw04454004001_03106_00007_nrcalong_rateints.fits\n",
      "[spaceKLIP.coron2pipeline:INFO]   --> Coron2Pipeline: processing jw04454004001_03106_00008_nrcalong_rateints.fits\n",
      "[spaceKLIP.coron2pipeline:INFO]   --> Coron2Pipeline: processing jw04454004001_03106_00009_nrcalong_rateints.fits\n",
      "[spaceKLIP.coron2pipeline:INFO]   --> Coron2Pipeline: processing jw06570007001_03106_00001_nrcalong_rateints.fits\n",
      "[spaceKLIP.coron2pipeline:INFO]   --> Coron2Pipeline: processing jw06570007001_03106_00002_nrcalong_rateints.fits\n",
      "[spaceKLIP.coron2pipeline:INFO]   --> Coron2Pipeline: processing jw06570007001_03106_00003_nrcalong_rateints.fits\n",
      "[spaceKLIP.coron2pipeline:INFO]   --> Coron2Pipeline: processing jw06570007001_03106_00004_nrcalong_rateints.fits\n",
      "[spaceKLIP.coron2pipeline:INFO]   --> Coron2Pipeline: processing jw06570007001_03106_00005_nrcalong_rateints.fits\n",
      "[spaceKLIP.coron2pipeline:INFO]   --> Coron2Pipeline: processing jw06570007001_03106_00001_nrcalong_rateints.fits\n",
      "[spaceKLIP.coron2pipeline:INFO]   --> Coron2Pipeline: processing jw06570007001_03106_00002_nrcalong_rateints.fits\n",
      "[spaceKLIP.coron2pipeline:INFO]   --> Coron2Pipeline: processing jw06570007001_03106_00003_nrcalong_rateints.fits\n",
      "[spaceKLIP.coron2pipeline:INFO]   --> Coron2Pipeline: processing jw06570007001_03106_00004_nrcalong_rateints.fits\n",
      "[spaceKLIP.coron2pipeline:INFO]   --> Coron2Pipeline: processing jw06570007001_03106_00005_nrcalong_rateints.fits\n",
      "[spaceKLIP.coron2pipeline:INFO]   --> Coron2Pipeline: processing jw04454004001_03106_00001_nrcalong_rateints.fits\n",
      "[spaceKLIP.coron2pipeline:INFO]   --> Coron2Pipeline: processing jw04454004001_03106_00002_nrcalong_rateints.fits\n",
      "[spaceKLIP.coron2pipeline:INFO]   --> Coron2Pipeline: processing jw04454004001_03106_00003_nrcalong_rateints.fits\n",
      "[spaceKLIP.coron2pipeline:INFO]   --> Coron2Pipeline: processing jw04454004001_03106_00004_nrcalong_rateints.fits\n",
      "[spaceKLIP.coron2pipeline:INFO]   --> Coron2Pipeline: processing jw04454004001_03106_00005_nrcalong_rateints.fits\n",
      "[spaceKLIP.coron2pipeline:INFO]   --> Coron2Pipeline: processing jw04454004001_03106_00006_nrcalong_rateints.fits\n",
      "[spaceKLIP.coron2pipeline:INFO]   --> Coron2Pipeline: processing jw04454004001_03106_00007_nrcalong_rateints.fits\n",
      "[spaceKLIP.coron2pipeline:INFO]   --> Coron2Pipeline: processing jw04454004001_03106_00008_nrcalong_rateints.fits\n",
      "[spaceKLIP.coron2pipeline:INFO]   --> Coron2Pipeline: processing jw04454004001_03106_00009_nrcalong_rateints.fits\n"
     ]
    }
   ],
   "source": [
    "if not reduced:\n",
    "    coron2pipeline.run_obs(database=Database,\n",
    "                           steps={'outlier_detection': {'skip': False}},\n",
    "                           subdir='stage2')"
   ]
  },
  {
   "cell_type": "code",
   "execution_count": 19,
   "id": "926e5864-3ac9-492f-b166-86a309ac3478",
   "metadata": {
    "tags": []
   },
   "outputs": [],
   "source": [
    "ImageTools = imagetools.ImageTools(Database)"
   ]
  },
  {
   "cell_type": "code",
   "execution_count": 20,
   "id": "101a3dbc-7571-4536-9f50-bf9039c751e3",
   "metadata": {
    "scrolled": true,
    "tags": []
   },
   "outputs": [
    {
     "name": "stdout",
     "output_type": "stream",
     "text": [
      "[spaceKLIP.imagetools:INFO] Median subtraction using method=border\n",
      "[spaceKLIP.imagetools:INFO] --> Concatenation JWST_NIRCAM_NRCALONG_F335M_MASKRND_MASK335R_SUB320A335R\n",
      "[spaceKLIP.imagetools:INFO]   --> Median subtraction: jw04454003001_03106_00001_nrcalong_calints.fits\n"
     ]
    },
    {
     "name": "stderr",
     "output_type": "stream",
     "text": [
      "[py.warnings:WARNING] /Users/jgirard/anaconda3/envs/spaceklip6/lib/python3.10/site-packages/astropy/stats/sigma_clipping.py:438: AstropyUserWarning: Input data contains invalid values (NaNs or infs), which were automatically clipped.\n",
      "  warnings.warn(\n",
      "\n",
      "[py.warnings:WARNING] /Users/jgirard/anaconda3/envs/spaceklip6/lib/python3.10/site-packages/astropy/stats/sigma_clipping.py:438: AstropyUserWarning: Input data contains invalid values (NaNs or infs), which were automatically clipped.\n",
      "  warnings.warn(\n",
      "\n",
      "[py.warnings:WARNING] /Users/jgirard/anaconda3/envs/spaceklip6/lib/python3.10/site-packages/astropy/stats/sigma_clipping.py:438: AstropyUserWarning: Input data contains invalid values (NaNs or infs), which were automatically clipped.\n",
      "  warnings.warn(\n",
      "\n",
      "[py.warnings:WARNING] /Users/jgirard/anaconda3/envs/spaceklip6/lib/python3.10/site-packages/astropy/stats/sigma_clipping.py:438: AstropyUserWarning: Input data contains invalid values (NaNs or infs), which were automatically clipped.\n",
      "  warnings.warn(\n",
      "\n",
      "[py.warnings:WARNING] /Users/jgirard/anaconda3/envs/spaceklip6/lib/python3.10/site-packages/astropy/stats/sigma_clipping.py:438: AstropyUserWarning: Input data contains invalid values (NaNs or infs), which were automatically clipped.\n",
      "  warnings.warn(\n",
      "\n",
      "[py.warnings:WARNING] /Users/jgirard/anaconda3/envs/spaceklip6/lib/python3.10/site-packages/astropy/stats/sigma_clipping.py:438: AstropyUserWarning: Input data contains invalid values (NaNs or infs), which were automatically clipped.\n",
      "  warnings.warn(\n",
      "\n",
      "[py.warnings:WARNING] /Users/jgirard/anaconda3/envs/spaceklip6/lib/python3.10/site-packages/astropy/stats/sigma_clipping.py:438: AstropyUserWarning: Input data contains invalid values (NaNs or infs), which were automatically clipped.\n",
      "  warnings.warn(\n",
      "\n",
      "[py.warnings:WARNING] /Users/jgirard/anaconda3/envs/spaceklip6/lib/python3.10/site-packages/astropy/stats/sigma_clipping.py:438: AstropyUserWarning: Input data contains invalid values (NaNs or infs), which were automatically clipped.\n",
      "  warnings.warn(\n",
      "\n",
      "[py.warnings:WARNING] /Users/jgirard/anaconda3/envs/spaceklip6/lib/python3.10/site-packages/astropy/stats/sigma_clipping.py:438: AstropyUserWarning: Input data contains invalid values (NaNs or infs), which were automatically clipped.\n",
      "  warnings.warn(\n",
      "\n",
      "[py.warnings:WARNING] /Users/jgirard/anaconda3/envs/spaceklip6/lib/python3.10/site-packages/astropy/stats/sigma_clipping.py:438: AstropyUserWarning: Input data contains invalid values (NaNs or infs), which were automatically clipped.\n",
      "  warnings.warn(\n",
      "\n",
      "[py.warnings:WARNING] /Users/jgirard/anaconda3/envs/spaceklip6/lib/python3.10/site-packages/astropy/stats/sigma_clipping.py:438: AstropyUserWarning: Input data contains invalid values (NaNs or infs), which were automatically clipped.\n",
      "  warnings.warn(\n",
      "\n",
      "[py.warnings:WARNING] /Users/jgirard/anaconda3/envs/spaceklip6/lib/python3.10/site-packages/astropy/stats/sigma_clipping.py:438: AstropyUserWarning: Input data contains invalid values (NaNs or infs), which were automatically clipped.\n",
      "  warnings.warn(\n",
      "\n",
      "[py.warnings:WARNING] /Users/jgirard/anaconda3/envs/spaceklip6/lib/python3.10/site-packages/astropy/stats/sigma_clipping.py:438: AstropyUserWarning: Input data contains invalid values (NaNs or infs), which were automatically clipped.\n",
      "  warnings.warn(\n",
      "\n",
      "[py.warnings:WARNING] /Users/jgirard/anaconda3/envs/spaceklip6/lib/python3.10/site-packages/astropy/stats/sigma_clipping.py:438: AstropyUserWarning: Input data contains invalid values (NaNs or infs), which were automatically clipped.\n",
      "  warnings.warn(\n",
      "\n",
      "[py.warnings:WARNING] /Users/jgirard/anaconda3/envs/spaceklip6/lib/python3.10/site-packages/astropy/stats/sigma_clipping.py:438: AstropyUserWarning: Input data contains invalid values (NaNs or infs), which were automatically clipped.\n",
      "  warnings.warn(\n",
      "\n",
      "[py.warnings:WARNING] /Users/jgirard/anaconda3/envs/spaceklip6/lib/python3.10/site-packages/astropy/stats/sigma_clipping.py:438: AstropyUserWarning: Input data contains invalid values (NaNs or infs), which were automatically clipped.\n",
      "  warnings.warn(\n",
      "\n",
      "[py.warnings:WARNING] /Users/jgirard/anaconda3/envs/spaceklip6/lib/python3.10/site-packages/astropy/stats/sigma_clipping.py:438: AstropyUserWarning: Input data contains invalid values (NaNs or infs), which were automatically clipped.\n",
      "  warnings.warn(\n",
      "\n",
      "[py.warnings:WARNING] /Users/jgirard/anaconda3/envs/spaceklip6/lib/python3.10/site-packages/astropy/stats/sigma_clipping.py:438: AstropyUserWarning: Input data contains invalid values (NaNs or infs), which were automatically clipped.\n",
      "  warnings.warn(\n",
      "\n",
      "[py.warnings:WARNING] /Users/jgirard/anaconda3/envs/spaceklip6/lib/python3.10/site-packages/astropy/stats/sigma_clipping.py:438: AstropyUserWarning: Input data contains invalid values (NaNs or infs), which were automatically clipped.\n",
      "  warnings.warn(\n",
      "\n",
      "[py.warnings:WARNING] /Users/jgirard/anaconda3/envs/spaceklip6/lib/python3.10/site-packages/astropy/stats/sigma_clipping.py:438: AstropyUserWarning: Input data contains invalid values (NaNs or infs), which were automatically clipped.\n",
      "  warnings.warn(\n",
      "\n",
      "[py.warnings:WARNING] /Users/jgirard/anaconda3/envs/spaceklip6/lib/python3.10/site-packages/astropy/stats/sigma_clipping.py:438: AstropyUserWarning: Input data contains invalid values (NaNs or infs), which were automatically clipped.\n",
      "  warnings.warn(\n",
      "\n",
      "[py.warnings:WARNING] /Users/jgirard/anaconda3/envs/spaceklip6/lib/python3.10/site-packages/astropy/stats/sigma_clipping.py:438: AstropyUserWarning: Input data contains invalid values (NaNs or infs), which were automatically clipped.\n",
      "  warnings.warn(\n",
      "\n",
      "[py.warnings:WARNING] /Users/jgirard/anaconda3/envs/spaceklip6/lib/python3.10/site-packages/astropy/stats/sigma_clipping.py:438: AstropyUserWarning: Input data contains invalid values (NaNs or infs), which were automatically clipped.\n",
      "  warnings.warn(\n",
      "\n",
      "[py.warnings:WARNING] /Users/jgirard/anaconda3/envs/spaceklip6/lib/python3.10/site-packages/astropy/stats/sigma_clipping.py:438: AstropyUserWarning: Input data contains invalid values (NaNs or infs), which were automatically clipped.\n",
      "  warnings.warn(\n",
      "\n",
      "[py.warnings:WARNING] /Users/jgirard/anaconda3/envs/spaceklip6/lib/python3.10/site-packages/astropy/stats/sigma_clipping.py:438: AstropyUserWarning: Input data contains invalid values (NaNs or infs), which were automatically clipped.\n",
      "  warnings.warn(\n",
      "\n",
      "[py.warnings:WARNING] /Users/jgirard/anaconda3/envs/spaceklip6/lib/python3.10/site-packages/astropy/stats/sigma_clipping.py:438: AstropyUserWarning: Input data contains invalid values (NaNs or infs), which were automatically clipped.\n",
      "  warnings.warn(\n",
      "\n",
      "[py.warnings:WARNING] /Users/jgirard/anaconda3/envs/spaceklip6/lib/python3.10/site-packages/astropy/stats/sigma_clipping.py:438: AstropyUserWarning: Input data contains invalid values (NaNs or infs), which were automatically clipped.\n",
      "  warnings.warn(\n",
      "\n",
      "[py.warnings:WARNING] /Users/jgirard/anaconda3/envs/spaceklip6/lib/python3.10/site-packages/astropy/stats/sigma_clipping.py:438: AstropyUserWarning: Input data contains invalid values (NaNs or infs), which were automatically clipped.\n",
      "  warnings.warn(\n",
      "\n",
      "[py.warnings:WARNING] /Users/jgirard/anaconda3/envs/spaceklip6/lib/python3.10/site-packages/astropy/stats/sigma_clipping.py:438: AstropyUserWarning: Input data contains invalid values (NaNs or infs), which were automatically clipped.\n",
      "  warnings.warn(\n",
      "\n",
      "[py.warnings:WARNING] /Users/jgirard/anaconda3/envs/spaceklip6/lib/python3.10/site-packages/astropy/stats/sigma_clipping.py:438: AstropyUserWarning: Input data contains invalid values (NaNs or infs), which were automatically clipped.\n",
      "  warnings.warn(\n",
      "\n",
      "[py.warnings:WARNING] /Users/jgirard/anaconda3/envs/spaceklip6/lib/python3.10/site-packages/astropy/stats/sigma_clipping.py:438: AstropyUserWarning: Input data contains invalid values (NaNs or infs), which were automatically clipped.\n",
      "  warnings.warn(\n",
      "\n",
      "[py.warnings:WARNING] /Users/jgirard/anaconda3/envs/spaceklip6/lib/python3.10/site-packages/astropy/stats/sigma_clipping.py:438: AstropyUserWarning: Input data contains invalid values (NaNs or infs), which were automatically clipped.\n",
      "  warnings.warn(\n",
      "\n",
      "[py.warnings:WARNING] /Users/jgirard/anaconda3/envs/spaceklip6/lib/python3.10/site-packages/astropy/stats/sigma_clipping.py:438: AstropyUserWarning: Input data contains invalid values (NaNs or infs), which were automatically clipped.\n",
      "  warnings.warn(\n",
      "\n",
      "[py.warnings:WARNING] /Users/jgirard/anaconda3/envs/spaceklip6/lib/python3.10/site-packages/astropy/stats/sigma_clipping.py:438: AstropyUserWarning: Input data contains invalid values (NaNs or infs), which were automatically clipped.\n",
      "  warnings.warn(\n",
      "\n",
      "[py.warnings:WARNING] /Users/jgirard/anaconda3/envs/spaceklip6/lib/python3.10/site-packages/astropy/stats/sigma_clipping.py:438: AstropyUserWarning: Input data contains invalid values (NaNs or infs), which were automatically clipped.\n",
      "  warnings.warn(\n",
      "\n",
      "[py.warnings:WARNING] /Users/jgirard/anaconda3/envs/spaceklip6/lib/python3.10/site-packages/astropy/stats/sigma_clipping.py:438: AstropyUserWarning: Input data contains invalid values (NaNs or infs), which were automatically clipped.\n",
      "  warnings.warn(\n",
      "\n"
     ]
    },
    {
     "name": "stdout",
     "output_type": "stream",
     "text": [
      "[spaceKLIP.imagetools:INFO]   --> Median subtraction: mean of frame median = -0.13\n",
      "[spaceKLIP.imagetools:INFO]   --> Median subtraction: jw04454004001_03106_00001_nrcalong_calints.fits\n"
     ]
    },
    {
     "name": "stderr",
     "output_type": "stream",
     "text": [
      "[py.warnings:WARNING] /Users/jgirard/anaconda3/envs/spaceklip6/lib/python3.10/site-packages/astropy/stats/sigma_clipping.py:438: AstropyUserWarning: Input data contains invalid values (NaNs or infs), which were automatically clipped.\n",
      "  warnings.warn(\n",
      "\n",
      "[py.warnings:WARNING] /Users/jgirard/anaconda3/envs/spaceklip6/lib/python3.10/site-packages/astropy/stats/sigma_clipping.py:438: AstropyUserWarning: Input data contains invalid values (NaNs or infs), which were automatically clipped.\n",
      "  warnings.warn(\n",
      "\n",
      "[py.warnings:WARNING] /Users/jgirard/anaconda3/envs/spaceklip6/lib/python3.10/site-packages/astropy/stats/sigma_clipping.py:438: AstropyUserWarning: Input data contains invalid values (NaNs or infs), which were automatically clipped.\n",
      "  warnings.warn(\n",
      "\n",
      "[py.warnings:WARNING] /Users/jgirard/anaconda3/envs/spaceklip6/lib/python3.10/site-packages/astropy/stats/sigma_clipping.py:438: AstropyUserWarning: Input data contains invalid values (NaNs or infs), which were automatically clipped.\n",
      "  warnings.warn(\n",
      "\n"
     ]
    },
    {
     "name": "stdout",
     "output_type": "stream",
     "text": [
      "[spaceKLIP.imagetools:INFO]   --> Median subtraction: mean of frame median = -0.10\n",
      "[spaceKLIP.imagetools:INFO]   --> Median subtraction: jw04454004001_03106_00002_nrcalong_calints.fits\n"
     ]
    },
    {
     "name": "stderr",
     "output_type": "stream",
     "text": [
      "[py.warnings:WARNING] /Users/jgirard/anaconda3/envs/spaceklip6/lib/python3.10/site-packages/astropy/stats/sigma_clipping.py:438: AstropyUserWarning: Input data contains invalid values (NaNs or infs), which were automatically clipped.\n",
      "  warnings.warn(\n",
      "\n",
      "[py.warnings:WARNING] /Users/jgirard/anaconda3/envs/spaceklip6/lib/python3.10/site-packages/astropy/stats/sigma_clipping.py:438: AstropyUserWarning: Input data contains invalid values (NaNs or infs), which were automatically clipped.\n",
      "  warnings.warn(\n",
      "\n",
      "[py.warnings:WARNING] /Users/jgirard/anaconda3/envs/spaceklip6/lib/python3.10/site-packages/astropy/stats/sigma_clipping.py:438: AstropyUserWarning: Input data contains invalid values (NaNs or infs), which were automatically clipped.\n",
      "  warnings.warn(\n",
      "\n",
      "[py.warnings:WARNING] /Users/jgirard/anaconda3/envs/spaceklip6/lib/python3.10/site-packages/astropy/stats/sigma_clipping.py:438: AstropyUserWarning: Input data contains invalid values (NaNs or infs), which were automatically clipped.\n",
      "  warnings.warn(\n",
      "\n"
     ]
    },
    {
     "name": "stdout",
     "output_type": "stream",
     "text": [
      "[spaceKLIP.imagetools:INFO]   --> Median subtraction: mean of frame median = -0.06\n",
      "[spaceKLIP.imagetools:INFO]   --> Median subtraction: jw04454004001_03106_00003_nrcalong_calints.fits\n"
     ]
    },
    {
     "name": "stderr",
     "output_type": "stream",
     "text": [
      "[py.warnings:WARNING] /Users/jgirard/anaconda3/envs/spaceklip6/lib/python3.10/site-packages/astropy/stats/sigma_clipping.py:438: AstropyUserWarning: Input data contains invalid values (NaNs or infs), which were automatically clipped.\n",
      "  warnings.warn(\n",
      "\n",
      "[py.warnings:WARNING] /Users/jgirard/anaconda3/envs/spaceklip6/lib/python3.10/site-packages/astropy/stats/sigma_clipping.py:438: AstropyUserWarning: Input data contains invalid values (NaNs or infs), which were automatically clipped.\n",
      "  warnings.warn(\n",
      "\n",
      "[py.warnings:WARNING] /Users/jgirard/anaconda3/envs/spaceklip6/lib/python3.10/site-packages/astropy/stats/sigma_clipping.py:438: AstropyUserWarning: Input data contains invalid values (NaNs or infs), which were automatically clipped.\n",
      "  warnings.warn(\n",
      "\n",
      "[py.warnings:WARNING] /Users/jgirard/anaconda3/envs/spaceklip6/lib/python3.10/site-packages/astropy/stats/sigma_clipping.py:438: AstropyUserWarning: Input data contains invalid values (NaNs or infs), which were automatically clipped.\n",
      "  warnings.warn(\n",
      "\n"
     ]
    },
    {
     "name": "stdout",
     "output_type": "stream",
     "text": [
      "[spaceKLIP.imagetools:INFO]   --> Median subtraction: mean of frame median = -0.02\n",
      "[spaceKLIP.imagetools:INFO]   --> Median subtraction: jw04454004001_03106_00004_nrcalong_calints.fits\n"
     ]
    },
    {
     "name": "stderr",
     "output_type": "stream",
     "text": [
      "[py.warnings:WARNING] /Users/jgirard/anaconda3/envs/spaceklip6/lib/python3.10/site-packages/astropy/stats/sigma_clipping.py:438: AstropyUserWarning: Input data contains invalid values (NaNs or infs), which were automatically clipped.\n",
      "  warnings.warn(\n",
      "\n",
      "[py.warnings:WARNING] /Users/jgirard/anaconda3/envs/spaceklip6/lib/python3.10/site-packages/astropy/stats/sigma_clipping.py:438: AstropyUserWarning: Input data contains invalid values (NaNs or infs), which were automatically clipped.\n",
      "  warnings.warn(\n",
      "\n",
      "[py.warnings:WARNING] /Users/jgirard/anaconda3/envs/spaceklip6/lib/python3.10/site-packages/astropy/stats/sigma_clipping.py:438: AstropyUserWarning: Input data contains invalid values (NaNs or infs), which were automatically clipped.\n",
      "  warnings.warn(\n",
      "\n",
      "[py.warnings:WARNING] /Users/jgirard/anaconda3/envs/spaceklip6/lib/python3.10/site-packages/astropy/stats/sigma_clipping.py:438: AstropyUserWarning: Input data contains invalid values (NaNs or infs), which were automatically clipped.\n",
      "  warnings.warn(\n",
      "\n"
     ]
    },
    {
     "name": "stdout",
     "output_type": "stream",
     "text": [
      "[spaceKLIP.imagetools:INFO]   --> Median subtraction: mean of frame median = -0.20\n",
      "[spaceKLIP.imagetools:INFO]   --> Median subtraction: jw04454004001_03106_00005_nrcalong_calints.fits\n"
     ]
    },
    {
     "name": "stderr",
     "output_type": "stream",
     "text": [
      "[py.warnings:WARNING] /Users/jgirard/anaconda3/envs/spaceklip6/lib/python3.10/site-packages/astropy/stats/sigma_clipping.py:438: AstropyUserWarning: Input data contains invalid values (NaNs or infs), which were automatically clipped.\n",
      "  warnings.warn(\n",
      "\n",
      "[py.warnings:WARNING] /Users/jgirard/anaconda3/envs/spaceklip6/lib/python3.10/site-packages/astropy/stats/sigma_clipping.py:438: AstropyUserWarning: Input data contains invalid values (NaNs or infs), which were automatically clipped.\n",
      "  warnings.warn(\n",
      "\n",
      "[py.warnings:WARNING] /Users/jgirard/anaconda3/envs/spaceklip6/lib/python3.10/site-packages/astropy/stats/sigma_clipping.py:438: AstropyUserWarning: Input data contains invalid values (NaNs or infs), which were automatically clipped.\n",
      "  warnings.warn(\n",
      "\n",
      "[py.warnings:WARNING] /Users/jgirard/anaconda3/envs/spaceklip6/lib/python3.10/site-packages/astropy/stats/sigma_clipping.py:438: AstropyUserWarning: Input data contains invalid values (NaNs or infs), which were automatically clipped.\n",
      "  warnings.warn(\n",
      "\n"
     ]
    },
    {
     "name": "stdout",
     "output_type": "stream",
     "text": [
      "[spaceKLIP.imagetools:INFO]   --> Median subtraction: mean of frame median = -0.22\n",
      "[spaceKLIP.imagetools:INFO]   --> Median subtraction: jw04454004001_03106_00006_nrcalong_calints.fits\n"
     ]
    },
    {
     "name": "stderr",
     "output_type": "stream",
     "text": [
      "[py.warnings:WARNING] /Users/jgirard/anaconda3/envs/spaceklip6/lib/python3.10/site-packages/astropy/stats/sigma_clipping.py:438: AstropyUserWarning: Input data contains invalid values (NaNs or infs), which were automatically clipped.\n",
      "  warnings.warn(\n",
      "\n",
      "[py.warnings:WARNING] /Users/jgirard/anaconda3/envs/spaceklip6/lib/python3.10/site-packages/astropy/stats/sigma_clipping.py:438: AstropyUserWarning: Input data contains invalid values (NaNs or infs), which were automatically clipped.\n",
      "  warnings.warn(\n",
      "\n",
      "[py.warnings:WARNING] /Users/jgirard/anaconda3/envs/spaceklip6/lib/python3.10/site-packages/astropy/stats/sigma_clipping.py:438: AstropyUserWarning: Input data contains invalid values (NaNs or infs), which were automatically clipped.\n",
      "  warnings.warn(\n",
      "\n",
      "[py.warnings:WARNING] /Users/jgirard/anaconda3/envs/spaceklip6/lib/python3.10/site-packages/astropy/stats/sigma_clipping.py:438: AstropyUserWarning: Input data contains invalid values (NaNs or infs), which were automatically clipped.\n",
      "  warnings.warn(\n",
      "\n"
     ]
    },
    {
     "name": "stdout",
     "output_type": "stream",
     "text": [
      "[spaceKLIP.imagetools:INFO]   --> Median subtraction: mean of frame median = -0.04\n",
      "[spaceKLIP.imagetools:INFO]   --> Median subtraction: jw04454004001_03106_00007_nrcalong_calints.fits\n"
     ]
    },
    {
     "name": "stderr",
     "output_type": "stream",
     "text": [
      "[py.warnings:WARNING] /Users/jgirard/anaconda3/envs/spaceklip6/lib/python3.10/site-packages/astropy/stats/sigma_clipping.py:438: AstropyUserWarning: Input data contains invalid values (NaNs or infs), which were automatically clipped.\n",
      "  warnings.warn(\n",
      "\n",
      "[py.warnings:WARNING] /Users/jgirard/anaconda3/envs/spaceklip6/lib/python3.10/site-packages/astropy/stats/sigma_clipping.py:438: AstropyUserWarning: Input data contains invalid values (NaNs or infs), which were automatically clipped.\n",
      "  warnings.warn(\n",
      "\n",
      "[py.warnings:WARNING] /Users/jgirard/anaconda3/envs/spaceklip6/lib/python3.10/site-packages/astropy/stats/sigma_clipping.py:438: AstropyUserWarning: Input data contains invalid values (NaNs or infs), which were automatically clipped.\n",
      "  warnings.warn(\n",
      "\n",
      "[py.warnings:WARNING] /Users/jgirard/anaconda3/envs/spaceklip6/lib/python3.10/site-packages/astropy/stats/sigma_clipping.py:438: AstropyUserWarning: Input data contains invalid values (NaNs or infs), which were automatically clipped.\n",
      "  warnings.warn(\n",
      "\n"
     ]
    },
    {
     "name": "stdout",
     "output_type": "stream",
     "text": [
      "[spaceKLIP.imagetools:INFO]   --> Median subtraction: mean of frame median = -0.05\n",
      "[spaceKLIP.imagetools:INFO]   --> Median subtraction: jw04454004001_03106_00008_nrcalong_calints.fits\n"
     ]
    },
    {
     "name": "stderr",
     "output_type": "stream",
     "text": [
      "[py.warnings:WARNING] /Users/jgirard/anaconda3/envs/spaceklip6/lib/python3.10/site-packages/astropy/stats/sigma_clipping.py:438: AstropyUserWarning: Input data contains invalid values (NaNs or infs), which were automatically clipped.\n",
      "  warnings.warn(\n",
      "\n",
      "[py.warnings:WARNING] /Users/jgirard/anaconda3/envs/spaceklip6/lib/python3.10/site-packages/astropy/stats/sigma_clipping.py:438: AstropyUserWarning: Input data contains invalid values (NaNs or infs), which were automatically clipped.\n",
      "  warnings.warn(\n",
      "\n",
      "[py.warnings:WARNING] /Users/jgirard/anaconda3/envs/spaceklip6/lib/python3.10/site-packages/astropy/stats/sigma_clipping.py:438: AstropyUserWarning: Input data contains invalid values (NaNs or infs), which were automatically clipped.\n",
      "  warnings.warn(\n",
      "\n",
      "[py.warnings:WARNING] /Users/jgirard/anaconda3/envs/spaceklip6/lib/python3.10/site-packages/astropy/stats/sigma_clipping.py:438: AstropyUserWarning: Input data contains invalid values (NaNs or infs), which were automatically clipped.\n",
      "  warnings.warn(\n",
      "\n"
     ]
    },
    {
     "name": "stdout",
     "output_type": "stream",
     "text": [
      "[spaceKLIP.imagetools:INFO]   --> Median subtraction: mean of frame median = -0.09\n",
      "[spaceKLIP.imagetools:INFO]   --> Median subtraction: jw04454004001_03106_00009_nrcalong_calints.fits\n"
     ]
    },
    {
     "name": "stderr",
     "output_type": "stream",
     "text": [
      "[py.warnings:WARNING] /Users/jgirard/anaconda3/envs/spaceklip6/lib/python3.10/site-packages/astropy/stats/sigma_clipping.py:438: AstropyUserWarning: Input data contains invalid values (NaNs or infs), which were automatically clipped.\n",
      "  warnings.warn(\n",
      "\n",
      "[py.warnings:WARNING] /Users/jgirard/anaconda3/envs/spaceklip6/lib/python3.10/site-packages/astropy/stats/sigma_clipping.py:438: AstropyUserWarning: Input data contains invalid values (NaNs or infs), which were automatically clipped.\n",
      "  warnings.warn(\n",
      "\n",
      "[py.warnings:WARNING] /Users/jgirard/anaconda3/envs/spaceklip6/lib/python3.10/site-packages/astropy/stats/sigma_clipping.py:438: AstropyUserWarning: Input data contains invalid values (NaNs or infs), which were automatically clipped.\n",
      "  warnings.warn(\n",
      "\n",
      "[py.warnings:WARNING] /Users/jgirard/anaconda3/envs/spaceklip6/lib/python3.10/site-packages/astropy/stats/sigma_clipping.py:438: AstropyUserWarning: Input data contains invalid values (NaNs or infs), which were automatically clipped.\n",
      "  warnings.warn(\n",
      "\n"
     ]
    },
    {
     "name": "stdout",
     "output_type": "stream",
     "text": [
      "[spaceKLIP.imagetools:INFO]   --> Median subtraction: mean of frame median = 0.06\n",
      "[spaceKLIP.imagetools:INFO]   --> Median subtraction: jw06570007001_03106_00001_nrcalong_calints.fits\n"
     ]
    },
    {
     "name": "stderr",
     "output_type": "stream",
     "text": [
      "[py.warnings:WARNING] /Users/jgirard/anaconda3/envs/spaceklip6/lib/python3.10/site-packages/astropy/stats/sigma_clipping.py:438: AstropyUserWarning: Input data contains invalid values (NaNs or infs), which were automatically clipped.\n",
      "  warnings.warn(\n",
      "\n"
     ]
    },
    {
     "name": "stdout",
     "output_type": "stream",
     "text": [
      "[spaceKLIP.imagetools:INFO]   --> Median subtraction: mean of frame median = 0.08\n",
      "[spaceKLIP.imagetools:INFO]   --> Median subtraction: jw06570007001_03106_00002_nrcalong_calints.fits\n"
     ]
    },
    {
     "name": "stderr",
     "output_type": "stream",
     "text": [
      "[py.warnings:WARNING] /Users/jgirard/anaconda3/envs/spaceklip6/lib/python3.10/site-packages/astropy/stats/sigma_clipping.py:438: AstropyUserWarning: Input data contains invalid values (NaNs or infs), which were automatically clipped.\n",
      "  warnings.warn(\n",
      "\n"
     ]
    },
    {
     "name": "stdout",
     "output_type": "stream",
     "text": [
      "[spaceKLIP.imagetools:INFO]   --> Median subtraction: mean of frame median = 0.08\n",
      "[spaceKLIP.imagetools:INFO]   --> Median subtraction: jw06570007001_03106_00003_nrcalong_calints.fits\n"
     ]
    },
    {
     "name": "stderr",
     "output_type": "stream",
     "text": [
      "[py.warnings:WARNING] /Users/jgirard/anaconda3/envs/spaceklip6/lib/python3.10/site-packages/astropy/stats/sigma_clipping.py:438: AstropyUserWarning: Input data contains invalid values (NaNs or infs), which were automatically clipped.\n",
      "  warnings.warn(\n",
      "\n"
     ]
    },
    {
     "name": "stdout",
     "output_type": "stream",
     "text": [
      "[spaceKLIP.imagetools:INFO]   --> Median subtraction: mean of frame median = 0.06\n",
      "[spaceKLIP.imagetools:INFO]   --> Median subtraction: jw06570007001_03106_00004_nrcalong_calints.fits\n"
     ]
    },
    {
     "name": "stderr",
     "output_type": "stream",
     "text": [
      "[py.warnings:WARNING] /Users/jgirard/anaconda3/envs/spaceklip6/lib/python3.10/site-packages/astropy/stats/sigma_clipping.py:438: AstropyUserWarning: Input data contains invalid values (NaNs or infs), which were automatically clipped.\n",
      "  warnings.warn(\n",
      "\n"
     ]
    },
    {
     "name": "stdout",
     "output_type": "stream",
     "text": [
      "[spaceKLIP.imagetools:INFO]   --> Median subtraction: mean of frame median = 0.04\n",
      "[spaceKLIP.imagetools:INFO]   --> Median subtraction: jw06570007001_03106_00005_nrcalong_calints.fits\n"
     ]
    },
    {
     "name": "stderr",
     "output_type": "stream",
     "text": [
      "[py.warnings:WARNING] /Users/jgirard/anaconda3/envs/spaceklip6/lib/python3.10/site-packages/astropy/stats/sigma_clipping.py:438: AstropyUserWarning: Input data contains invalid values (NaNs or infs), which were automatically clipped.\n",
      "  warnings.warn(\n",
      "\n"
     ]
    },
    {
     "name": "stdout",
     "output_type": "stream",
     "text": [
      "[spaceKLIP.imagetools:INFO]   --> Median subtraction: mean of frame median = 0.12\n",
      "[spaceKLIP.imagetools:INFO]   --> Median subtraction: jw06570007001_03106_00001_nrcalong_calints.fits\n"
     ]
    },
    {
     "name": "stderr",
     "output_type": "stream",
     "text": [
      "[py.warnings:WARNING] /Users/jgirard/anaconda3/envs/spaceklip6/lib/python3.10/site-packages/astropy/stats/sigma_clipping.py:438: AstropyUserWarning: Input data contains invalid values (NaNs or infs), which were automatically clipped.\n",
      "  warnings.warn(\n",
      "\n"
     ]
    },
    {
     "name": "stdout",
     "output_type": "stream",
     "text": [
      "[spaceKLIP.imagetools:INFO]   --> Median subtraction: mean of frame median = 0.08\n",
      "[spaceKLIP.imagetools:INFO]   --> Median subtraction: jw06570007001_03106_00002_nrcalong_calints.fits\n"
     ]
    },
    {
     "name": "stderr",
     "output_type": "stream",
     "text": [
      "[py.warnings:WARNING] /Users/jgirard/anaconda3/envs/spaceklip6/lib/python3.10/site-packages/astropy/stats/sigma_clipping.py:438: AstropyUserWarning: Input data contains invalid values (NaNs or infs), which were automatically clipped.\n",
      "  warnings.warn(\n",
      "\n"
     ]
    },
    {
     "name": "stdout",
     "output_type": "stream",
     "text": [
      "[spaceKLIP.imagetools:INFO]   --> Median subtraction: mean of frame median = 0.08\n",
      "[spaceKLIP.imagetools:INFO]   --> Median subtraction: jw06570007001_03106_00003_nrcalong_calints.fits\n"
     ]
    },
    {
     "name": "stderr",
     "output_type": "stream",
     "text": [
      "[py.warnings:WARNING] /Users/jgirard/anaconda3/envs/spaceklip6/lib/python3.10/site-packages/astropy/stats/sigma_clipping.py:438: AstropyUserWarning: Input data contains invalid values (NaNs or infs), which were automatically clipped.\n",
      "  warnings.warn(\n",
      "\n"
     ]
    },
    {
     "name": "stdout",
     "output_type": "stream",
     "text": [
      "[spaceKLIP.imagetools:INFO]   --> Median subtraction: mean of frame median = 0.06\n",
      "[spaceKLIP.imagetools:INFO]   --> Median subtraction: jw06570007001_03106_00004_nrcalong_calints.fits\n"
     ]
    },
    {
     "name": "stderr",
     "output_type": "stream",
     "text": [
      "[py.warnings:WARNING] /Users/jgirard/anaconda3/envs/spaceklip6/lib/python3.10/site-packages/astropy/stats/sigma_clipping.py:438: AstropyUserWarning: Input data contains invalid values (NaNs or infs), which were automatically clipped.\n",
      "  warnings.warn(\n",
      "\n"
     ]
    },
    {
     "name": "stdout",
     "output_type": "stream",
     "text": [
      "[spaceKLIP.imagetools:INFO]   --> Median subtraction: mean of frame median = 0.04\n",
      "[spaceKLIP.imagetools:INFO]   --> Median subtraction: jw06570007001_03106_00005_nrcalong_calints.fits\n"
     ]
    },
    {
     "name": "stderr",
     "output_type": "stream",
     "text": [
      "[py.warnings:WARNING] /Users/jgirard/anaconda3/envs/spaceklip6/lib/python3.10/site-packages/astropy/stats/sigma_clipping.py:438: AstropyUserWarning: Input data contains invalid values (NaNs or infs), which were automatically clipped.\n",
      "  warnings.warn(\n",
      "\n"
     ]
    },
    {
     "name": "stdout",
     "output_type": "stream",
     "text": [
      "[spaceKLIP.imagetools:INFO]   --> Median subtraction: mean of frame median = 0.12\n",
      "[spaceKLIP.imagetools:INFO]   --> Median subtraction: jw04454004001_03106_00001_nrcalong_calints.fits\n"
     ]
    },
    {
     "name": "stderr",
     "output_type": "stream",
     "text": [
      "[py.warnings:WARNING] /Users/jgirard/anaconda3/envs/spaceklip6/lib/python3.10/site-packages/astropy/stats/sigma_clipping.py:438: AstropyUserWarning: Input data contains invalid values (NaNs or infs), which were automatically clipped.\n",
      "  warnings.warn(\n",
      "\n",
      "[py.warnings:WARNING] /Users/jgirard/anaconda3/envs/spaceklip6/lib/python3.10/site-packages/astropy/stats/sigma_clipping.py:438: AstropyUserWarning: Input data contains invalid values (NaNs or infs), which were automatically clipped.\n",
      "  warnings.warn(\n",
      "\n",
      "[py.warnings:WARNING] /Users/jgirard/anaconda3/envs/spaceklip6/lib/python3.10/site-packages/astropy/stats/sigma_clipping.py:438: AstropyUserWarning: Input data contains invalid values (NaNs or infs), which were automatically clipped.\n",
      "  warnings.warn(\n",
      "\n",
      "[py.warnings:WARNING] /Users/jgirard/anaconda3/envs/spaceklip6/lib/python3.10/site-packages/astropy/stats/sigma_clipping.py:438: AstropyUserWarning: Input data contains invalid values (NaNs or infs), which were automatically clipped.\n",
      "  warnings.warn(\n",
      "\n"
     ]
    },
    {
     "name": "stdout",
     "output_type": "stream",
     "text": [
      "[spaceKLIP.imagetools:INFO]   --> Median subtraction: mean of frame median = -0.10\n",
      "[spaceKLIP.imagetools:INFO]   --> Median subtraction: jw04454004001_03106_00002_nrcalong_calints.fits\n"
     ]
    },
    {
     "name": "stderr",
     "output_type": "stream",
     "text": [
      "[py.warnings:WARNING] /Users/jgirard/anaconda3/envs/spaceklip6/lib/python3.10/site-packages/astropy/stats/sigma_clipping.py:438: AstropyUserWarning: Input data contains invalid values (NaNs or infs), which were automatically clipped.\n",
      "  warnings.warn(\n",
      "\n",
      "[py.warnings:WARNING] /Users/jgirard/anaconda3/envs/spaceklip6/lib/python3.10/site-packages/astropy/stats/sigma_clipping.py:438: AstropyUserWarning: Input data contains invalid values (NaNs or infs), which were automatically clipped.\n",
      "  warnings.warn(\n",
      "\n",
      "[py.warnings:WARNING] /Users/jgirard/anaconda3/envs/spaceklip6/lib/python3.10/site-packages/astropy/stats/sigma_clipping.py:438: AstropyUserWarning: Input data contains invalid values (NaNs or infs), which were automatically clipped.\n",
      "  warnings.warn(\n",
      "\n",
      "[py.warnings:WARNING] /Users/jgirard/anaconda3/envs/spaceklip6/lib/python3.10/site-packages/astropy/stats/sigma_clipping.py:438: AstropyUserWarning: Input data contains invalid values (NaNs or infs), which were automatically clipped.\n",
      "  warnings.warn(\n",
      "\n"
     ]
    },
    {
     "name": "stdout",
     "output_type": "stream",
     "text": [
      "[spaceKLIP.imagetools:INFO]   --> Median subtraction: mean of frame median = -0.06\n",
      "[spaceKLIP.imagetools:INFO]   --> Median subtraction: jw04454004001_03106_00003_nrcalong_calints.fits\n"
     ]
    },
    {
     "name": "stderr",
     "output_type": "stream",
     "text": [
      "[py.warnings:WARNING] /Users/jgirard/anaconda3/envs/spaceklip6/lib/python3.10/site-packages/astropy/stats/sigma_clipping.py:438: AstropyUserWarning: Input data contains invalid values (NaNs or infs), which were automatically clipped.\n",
      "  warnings.warn(\n",
      "\n",
      "[py.warnings:WARNING] /Users/jgirard/anaconda3/envs/spaceklip6/lib/python3.10/site-packages/astropy/stats/sigma_clipping.py:438: AstropyUserWarning: Input data contains invalid values (NaNs or infs), which were automatically clipped.\n",
      "  warnings.warn(\n",
      "\n",
      "[py.warnings:WARNING] /Users/jgirard/anaconda3/envs/spaceklip6/lib/python3.10/site-packages/astropy/stats/sigma_clipping.py:438: AstropyUserWarning: Input data contains invalid values (NaNs or infs), which were automatically clipped.\n",
      "  warnings.warn(\n",
      "\n",
      "[py.warnings:WARNING] /Users/jgirard/anaconda3/envs/spaceklip6/lib/python3.10/site-packages/astropy/stats/sigma_clipping.py:438: AstropyUserWarning: Input data contains invalid values (NaNs or infs), which were automatically clipped.\n",
      "  warnings.warn(\n",
      "\n"
     ]
    },
    {
     "name": "stdout",
     "output_type": "stream",
     "text": [
      "[spaceKLIP.imagetools:INFO]   --> Median subtraction: mean of frame median = -0.02\n",
      "[spaceKLIP.imagetools:INFO]   --> Median subtraction: jw04454004001_03106_00004_nrcalong_calints.fits\n"
     ]
    },
    {
     "name": "stderr",
     "output_type": "stream",
     "text": [
      "[py.warnings:WARNING] /Users/jgirard/anaconda3/envs/spaceklip6/lib/python3.10/site-packages/astropy/stats/sigma_clipping.py:438: AstropyUserWarning: Input data contains invalid values (NaNs or infs), which were automatically clipped.\n",
      "  warnings.warn(\n",
      "\n",
      "[py.warnings:WARNING] /Users/jgirard/anaconda3/envs/spaceklip6/lib/python3.10/site-packages/astropy/stats/sigma_clipping.py:438: AstropyUserWarning: Input data contains invalid values (NaNs or infs), which were automatically clipped.\n",
      "  warnings.warn(\n",
      "\n",
      "[py.warnings:WARNING] /Users/jgirard/anaconda3/envs/spaceklip6/lib/python3.10/site-packages/astropy/stats/sigma_clipping.py:438: AstropyUserWarning: Input data contains invalid values (NaNs or infs), which were automatically clipped.\n",
      "  warnings.warn(\n",
      "\n",
      "[py.warnings:WARNING] /Users/jgirard/anaconda3/envs/spaceklip6/lib/python3.10/site-packages/astropy/stats/sigma_clipping.py:438: AstropyUserWarning: Input data contains invalid values (NaNs or infs), which were automatically clipped.\n",
      "  warnings.warn(\n",
      "\n"
     ]
    },
    {
     "name": "stdout",
     "output_type": "stream",
     "text": [
      "[spaceKLIP.imagetools:INFO]   --> Median subtraction: mean of frame median = -0.20\n",
      "[spaceKLIP.imagetools:INFO]   --> Median subtraction: jw04454004001_03106_00005_nrcalong_calints.fits\n"
     ]
    },
    {
     "name": "stderr",
     "output_type": "stream",
     "text": [
      "[py.warnings:WARNING] /Users/jgirard/anaconda3/envs/spaceklip6/lib/python3.10/site-packages/astropy/stats/sigma_clipping.py:438: AstropyUserWarning: Input data contains invalid values (NaNs or infs), which were automatically clipped.\n",
      "  warnings.warn(\n",
      "\n",
      "[py.warnings:WARNING] /Users/jgirard/anaconda3/envs/spaceklip6/lib/python3.10/site-packages/astropy/stats/sigma_clipping.py:438: AstropyUserWarning: Input data contains invalid values (NaNs or infs), which were automatically clipped.\n",
      "  warnings.warn(\n",
      "\n",
      "[py.warnings:WARNING] /Users/jgirard/anaconda3/envs/spaceklip6/lib/python3.10/site-packages/astropy/stats/sigma_clipping.py:438: AstropyUserWarning: Input data contains invalid values (NaNs or infs), which were automatically clipped.\n",
      "  warnings.warn(\n",
      "\n",
      "[py.warnings:WARNING] /Users/jgirard/anaconda3/envs/spaceklip6/lib/python3.10/site-packages/astropy/stats/sigma_clipping.py:438: AstropyUserWarning: Input data contains invalid values (NaNs or infs), which were automatically clipped.\n",
      "  warnings.warn(\n",
      "\n"
     ]
    },
    {
     "name": "stdout",
     "output_type": "stream",
     "text": [
      "[spaceKLIP.imagetools:INFO]   --> Median subtraction: mean of frame median = -0.22\n",
      "[spaceKLIP.imagetools:INFO]   --> Median subtraction: jw04454004001_03106_00006_nrcalong_calints.fits\n"
     ]
    },
    {
     "name": "stderr",
     "output_type": "stream",
     "text": [
      "[py.warnings:WARNING] /Users/jgirard/anaconda3/envs/spaceklip6/lib/python3.10/site-packages/astropy/stats/sigma_clipping.py:438: AstropyUserWarning: Input data contains invalid values (NaNs or infs), which were automatically clipped.\n",
      "  warnings.warn(\n",
      "\n",
      "[py.warnings:WARNING] /Users/jgirard/anaconda3/envs/spaceklip6/lib/python3.10/site-packages/astropy/stats/sigma_clipping.py:438: AstropyUserWarning: Input data contains invalid values (NaNs or infs), which were automatically clipped.\n",
      "  warnings.warn(\n",
      "\n",
      "[py.warnings:WARNING] /Users/jgirard/anaconda3/envs/spaceklip6/lib/python3.10/site-packages/astropy/stats/sigma_clipping.py:438: AstropyUserWarning: Input data contains invalid values (NaNs or infs), which were automatically clipped.\n",
      "  warnings.warn(\n",
      "\n",
      "[py.warnings:WARNING] /Users/jgirard/anaconda3/envs/spaceklip6/lib/python3.10/site-packages/astropy/stats/sigma_clipping.py:438: AstropyUserWarning: Input data contains invalid values (NaNs or infs), which were automatically clipped.\n",
      "  warnings.warn(\n",
      "\n"
     ]
    },
    {
     "name": "stdout",
     "output_type": "stream",
     "text": [
      "[spaceKLIP.imagetools:INFO]   --> Median subtraction: mean of frame median = -0.04\n",
      "[spaceKLIP.imagetools:INFO]   --> Median subtraction: jw04454004001_03106_00007_nrcalong_calints.fits\n"
     ]
    },
    {
     "name": "stderr",
     "output_type": "stream",
     "text": [
      "[py.warnings:WARNING] /Users/jgirard/anaconda3/envs/spaceklip6/lib/python3.10/site-packages/astropy/stats/sigma_clipping.py:438: AstropyUserWarning: Input data contains invalid values (NaNs or infs), which were automatically clipped.\n",
      "  warnings.warn(\n",
      "\n",
      "[py.warnings:WARNING] /Users/jgirard/anaconda3/envs/spaceklip6/lib/python3.10/site-packages/astropy/stats/sigma_clipping.py:438: AstropyUserWarning: Input data contains invalid values (NaNs or infs), which were automatically clipped.\n",
      "  warnings.warn(\n",
      "\n",
      "[py.warnings:WARNING] /Users/jgirard/anaconda3/envs/spaceklip6/lib/python3.10/site-packages/astropy/stats/sigma_clipping.py:438: AstropyUserWarning: Input data contains invalid values (NaNs or infs), which were automatically clipped.\n",
      "  warnings.warn(\n",
      "\n",
      "[py.warnings:WARNING] /Users/jgirard/anaconda3/envs/spaceklip6/lib/python3.10/site-packages/astropy/stats/sigma_clipping.py:438: AstropyUserWarning: Input data contains invalid values (NaNs or infs), which were automatically clipped.\n",
      "  warnings.warn(\n",
      "\n"
     ]
    },
    {
     "name": "stdout",
     "output_type": "stream",
     "text": [
      "[spaceKLIP.imagetools:INFO]   --> Median subtraction: mean of frame median = -0.05\n",
      "[spaceKLIP.imagetools:INFO]   --> Median subtraction: jw04454004001_03106_00008_nrcalong_calints.fits\n"
     ]
    },
    {
     "name": "stderr",
     "output_type": "stream",
     "text": [
      "[py.warnings:WARNING] /Users/jgirard/anaconda3/envs/spaceklip6/lib/python3.10/site-packages/astropy/stats/sigma_clipping.py:438: AstropyUserWarning: Input data contains invalid values (NaNs or infs), which were automatically clipped.\n",
      "  warnings.warn(\n",
      "\n",
      "[py.warnings:WARNING] /Users/jgirard/anaconda3/envs/spaceklip6/lib/python3.10/site-packages/astropy/stats/sigma_clipping.py:438: AstropyUserWarning: Input data contains invalid values (NaNs or infs), which were automatically clipped.\n",
      "  warnings.warn(\n",
      "\n",
      "[py.warnings:WARNING] /Users/jgirard/anaconda3/envs/spaceklip6/lib/python3.10/site-packages/astropy/stats/sigma_clipping.py:438: AstropyUserWarning: Input data contains invalid values (NaNs or infs), which were automatically clipped.\n",
      "  warnings.warn(\n",
      "\n",
      "[py.warnings:WARNING] /Users/jgirard/anaconda3/envs/spaceklip6/lib/python3.10/site-packages/astropy/stats/sigma_clipping.py:438: AstropyUserWarning: Input data contains invalid values (NaNs or infs), which were automatically clipped.\n",
      "  warnings.warn(\n",
      "\n"
     ]
    },
    {
     "name": "stdout",
     "output_type": "stream",
     "text": [
      "[spaceKLIP.imagetools:INFO]   --> Median subtraction: mean of frame median = -0.09\n",
      "[spaceKLIP.imagetools:INFO]   --> Median subtraction: jw04454004001_03106_00009_nrcalong_calints.fits\n"
     ]
    },
    {
     "name": "stderr",
     "output_type": "stream",
     "text": [
      "[py.warnings:WARNING] /Users/jgirard/anaconda3/envs/spaceklip6/lib/python3.10/site-packages/astropy/stats/sigma_clipping.py:438: AstropyUserWarning: Input data contains invalid values (NaNs or infs), which were automatically clipped.\n",
      "  warnings.warn(\n",
      "\n",
      "[py.warnings:WARNING] /Users/jgirard/anaconda3/envs/spaceklip6/lib/python3.10/site-packages/astropy/stats/sigma_clipping.py:438: AstropyUserWarning: Input data contains invalid values (NaNs or infs), which were automatically clipped.\n",
      "  warnings.warn(\n",
      "\n",
      "[py.warnings:WARNING] /Users/jgirard/anaconda3/envs/spaceklip6/lib/python3.10/site-packages/astropy/stats/sigma_clipping.py:438: AstropyUserWarning: Input data contains invalid values (NaNs or infs), which were automatically clipped.\n",
      "  warnings.warn(\n",
      "\n",
      "[py.warnings:WARNING] /Users/jgirard/anaconda3/envs/spaceklip6/lib/python3.10/site-packages/astropy/stats/sigma_clipping.py:438: AstropyUserWarning: Input data contains invalid values (NaNs or infs), which were automatically clipped.\n",
      "  warnings.warn(\n",
      "\n"
     ]
    },
    {
     "name": "stdout",
     "output_type": "stream",
     "text": [
      "[spaceKLIP.imagetools:INFO]   --> Median subtraction: mean of frame median = 0.06\n"
     ]
    }
   ],
   "source": [
    "ImageTools.subtract_median(types=['SCI', 'SCI_TA', 'SCI_BG', 'REF', 'REF_TA', 'REF_BG'],\n",
    "                               subdir='medsub')"
   ]
  },
  {
   "cell_type": "code",
   "execution_count": 21,
   "id": "01b523e9-002a-4e8f-be84-eebda60ac65f",
   "metadata": {
    "scrolled": true,
    "tags": []
   },
   "outputs": [
    {
     "name": "stdout",
     "output_type": "stream",
     "text": [
      "[spaceKLIP.imagetools:INFO] --> Concatenation JWST_NIRCAM_NRCALONG_F335M_MASKRND_MASK335R_SUB320A335R\n",
      "[spaceKLIP.imagetools:INFO]   --> Method bpclean: jw04454003001_03106_00001_nrcalong_calints.fits\n",
      "Frame 2/36, iteration 1"
     ]
    },
    {
     "name": "stderr",
     "output_type": "stream",
     "text": [
      "[py.warnings:WARNING] /Users/jgirard/anaconda3/envs/spaceklip6/lib/python3.10/site-packages/spaceKLIP-1.0.1.dev287+g46d16d1-py3.10.egg/spaceKLIP/imagetools.py:1040: RuntimeWarning: All-NaN slice encountered\n",
      "  data_med = np.nanmedian(data_arr, axis=0)\n",
      "\n",
      "[py.warnings:WARNING] /Users/jgirard/anaconda3/envs/spaceklip6/lib/python3.10/site-packages/numpy/lib/nanfunctions.py:1879: RuntimeWarning: Degrees of freedom <= 0 for slice.\n",
      "  var = nanvar(a, axis=axis, dtype=dtype, out=out, ddof=ddof,\n",
      "\n"
     ]
    },
    {
     "name": "stdout",
     "output_type": "stream",
     "text": [
      "Frame 36/36, iteration 4\n",
      "[spaceKLIP.imagetools:INFO]   --> Method bpclean: identified 10790 additional bad pixel(s) -- 0.29%\n",
      "[spaceKLIP.imagetools:INFO]   --> Method timemed: jw04454003001_03106_00001_nrcalong_calints.fits\n",
      "[spaceKLIP.imagetools:INFO]   --> Method timemed: fixing 9802 bad pixel(s) -- 0.27%\n"
     ]
    },
    {
     "name": "stderr",
     "output_type": "stream",
     "text": [
      "[py.warnings:WARNING] /Users/jgirard/anaconda3/envs/spaceklip6/lib/python3.10/site-packages/spaceKLIP-1.0.1.dev287+g46d16d1-py3.10.egg/spaceKLIP/imagetools.py:1135: RuntimeWarning: All-NaN slice encountered\n",
      "  data[ww_not_all_bad] = np.array([np.nanmedian(data, axis=0)] * data.shape[0])[ww_not_all_bad]\n",
      "\n",
      "[py.warnings:WARNING] /Users/jgirard/anaconda3/envs/spaceklip6/lib/python3.10/site-packages/spaceKLIP-1.0.1.dev287+g46d16d1-py3.10.egg/spaceKLIP/imagetools.py:1137: RuntimeWarning: All-NaN slice encountered\n",
      "  erro[ww_not_all_bad] = np.array([np.nanmedian(erro, axis=0)] * erro.shape[0])[ww_not_all_bad]\n",
      "\n"
     ]
    },
    {
     "name": "stdout",
     "output_type": "stream",
     "text": [
      "[spaceKLIP.imagetools:INFO]   --> Method dqmed: jw04454003001_03106_00001_nrcalong_calints.fits\n",
      "[spaceKLIP.imagetools:INFO]   --> Method dqmed: fixing 13824 bad pixel(s) -- 0.38%\n",
      "[spaceKLIP.imagetools:INFO]   --> Method medfilt: jw04454003001_03106_00001_nrcalong_calints.fits\n",
      "[spaceKLIP.imagetools:INFO]   --> Method medfilt: fixing 0 bad pixel(s) -- 0.00%\n",
      "[spaceKLIP.imagetools:INFO]   --> Method bpclean: jw04454004001_03106_00001_nrcalong_calints.fits\n",
      "Frame 4/4, iteration 3\n",
      "[spaceKLIP.imagetools:INFO]   --> Method bpclean: identified 1187 additional bad pixel(s) -- 0.29%\n",
      "[spaceKLIP.imagetools:INFO]   --> Method timemed: jw04454004001_03106_00001_nrcalong_calints.fits\n",
      "[spaceKLIP.imagetools:INFO]   --> Method timemed: fixing 1062 bad pixel(s) -- 0.26%\n",
      "[spaceKLIP.imagetools:INFO]   --> Method dqmed: jw04454004001_03106_00001_nrcalong_calints.fits\n",
      "[spaceKLIP.imagetools:INFO]   --> Method dqmed: fixing 1556 bad pixel(s) -- 0.38%\n",
      "[spaceKLIP.imagetools:INFO]   --> Method medfilt: jw04454004001_03106_00001_nrcalong_calints.fits\n",
      "[spaceKLIP.imagetools:INFO]   --> Method medfilt: fixing 0 bad pixel(s) -- 0.00%\n",
      "[spaceKLIP.imagetools:INFO]   --> Method bpclean: jw04454004001_03106_00002_nrcalong_calints.fits\n",
      "Frame 4/4, iteration 4\n",
      "[spaceKLIP.imagetools:INFO]   --> Method bpclean: identified 1215 additional bad pixel(s) -- 0.30%\n",
      "[spaceKLIP.imagetools:INFO]   --> Method timemed: jw04454004001_03106_00002_nrcalong_calints.fits\n",
      "[spaceKLIP.imagetools:INFO]   --> Method timemed: fixing 1063 bad pixel(s) -- 0.26%\n",
      "[spaceKLIP.imagetools:INFO]   --> Method dqmed: jw04454004001_03106_00002_nrcalong_calints.fits\n",
      "[spaceKLIP.imagetools:INFO]   --> Method dqmed: fixing 1568 bad pixel(s) -- 0.38%\n",
      "[spaceKLIP.imagetools:INFO]   --> Method medfilt: jw04454004001_03106_00002_nrcalong_calints.fits\n",
      "[spaceKLIP.imagetools:INFO]   --> Method medfilt: fixing 0 bad pixel(s) -- 0.00%\n",
      "[spaceKLIP.imagetools:INFO]   --> Method bpclean: jw04454004001_03106_00003_nrcalong_calints.fits\n",
      "Frame 4/4, iteration 4\n",
      "[spaceKLIP.imagetools:INFO]   --> Method bpclean: identified 1175 additional bad pixel(s) -- 0.29%\n",
      "[spaceKLIP.imagetools:INFO]   --> Method timemed: jw04454004001_03106_00003_nrcalong_calints.fits\n",
      "[spaceKLIP.imagetools:INFO]   --> Method timemed: fixing 1026 bad pixel(s) -- 0.25%\n",
      "[spaceKLIP.imagetools:INFO]   --> Method dqmed: jw04454004001_03106_00003_nrcalong_calints.fits\n",
      "[spaceKLIP.imagetools:INFO]   --> Method dqmed: fixing 1572 bad pixel(s) -- 0.38%\n",
      "[spaceKLIP.imagetools:INFO]   --> Method medfilt: jw04454004001_03106_00003_nrcalong_calints.fits\n",
      "[spaceKLIP.imagetools:INFO]   --> Method medfilt: fixing 0 bad pixel(s) -- 0.00%\n",
      "[spaceKLIP.imagetools:INFO]   --> Method bpclean: jw04454004001_03106_00004_nrcalong_calints.fits\n",
      "Frame 4/4, iteration 3\n",
      "[spaceKLIP.imagetools:INFO]   --> Method bpclean: identified 1263 additional bad pixel(s) -- 0.31%\n",
      "[spaceKLIP.imagetools:INFO]   --> Method timemed: jw04454004001_03106_00004_nrcalong_calints.fits\n",
      "[spaceKLIP.imagetools:INFO]   --> Method timemed: fixing 1127 bad pixel(s) -- 0.28%\n",
      "[spaceKLIP.imagetools:INFO]   --> Method dqmed: jw04454004001_03106_00004_nrcalong_calints.fits\n",
      "[spaceKLIP.imagetools:INFO]   --> Method dqmed: fixing 1556 bad pixel(s) -- 0.38%\n",
      "[spaceKLIP.imagetools:INFO]   --> Method medfilt: jw04454004001_03106_00004_nrcalong_calints.fits\n",
      "[spaceKLIP.imagetools:INFO]   --> Method medfilt: fixing 0 bad pixel(s) -- 0.00%\n",
      "[spaceKLIP.imagetools:INFO]   --> Method bpclean: jw04454004001_03106_00005_nrcalong_calints.fits\n",
      "Frame 4/4, iteration 3\n",
      "[spaceKLIP.imagetools:INFO]   --> Method bpclean: identified 1145 additional bad pixel(s) -- 0.28%\n",
      "[spaceKLIP.imagetools:INFO]   --> Method timemed: jw04454004001_03106_00005_nrcalong_calints.fits\n",
      "[spaceKLIP.imagetools:INFO]   --> Method timemed: fixing 997 bad pixel(s) -- 0.24%\n",
      "[spaceKLIP.imagetools:INFO]   --> Method dqmed: jw04454004001_03106_00005_nrcalong_calints.fits\n",
      "[spaceKLIP.imagetools:INFO]   --> Method dqmed: fixing 1572 bad pixel(s) -- 0.38%\n",
      "[spaceKLIP.imagetools:INFO]   --> Method medfilt: jw04454004001_03106_00005_nrcalong_calints.fits\n",
      "[spaceKLIP.imagetools:INFO]   --> Method medfilt: fixing 0 bad pixel(s) -- 0.00%\n",
      "[spaceKLIP.imagetools:INFO]   --> Method bpclean: jw04454004001_03106_00006_nrcalong_calints.fits\n",
      "Frame 4/4, iteration 3\n",
      "[spaceKLIP.imagetools:INFO]   --> Method bpclean: identified 1143 additional bad pixel(s) -- 0.28%\n",
      "[spaceKLIP.imagetools:INFO]   --> Method timemed: jw04454004001_03106_00006_nrcalong_calints.fits\n",
      "[spaceKLIP.imagetools:INFO]   --> Method timemed: fixing 1008 bad pixel(s) -- 0.25%\n",
      "[spaceKLIP.imagetools:INFO]   --> Method dqmed: jw04454004001_03106_00006_nrcalong_calints.fits\n",
      "[spaceKLIP.imagetools:INFO]   --> Method dqmed: fixing 1564 bad pixel(s) -- 0.38%\n",
      "[spaceKLIP.imagetools:INFO]   --> Method medfilt: jw04454004001_03106_00006_nrcalong_calints.fits\n",
      "[spaceKLIP.imagetools:INFO]   --> Method medfilt: fixing 0 bad pixel(s) -- 0.00%\n",
      "[spaceKLIP.imagetools:INFO]   --> Method bpclean: jw04454004001_03106_00007_nrcalong_calints.fits\n",
      "Frame 4/4, iteration 4\n",
      "[spaceKLIP.imagetools:INFO]   --> Method bpclean: identified 1175 additional bad pixel(s) -- 0.29%\n",
      "[spaceKLIP.imagetools:INFO]   --> Method timemed: jw04454004001_03106_00007_nrcalong_calints.fits\n",
      "[spaceKLIP.imagetools:INFO]   --> Method timemed: fixing 1026 bad pixel(s) -- 0.25%\n",
      "[spaceKLIP.imagetools:INFO]   --> Method dqmed: jw04454004001_03106_00007_nrcalong_calints.fits\n",
      "[spaceKLIP.imagetools:INFO]   --> Method dqmed: fixing 1564 bad pixel(s) -- 0.38%\n",
      "[spaceKLIP.imagetools:INFO]   --> Method medfilt: jw04454004001_03106_00007_nrcalong_calints.fits\n",
      "[spaceKLIP.imagetools:INFO]   --> Method medfilt: fixing 0 bad pixel(s) -- 0.00%\n",
      "[spaceKLIP.imagetools:INFO]   --> Method bpclean: jw04454004001_03106_00008_nrcalong_calints.fits\n",
      "Frame 4/4, iteration 3\n",
      "[spaceKLIP.imagetools:INFO]   --> Method bpclean: identified 1210 additional bad pixel(s) -- 0.30%\n",
      "[spaceKLIP.imagetools:INFO]   --> Method timemed: jw04454004001_03106_00008_nrcalong_calints.fits\n",
      "[spaceKLIP.imagetools:INFO]   --> Method timemed: fixing 1064 bad pixel(s) -- 0.26%\n",
      "[spaceKLIP.imagetools:INFO]   --> Method dqmed: jw04454004001_03106_00008_nrcalong_calints.fits\n",
      "[spaceKLIP.imagetools:INFO]   --> Method dqmed: fixing 1568 bad pixel(s) -- 0.38%\n",
      "[spaceKLIP.imagetools:INFO]   --> Method medfilt: jw04454004001_03106_00008_nrcalong_calints.fits\n",
      "[spaceKLIP.imagetools:INFO]   --> Method medfilt: fixing 0 bad pixel(s) -- 0.00%\n",
      "[spaceKLIP.imagetools:INFO]   --> Method bpclean: jw04454004001_03106_00009_nrcalong_calints.fits\n",
      "Frame 4/4, iteration 3\n",
      "[spaceKLIP.imagetools:INFO]   --> Method bpclean: identified 1157 additional bad pixel(s) -- 0.28%\n",
      "[spaceKLIP.imagetools:INFO]   --> Method timemed: jw04454004001_03106_00009_nrcalong_calints.fits\n",
      "[spaceKLIP.imagetools:INFO]   --> Method timemed: fixing 1026 bad pixel(s) -- 0.25%\n",
      "[spaceKLIP.imagetools:INFO]   --> Method dqmed: jw04454004001_03106_00009_nrcalong_calints.fits\n",
      "[spaceKLIP.imagetools:INFO]   --> Method dqmed: fixing 1560 bad pixel(s) -- 0.38%\n",
      "[spaceKLIP.imagetools:INFO]   --> Method medfilt: jw04454004001_03106_00009_nrcalong_calints.fits\n",
      "[spaceKLIP.imagetools:INFO]   --> Method medfilt: fixing 0 bad pixel(s) -- 0.00%\n",
      "[spaceKLIP.imagetools:INFO]   --> Method bpclean: jw06570007001_03106_00001_nrcalong_calints.fits\n",
      "Frame 1/1, iteration 4\n",
      "[spaceKLIP.imagetools:INFO]   --> Method bpclean: identified 303 additional bad pixel(s) -- 0.30%\n",
      "[spaceKLIP.imagetools:INFO]   --> Method timemed: jw06570007001_03106_00001_nrcalong_calints.fits\n",
      "[spaceKLIP.imagetools:INFO]   --> Method timemed: fixing 0 bad pixel(s) -- 0.00%\n",
      "[spaceKLIP.imagetools:INFO]   --> Method dqmed: jw06570007001_03106_00001_nrcalong_calints.fits\n",
      "[spaceKLIP.imagetools:INFO]   --> Method dqmed: fixing 672 bad pixel(s) -- 0.66%\n",
      "[spaceKLIP.imagetools:INFO]   --> Method medfilt: jw06570007001_03106_00001_nrcalong_calints.fits\n",
      "[spaceKLIP.imagetools:INFO]   --> Method medfilt: fixing 0 bad pixel(s) -- 0.00%\n",
      "[spaceKLIP.imagetools:INFO]   --> Method bpclean: jw06570007001_03106_00002_nrcalong_calints.fits\n",
      "Frame 1/1, iteration 4\n",
      "[spaceKLIP.imagetools:INFO]   --> Method bpclean: identified 307 additional bad pixel(s) -- 0.30%\n",
      "[spaceKLIP.imagetools:INFO]   --> Method timemed: jw06570007001_03106_00002_nrcalong_calints.fits\n",
      "[spaceKLIP.imagetools:INFO]   --> Method timemed: fixing 0 bad pixel(s) -- 0.00%\n",
      "[spaceKLIP.imagetools:INFO]   --> Method dqmed: jw06570007001_03106_00002_nrcalong_calints.fits\n",
      "[spaceKLIP.imagetools:INFO]   --> Method dqmed: fixing 676 bad pixel(s) -- 0.66%\n",
      "[spaceKLIP.imagetools:INFO]   --> Method medfilt: jw06570007001_03106_00002_nrcalong_calints.fits\n",
      "[spaceKLIP.imagetools:INFO]   --> Method medfilt: fixing 0 bad pixel(s) -- 0.00%\n",
      "[spaceKLIP.imagetools:INFO]   --> Method bpclean: jw06570007001_03106_00003_nrcalong_calints.fits\n",
      "Frame 1/1, iteration 4\n",
      "[spaceKLIP.imagetools:INFO]   --> Method bpclean: identified 291 additional bad pixel(s) -- 0.28%\n",
      "[spaceKLIP.imagetools:INFO]   --> Method timemed: jw06570007001_03106_00003_nrcalong_calints.fits\n",
      "[spaceKLIP.imagetools:INFO]   --> Method timemed: fixing 0 bad pixel(s) -- 0.00%\n",
      "[spaceKLIP.imagetools:INFO]   --> Method dqmed: jw06570007001_03106_00003_nrcalong_calints.fits\n",
      "[spaceKLIP.imagetools:INFO]   --> Method dqmed: fixing 660 bad pixel(s) -- 0.64%\n",
      "[spaceKLIP.imagetools:INFO]   --> Method medfilt: jw06570007001_03106_00003_nrcalong_calints.fits\n",
      "[spaceKLIP.imagetools:INFO]   --> Method medfilt: fixing 0 bad pixel(s) -- 0.00%\n",
      "[spaceKLIP.imagetools:INFO]   --> Method bpclean: jw06570007001_03106_00004_nrcalong_calints.fits\n",
      "Frame 1/1, iteration 4\n",
      "[spaceKLIP.imagetools:INFO]   --> Method bpclean: identified 310 additional bad pixel(s) -- 0.30%\n",
      "[spaceKLIP.imagetools:INFO]   --> Method timemed: jw06570007001_03106_00004_nrcalong_calints.fits\n",
      "[spaceKLIP.imagetools:INFO]   --> Method timemed: fixing 0 bad pixel(s) -- 0.00%\n",
      "[spaceKLIP.imagetools:INFO]   --> Method dqmed: jw06570007001_03106_00004_nrcalong_calints.fits\n",
      "[spaceKLIP.imagetools:INFO]   --> Method dqmed: fixing 679 bad pixel(s) -- 0.66%\n",
      "[spaceKLIP.imagetools:INFO]   --> Method medfilt: jw06570007001_03106_00004_nrcalong_calints.fits\n",
      "[spaceKLIP.imagetools:INFO]   --> Method medfilt: fixing 0 bad pixel(s) -- 0.00%\n",
      "[spaceKLIP.imagetools:INFO]   --> Method bpclean: jw06570007001_03106_00005_nrcalong_calints.fits\n",
      "Frame 1/1, iteration 5\n",
      "[spaceKLIP.imagetools:INFO]   --> Method bpclean: identified 306 additional bad pixel(s) -- 0.30%\n",
      "[spaceKLIP.imagetools:INFO]   --> Method timemed: jw06570007001_03106_00005_nrcalong_calints.fits\n",
      "[spaceKLIP.imagetools:INFO]   --> Method timemed: fixing 0 bad pixel(s) -- 0.00%\n",
      "[spaceKLIP.imagetools:INFO]   --> Method dqmed: jw06570007001_03106_00005_nrcalong_calints.fits\n",
      "[spaceKLIP.imagetools:INFO]   --> Method dqmed: fixing 675 bad pixel(s) -- 0.66%\n",
      "[spaceKLIP.imagetools:INFO]   --> Method medfilt: jw06570007001_03106_00005_nrcalong_calints.fits\n",
      "[spaceKLIP.imagetools:INFO]   --> Method medfilt: fixing 0 bad pixel(s) -- 0.00%\n",
      "[spaceKLIP.imagetools:INFO]   --> Method bpclean: jw06570007001_03106_00001_nrcalong_calints.fits\n",
      "Frame 1/1, iteration 4\n",
      "[spaceKLIP.imagetools:INFO]   --> Method bpclean: identified 303 additional bad pixel(s) -- 0.30%\n",
      "[spaceKLIP.imagetools:INFO]   --> Method timemed: jw06570007001_03106_00001_nrcalong_calints.fits\n",
      "[spaceKLIP.imagetools:INFO]   --> Method timemed: fixing 0 bad pixel(s) -- 0.00%\n",
      "[spaceKLIP.imagetools:INFO]   --> Method dqmed: jw06570007001_03106_00001_nrcalong_calints.fits\n",
      "[spaceKLIP.imagetools:INFO]   --> Method dqmed: fixing 672 bad pixel(s) -- 0.66%\n",
      "[spaceKLIP.imagetools:INFO]   --> Method medfilt: jw06570007001_03106_00001_nrcalong_calints.fits\n",
      "[spaceKLIP.imagetools:INFO]   --> Method medfilt: fixing 0 bad pixel(s) -- 0.00%\n",
      "[spaceKLIP.imagetools:INFO]   --> Method bpclean: jw06570007001_03106_00002_nrcalong_calints.fits\n",
      "Frame 1/1, iteration 4\n",
      "[spaceKLIP.imagetools:INFO]   --> Method bpclean: identified 307 additional bad pixel(s) -- 0.30%\n",
      "[spaceKLIP.imagetools:INFO]   --> Method timemed: jw06570007001_03106_00002_nrcalong_calints.fits\n",
      "[spaceKLIP.imagetools:INFO]   --> Method timemed: fixing 0 bad pixel(s) -- 0.00%\n",
      "[spaceKLIP.imagetools:INFO]   --> Method dqmed: jw06570007001_03106_00002_nrcalong_calints.fits\n",
      "[spaceKLIP.imagetools:INFO]   --> Method dqmed: fixing 676 bad pixel(s) -- 0.66%\n",
      "[spaceKLIP.imagetools:INFO]   --> Method medfilt: jw06570007001_03106_00002_nrcalong_calints.fits\n",
      "[spaceKLIP.imagetools:INFO]   --> Method medfilt: fixing 0 bad pixel(s) -- 0.00%\n",
      "[spaceKLIP.imagetools:INFO]   --> Method bpclean: jw06570007001_03106_00003_nrcalong_calints.fits\n",
      "Frame 1/1, iteration 4\n",
      "[spaceKLIP.imagetools:INFO]   --> Method bpclean: identified 291 additional bad pixel(s) -- 0.28%\n",
      "[spaceKLIP.imagetools:INFO]   --> Method timemed: jw06570007001_03106_00003_nrcalong_calints.fits\n",
      "[spaceKLIP.imagetools:INFO]   --> Method timemed: fixing 0 bad pixel(s) -- 0.00%\n",
      "[spaceKLIP.imagetools:INFO]   --> Method dqmed: jw06570007001_03106_00003_nrcalong_calints.fits\n",
      "[spaceKLIP.imagetools:INFO]   --> Method dqmed: fixing 660 bad pixel(s) -- 0.64%\n",
      "[spaceKLIP.imagetools:INFO]   --> Method medfilt: jw06570007001_03106_00003_nrcalong_calints.fits\n",
      "[spaceKLIP.imagetools:INFO]   --> Method medfilt: fixing 0 bad pixel(s) -- 0.00%\n",
      "[spaceKLIP.imagetools:INFO]   --> Method bpclean: jw06570007001_03106_00004_nrcalong_calints.fits\n",
      "Frame 1/1, iteration 4\n",
      "[spaceKLIP.imagetools:INFO]   --> Method bpclean: identified 310 additional bad pixel(s) -- 0.30%\n",
      "[spaceKLIP.imagetools:INFO]   --> Method timemed: jw06570007001_03106_00004_nrcalong_calints.fits\n",
      "[spaceKLIP.imagetools:INFO]   --> Method timemed: fixing 0 bad pixel(s) -- 0.00%\n",
      "[spaceKLIP.imagetools:INFO]   --> Method dqmed: jw06570007001_03106_00004_nrcalong_calints.fits\n",
      "[spaceKLIP.imagetools:INFO]   --> Method dqmed: fixing 679 bad pixel(s) -- 0.66%\n",
      "[spaceKLIP.imagetools:INFO]   --> Method medfilt: jw06570007001_03106_00004_nrcalong_calints.fits\n",
      "[spaceKLIP.imagetools:INFO]   --> Method medfilt: fixing 0 bad pixel(s) -- 0.00%\n",
      "[spaceKLIP.imagetools:INFO]   --> Method bpclean: jw06570007001_03106_00005_nrcalong_calints.fits\n",
      "Frame 1/1, iteration 5\n",
      "[spaceKLIP.imagetools:INFO]   --> Method bpclean: identified 306 additional bad pixel(s) -- 0.30%\n",
      "[spaceKLIP.imagetools:INFO]   --> Method timemed: jw06570007001_03106_00005_nrcalong_calints.fits\n",
      "[spaceKLIP.imagetools:INFO]   --> Method timemed: fixing 0 bad pixel(s) -- 0.00%\n",
      "[spaceKLIP.imagetools:INFO]   --> Method dqmed: jw06570007001_03106_00005_nrcalong_calints.fits\n",
      "[spaceKLIP.imagetools:INFO]   --> Method dqmed: fixing 675 bad pixel(s) -- 0.66%\n",
      "[spaceKLIP.imagetools:INFO]   --> Method medfilt: jw06570007001_03106_00005_nrcalong_calints.fits\n",
      "[spaceKLIP.imagetools:INFO]   --> Method medfilt: fixing 0 bad pixel(s) -- 0.00%\n",
      "[spaceKLIP.imagetools:INFO]   --> Method bpclean: jw04454004001_03106_00001_nrcalong_calints.fits\n",
      "Frame 4/4, iteration 3\n",
      "[spaceKLIP.imagetools:INFO]   --> Method bpclean: identified 1187 additional bad pixel(s) -- 0.29%\n",
      "[spaceKLIP.imagetools:INFO]   --> Method timemed: jw04454004001_03106_00001_nrcalong_calints.fits\n",
      "[spaceKLIP.imagetools:INFO]   --> Method timemed: fixing 1062 bad pixel(s) -- 0.26%\n",
      "[spaceKLIP.imagetools:INFO]   --> Method dqmed: jw04454004001_03106_00001_nrcalong_calints.fits\n",
      "[spaceKLIP.imagetools:INFO]   --> Method dqmed: fixing 1556 bad pixel(s) -- 0.38%\n",
      "[spaceKLIP.imagetools:INFO]   --> Method medfilt: jw04454004001_03106_00001_nrcalong_calints.fits\n",
      "[spaceKLIP.imagetools:INFO]   --> Method medfilt: fixing 0 bad pixel(s) -- 0.00%\n",
      "[spaceKLIP.imagetools:INFO]   --> Method bpclean: jw04454004001_03106_00002_nrcalong_calints.fits\n",
      "Frame 4/4, iteration 4\n",
      "[spaceKLIP.imagetools:INFO]   --> Method bpclean: identified 1215 additional bad pixel(s) -- 0.30%\n",
      "[spaceKLIP.imagetools:INFO]   --> Method timemed: jw04454004001_03106_00002_nrcalong_calints.fits\n",
      "[spaceKLIP.imagetools:INFO]   --> Method timemed: fixing 1063 bad pixel(s) -- 0.26%\n",
      "[spaceKLIP.imagetools:INFO]   --> Method dqmed: jw04454004001_03106_00002_nrcalong_calints.fits\n",
      "[spaceKLIP.imagetools:INFO]   --> Method dqmed: fixing 1568 bad pixel(s) -- 0.38%\n",
      "[spaceKLIP.imagetools:INFO]   --> Method medfilt: jw04454004001_03106_00002_nrcalong_calints.fits\n",
      "[spaceKLIP.imagetools:INFO]   --> Method medfilt: fixing 0 bad pixel(s) -- 0.00%\n",
      "[spaceKLIP.imagetools:INFO]   --> Method bpclean: jw04454004001_03106_00003_nrcalong_calints.fits\n",
      "Frame 4/4, iteration 4\n",
      "[spaceKLIP.imagetools:INFO]   --> Method bpclean: identified 1175 additional bad pixel(s) -- 0.29%\n",
      "[spaceKLIP.imagetools:INFO]   --> Method timemed: jw04454004001_03106_00003_nrcalong_calints.fits\n",
      "[spaceKLIP.imagetools:INFO]   --> Method timemed: fixing 1026 bad pixel(s) -- 0.25%\n",
      "[spaceKLIP.imagetools:INFO]   --> Method dqmed: jw04454004001_03106_00003_nrcalong_calints.fits\n",
      "[spaceKLIP.imagetools:INFO]   --> Method dqmed: fixing 1572 bad pixel(s) -- 0.38%\n",
      "[spaceKLIP.imagetools:INFO]   --> Method medfilt: jw04454004001_03106_00003_nrcalong_calints.fits\n",
      "[spaceKLIP.imagetools:INFO]   --> Method medfilt: fixing 0 bad pixel(s) -- 0.00%\n",
      "[spaceKLIP.imagetools:INFO]   --> Method bpclean: jw04454004001_03106_00004_nrcalong_calints.fits\n",
      "Frame 4/4, iteration 3\n",
      "[spaceKLIP.imagetools:INFO]   --> Method bpclean: identified 1263 additional bad pixel(s) -- 0.31%\n",
      "[spaceKLIP.imagetools:INFO]   --> Method timemed: jw04454004001_03106_00004_nrcalong_calints.fits\n",
      "[spaceKLIP.imagetools:INFO]   --> Method timemed: fixing 1127 bad pixel(s) -- 0.28%\n",
      "[spaceKLIP.imagetools:INFO]   --> Method dqmed: jw04454004001_03106_00004_nrcalong_calints.fits\n",
      "[spaceKLIP.imagetools:INFO]   --> Method dqmed: fixing 1556 bad pixel(s) -- 0.38%\n",
      "[spaceKLIP.imagetools:INFO]   --> Method medfilt: jw04454004001_03106_00004_nrcalong_calints.fits\n",
      "[spaceKLIP.imagetools:INFO]   --> Method medfilt: fixing 0 bad pixel(s) -- 0.00%\n",
      "[spaceKLIP.imagetools:INFO]   --> Method bpclean: jw04454004001_03106_00005_nrcalong_calints.fits\n",
      "Frame 4/4, iteration 3\n",
      "[spaceKLIP.imagetools:INFO]   --> Method bpclean: identified 1145 additional bad pixel(s) -- 0.28%\n",
      "[spaceKLIP.imagetools:INFO]   --> Method timemed: jw04454004001_03106_00005_nrcalong_calints.fits\n",
      "[spaceKLIP.imagetools:INFO]   --> Method timemed: fixing 997 bad pixel(s) -- 0.24%\n",
      "[spaceKLIP.imagetools:INFO]   --> Method dqmed: jw04454004001_03106_00005_nrcalong_calints.fits\n",
      "[spaceKLIP.imagetools:INFO]   --> Method dqmed: fixing 1572 bad pixel(s) -- 0.38%\n",
      "[spaceKLIP.imagetools:INFO]   --> Method medfilt: jw04454004001_03106_00005_nrcalong_calints.fits\n",
      "[spaceKLIP.imagetools:INFO]   --> Method medfilt: fixing 0 bad pixel(s) -- 0.00%\n",
      "[spaceKLIP.imagetools:INFO]   --> Method bpclean: jw04454004001_03106_00006_nrcalong_calints.fits\n",
      "Frame 4/4, iteration 3\n",
      "[spaceKLIP.imagetools:INFO]   --> Method bpclean: identified 1143 additional bad pixel(s) -- 0.28%\n",
      "[spaceKLIP.imagetools:INFO]   --> Method timemed: jw04454004001_03106_00006_nrcalong_calints.fits\n",
      "[spaceKLIP.imagetools:INFO]   --> Method timemed: fixing 1008 bad pixel(s) -- 0.25%\n",
      "[spaceKLIP.imagetools:INFO]   --> Method dqmed: jw04454004001_03106_00006_nrcalong_calints.fits\n",
      "[spaceKLIP.imagetools:INFO]   --> Method dqmed: fixing 1564 bad pixel(s) -- 0.38%\n",
      "[spaceKLIP.imagetools:INFO]   --> Method medfilt: jw04454004001_03106_00006_nrcalong_calints.fits\n",
      "[spaceKLIP.imagetools:INFO]   --> Method medfilt: fixing 0 bad pixel(s) -- 0.00%\n",
      "[spaceKLIP.imagetools:INFO]   --> Method bpclean: jw04454004001_03106_00007_nrcalong_calints.fits\n",
      "Frame 4/4, iteration 4\n",
      "[spaceKLIP.imagetools:INFO]   --> Method bpclean: identified 1175 additional bad pixel(s) -- 0.29%\n",
      "[spaceKLIP.imagetools:INFO]   --> Method timemed: jw04454004001_03106_00007_nrcalong_calints.fits\n",
      "[spaceKLIP.imagetools:INFO]   --> Method timemed: fixing 1026 bad pixel(s) -- 0.25%\n",
      "[spaceKLIP.imagetools:INFO]   --> Method dqmed: jw04454004001_03106_00007_nrcalong_calints.fits\n",
      "[spaceKLIP.imagetools:INFO]   --> Method dqmed: fixing 1564 bad pixel(s) -- 0.38%\n",
      "[spaceKLIP.imagetools:INFO]   --> Method medfilt: jw04454004001_03106_00007_nrcalong_calints.fits\n",
      "[spaceKLIP.imagetools:INFO]   --> Method medfilt: fixing 0 bad pixel(s) -- 0.00%\n",
      "[spaceKLIP.imagetools:INFO]   --> Method bpclean: jw04454004001_03106_00008_nrcalong_calints.fits\n",
      "Frame 4/4, iteration 3\n",
      "[spaceKLIP.imagetools:INFO]   --> Method bpclean: identified 1210 additional bad pixel(s) -- 0.30%\n",
      "[spaceKLIP.imagetools:INFO]   --> Method timemed: jw04454004001_03106_00008_nrcalong_calints.fits\n",
      "[spaceKLIP.imagetools:INFO]   --> Method timemed: fixing 1064 bad pixel(s) -- 0.26%\n",
      "[spaceKLIP.imagetools:INFO]   --> Method dqmed: jw04454004001_03106_00008_nrcalong_calints.fits\n",
      "[spaceKLIP.imagetools:INFO]   --> Method dqmed: fixing 1568 bad pixel(s) -- 0.38%\n",
      "[spaceKLIP.imagetools:INFO]   --> Method medfilt: jw04454004001_03106_00008_nrcalong_calints.fits\n",
      "[spaceKLIP.imagetools:INFO]   --> Method medfilt: fixing 0 bad pixel(s) -- 0.00%\n",
      "[spaceKLIP.imagetools:INFO]   --> Method bpclean: jw04454004001_03106_00009_nrcalong_calints.fits\n",
      "Frame 4/4, iteration 3\n",
      "[spaceKLIP.imagetools:INFO]   --> Method bpclean: identified 1157 additional bad pixel(s) -- 0.28%\n",
      "[spaceKLIP.imagetools:INFO]   --> Method timemed: jw04454004001_03106_00009_nrcalong_calints.fits\n",
      "[spaceKLIP.imagetools:INFO]   --> Method timemed: fixing 1026 bad pixel(s) -- 0.25%\n",
      "[spaceKLIP.imagetools:INFO]   --> Method dqmed: jw04454004001_03106_00009_nrcalong_calints.fits\n",
      "[spaceKLIP.imagetools:INFO]   --> Method dqmed: fixing 1560 bad pixel(s) -- 0.38%\n",
      "[spaceKLIP.imagetools:INFO]   --> Method medfilt: jw04454004001_03106_00009_nrcalong_calints.fits\n",
      "[spaceKLIP.imagetools:INFO]   --> Method medfilt: fixing 0 bad pixel(s) -- 0.00%\n"
     ]
    }
   ],
   "source": [
    "# Fix bad pixels using custom spaceKLIP routines. Multiple routines can be\n",
    "# combined in a custom order by joining them with a + sign.\n",
    "# - bpclean: use sigma clipping to find additional bad pixels.\n",
    "# - custom: use custom map to find additional bad pixels.\n",
    "# - timemed: replace pixels which are only bad in some frames with their\n",
    "#            median value from the good frames.\n",
    "# - dqmed:   replace bad pixels with the median of surrounding good\n",
    "#            pixels.\n",
    "# - medfilt: replace bad pixels with an image plane median filter.\n",
    "ImageTools.fix_bad_pixels(method='bpclean+timemed+dqmed+medfilt',\n",
    "                          bpclean_kwargs={'sigclip': 5,\n",
    "                                          'shift_x': [-1, 0, 1],\n",
    "                                          'shift_y': [-1, 0, 1]},\n",
    "                          custom_kwargs={},\n",
    "                          timemed_kwargs={},\n",
    "                          dqmed_kwargs={'shift_x': [-1, 0, 1],\n",
    "                                        'shift_y': [-1, 0, 1]},\n",
    "                          medfilt_kwargs={'size': 4},\n",
    "                          subdir='bpcleaned')"
   ]
  },
  {
   "cell_type": "code",
   "execution_count": 22,
   "id": "d54ca62a-ad2c-4868-a166-518ff92a536e",
   "metadata": {
    "scrolled": true,
    "tags": []
   },
   "outputs": [
    {
     "name": "stdout",
     "output_type": "stream",
     "text": [
      "[spaceKLIP.imagetools:INFO] --> Concatenation JWST_NIRCAM_NRCALONG_F335M_MASKRND_MASK335R_SUB320A335R\n",
      "[spaceKLIP.imagetools:INFO]   --> Nan replacement: jw04454003001_03106_00001_nrcalong_calints.fits\n",
      "[spaceKLIP.imagetools:INFO]   --> Nan replacement: replaced 0 nan pixel(s) with value 0.0 -- 0.00%\n",
      "[spaceKLIP.imagetools:INFO]   --> Nan replacement: jw04454004001_03106_00001_nrcalong_calints.fits\n",
      "[spaceKLIP.imagetools:INFO]   --> Nan replacement: replaced 0 nan pixel(s) with value 0.0 -- 0.00%\n",
      "[spaceKLIP.imagetools:INFO]   --> Nan replacement: jw04454004001_03106_00002_nrcalong_calints.fits\n",
      "[spaceKLIP.imagetools:INFO]   --> Nan replacement: replaced 0 nan pixel(s) with value 0.0 -- 0.00%\n",
      "[spaceKLIP.imagetools:INFO]   --> Nan replacement: jw04454004001_03106_00003_nrcalong_calints.fits\n",
      "[spaceKLIP.imagetools:INFO]   --> Nan replacement: replaced 0 nan pixel(s) with value 0.0 -- 0.00%\n",
      "[spaceKLIP.imagetools:INFO]   --> Nan replacement: jw04454004001_03106_00004_nrcalong_calints.fits\n",
      "[spaceKLIP.imagetools:INFO]   --> Nan replacement: replaced 0 nan pixel(s) with value 0.0 -- 0.00%\n",
      "[spaceKLIP.imagetools:INFO]   --> Nan replacement: jw04454004001_03106_00005_nrcalong_calints.fits\n",
      "[spaceKLIP.imagetools:INFO]   --> Nan replacement: replaced 0 nan pixel(s) with value 0.0 -- 0.00%\n",
      "[spaceKLIP.imagetools:INFO]   --> Nan replacement: jw04454004001_03106_00006_nrcalong_calints.fits\n",
      "[spaceKLIP.imagetools:INFO]   --> Nan replacement: replaced 0 nan pixel(s) with value 0.0 -- 0.00%\n",
      "[spaceKLIP.imagetools:INFO]   --> Nan replacement: jw04454004001_03106_00007_nrcalong_calints.fits\n",
      "[spaceKLIP.imagetools:INFO]   --> Nan replacement: replaced 0 nan pixel(s) with value 0.0 -- 0.00%\n",
      "[spaceKLIP.imagetools:INFO]   --> Nan replacement: jw04454004001_03106_00008_nrcalong_calints.fits\n",
      "[spaceKLIP.imagetools:INFO]   --> Nan replacement: replaced 0 nan pixel(s) with value 0.0 -- 0.00%\n",
      "[spaceKLIP.imagetools:INFO]   --> Nan replacement: jw04454004001_03106_00009_nrcalong_calints.fits\n",
      "[spaceKLIP.imagetools:INFO]   --> Nan replacement: replaced 0 nan pixel(s) with value 0.0 -- 0.00%\n",
      "[spaceKLIP.imagetools:INFO]   --> Nan replacement: jw06570007001_03106_00001_nrcalong_calints.fits\n",
      "[spaceKLIP.imagetools:INFO]   --> Nan replacement: replaced 0 nan pixel(s) with value 0.0 -- 0.00%\n",
      "[spaceKLIP.imagetools:INFO]   --> Nan replacement: jw06570007001_03106_00002_nrcalong_calints.fits\n",
      "[spaceKLIP.imagetools:INFO]   --> Nan replacement: replaced 0 nan pixel(s) with value 0.0 -- 0.00%\n",
      "[spaceKLIP.imagetools:INFO]   --> Nan replacement: jw06570007001_03106_00003_nrcalong_calints.fits\n",
      "[spaceKLIP.imagetools:INFO]   --> Nan replacement: replaced 0 nan pixel(s) with value 0.0 -- 0.00%\n",
      "[spaceKLIP.imagetools:INFO]   --> Nan replacement: jw06570007001_03106_00004_nrcalong_calints.fits\n",
      "[spaceKLIP.imagetools:INFO]   --> Nan replacement: replaced 0 nan pixel(s) with value 0.0 -- 0.00%\n",
      "[spaceKLIP.imagetools:INFO]   --> Nan replacement: jw06570007001_03106_00005_nrcalong_calints.fits\n",
      "[spaceKLIP.imagetools:INFO]   --> Nan replacement: replaced 0 nan pixel(s) with value 0.0 -- 0.00%\n",
      "[spaceKLIP.imagetools:INFO]   --> Nan replacement: jw06570007001_03106_00001_nrcalong_calints.fits\n",
      "[spaceKLIP.imagetools:INFO]   --> Nan replacement: replaced 0 nan pixel(s) with value 0.0 -- 0.00%\n",
      "[spaceKLIP.imagetools:INFO]   --> Nan replacement: jw06570007001_03106_00002_nrcalong_calints.fits\n",
      "[spaceKLIP.imagetools:INFO]   --> Nan replacement: replaced 0 nan pixel(s) with value 0.0 -- 0.00%\n",
      "[spaceKLIP.imagetools:INFO]   --> Nan replacement: jw06570007001_03106_00003_nrcalong_calints.fits\n",
      "[spaceKLIP.imagetools:INFO]   --> Nan replacement: replaced 0 nan pixel(s) with value 0.0 -- 0.00%\n",
      "[spaceKLIP.imagetools:INFO]   --> Nan replacement: jw06570007001_03106_00004_nrcalong_calints.fits\n",
      "[spaceKLIP.imagetools:INFO]   --> Nan replacement: replaced 0 nan pixel(s) with value 0.0 -- 0.00%\n",
      "[spaceKLIP.imagetools:INFO]   --> Nan replacement: jw06570007001_03106_00005_nrcalong_calints.fits\n",
      "[spaceKLIP.imagetools:INFO]   --> Nan replacement: replaced 0 nan pixel(s) with value 0.0 -- 0.00%\n",
      "[spaceKLIP.imagetools:INFO]   --> Nan replacement: jw04454004001_03106_00001_nrcalong_calints.fits\n",
      "[spaceKLIP.imagetools:INFO]   --> Nan replacement: replaced 0 nan pixel(s) with value 0.0 -- 0.00%\n",
      "[spaceKLIP.imagetools:INFO]   --> Nan replacement: jw04454004001_03106_00002_nrcalong_calints.fits\n",
      "[spaceKLIP.imagetools:INFO]   --> Nan replacement: replaced 0 nan pixel(s) with value 0.0 -- 0.00%\n",
      "[spaceKLIP.imagetools:INFO]   --> Nan replacement: jw04454004001_03106_00003_nrcalong_calints.fits\n",
      "[spaceKLIP.imagetools:INFO]   --> Nan replacement: replaced 0 nan pixel(s) with value 0.0 -- 0.00%\n",
      "[spaceKLIP.imagetools:INFO]   --> Nan replacement: jw04454004001_03106_00004_nrcalong_calints.fits\n",
      "[spaceKLIP.imagetools:INFO]   --> Nan replacement: replaced 0 nan pixel(s) with value 0.0 -- 0.00%\n",
      "[spaceKLIP.imagetools:INFO]   --> Nan replacement: jw04454004001_03106_00005_nrcalong_calints.fits\n",
      "[spaceKLIP.imagetools:INFO]   --> Nan replacement: replaced 0 nan pixel(s) with value 0.0 -- 0.00%\n",
      "[spaceKLIP.imagetools:INFO]   --> Nan replacement: jw04454004001_03106_00006_nrcalong_calints.fits\n",
      "[spaceKLIP.imagetools:INFO]   --> Nan replacement: replaced 0 nan pixel(s) with value 0.0 -- 0.00%\n",
      "[spaceKLIP.imagetools:INFO]   --> Nan replacement: jw04454004001_03106_00007_nrcalong_calints.fits\n",
      "[spaceKLIP.imagetools:INFO]   --> Nan replacement: replaced 0 nan pixel(s) with value 0.0 -- 0.00%\n",
      "[spaceKLIP.imagetools:INFO]   --> Nan replacement: jw04454004001_03106_00008_nrcalong_calints.fits\n",
      "[spaceKLIP.imagetools:INFO]   --> Nan replacement: replaced 0 nan pixel(s) with value 0.0 -- 0.00%\n",
      "[spaceKLIP.imagetools:INFO]   --> Nan replacement: jw04454004001_03106_00009_nrcalong_calints.fits\n",
      "[spaceKLIP.imagetools:INFO]   --> Nan replacement: replaced 0 nan pixel(s) with value 0.0 -- 0.00%\n"
     ]
    }
   ],
   "source": [
    "ImageTools.replace_nans(cval=0.,\n",
    "                        types=['SCI', 'SCI_BG', 'REF', 'REF_BG'],\n",
    "                        subdir='nanreplaced')"
   ]
  },
  {
   "cell_type": "code",
   "execution_count": 23,
   "id": "79941ad4-8140-47c1-8b0e-607f83a34f73",
   "metadata": {
    "scrolled": true,
    "tags": []
   },
   "outputs": [
    {
     "name": "stdout",
     "output_type": "stream",
     "text": [
      "[spaceKLIP.imagetools:INFO] --> Concatenation JWST_NIRCAM_NRCALONG_F335M_MASKRND_MASK335R_SUB320A335R\n",
      "[spaceKLIP.imagetools:INFO]   --> Align frames: jw04454003001_03106_00001_nrcalong_calints.fits\n",
      "[spaceKLIP.imagetools:INFO]   --> Align frames: median required shift = 0.22 mas\n",
      "[spaceKLIP.imagetools:INFO]   --> Align frames: jw04454004001_03106_00001_nrcalong_calints.fits\n",
      "[spaceKLIP.imagetools:INFO]   --> Align frames: median required shift = 4.33 mas\n",
      "[spaceKLIP.imagetools:INFO]   --> Align frames: jw04454004001_03106_00002_nrcalong_calints.fits\n",
      "[spaceKLIP.imagetools:INFO]   --> Align frames: median required shift = 23.81 mas\n",
      "[spaceKLIP.imagetools:INFO]   --> Align frames: jw04454004001_03106_00003_nrcalong_calints.fits\n",
      "[spaceKLIP.imagetools:INFO]   --> Align frames: median required shift = 26.01 mas\n",
      "[spaceKLIP.imagetools:INFO]   --> Align frames: jw04454004001_03106_00004_nrcalong_calints.fits\n",
      "[spaceKLIP.imagetools:INFO]   --> Align frames: median required shift = 23.23 mas\n",
      "[spaceKLIP.imagetools:INFO]   --> Align frames: jw04454004001_03106_00005_nrcalong_calints.fits\n",
      "[spaceKLIP.imagetools:INFO]   --> Align frames: median required shift = 21.85 mas\n",
      "[spaceKLIP.imagetools:INFO]   --> Align frames: jw04454004001_03106_00006_nrcalong_calints.fits\n",
      "[spaceKLIP.imagetools:INFO]   --> Align frames: median required shift = 15.76 mas\n",
      "[spaceKLIP.imagetools:INFO]   --> Align frames: jw04454004001_03106_00007_nrcalong_calints.fits\n",
      "[spaceKLIP.imagetools:INFO]   --> Align frames: median required shift = 17.62 mas\n",
      "[spaceKLIP.imagetools:INFO]   --> Align frames: jw04454004001_03106_00008_nrcalong_calints.fits\n",
      "[spaceKLIP.imagetools:INFO]   --> Align frames: median required shift = 20.51 mas\n",
      "[spaceKLIP.imagetools:INFO]   --> Align frames: jw04454004001_03106_00009_nrcalong_calints.fits\n",
      "[spaceKLIP.imagetools:INFO]   --> Align frames: median required shift = 24.25 mas\n",
      "[spaceKLIP.imagetools:INFO]   --> Align frames: jw06570007001_03106_00001_nrcalong_calints.fits\n",
      "[spaceKLIP.imagetools:INFO]   --> Align frames: median required shift = 19.68 mas\n",
      "[spaceKLIP.imagetools:INFO]   --> Align frames: jw06570007001_03106_00002_nrcalong_calints.fits\n",
      "[spaceKLIP.imagetools:INFO]   --> Align frames: median required shift = 39.59 mas\n",
      "[spaceKLIP.imagetools:INFO]   --> Align frames: jw06570007001_03106_00003_nrcalong_calints.fits\n",
      "[spaceKLIP.imagetools:INFO]   --> Align frames: median required shift = 3.81 mas\n",
      "[spaceKLIP.imagetools:INFO]   --> Align frames: jw06570007001_03106_00004_nrcalong_calints.fits\n",
      "[spaceKLIP.imagetools:INFO]   --> Align frames: median required shift = 31.92 mas\n",
      "[spaceKLIP.imagetools:INFO]   --> Align frames: jw06570007001_03106_00005_nrcalong_calints.fits\n",
      "[spaceKLIP.imagetools:INFO]   --> Align frames: median required shift = 23.99 mas\n",
      "[spaceKLIP.imagetools:INFO]   --> Align frames: jw06570007001_03106_00001_nrcalong_calints.fits\n",
      "[spaceKLIP.imagetools:INFO]   --> Align frames: median required shift = 19.68 mas\n",
      "[spaceKLIP.imagetools:INFO]   --> Align frames: jw06570007001_03106_00002_nrcalong_calints.fits\n",
      "[spaceKLIP.imagetools:INFO]   --> Align frames: median required shift = 39.59 mas\n",
      "[spaceKLIP.imagetools:INFO]   --> Align frames: jw06570007001_03106_00003_nrcalong_calints.fits\n",
      "[spaceKLIP.imagetools:INFO]   --> Align frames: median required shift = 3.81 mas\n",
      "[spaceKLIP.imagetools:INFO]   --> Align frames: jw06570007001_03106_00004_nrcalong_calints.fits\n",
      "[spaceKLIP.imagetools:INFO]   --> Align frames: median required shift = 31.92 mas\n",
      "[spaceKLIP.imagetools:INFO]   --> Align frames: jw06570007001_03106_00005_nrcalong_calints.fits\n",
      "[spaceKLIP.imagetools:INFO]   --> Align frames: median required shift = 23.99 mas\n",
      "[spaceKLIP.imagetools:INFO]   --> Align frames: jw04454004001_03106_00001_nrcalong_calints.fits\n",
      "[spaceKLIP.imagetools:INFO]   --> Align frames: median required shift = 4.33 mas\n",
      "[spaceKLIP.imagetools:INFO]   --> Align frames: jw04454004001_03106_00002_nrcalong_calints.fits\n",
      "[spaceKLIP.imagetools:INFO]   --> Align frames: median required shift = 23.81 mas\n",
      "[spaceKLIP.imagetools:INFO]   --> Align frames: jw04454004001_03106_00003_nrcalong_calints.fits\n",
      "[spaceKLIP.imagetools:INFO]   --> Align frames: median required shift = 26.01 mas\n",
      "[spaceKLIP.imagetools:INFO]   --> Align frames: jw04454004001_03106_00004_nrcalong_calints.fits\n",
      "[spaceKLIP.imagetools:INFO]   --> Align frames: median required shift = 23.23 mas\n",
      "[spaceKLIP.imagetools:INFO]   --> Align frames: jw04454004001_03106_00005_nrcalong_calints.fits\n",
      "[spaceKLIP.imagetools:INFO]   --> Align frames: median required shift = 21.85 mas\n",
      "[spaceKLIP.imagetools:INFO]   --> Align frames: jw04454004001_03106_00006_nrcalong_calints.fits\n",
      "[spaceKLIP.imagetools:INFO]   --> Align frames: median required shift = 15.76 mas\n",
      "[spaceKLIP.imagetools:INFO]   --> Align frames: jw04454004001_03106_00007_nrcalong_calints.fits\n",
      "[spaceKLIP.imagetools:INFO]   --> Align frames: median required shift = 17.62 mas\n",
      "[spaceKLIP.imagetools:INFO]   --> Align frames: jw04454004001_03106_00008_nrcalong_calints.fits\n",
      "[spaceKLIP.imagetools:INFO]   --> Align frames: median required shift = 20.51 mas\n",
      "[spaceKLIP.imagetools:INFO]   --> Align frames: jw04454004001_03106_00009_nrcalong_calints.fits\n",
      "[spaceKLIP.imagetools:INFO]   --> Align frames: median required shift = 24.25 mas\n",
      "[spaceKLIP.imagetools:INFO]  Plot saved in ./SKLIP_OUT_4454_TEST_F335M_4/aligned/JWST_NIRCAM_NRCALONG_F335M_MASKRND_MASK335R_SUB320A335R_align_sci.pdf\n"
     ]
    },
    {
     "ename": "IndexError",
     "evalue": "list index out of range",
     "output_type": "error",
     "traceback": [
      "\u001b[0;31m---------------------------------------------------------------------------\u001b[0m",
      "\u001b[0;31mIndexError\u001b[0m                                Traceback (most recent call last)",
      "Cell \u001b[0;32mIn[23], line 1\u001b[0m\n\u001b[0;32m----> 1\u001b[0m \u001b[43mImageTools\u001b[49m\u001b[38;5;241;43m.\u001b[39;49m\u001b[43malign_frames\u001b[49m\u001b[43m(\u001b[49m\u001b[43mmethod\u001b[49m\u001b[38;5;241;43m=\u001b[39;49m\u001b[38;5;124;43m'\u001b[39;49m\u001b[38;5;124;43mfourier\u001b[39;49m\u001b[38;5;124;43m'\u001b[39;49m\u001b[43m,\u001b[49m\n\u001b[1;32m      2\u001b[0m \u001b[43m                        \u001b[49m\u001b[43mkwargs\u001b[49m\u001b[38;5;241;43m=\u001b[39;49m\u001b[43m{\u001b[49m\u001b[43m}\u001b[49m\u001b[43m,\u001b[49m\n\u001b[1;32m      3\u001b[0m \u001b[43m                        \u001b[49m\u001b[43msubdir\u001b[49m\u001b[38;5;241;43m=\u001b[39;49m\u001b[38;5;124;43m'\u001b[39;49m\u001b[38;5;124;43maligned\u001b[39;49m\u001b[38;5;124;43m'\u001b[39;49m\u001b[43m)\u001b[49m\n",
      "File \u001b[0;32m~/anaconda3/envs/spaceklip6/lib/python3.10/contextlib.py:79\u001b[0m, in \u001b[0;36mContextDecorator.__call__.<locals>.inner\u001b[0;34m(*args, **kwds)\u001b[0m\n\u001b[1;32m     76\u001b[0m \u001b[38;5;129m@wraps\u001b[39m(func)\n\u001b[1;32m     77\u001b[0m \u001b[38;5;28;01mdef\u001b[39;00m \u001b[38;5;21minner\u001b[39m(\u001b[38;5;241m*\u001b[39margs, \u001b[38;5;241m*\u001b[39m\u001b[38;5;241m*\u001b[39mkwds):\n\u001b[1;32m     78\u001b[0m     \u001b[38;5;28;01mwith\u001b[39;00m \u001b[38;5;28mself\u001b[39m\u001b[38;5;241m.\u001b[39m_recreate_cm():\n\u001b[0;32m---> 79\u001b[0m         \u001b[38;5;28;01mreturn\u001b[39;00m \u001b[43mfunc\u001b[49m\u001b[43m(\u001b[49m\u001b[38;5;241;43m*\u001b[39;49m\u001b[43margs\u001b[49m\u001b[43m,\u001b[49m\u001b[43m \u001b[49m\u001b[38;5;241;43m*\u001b[39;49m\u001b[38;5;241;43m*\u001b[39;49m\u001b[43mkwds\u001b[49m\u001b[43m)\u001b[49m\n",
      "File \u001b[0;32m~/anaconda3/envs/spaceklip6/lib/python3.10/site-packages/spaceKLIP-1.0.1.dev287+g46d16d1-py3.10.egg/spaceKLIP/imagetools.py:2171\u001b[0m, in \u001b[0;36mImageTools.align_frames\u001b[0;34m(self, method, align_algo, kwargs, subdir)\u001b[0m\n\u001b[1;32m   2167\u001b[0m this \u001b[38;5;241m=\u001b[39m \u001b[38;5;124m'\u001b[39m\u001b[38;5;132;01m%.3f\u001b[39;00m\u001b[38;5;124m_\u001b[39m\u001b[38;5;132;01m%.3f\u001b[39;00m\u001b[38;5;124m'\u001b[39m \u001b[38;5;241m%\u001b[39m (database_temp[key][\u001b[38;5;124m'\u001b[39m\u001b[38;5;124mXOFFSET\u001b[39m\u001b[38;5;124m'\u001b[39m][j], database_temp[key][\u001b[38;5;124m'\u001b[39m\u001b[38;5;124mYOFFSET\u001b[39m\u001b[38;5;124m'\u001b[39m][j])\n\u001b[1;32m   2168\u001b[0m \u001b[38;5;28;01mif\u001b[39;00m this \u001b[38;5;129;01mnot\u001b[39;00m \u001b[38;5;129;01min\u001b[39;00m seen:\n\u001b[1;32m   2169\u001b[0m     ax\u001b[38;5;241m.\u001b[39mscatter(shifts_all[index \u001b[38;5;241m+\u001b[39m add][:, \u001b[38;5;241m0\u001b[39m] \u001b[38;5;241m*\u001b[39m \u001b[38;5;28mself\u001b[39m\u001b[38;5;241m.\u001b[39mdatabase\u001b[38;5;241m.\u001b[39mobs[key][\u001b[38;5;124m'\u001b[39m\u001b[38;5;124mPIXSCALE\u001b[39m\u001b[38;5;124m'\u001b[39m][j] \u001b[38;5;241m*\u001b[39m \u001b[38;5;241m1000\u001b[39m, \n\u001b[1;32m   2170\u001b[0m                shifts_all[index \u001b[38;5;241m+\u001b[39m add][:, \u001b[38;5;241m1\u001b[39m] \u001b[38;5;241m*\u001b[39m \u001b[38;5;28mself\u001b[39m\u001b[38;5;241m.\u001b[39mdatabase\u001b[38;5;241m.\u001b[39mobs[key][\u001b[38;5;124m'\u001b[39m\u001b[38;5;124mPIXSCALE\u001b[39m\u001b[38;5;124m'\u001b[39m][j] \u001b[38;5;241m*\u001b[39m \u001b[38;5;241m1000\u001b[39m, \n\u001b[0;32m-> 2171\u001b[0m                s\u001b[38;5;241m=\u001b[39m\u001b[38;5;241m5\u001b[39m, color\u001b[38;5;241m=\u001b[39m\u001b[43mcolors\u001b[49m\u001b[43m[\u001b[49m\u001b[38;5;28;43mlen\u001b[39;49m\u001b[43m(\u001b[49m\u001b[43mseen\u001b[49m\u001b[43m)\u001b[49m\u001b[43m]\u001b[49m, marker\u001b[38;5;241m=\u001b[39msyms[\u001b[38;5;241m0\u001b[39m], \n\u001b[1;32m   2172\u001b[0m                label\u001b[38;5;241m=\u001b[39m\u001b[38;5;124m'\u001b[39m\u001b[38;5;124mdither \u001b[39m\u001b[38;5;132;01m%.0f\u001b[39;00m\u001b[38;5;124m'\u001b[39m \u001b[38;5;241m%\u001b[39m (\u001b[38;5;28mlen\u001b[39m(seen) \u001b[38;5;241m+\u001b[39m \u001b[38;5;241m1\u001b[39m))\n\u001b[1;32m   2173\u001b[0m     ax\u001b[38;5;241m.\u001b[39mhlines((\u001b[38;5;241m-\u001b[39mdatabase_temp[key][\u001b[38;5;124m'\u001b[39m\u001b[38;5;124mYOFFSET\u001b[39m\u001b[38;5;124m'\u001b[39m][j] \u001b[38;5;241m+\u001b[39m yoffset) \u001b[38;5;241m*\u001b[39m \u001b[38;5;241m1000\u001b[39m, \n\u001b[1;32m   2174\u001b[0m               (\u001b[38;5;241m-\u001b[39mdatabase_temp[key][\u001b[38;5;124m'\u001b[39m\u001b[38;5;124mXOFFSET\u001b[39m\u001b[38;5;124m'\u001b[39m][j] \u001b[38;5;241m+\u001b[39m xoffset) \u001b[38;5;241m*\u001b[39m \u001b[38;5;241m1000\u001b[39m \u001b[38;5;241m-\u001b[39m \u001b[38;5;241m4.\u001b[39m, \n\u001b[1;32m   2175\u001b[0m               (\u001b[38;5;241m-\u001b[39mdatabase_temp[key][\u001b[38;5;124m'\u001b[39m\u001b[38;5;124mXOFFSET\u001b[39m\u001b[38;5;124m'\u001b[39m][j] \u001b[38;5;241m+\u001b[39m xoffset) \u001b[38;5;241m*\u001b[39m \u001b[38;5;241m1000\u001b[39m \u001b[38;5;241m+\u001b[39m \u001b[38;5;241m4.\u001b[39m,\n\u001b[1;32m   2176\u001b[0m               color\u001b[38;5;241m=\u001b[39mcolors[\u001b[38;5;28mlen\u001b[39m(seen)], lw\u001b[38;5;241m=\u001b[39m\u001b[38;5;241m1\u001b[39m)\n\u001b[1;32m   2177\u001b[0m     ax\u001b[38;5;241m.\u001b[39mvlines((\u001b[38;5;241m-\u001b[39mdatabase_temp[key][\u001b[38;5;124m'\u001b[39m\u001b[38;5;124mXOFFSET\u001b[39m\u001b[38;5;124m'\u001b[39m][j] \u001b[38;5;241m+\u001b[39m xoffset) \u001b[38;5;241m*\u001b[39m \u001b[38;5;241m1000\u001b[39m, \n\u001b[1;32m   2178\u001b[0m               (\u001b[38;5;241m-\u001b[39mdatabase_temp[key][\u001b[38;5;124m'\u001b[39m\u001b[38;5;124mYOFFSET\u001b[39m\u001b[38;5;124m'\u001b[39m][j] \u001b[38;5;241m+\u001b[39m yoffset) \u001b[38;5;241m*\u001b[39m \u001b[38;5;241m1000\u001b[39m \u001b[38;5;241m-\u001b[39m \u001b[38;5;241m4.\u001b[39m, \n\u001b[1;32m   2179\u001b[0m               (\u001b[38;5;241m-\u001b[39mdatabase_temp[key][\u001b[38;5;124m'\u001b[39m\u001b[38;5;124mYOFFSET\u001b[39m\u001b[38;5;124m'\u001b[39m][j] \u001b[38;5;241m+\u001b[39m yoffset) \u001b[38;5;241m*\u001b[39m \u001b[38;5;241m1000\u001b[39m \u001b[38;5;241m+\u001b[39m \u001b[38;5;241m4.\u001b[39m, \n\u001b[1;32m   2180\u001b[0m               color\u001b[38;5;241m=\u001b[39mcolors[\u001b[38;5;28mlen\u001b[39m(seen)], lw\u001b[38;5;241m=\u001b[39m\u001b[38;5;241m1\u001b[39m)\n",
      "\u001b[0;31mIndexError\u001b[0m: list index out of range"
     ]
    }
   ],
   "source": [
    "ImageTools.align_frames(method='fourier',\n",
    "                        kwargs={},\n",
    "                        subdir='aligned')"
   ]
  },
  {
   "cell_type": "code",
   "execution_count": 24,
   "id": "0a9c8a53-6419-43df-b443-6aa8b04353d3",
   "metadata": {
    "tags": []
   },
   "outputs": [
    {
     "name": "stdout",
     "output_type": "stream",
     "text": [
      "[spaceKLIP.pyklippipeline:INFO] --> Concatenation JWST_NIRCAM_NRCALONG_F335M_MASKRND_MASK335R_SUB320A335R\n"
     ]
    },
    {
     "name": "stderr",
     "output_type": "stream",
     "text": [
      "[py.warnings:WARNING] /Users/jgirard/anaconda3/envs/spaceklip6/lib/python3.10/site-packages/astropy/wcs/wcs.py:807: FITSFixedWarning: 'obsfix' made the change 'Set OBSGEO-L to   -82.834246 from OBSGEO-[XYZ].\n",
      "Set OBSGEO-B to   -35.757103 from OBSGEO-[XYZ].\n",
      "Set OBSGEO-H to 1720191569.747 from OBSGEO-[XYZ]'.\n",
      "  warnings.warn(\n",
      "\n"
     ]
    },
    {
     "name": "stdout",
     "output_type": "stream",
     "text": [
      "[spaceKLIP.pyklippipeline:INFO]   --> pyKLIP: mode = RDI, annuli = 1, subsections = 1\n",
      "Begin align and scale images for each wavelength\n",
      "Wavelength 3.368e-06 with index 0 has finished align and scale. Queuing for KLIP\n",
      "Total number of tasks for KLIP processing is 1\n"
     ]
    },
    {
     "data": {
      "application/vnd.jupyter.widget-view+json": {
       "model_id": "6aee425e74dc44c9beb1ac61521e91b1",
       "version_major": 2,
       "version_minor": 0
      },
      "text/plain": [
       "  0%|          | 0/1 [00:00<?, ?it/s]"
      ]
     },
     "metadata": {},
     "output_type": "display_data"
    },
    {
     "name": "stdout",
     "output_type": "stream",
     "text": [
      "Closing threadpool\n",
      "Derotating Images...\n"
     ]
    },
    {
     "name": "stderr",
     "output_type": "stream",
     "text": [
      "[py.warnings:WARNING] /Users/jgirard/anaconda3/envs/spaceklip6/lib/python3.10/site-packages/astropy/wcs/wcs.py:807: FITSFixedWarning: 'datfix' made the change 'Set DATE-BEG to '2023-06-13T22:30:24.840' from MJD-BEG.\n",
      "Set DATE-AVG to '2023-06-13T22:46:26.976' from MJD-AVG.\n",
      "Set DATE-END to '2023-06-13T23:02:29.112' from MJD-END'.\n",
      "  warnings.warn(\n",
      "\n",
      "[py.warnings:WARNING] /Users/jgirard/anaconda3/envs/spaceklip6/lib/python3.10/site-packages/astropy/wcs/wcs.py:807: FITSFixedWarning: 'obsfix' made the change 'Set OBSGEO-L to   -82.834246 from OBSGEO-[XYZ].\n",
      "Set OBSGEO-B to   -35.757103 from OBSGEO-[XYZ].\n",
      "Set OBSGEO-H to 1720191569.747 from OBSGEO-[XYZ]'.\n",
      "  warnings.warn(\n",
      "\n"
     ]
    },
    {
     "name": "stdout",
     "output_type": "stream",
     "text": [
      "Writing Images to directory /Users/jgirard/Soft/spaceKLIP/examples/SKLIP_OUT_4454_TEST_F335M_4/klipsub\n",
      "wavelength collapsing reduced data of shape (b, N, wv, y, x):(4, 36, 1, 320, 320)\n",
      "[spaceKLIP.database:INFO] --> Identified 1 concatenation(s)\n",
      "[spaceKLIP.database:INFO]   --> Concatenation 1: JWST_NIRCAM_NRCALONG_F335M_MASKRND_MASK335R_SUB320A335R\n",
      " TYPE   EXP_TYPE DATAMODL TELESCOP          TARGPROP         INSTRUME DETECTOR FILTER ...  PIXSCALE  MODE ANNULI SUBSECTS KLMODES  BUNIT  BLURFWHM\n",
      "------ --------- -------- -------- ------------------------- -------- -------- ------ ... ---------- ---- ------ -------- -------- ------ --------\n",
      "PYKLIP NRC_CORON   STAGE3     JWST HD-114174-STAR1-COMPANION   NIRCAM NRCALONG  F335M ... 0.06247899  RDI      1        1 1,2,5,10 MJy/sr      nan\n"
     ]
    }
   ],
   "source": [
    "pyklippipeline.run_obs(database=Database,\n",
    "                       kwargs={'mode': ['RDI'],\n",
    "                               'annuli': [1],\n",
    "                               'subsections': [1],\n",
    "                               'numbasis': [1, 2, 5, 10],\n",
    "                               'algo': 'klip'},\n",
    "                       subdir='klipsub')"
   ]
  },
  {
   "cell_type": "code",
   "execution_count": null,
   "id": "7360273e-5c9c-452d-85fe-849cda8e4e47",
   "metadata": {
    "tags": []
   },
   "outputs": [],
   "source": [
    "Analysis = analysistools.AnalysisTools(Database)\n",
    "\n",
    "#companions = [[0.426, -0.646, 0.0003]]\n",
    "companions = [[0.43, -0.65, 0.003]]\n",
    "starfile = './DATA/HIP65426A_sdf_phoenix_m+modbb_disk_r.txt'\n",
    "mstar_err = 0.05"
   ]
  },
  {
   "cell_type": "code",
   "execution_count": null,
   "id": "4096572d-5af9-401e-bc28-cdb1db40242e",
   "metadata": {
    "tags": []
   },
   "outputs": [],
   "source": [
    "Analysis.extract_companions(companions, starfile, mstar_err, spectral_type='A2V')"
   ]
  },
  {
   "cell_type": "code",
   "execution_count": null,
   "id": "81e5f8c7-5db0-40a8-a70e-ac0c4067dbb9",
   "metadata": {
    "tags": []
   },
   "outputs": [],
   "source": [
    "from __future__ import division\n",
    "\n",
    "# plotting\n",
    "import matplotlib.pyplot as plt\n",
    "#plt.style.use('/Users/wbalmer/exoG/balmer.mplstyle')\n",
    "# import seaborn as sb\n",
    "# sb.set_context('talk')\n",
    "\n",
    "# =============================================================================\n",
    "# IMPORTS\n",
    "# =============================================================================\n",
    "\n",
    "import os\n",
    "import pdb\n",
    "import sys\n",
    "\n",
    "import astropy.io.fits as pyfits\n",
    "import matplotlib.pyplot as plt\n",
    "import numpy as np\n",
    "\n",
    "from spaceKLIP import database, analysistools\n"
   ]
  },
  {
   "cell_type": "code",
   "execution_count": null,
   "id": "8f34aab2-8367-43c9-b200-a8797784b846",
   "metadata": {
    "tags": []
   },
   "outputs": [],
   "source": [
    "input_dir = './SKLIP_EB_OUT/ERS/klipsub/'\n",
    "output_dir = './SKLIP_EB_OUT/ERS/'\n",
    "companions = [[0.426, -0.646, 0.0003]]\n",
    "starfile = '../DATA/ERS_DATA/HIP65426A_sdf_phoenix_m+modbb_disk_r.txt'\n",
    "mstar_err = 0.05\n",
    "\n",
    "\n",
    "fitsfiles = sorted([input_dir + f for f in os.listdir(input_dir) if f.endswith('-KLmodes-all.fits')])\n",
    "\n",
    "# Initialize spaceKLIP database and read files\n",
    "Database = database.Database(output_dir=output_dir)\n",
    "Database.read_jwst_s3_data(datapaths=fitsfiles)\n",
    "\n",
    "\n",
    "\n",
    "# Initialize spaceKLIP analysis tools class.\n",
    "AnalysisTools = analysistools.AnalysisTools(Database)\n",
    "\n",
    "# Compute raw contrast.\n",
    "AnalysisTools.raw_contrast(starfile=starfile,\n",
    "                            spectral_type='A2V',\n",
    "                            companions=companions,\n",
    "                            subdir='rawcon',\n",
    "                            output_filetype='npy')"
   ]
  },
  {
   "cell_type": "code",
   "execution_count": null,
   "id": "90a841ee-3000-4394-bdba-600c72c23693",
   "metadata": {
    "tags": []
   },
   "outputs": [],
   "source": [
    "# Compute cal contrast.\n",
    "AnalysisTools.calibrate_contrast(companions=companions,\n",
    "                                 rawcon_subdir='rawcon',\n",
    "                                 subdir='calcon',\n",
    "                                 injection_flux_sigma=20)"
   ]
  },
  {
   "cell_type": "code",
   "execution_count": null,
   "id": "67768546-ea52-4eec-ac3a-b071f4791da2",
   "metadata": {
    "tags": []
   },
   "outputs": [],
   "source": [
    "from astropy.io import fits\n",
    "fitsfile = Database.red['JWST_NIRCAM_NRCALONG_F444W_MASKRND_MASK335R_SUB320A335R']['FITSFILE']\n",
    "print(fitsfile)\n",
    "data = fits.getdata(fitsfile)\n",
    "data.shape"
   ]
  },
  {
   "cell_type": "code",
   "execution_count": null,
   "id": "21d7155b-e908-49a7-a65f-531e69634879",
   "metadata": {
    "tags": []
   },
   "outputs": [],
   "source": [
    "# Debug calcon\n",
    "\n",
    "from astropy.table import Table\n",
    "from scipy.interpolate import interp1d\n",
    "\n",
    "\n",
    "thrput_fit_method = 'median'\n",
    "rawcon_dir = './SKLIP_EB_OUT/ERS/rawcon/'\n",
    "save_string = './SKLIP_EB_OUT/ERS/calcon/ADI+RDI_NANNU1_NSUBS1_JWST_NIRCAM_NRCALONG_F444W_MASKRND_MASK335R_SUB320A335R-KLmodes-all'\n",
    "key = 'JWST_NIRCAM_NRCALONG_F444W_MASKRND_MASK335R_SUB320A335R'\n",
    "pxsc_arcsec = Database.red[key]['PIXSCALE'][0] / 1000.\n",
    "\n",
    "nfitsfiles = len(Database.red[key])\n",
    "for j in range(nfitsfiles):\n",
    "\n",
    "    # Read FITS file and PSF mask.\n",
    "    fitsfile = Database.red[key]['FITSFILE'][j]\n",
    "\n",
    "    # Get the raw contrast information with and without mask correction\n",
    "    file_str = fitsfile.split('/')[-1]\n",
    "    seps_file = file_str.replace('.fits', '_seps.npy') #Arcseconds\n",
    "    rawcons_file = file_str.replace('.fits', '_cons.npy')\n",
    "    maskcons_file = file_str.replace('.fits', '_cons_mask.npy')\n",
    "\n",
    "    # Load saved arrays\n",
    "    rawseps = np.load(os.path.join(rawcon_dir,seps_file))\n",
    "    rawcons = np.load(os.path.join(rawcon_dir,rawcons_file))\n",
    "    maskcons = np.load(os.path.join(rawcon_dir,maskcons_file))\n",
    "\n",
    "    all_inj_seps = np.load(save_string+'_injrec_seps.npy')\n",
    "    all_inj_pas =  np.load(save_string+'_injrec_pas.npy')\n",
    "    all_inj_fluxes =  np.load(save_string+'_injrec_inj_fluxes.npy')\n",
    "    all_retr_fluxes = np.load(save_string+'_injrec_retr_fluxes.npy')\n",
    "    print(f'rawseps: {rawseps.shape}')\n",
    "    print(f'rawcons: {rawcons.shape}')\n",
    "    print(f'all_inj_seps: {all_inj_seps.shape}')\n",
    "    print(f'all_retr_fluxes: {all_retr_fluxes.shape}')\n",
    "    \n",
    "    # Need to add a point at a separation of zero pixels, assume\n",
    "    # basically no flux retrieved at zero separation. \n",
    "    all_inj_seps = np.append([0],all_inj_seps)\n",
    "    all_inj_pas = np.append([0],all_inj_pas)\n",
    "    all_inj_fluxes = np.append([1],all_inj_fluxes)\n",
    "    zero_sep_retr_flux = 1e-10*np.ones_like(all_retr_fluxes[0])\n",
    "    all_retr_fluxes = np.vstack([zero_sep_retr_flux,all_retr_fluxes])\n",
    "    \n",
    "    # Separation returned in pixels but we want arcseconds\n",
    "    all_inj_seps *= pxsc_arcsec\n",
    "\n",
    "    # Need to loop over each KL mode used to compute a correction\n",
    "    # for each.\n",
    "    rawcons_corr = []\n",
    "    maskcons_corr = []\n",
    "    all_corrections = []\n",
    "    for k in range(len(rawseps)): \n",
    "        # Get the raw separation and contrast for this KL mode\n",
    "        this_KL_rawseps = rawseps[k]\n",
    "        this_KL_rawcons = rawcons[k]\n",
    "        this_KL_maskcons = maskcons[k]\n",
    "\n",
    "        # Get fluxes for this KL mode subtracted image\n",
    "        this_KL_retr_fluxes = all_retr_fluxes[:,k]\n",
    "\n",
    "        # Make a table to make things easier\n",
    "        results = Table([all_inj_seps, all_inj_pas, all_inj_fluxes, this_KL_retr_fluxes], \n",
    "                        names=('inj_seps', 'inj_pas', 'inj_fluxes', 'retr_fluxes'))\n",
    "\n",
    "        # Determine throughput of klip process on the injected flux\n",
    "        results['klip_thrputs'] = np.divide(results['retr_fluxes'], results['inj_fluxes'])\n",
    "\n",
    "        # Calculate the median across all position angles\n",
    "        med_results = results.group_by('inj_seps').groups.aggregate(np.nanmedian)\n",
    "\n",
    "        # Need to interpolate or model to determine throughput at actual \n",
    "        # separations of the contrast curve.\n",
    "        if thrput_fit_method == 'median':\n",
    "            med_interp = interp1d(med_results['inj_seps'], \n",
    "                                  med_results['klip_thrputs'],\n",
    "                                  fill_value=(1e-10, med_results['klip_thrputs'][-1]), \n",
    "                                  bounds_error=False,\n",
    "                                  kind='slinear')\n",
    "            contrast_correction = med_interp(this_KL_rawseps)\n",
    "        elif thrput_fit_method == 'log_grow':\n",
    "            raise NotImplementedError()\n",
    "        else:\n",
    "            raise ValueError(\"Invalid thrput_fit_method: \" +\\\n",
    "                    \"{}, options are 'median' or 'log_grow'\".format(thrput_fit_method))\n",
    "\n",
    "        # Apply contrast correction\n",
    "        rawcons_corr.append(rawcons[k] / contrast_correction)\n",
    "        maskcons_corr.append(maskcons[k] / contrast_correction)\n",
    "        all_corrections.append(contrast_correction)\n",
    "\n",
    "    all_corrections = np.squeeze(all_corrections) #Tidy array\n",
    "\n",
    "    # Save the corrected contrasts, as well as the separations for convenience. \n",
    "    np.save(save_string+'_cal_seps.npy', rawseps)\n",
    "    np.save(save_string+'_cal_cons.npy', rawcons_corr)\n",
    "    np.save(save_string+'_cal_maskcons.npy', rawcons_corr)\n",
    "\n",
    "    # Plot measured KLIP throughputs\n",
    "    fig = plt.figure(figsize=(6.4, 4.8))\n",
    "    ax = plt.gca()\n",
    "    color = plt.cm.tab10(np.linspace(0, 1, 10))\n",
    "    cc = (cycler(linestyle=['-', ':', '--'])*cycler(color=color))\n",
    "    ax.set_prop_cycle(cc)\n",
    "    for ci, corr in enumerate(all_corrections):\n",
    "        KLmodes = klip_args['numbasis'][ci]\n",
    "        ax.plot(rawseps[ci], corr, label='KL = {}'.format(KLmodes))\n",
    "    ax.legend(ncol=3, fontsize=10)\n",
    "    ax.set_xlabel('Separation (\")')\n",
    "    ax.set_ylabel('Throughput')\n",
    "    ax.grid(axis='both', alpha=0.15)\n",
    "    plt.savefig(save_string + '_allKL_throughput.pdf', \n",
    "                bbox_inches='tight', dpi=300)\n",
    "\n",
    "    # Plot individual measurements for median KL mode\n",
    "    fig = plt.figure(figsize=(6.4, 4.8))\n",
    "    ax = plt.gca()\n",
    "\n",
    "    ax.plot(rawseps[median_KL_index], \n",
    "            all_corrections[median_KL_index],\n",
    "            label='Applied Correction',\n",
    "            color='#0B5345', zorder=100)\n",
    "    ax.scatter(all_inj_seps, \n",
    "               all_retr_fluxes[:,median_KL_index]/all_inj_fluxes, \n",
    "               s=75, \n",
    "               color='mediumaquamarine', \n",
    "               alpha=0.5,\n",
    "               label='Individual Injections')\n",
    "    ax.legend(ncol=3, fontsize=10)\n",
    "    ax.set_xlabel('Separation (\")')\n",
    "    ax.set_ylabel('Throughput')\n",
    "    ax.grid(axis='both', alpha=0.15)\n",
    "    plt.savefig(save_string + '_medKL_throughput.pdf', \n",
    "                bbox_inches='tight', dpi=300)\n",
    "\n",
    "    # Plot calibrated contrast curves\n",
    "    fig = plt.figure(figsize=(6.4, 4.8))\n",
    "    ax = plt.gca()\n",
    "    ax.set_prop_cycle(cc)\n",
    "    for si, seps in enumerate(rawseps):\n",
    "        KLmodes = klip_args['numbasis'][si]\n",
    "        ax.plot(seps, maskcons_corr[si], \n",
    "                label='KL = {}'.format(KLmodes))\n",
    "        ax.plot(seps, rawcons_corr[si], alpha=0.3)\n",
    "    ax.set_yscale('log')\n",
    "    ax.set_ylim([None,1])\n",
    "    ax.set_xlabel('Separation [arcsec]')\n",
    "    ax.set_ylabel(r'5-$\\sigma$ contrast')\n",
    "    ax.legend(loc='upper right', ncols=3, fontsize=10)\n",
    "    ax.set_title('Calibrated contrast (transparent lines excl. mask TP)',\n",
    "                 fontsize=11)\n",
    "    plt.savefig(save_string + '_calcon.pdf', \n",
    "                bbox_inches='tight', dpi=300)"
   ]
  }
 ],
 "metadata": {
  "kernelspec": {
   "display_name": "Python 3 (ipykernel)",
   "language": "python",
   "name": "python3"
  },
  "language_info": {
   "codemirror_mode": {
    "name": "ipython",
    "version": 3
   },
   "file_extension": ".py",
   "mimetype": "text/x-python",
   "name": "python",
   "nbconvert_exporter": "python",
   "pygments_lexer": "ipython3",
   "version": "3.11.9"
  }
 },
 "nbformat": 4,
 "nbformat_minor": 5
}
